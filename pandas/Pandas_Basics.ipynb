{
 "cells": [
  {
   "cell_type": "code",
   "execution_count": 117,
   "metadata": {},
   "outputs": [],
   "source": [
    "import pandas as pd\n",
    "import numpy as np"
   ]
  },
  {
   "cell_type": "code",
   "execution_count": 118,
   "metadata": {},
   "outputs": [
    {
     "data": {
      "text/plain": [
       "0    1.0\n",
       "1    2.0\n",
       "2    3.0\n",
       "3    4.0\n",
       "4    NaN\n",
       "5    6.0\n",
       "6    7.0\n",
       "dtype: float64"
      ]
     },
     "execution_count": 118,
     "metadata": {},
     "output_type": "execute_result"
    }
   ],
   "source": [
    "#creating series\n",
    "\n",
    "s = pd.Series([1, 2, 3, 4, np.nan, 6, 7]) #np.nan creates a nan value\n",
    "s"
   ]
  },
  {
   "cell_type": "code",
   "execution_count": 119,
   "metadata": {},
   "outputs": [
    {
     "data": {
      "text/plain": [
       "DatetimeIndex(['2024-05-27', '2024-05-28', '2024-05-29', '2024-05-30',\n",
       "               '2024-05-31', '2024-06-01', '2024-06-02', '2024-06-03',\n",
       "               '2024-06-04', '2024-06-05'],\n",
       "              dtype='datetime64[ns]', freq='D')"
      ]
     },
     "execution_count": 119,
     "metadata": {},
     "output_type": "execute_result"
    }
   ],
   "source": [
    "#creating a range of dates using date_range()\n",
    "\n",
    "dates = pd.date_range('27-05-2024', periods = 10) #in periods we can mention how much range we need\n",
    "dates"
   ]
  },
  {
   "cell_type": "code",
   "execution_count": 120,
   "metadata": {},
   "outputs": [
    {
     "data": {
      "text/html": [
       "<div>\n",
       "<style scoped>\n",
       "    .dataframe tbody tr th:only-of-type {\n",
       "        vertical-align: middle;\n",
       "    }\n",
       "\n",
       "    .dataframe tbody tr th {\n",
       "        vertical-align: top;\n",
       "    }\n",
       "\n",
       "    .dataframe thead th {\n",
       "        text-align: right;\n",
       "    }\n",
       "</style>\n",
       "<table border=\"1\" class=\"dataframe\">\n",
       "  <thead>\n",
       "    <tr style=\"text-align: right;\">\n",
       "      <th></th>\n",
       "      <th>A</th>\n",
       "      <th>B</th>\n",
       "      <th>C</th>\n",
       "      <th>D</th>\n",
       "      <th>E</th>\n",
       "    </tr>\n",
       "  </thead>\n",
       "  <tbody>\n",
       "    <tr>\n",
       "      <th>2024-05-27</th>\n",
       "      <td>-1.847349</td>\n",
       "      <td>1.225306</td>\n",
       "      <td>-0.819385</td>\n",
       "      <td>-1.766611</td>\n",
       "      <td>0.732121</td>\n",
       "    </tr>\n",
       "    <tr>\n",
       "      <th>2024-05-28</th>\n",
       "      <td>-0.857740</td>\n",
       "      <td>0.473946</td>\n",
       "      <td>1.506883</td>\n",
       "      <td>1.447367</td>\n",
       "      <td>0.300583</td>\n",
       "    </tr>\n",
       "    <tr>\n",
       "      <th>2024-05-29</th>\n",
       "      <td>-0.867413</td>\n",
       "      <td>0.355178</td>\n",
       "      <td>0.426062</td>\n",
       "      <td>0.634558</td>\n",
       "      <td>-0.245765</td>\n",
       "    </tr>\n",
       "    <tr>\n",
       "      <th>2024-05-30</th>\n",
       "      <td>-1.010152</td>\n",
       "      <td>0.987235</td>\n",
       "      <td>-0.246609</td>\n",
       "      <td>-0.798666</td>\n",
       "      <td>-1.761010</td>\n",
       "    </tr>\n",
       "    <tr>\n",
       "      <th>2024-05-31</th>\n",
       "      <td>0.325654</td>\n",
       "      <td>0.762123</td>\n",
       "      <td>1.853665</td>\n",
       "      <td>-0.595162</td>\n",
       "      <td>0.225070</td>\n",
       "    </tr>\n",
       "    <tr>\n",
       "      <th>2024-06-01</th>\n",
       "      <td>-1.032362</td>\n",
       "      <td>0.445865</td>\n",
       "      <td>-0.461368</td>\n",
       "      <td>-0.379834</td>\n",
       "      <td>-0.465130</td>\n",
       "    </tr>\n",
       "    <tr>\n",
       "      <th>2024-06-02</th>\n",
       "      <td>1.312510</td>\n",
       "      <td>-0.113314</td>\n",
       "      <td>-0.021289</td>\n",
       "      <td>0.477682</td>\n",
       "      <td>0.993185</td>\n",
       "    </tr>\n",
       "    <tr>\n",
       "      <th>2024-06-03</th>\n",
       "      <td>0.812262</td>\n",
       "      <td>-2.022891</td>\n",
       "      <td>0.745910</td>\n",
       "      <td>-0.508935</td>\n",
       "      <td>-1.020313</td>\n",
       "    </tr>\n",
       "    <tr>\n",
       "      <th>2024-06-04</th>\n",
       "      <td>0.416587</td>\n",
       "      <td>0.162038</td>\n",
       "      <td>-2.112574</td>\n",
       "      <td>0.567182</td>\n",
       "      <td>-0.800631</td>\n",
       "    </tr>\n",
       "    <tr>\n",
       "      <th>2024-06-05</th>\n",
       "      <td>-1.108838</td>\n",
       "      <td>-0.978317</td>\n",
       "      <td>0.003675</td>\n",
       "      <td>0.866692</td>\n",
       "      <td>1.171139</td>\n",
       "    </tr>\n",
       "  </tbody>\n",
       "</table>\n",
       "</div>"
      ],
      "text/plain": [
       "                   A         B         C         D         E\n",
       "2024-05-27 -1.847349  1.225306 -0.819385 -1.766611  0.732121\n",
       "2024-05-28 -0.857740  0.473946  1.506883  1.447367  0.300583\n",
       "2024-05-29 -0.867413  0.355178  0.426062  0.634558 -0.245765\n",
       "2024-05-30 -1.010152  0.987235 -0.246609 -0.798666 -1.761010\n",
       "2024-05-31  0.325654  0.762123  1.853665 -0.595162  0.225070\n",
       "2024-06-01 -1.032362  0.445865 -0.461368 -0.379834 -0.465130\n",
       "2024-06-02  1.312510 -0.113314 -0.021289  0.477682  0.993185\n",
       "2024-06-03  0.812262 -2.022891  0.745910 -0.508935 -1.020313\n",
       "2024-06-04  0.416587  0.162038 -2.112574  0.567182 -0.800631\n",
       "2024-06-05 -1.108838 -0.978317  0.003675  0.866692  1.171139"
      ]
     },
     "execution_count": 120,
     "metadata": {},
     "output_type": "execute_result"
    }
   ],
   "source": [
    "#creating a dataframe using the dates as index\n",
    "\n",
    "df = pd.DataFrame(np.random.randn(10,5), index = dates, columns = list('ABCDE')) #randn generates random numbers thye 10 --> no .of rows, 5 -->no. of columns\n",
    "df"
   ]
  },
  {
   "cell_type": "code",
   "execution_count": 121,
   "metadata": {},
   "outputs": [
    {
     "data": {
      "text/html": [
       "<div>\n",
       "<style scoped>\n",
       "    .dataframe tbody tr th:only-of-type {\n",
       "        vertical-align: middle;\n",
       "    }\n",
       "\n",
       "    .dataframe tbody tr th {\n",
       "        vertical-align: top;\n",
       "    }\n",
       "\n",
       "    .dataframe thead th {\n",
       "        text-align: right;\n",
       "    }\n",
       "</style>\n",
       "<table border=\"1\" class=\"dataframe\">\n",
       "  <thead>\n",
       "    <tr style=\"text-align: right;\">\n",
       "      <th></th>\n",
       "      <th>a</th>\n",
       "      <th>b</th>\n",
       "      <th>c</th>\n",
       "      <th>d</th>\n",
       "      <th>e</th>\n",
       "      <th>f</th>\n",
       "    </tr>\n",
       "  </thead>\n",
       "  <tbody>\n",
       "    <tr>\n",
       "      <th>0</th>\n",
       "      <td>1.0</td>\n",
       "      <td>2024-05-27</td>\n",
       "      <td>7.0</td>\n",
       "      <td>8</td>\n",
       "      <td>hi</td>\n",
       "      <td>yupp</td>\n",
       "    </tr>\n",
       "    <tr>\n",
       "      <th>1</th>\n",
       "      <td>1.0</td>\n",
       "      <td>2024-05-27</td>\n",
       "      <td>7.0</td>\n",
       "      <td>8</td>\n",
       "      <td>hello</td>\n",
       "      <td>yupp</td>\n",
       "    </tr>\n",
       "    <tr>\n",
       "      <th>2</th>\n",
       "      <td>1.0</td>\n",
       "      <td>2024-05-27</td>\n",
       "      <td>7.0</td>\n",
       "      <td>8</td>\n",
       "      <td>welcome</td>\n",
       "      <td>yupp</td>\n",
       "    </tr>\n",
       "    <tr>\n",
       "      <th>3</th>\n",
       "      <td>1.0</td>\n",
       "      <td>2024-05-27</td>\n",
       "      <td>7.0</td>\n",
       "      <td>8</td>\n",
       "      <td>no</td>\n",
       "      <td>yupp</td>\n",
       "    </tr>\n",
       "    <tr>\n",
       "      <th>4</th>\n",
       "      <td>1.0</td>\n",
       "      <td>2024-05-27</td>\n",
       "      <td>7.0</td>\n",
       "      <td>8</td>\n",
       "      <td>yes</td>\n",
       "      <td>yupp</td>\n",
       "    </tr>\n",
       "  </tbody>\n",
       "</table>\n",
       "</div>"
      ],
      "text/plain": [
       "     a          b    c  d        e     f\n",
       "0  1.0 2024-05-27  7.0  8       hi  yupp\n",
       "1  1.0 2024-05-27  7.0  8    hello  yupp\n",
       "2  1.0 2024-05-27  7.0  8  welcome  yupp\n",
       "3  1.0 2024-05-27  7.0  8       no  yupp\n",
       "4  1.0 2024-05-27  7.0  8      yes  yupp"
      ]
     },
     "execution_count": 121,
     "metadata": {},
     "output_type": "execute_result"
    }
   ],
   "source": [
    "#creating dataframe by using dictionary\n",
    "\n",
    "df2 = pd.DataFrame (\n",
    "{\n",
    "  'a' : 1.0,\n",
    "  'b' : pd.Timestamp('27-05-2024'),\n",
    "  'c' : pd.Series (7, list(range(5)), dtype = 'float32'),\n",
    "  'd' : np.array([8]*5, dtype = 'int'),\n",
    "  'e' : pd.Categorical(['hi', 'hello', 'welcome', 'no', 'yes']),\n",
    "  'f' : 'yupp'\n",
    "}\n",
    ")\n",
    "\n",
    "df2"
   ]
  },
  {
   "cell_type": "code",
   "execution_count": 122,
   "metadata": {},
   "outputs": [
    {
     "data": {
      "text/plain": [
       "a          float64\n",
       "b    datetime64[s]\n",
       "c          float32\n",
       "d            int32\n",
       "e         category\n",
       "f           object\n",
       "dtype: object"
      ]
     },
     "execution_count": 122,
     "metadata": {},
     "output_type": "execute_result"
    }
   ],
   "source": [
    "df2.dtypes"
   ]
  },
  {
   "cell_type": "code",
   "execution_count": 123,
   "metadata": {},
   "outputs": [
    {
     "data": {
      "text/html": [
       "<div>\n",
       "<style scoped>\n",
       "    .dataframe tbody tr th:only-of-type {\n",
       "        vertical-align: middle;\n",
       "    }\n",
       "\n",
       "    .dataframe tbody tr th {\n",
       "        vertical-align: top;\n",
       "    }\n",
       "\n",
       "    .dataframe thead th {\n",
       "        text-align: right;\n",
       "    }\n",
       "</style>\n",
       "<table border=\"1\" class=\"dataframe\">\n",
       "  <thead>\n",
       "    <tr style=\"text-align: right;\">\n",
       "      <th></th>\n",
       "      <th>A</th>\n",
       "      <th>B</th>\n",
       "      <th>C</th>\n",
       "      <th>D</th>\n",
       "      <th>E</th>\n",
       "    </tr>\n",
       "  </thead>\n",
       "  <tbody>\n",
       "    <tr>\n",
       "      <th>2024-05-27</th>\n",
       "      <td>-1.847349</td>\n",
       "      <td>1.225306</td>\n",
       "      <td>-0.819385</td>\n",
       "      <td>-1.766611</td>\n",
       "      <td>0.732121</td>\n",
       "    </tr>\n",
       "    <tr>\n",
       "      <th>2024-05-28</th>\n",
       "      <td>-0.857740</td>\n",
       "      <td>0.473946</td>\n",
       "      <td>1.506883</td>\n",
       "      <td>1.447367</td>\n",
       "      <td>0.300583</td>\n",
       "    </tr>\n",
       "    <tr>\n",
       "      <th>2024-05-29</th>\n",
       "      <td>-0.867413</td>\n",
       "      <td>0.355178</td>\n",
       "      <td>0.426062</td>\n",
       "      <td>0.634558</td>\n",
       "      <td>-0.245765</td>\n",
       "    </tr>\n",
       "    <tr>\n",
       "      <th>2024-05-30</th>\n",
       "      <td>-1.010152</td>\n",
       "      <td>0.987235</td>\n",
       "      <td>-0.246609</td>\n",
       "      <td>-0.798666</td>\n",
       "      <td>-1.761010</td>\n",
       "    </tr>\n",
       "    <tr>\n",
       "      <th>2024-05-31</th>\n",
       "      <td>0.325654</td>\n",
       "      <td>0.762123</td>\n",
       "      <td>1.853665</td>\n",
       "      <td>-0.595162</td>\n",
       "      <td>0.225070</td>\n",
       "    </tr>\n",
       "  </tbody>\n",
       "</table>\n",
       "</div>"
      ],
      "text/plain": [
       "                   A         B         C         D         E\n",
       "2024-05-27 -1.847349  1.225306 -0.819385 -1.766611  0.732121\n",
       "2024-05-28 -0.857740  0.473946  1.506883  1.447367  0.300583\n",
       "2024-05-29 -0.867413  0.355178  0.426062  0.634558 -0.245765\n",
       "2024-05-30 -1.010152  0.987235 -0.246609 -0.798666 -1.761010\n",
       "2024-05-31  0.325654  0.762123  1.853665 -0.595162  0.225070"
      ]
     },
     "execution_count": 123,
     "metadata": {},
     "output_type": "execute_result"
    }
   ],
   "source": [
    "df.head() #by default it displays frist 5 rows"
   ]
  },
  {
   "cell_type": "code",
   "execution_count": 124,
   "metadata": {},
   "outputs": [
    {
     "data": {
      "text/html": [
       "<div>\n",
       "<style scoped>\n",
       "    .dataframe tbody tr th:only-of-type {\n",
       "        vertical-align: middle;\n",
       "    }\n",
       "\n",
       "    .dataframe tbody tr th {\n",
       "        vertical-align: top;\n",
       "    }\n",
       "\n",
       "    .dataframe thead th {\n",
       "        text-align: right;\n",
       "    }\n",
       "</style>\n",
       "<table border=\"1\" class=\"dataframe\">\n",
       "  <thead>\n",
       "    <tr style=\"text-align: right;\">\n",
       "      <th></th>\n",
       "      <th>A</th>\n",
       "      <th>B</th>\n",
       "      <th>C</th>\n",
       "      <th>D</th>\n",
       "      <th>E</th>\n",
       "    </tr>\n",
       "  </thead>\n",
       "  <tbody>\n",
       "    <tr>\n",
       "      <th>2024-06-03</th>\n",
       "      <td>0.812262</td>\n",
       "      <td>-2.022891</td>\n",
       "      <td>0.745910</td>\n",
       "      <td>-0.508935</td>\n",
       "      <td>-1.020313</td>\n",
       "    </tr>\n",
       "    <tr>\n",
       "      <th>2024-06-04</th>\n",
       "      <td>0.416587</td>\n",
       "      <td>0.162038</td>\n",
       "      <td>-2.112574</td>\n",
       "      <td>0.567182</td>\n",
       "      <td>-0.800631</td>\n",
       "    </tr>\n",
       "    <tr>\n",
       "      <th>2024-06-05</th>\n",
       "      <td>-1.108838</td>\n",
       "      <td>-0.978317</td>\n",
       "      <td>0.003675</td>\n",
       "      <td>0.866692</td>\n",
       "      <td>1.171139</td>\n",
       "    </tr>\n",
       "  </tbody>\n",
       "</table>\n",
       "</div>"
      ],
      "text/plain": [
       "                   A         B         C         D         E\n",
       "2024-06-03  0.812262 -2.022891  0.745910 -0.508935 -1.020313\n",
       "2024-06-04  0.416587  0.162038 -2.112574  0.567182 -0.800631\n",
       "2024-06-05 -1.108838 -0.978317  0.003675  0.866692  1.171139"
      ]
     },
     "execution_count": 124,
     "metadata": {},
     "output_type": "execute_result"
    }
   ],
   "source": [
    "df.tail(3) #it displays the last 3 rows"
   ]
  },
  {
   "cell_type": "code",
   "execution_count": 125,
   "metadata": {},
   "outputs": [
    {
     "data": {
      "text/plain": [
       "DatetimeIndex(['2024-05-27', '2024-05-28', '2024-05-29', '2024-05-30',\n",
       "               '2024-05-31', '2024-06-01', '2024-06-02', '2024-06-03',\n",
       "               '2024-06-04', '2024-06-05'],\n",
       "              dtype='datetime64[ns]', freq='D')"
      ]
     },
     "execution_count": 125,
     "metadata": {},
     "output_type": "execute_result"
    }
   ],
   "source": [
    "df.index #diswplays the index"
   ]
  },
  {
   "cell_type": "code",
   "execution_count": 126,
   "metadata": {},
   "outputs": [
    {
     "data": {
      "text/plain": [
       "Index(['A', 'B', 'C', 'D', 'E'], dtype='object')"
      ]
     },
     "execution_count": 126,
     "metadata": {},
     "output_type": "execute_result"
    }
   ],
   "source": [
    "df.columns #displays the columns"
   ]
  },
  {
   "cell_type": "code",
   "execution_count": 127,
   "metadata": {},
   "outputs": [
    {
     "data": {
      "text/plain": [
       "array([[-1.84734928,  1.22530571, -0.81938543, -1.76661111,  0.73212058],\n",
       "       [-0.85773976,  0.47394584,  1.50688266,  1.44736684,  0.3005834 ],\n",
       "       [-0.86741321,  0.35517761,  0.42606182,  0.63455753, -0.24576471],\n",
       "       [-1.01015228,  0.98723499, -0.24660931, -0.7986663 , -1.76100995],\n",
       "       [ 0.32565441,  0.76212266,  1.85366498, -0.59516217,  0.22507018],\n",
       "       [-1.03236198,  0.44586454, -0.46136795, -0.37983442, -0.46513029],\n",
       "       [ 1.3125101 , -0.11331436, -0.02128943,  0.47768195,  0.99318505],\n",
       "       [ 0.8122618 , -2.02289055,  0.74591047, -0.50893512, -1.02031294],\n",
       "       [ 0.41658709,  0.16203802, -2.11257405,  0.56718234, -0.80063124],\n",
       "       [-1.10883813, -0.97831673,  0.00367508,  0.86669189,  1.17113909]])"
      ]
     },
     "execution_count": 127,
     "metadata": {},
     "output_type": "execute_result"
    }
   ],
   "source": [
    "df.to_numpy() #converts dataframe to numpy"
   ]
  },
  {
   "cell_type": "code",
   "execution_count": 128,
   "metadata": {},
   "outputs": [
    {
     "data": {
      "text/html": [
       "<div>\n",
       "<style scoped>\n",
       "    .dataframe tbody tr th:only-of-type {\n",
       "        vertical-align: middle;\n",
       "    }\n",
       "\n",
       "    .dataframe tbody tr th {\n",
       "        vertical-align: top;\n",
       "    }\n",
       "\n",
       "    .dataframe thead th {\n",
       "        text-align: right;\n",
       "    }\n",
       "</style>\n",
       "<table border=\"1\" class=\"dataframe\">\n",
       "  <thead>\n",
       "    <tr style=\"text-align: right;\">\n",
       "      <th></th>\n",
       "      <th>A</th>\n",
       "      <th>B</th>\n",
       "      <th>C</th>\n",
       "      <th>D</th>\n",
       "      <th>E</th>\n",
       "    </tr>\n",
       "  </thead>\n",
       "  <tbody>\n",
       "    <tr>\n",
       "      <th>count</th>\n",
       "      <td>10.000000</td>\n",
       "      <td>10.000000</td>\n",
       "      <td>10.000000</td>\n",
       "      <td>10.000000</td>\n",
       "      <td>10.000000</td>\n",
       "    </tr>\n",
       "    <tr>\n",
       "      <th>mean</th>\n",
       "      <td>-0.385684</td>\n",
       "      <td>0.129717</td>\n",
       "      <td>0.087497</td>\n",
       "      <td>-0.005573</td>\n",
       "      <td>-0.087075</td>\n",
       "    </tr>\n",
       "    <tr>\n",
       "      <th>std</th>\n",
       "      <td>1.021494</td>\n",
       "      <td>0.973335</td>\n",
       "      <td>1.143903</td>\n",
       "      <td>0.961165</td>\n",
       "      <td>0.943935</td>\n",
       "    </tr>\n",
       "    <tr>\n",
       "      <th>min</th>\n",
       "      <td>-1.847349</td>\n",
       "      <td>-2.022891</td>\n",
       "      <td>-2.112574</td>\n",
       "      <td>-1.766611</td>\n",
       "      <td>-1.761010</td>\n",
       "    </tr>\n",
       "    <tr>\n",
       "      <th>25%</th>\n",
       "      <td>-1.026810</td>\n",
       "      <td>-0.044476</td>\n",
       "      <td>-0.407678</td>\n",
       "      <td>-0.573605</td>\n",
       "      <td>-0.716756</td>\n",
       "    </tr>\n",
       "    <tr>\n",
       "      <th>50%</th>\n",
       "      <td>-0.862576</td>\n",
       "      <td>0.400521</td>\n",
       "      <td>-0.008807</td>\n",
       "      <td>0.048924</td>\n",
       "      <td>-0.010347</td>\n",
       "    </tr>\n",
       "    <tr>\n",
       "      <th>75%</th>\n",
       "      <td>0.393854</td>\n",
       "      <td>0.690078</td>\n",
       "      <td>0.665948</td>\n",
       "      <td>0.617714</td>\n",
       "      <td>0.624236</td>\n",
       "    </tr>\n",
       "    <tr>\n",
       "      <th>max</th>\n",
       "      <td>1.312510</td>\n",
       "      <td>1.225306</td>\n",
       "      <td>1.853665</td>\n",
       "      <td>1.447367</td>\n",
       "      <td>1.171139</td>\n",
       "    </tr>\n",
       "  </tbody>\n",
       "</table>\n",
       "</div>"
      ],
      "text/plain": [
       "               A          B          C          D          E\n",
       "count  10.000000  10.000000  10.000000  10.000000  10.000000\n",
       "mean   -0.385684   0.129717   0.087497  -0.005573  -0.087075\n",
       "std     1.021494   0.973335   1.143903   0.961165   0.943935\n",
       "min    -1.847349  -2.022891  -2.112574  -1.766611  -1.761010\n",
       "25%    -1.026810  -0.044476  -0.407678  -0.573605  -0.716756\n",
       "50%    -0.862576   0.400521  -0.008807   0.048924  -0.010347\n",
       "75%     0.393854   0.690078   0.665948   0.617714   0.624236\n",
       "max     1.312510   1.225306   1.853665   1.447367   1.171139"
      ]
     },
     "execution_count": 128,
     "metadata": {},
     "output_type": "execute_result"
    }
   ],
   "source": [
    "df.describe() #describes about the data"
   ]
  },
  {
   "cell_type": "code",
   "execution_count": 129,
   "metadata": {},
   "outputs": [
    {
     "data": {
      "text/html": [
       "<div>\n",
       "<style scoped>\n",
       "    .dataframe tbody tr th:only-of-type {\n",
       "        vertical-align: middle;\n",
       "    }\n",
       "\n",
       "    .dataframe tbody tr th {\n",
       "        vertical-align: top;\n",
       "    }\n",
       "\n",
       "    .dataframe thead th {\n",
       "        text-align: right;\n",
       "    }\n",
       "</style>\n",
       "<table border=\"1\" class=\"dataframe\">\n",
       "  <thead>\n",
       "    <tr style=\"text-align: right;\">\n",
       "      <th></th>\n",
       "      <th>2024-05-27</th>\n",
       "      <th>2024-05-28</th>\n",
       "      <th>2024-05-29</th>\n",
       "      <th>2024-05-30</th>\n",
       "      <th>2024-05-31</th>\n",
       "      <th>2024-06-01</th>\n",
       "      <th>2024-06-02</th>\n",
       "      <th>2024-06-03</th>\n",
       "      <th>2024-06-04</th>\n",
       "      <th>2024-06-05</th>\n",
       "    </tr>\n",
       "  </thead>\n",
       "  <tbody>\n",
       "    <tr>\n",
       "      <th>A</th>\n",
       "      <td>-1.847349</td>\n",
       "      <td>-0.857740</td>\n",
       "      <td>-0.867413</td>\n",
       "      <td>-1.010152</td>\n",
       "      <td>0.325654</td>\n",
       "      <td>-1.032362</td>\n",
       "      <td>1.312510</td>\n",
       "      <td>0.812262</td>\n",
       "      <td>0.416587</td>\n",
       "      <td>-1.108838</td>\n",
       "    </tr>\n",
       "    <tr>\n",
       "      <th>B</th>\n",
       "      <td>1.225306</td>\n",
       "      <td>0.473946</td>\n",
       "      <td>0.355178</td>\n",
       "      <td>0.987235</td>\n",
       "      <td>0.762123</td>\n",
       "      <td>0.445865</td>\n",
       "      <td>-0.113314</td>\n",
       "      <td>-2.022891</td>\n",
       "      <td>0.162038</td>\n",
       "      <td>-0.978317</td>\n",
       "    </tr>\n",
       "    <tr>\n",
       "      <th>C</th>\n",
       "      <td>-0.819385</td>\n",
       "      <td>1.506883</td>\n",
       "      <td>0.426062</td>\n",
       "      <td>-0.246609</td>\n",
       "      <td>1.853665</td>\n",
       "      <td>-0.461368</td>\n",
       "      <td>-0.021289</td>\n",
       "      <td>0.745910</td>\n",
       "      <td>-2.112574</td>\n",
       "      <td>0.003675</td>\n",
       "    </tr>\n",
       "    <tr>\n",
       "      <th>D</th>\n",
       "      <td>-1.766611</td>\n",
       "      <td>1.447367</td>\n",
       "      <td>0.634558</td>\n",
       "      <td>-0.798666</td>\n",
       "      <td>-0.595162</td>\n",
       "      <td>-0.379834</td>\n",
       "      <td>0.477682</td>\n",
       "      <td>-0.508935</td>\n",
       "      <td>0.567182</td>\n",
       "      <td>0.866692</td>\n",
       "    </tr>\n",
       "    <tr>\n",
       "      <th>E</th>\n",
       "      <td>0.732121</td>\n",
       "      <td>0.300583</td>\n",
       "      <td>-0.245765</td>\n",
       "      <td>-1.761010</td>\n",
       "      <td>0.225070</td>\n",
       "      <td>-0.465130</td>\n",
       "      <td>0.993185</td>\n",
       "      <td>-1.020313</td>\n",
       "      <td>-0.800631</td>\n",
       "      <td>1.171139</td>\n",
       "    </tr>\n",
       "  </tbody>\n",
       "</table>\n",
       "</div>"
      ],
      "text/plain": [
       "   2024-05-27  2024-05-28  2024-05-29  2024-05-30  2024-05-31  2024-06-01  \\\n",
       "A   -1.847349   -0.857740   -0.867413   -1.010152    0.325654   -1.032362   \n",
       "B    1.225306    0.473946    0.355178    0.987235    0.762123    0.445865   \n",
       "C   -0.819385    1.506883    0.426062   -0.246609    1.853665   -0.461368   \n",
       "D   -1.766611    1.447367    0.634558   -0.798666   -0.595162   -0.379834   \n",
       "E    0.732121    0.300583   -0.245765   -1.761010    0.225070   -0.465130   \n",
       "\n",
       "   2024-06-02  2024-06-03  2024-06-04  2024-06-05  \n",
       "A    1.312510    0.812262    0.416587   -1.108838  \n",
       "B   -0.113314   -2.022891    0.162038   -0.978317  \n",
       "C   -0.021289    0.745910   -2.112574    0.003675  \n",
       "D    0.477682   -0.508935    0.567182    0.866692  \n",
       "E    0.993185   -1.020313   -0.800631    1.171139  "
      ]
     },
     "execution_count": 129,
     "metadata": {},
     "output_type": "execute_result"
    }
   ],
   "source": [
    "df.T #transpose the data"
   ]
  },
  {
   "cell_type": "code",
   "execution_count": 130,
   "metadata": {},
   "outputs": [
    {
     "data": {
      "text/html": [
       "<div>\n",
       "<style scoped>\n",
       "    .dataframe tbody tr th:only-of-type {\n",
       "        vertical-align: middle;\n",
       "    }\n",
       "\n",
       "    .dataframe tbody tr th {\n",
       "        vertical-align: top;\n",
       "    }\n",
       "\n",
       "    .dataframe thead th {\n",
       "        text-align: right;\n",
       "    }\n",
       "</style>\n",
       "<table border=\"1\" class=\"dataframe\">\n",
       "  <thead>\n",
       "    <tr style=\"text-align: right;\">\n",
       "      <th></th>\n",
       "      <th>E</th>\n",
       "      <th>D</th>\n",
       "      <th>C</th>\n",
       "      <th>B</th>\n",
       "      <th>A</th>\n",
       "    </tr>\n",
       "  </thead>\n",
       "  <tbody>\n",
       "    <tr>\n",
       "      <th>2024-05-27</th>\n",
       "      <td>0.732121</td>\n",
       "      <td>-1.766611</td>\n",
       "      <td>-0.819385</td>\n",
       "      <td>1.225306</td>\n",
       "      <td>-1.847349</td>\n",
       "    </tr>\n",
       "    <tr>\n",
       "      <th>2024-05-28</th>\n",
       "      <td>0.300583</td>\n",
       "      <td>1.447367</td>\n",
       "      <td>1.506883</td>\n",
       "      <td>0.473946</td>\n",
       "      <td>-0.857740</td>\n",
       "    </tr>\n",
       "    <tr>\n",
       "      <th>2024-05-29</th>\n",
       "      <td>-0.245765</td>\n",
       "      <td>0.634558</td>\n",
       "      <td>0.426062</td>\n",
       "      <td>0.355178</td>\n",
       "      <td>-0.867413</td>\n",
       "    </tr>\n",
       "    <tr>\n",
       "      <th>2024-05-30</th>\n",
       "      <td>-1.761010</td>\n",
       "      <td>-0.798666</td>\n",
       "      <td>-0.246609</td>\n",
       "      <td>0.987235</td>\n",
       "      <td>-1.010152</td>\n",
       "    </tr>\n",
       "    <tr>\n",
       "      <th>2024-05-31</th>\n",
       "      <td>0.225070</td>\n",
       "      <td>-0.595162</td>\n",
       "      <td>1.853665</td>\n",
       "      <td>0.762123</td>\n",
       "      <td>0.325654</td>\n",
       "    </tr>\n",
       "    <tr>\n",
       "      <th>2024-06-01</th>\n",
       "      <td>-0.465130</td>\n",
       "      <td>-0.379834</td>\n",
       "      <td>-0.461368</td>\n",
       "      <td>0.445865</td>\n",
       "      <td>-1.032362</td>\n",
       "    </tr>\n",
       "    <tr>\n",
       "      <th>2024-06-02</th>\n",
       "      <td>0.993185</td>\n",
       "      <td>0.477682</td>\n",
       "      <td>-0.021289</td>\n",
       "      <td>-0.113314</td>\n",
       "      <td>1.312510</td>\n",
       "    </tr>\n",
       "    <tr>\n",
       "      <th>2024-06-03</th>\n",
       "      <td>-1.020313</td>\n",
       "      <td>-0.508935</td>\n",
       "      <td>0.745910</td>\n",
       "      <td>-2.022891</td>\n",
       "      <td>0.812262</td>\n",
       "    </tr>\n",
       "    <tr>\n",
       "      <th>2024-06-04</th>\n",
       "      <td>-0.800631</td>\n",
       "      <td>0.567182</td>\n",
       "      <td>-2.112574</td>\n",
       "      <td>0.162038</td>\n",
       "      <td>0.416587</td>\n",
       "    </tr>\n",
       "    <tr>\n",
       "      <th>2024-06-05</th>\n",
       "      <td>1.171139</td>\n",
       "      <td>0.866692</td>\n",
       "      <td>0.003675</td>\n",
       "      <td>-0.978317</td>\n",
       "      <td>-1.108838</td>\n",
       "    </tr>\n",
       "  </tbody>\n",
       "</table>\n",
       "</div>"
      ],
      "text/plain": [
       "                   E         D         C         B         A\n",
       "2024-05-27  0.732121 -1.766611 -0.819385  1.225306 -1.847349\n",
       "2024-05-28  0.300583  1.447367  1.506883  0.473946 -0.857740\n",
       "2024-05-29 -0.245765  0.634558  0.426062  0.355178 -0.867413\n",
       "2024-05-30 -1.761010 -0.798666 -0.246609  0.987235 -1.010152\n",
       "2024-05-31  0.225070 -0.595162  1.853665  0.762123  0.325654\n",
       "2024-06-01 -0.465130 -0.379834 -0.461368  0.445865 -1.032362\n",
       "2024-06-02  0.993185  0.477682 -0.021289 -0.113314  1.312510\n",
       "2024-06-03 -1.020313 -0.508935  0.745910 -2.022891  0.812262\n",
       "2024-06-04 -0.800631  0.567182 -2.112574  0.162038  0.416587\n",
       "2024-06-05  1.171139  0.866692  0.003675 -0.978317 -1.108838"
      ]
     },
     "execution_count": 130,
     "metadata": {},
     "output_type": "execute_result"
    }
   ],
   "source": [
    "df.sort_index(axis = 1, ascending = False) #order by descending"
   ]
  },
  {
   "cell_type": "code",
   "execution_count": 131,
   "metadata": {},
   "outputs": [
    {
     "data": {
      "text/html": [
       "<div>\n",
       "<style scoped>\n",
       "    .dataframe tbody tr th:only-of-type {\n",
       "        vertical-align: middle;\n",
       "    }\n",
       "\n",
       "    .dataframe tbody tr th {\n",
       "        vertical-align: top;\n",
       "    }\n",
       "\n",
       "    .dataframe thead th {\n",
       "        text-align: right;\n",
       "    }\n",
       "</style>\n",
       "<table border=\"1\" class=\"dataframe\">\n",
       "  <thead>\n",
       "    <tr style=\"text-align: right;\">\n",
       "      <th></th>\n",
       "      <th>A</th>\n",
       "      <th>B</th>\n",
       "      <th>C</th>\n",
       "      <th>D</th>\n",
       "      <th>E</th>\n",
       "    </tr>\n",
       "  </thead>\n",
       "  <tbody>\n",
       "    <tr>\n",
       "      <th>2024-05-27</th>\n",
       "      <td>-1.847349</td>\n",
       "      <td>1.225306</td>\n",
       "      <td>-0.819385</td>\n",
       "      <td>-1.766611</td>\n",
       "      <td>0.732121</td>\n",
       "    </tr>\n",
       "    <tr>\n",
       "      <th>2024-06-05</th>\n",
       "      <td>-1.108838</td>\n",
       "      <td>-0.978317</td>\n",
       "      <td>0.003675</td>\n",
       "      <td>0.866692</td>\n",
       "      <td>1.171139</td>\n",
       "    </tr>\n",
       "    <tr>\n",
       "      <th>2024-06-01</th>\n",
       "      <td>-1.032362</td>\n",
       "      <td>0.445865</td>\n",
       "      <td>-0.461368</td>\n",
       "      <td>-0.379834</td>\n",
       "      <td>-0.465130</td>\n",
       "    </tr>\n",
       "    <tr>\n",
       "      <th>2024-05-30</th>\n",
       "      <td>-1.010152</td>\n",
       "      <td>0.987235</td>\n",
       "      <td>-0.246609</td>\n",
       "      <td>-0.798666</td>\n",
       "      <td>-1.761010</td>\n",
       "    </tr>\n",
       "    <tr>\n",
       "      <th>2024-05-29</th>\n",
       "      <td>-0.867413</td>\n",
       "      <td>0.355178</td>\n",
       "      <td>0.426062</td>\n",
       "      <td>0.634558</td>\n",
       "      <td>-0.245765</td>\n",
       "    </tr>\n",
       "    <tr>\n",
       "      <th>2024-05-28</th>\n",
       "      <td>-0.857740</td>\n",
       "      <td>0.473946</td>\n",
       "      <td>1.506883</td>\n",
       "      <td>1.447367</td>\n",
       "      <td>0.300583</td>\n",
       "    </tr>\n",
       "    <tr>\n",
       "      <th>2024-05-31</th>\n",
       "      <td>0.325654</td>\n",
       "      <td>0.762123</td>\n",
       "      <td>1.853665</td>\n",
       "      <td>-0.595162</td>\n",
       "      <td>0.225070</td>\n",
       "    </tr>\n",
       "    <tr>\n",
       "      <th>2024-06-04</th>\n",
       "      <td>0.416587</td>\n",
       "      <td>0.162038</td>\n",
       "      <td>-2.112574</td>\n",
       "      <td>0.567182</td>\n",
       "      <td>-0.800631</td>\n",
       "    </tr>\n",
       "    <tr>\n",
       "      <th>2024-06-03</th>\n",
       "      <td>0.812262</td>\n",
       "      <td>-2.022891</td>\n",
       "      <td>0.745910</td>\n",
       "      <td>-0.508935</td>\n",
       "      <td>-1.020313</td>\n",
       "    </tr>\n",
       "    <tr>\n",
       "      <th>2024-06-02</th>\n",
       "      <td>1.312510</td>\n",
       "      <td>-0.113314</td>\n",
       "      <td>-0.021289</td>\n",
       "      <td>0.477682</td>\n",
       "      <td>0.993185</td>\n",
       "    </tr>\n",
       "  </tbody>\n",
       "</table>\n",
       "</div>"
      ],
      "text/plain": [
       "                   A         B         C         D         E\n",
       "2024-05-27 -1.847349  1.225306 -0.819385 -1.766611  0.732121\n",
       "2024-06-05 -1.108838 -0.978317  0.003675  0.866692  1.171139\n",
       "2024-06-01 -1.032362  0.445865 -0.461368 -0.379834 -0.465130\n",
       "2024-05-30 -1.010152  0.987235 -0.246609 -0.798666 -1.761010\n",
       "2024-05-29 -0.867413  0.355178  0.426062  0.634558 -0.245765\n",
       "2024-05-28 -0.857740  0.473946  1.506883  1.447367  0.300583\n",
       "2024-05-31  0.325654  0.762123  1.853665 -0.595162  0.225070\n",
       "2024-06-04  0.416587  0.162038 -2.112574  0.567182 -0.800631\n",
       "2024-06-03  0.812262 -2.022891  0.745910 -0.508935 -1.020313\n",
       "2024-06-02  1.312510 -0.113314 -0.021289  0.477682  0.993185"
      ]
     },
     "execution_count": 131,
     "metadata": {},
     "output_type": "execute_result"
    }
   ],
   "source": [
    "df.sort_values(by = 'A') #if we dont mention anything it orders by ascending"
   ]
  },
  {
   "cell_type": "code",
   "execution_count": 132,
   "metadata": {},
   "outputs": [
    {
     "data": {
      "text/plain": [
       "2024-05-27   -0.819385\n",
       "2024-05-28    1.506883\n",
       "2024-05-29    0.426062\n",
       "2024-05-30   -0.246609\n",
       "2024-05-31    1.853665\n",
       "2024-06-01   -0.461368\n",
       "2024-06-02   -0.021289\n",
       "2024-06-03    0.745910\n",
       "2024-06-04   -2.112574\n",
       "2024-06-05    0.003675\n",
       "Freq: D, Name: C, dtype: float64"
      ]
     },
     "execution_count": 132,
     "metadata": {},
     "output_type": "execute_result"
    }
   ],
   "source": [
    "df['C'] #splits the refered column"
   ]
  },
  {
   "cell_type": "code",
   "execution_count": 133,
   "metadata": {},
   "outputs": [
    {
     "data": {
      "text/html": [
       "<div>\n",
       "<style scoped>\n",
       "    .dataframe tbody tr th:only-of-type {\n",
       "        vertical-align: middle;\n",
       "    }\n",
       "\n",
       "    .dataframe tbody tr th {\n",
       "        vertical-align: top;\n",
       "    }\n",
       "\n",
       "    .dataframe thead th {\n",
       "        text-align: right;\n",
       "    }\n",
       "</style>\n",
       "<table border=\"1\" class=\"dataframe\">\n",
       "  <thead>\n",
       "    <tr style=\"text-align: right;\">\n",
       "      <th></th>\n",
       "      <th>A</th>\n",
       "      <th>B</th>\n",
       "      <th>C</th>\n",
       "      <th>D</th>\n",
       "      <th>E</th>\n",
       "    </tr>\n",
       "  </thead>\n",
       "  <tbody>\n",
       "    <tr>\n",
       "      <th>2024-05-27</th>\n",
       "      <td>-1.847349</td>\n",
       "      <td>1.225306</td>\n",
       "      <td>-0.819385</td>\n",
       "      <td>-1.766611</td>\n",
       "      <td>0.732121</td>\n",
       "    </tr>\n",
       "    <tr>\n",
       "      <th>2024-05-28</th>\n",
       "      <td>-0.857740</td>\n",
       "      <td>0.473946</td>\n",
       "      <td>1.506883</td>\n",
       "      <td>1.447367</td>\n",
       "      <td>0.300583</td>\n",
       "    </tr>\n",
       "    <tr>\n",
       "      <th>2024-05-29</th>\n",
       "      <td>-0.867413</td>\n",
       "      <td>0.355178</td>\n",
       "      <td>0.426062</td>\n",
       "      <td>0.634558</td>\n",
       "      <td>-0.245765</td>\n",
       "    </tr>\n",
       "  </tbody>\n",
       "</table>\n",
       "</div>"
      ],
      "text/plain": [
       "                   A         B         C         D         E\n",
       "2024-05-27 -1.847349  1.225306 -0.819385 -1.766611  0.732121\n",
       "2024-05-28 -0.857740  0.473946  1.506883  1.447367  0.300583\n",
       "2024-05-29 -0.867413  0.355178  0.426062  0.634558 -0.245765"
      ]
     },
     "execution_count": 133,
     "metadata": {},
     "output_type": "execute_result"
    }
   ],
   "source": [
    "#selecting\n",
    "\n",
    "df[0:3] #by mentioning index numbers"
   ]
  },
  {
   "cell_type": "code",
   "execution_count": 134,
   "metadata": {},
   "outputs": [
    {
     "data": {
      "text/html": [
       "<div>\n",
       "<style scoped>\n",
       "    .dataframe tbody tr th:only-of-type {\n",
       "        vertical-align: middle;\n",
       "    }\n",
       "\n",
       "    .dataframe tbody tr th {\n",
       "        vertical-align: top;\n",
       "    }\n",
       "\n",
       "    .dataframe thead th {\n",
       "        text-align: right;\n",
       "    }\n",
       "</style>\n",
       "<table border=\"1\" class=\"dataframe\">\n",
       "  <thead>\n",
       "    <tr style=\"text-align: right;\">\n",
       "      <th></th>\n",
       "      <th>A</th>\n",
       "      <th>B</th>\n",
       "      <th>C</th>\n",
       "      <th>D</th>\n",
       "      <th>E</th>\n",
       "    </tr>\n",
       "  </thead>\n",
       "  <tbody>\n",
       "    <tr>\n",
       "      <th>2024-05-27</th>\n",
       "      <td>-1.847349</td>\n",
       "      <td>1.225306</td>\n",
       "      <td>-0.819385</td>\n",
       "      <td>-1.766611</td>\n",
       "      <td>0.732121</td>\n",
       "    </tr>\n",
       "    <tr>\n",
       "      <th>2024-05-28</th>\n",
       "      <td>-0.857740</td>\n",
       "      <td>0.473946</td>\n",
       "      <td>1.506883</td>\n",
       "      <td>1.447367</td>\n",
       "      <td>0.300583</td>\n",
       "    </tr>\n",
       "    <tr>\n",
       "      <th>2024-05-29</th>\n",
       "      <td>-0.867413</td>\n",
       "      <td>0.355178</td>\n",
       "      <td>0.426062</td>\n",
       "      <td>0.634558</td>\n",
       "      <td>-0.245765</td>\n",
       "    </tr>\n",
       "  </tbody>\n",
       "</table>\n",
       "</div>"
      ],
      "text/plain": [
       "                   A         B         C         D         E\n",
       "2024-05-27 -1.847349  1.225306 -0.819385 -1.766611  0.732121\n",
       "2024-05-28 -0.857740  0.473946  1.506883  1.447367  0.300583\n",
       "2024-05-29 -0.867413  0.355178  0.426062  0.634558 -0.245765"
      ]
     },
     "execution_count": 134,
     "metadata": {},
     "output_type": "execute_result"
    }
   ],
   "source": [
    "df['2024-05-27' : '2024-05-29'] #by using index values"
   ]
  },
  {
   "cell_type": "code",
   "execution_count": 135,
   "metadata": {},
   "outputs": [
    {
     "data": {
      "text/plain": [
       "A   -1.847349\n",
       "B    1.225306\n",
       "C   -0.819385\n",
       "D   -1.766611\n",
       "E    0.732121\n",
       "Name: 2024-05-27 00:00:00, dtype: float64"
      ]
     },
     "execution_count": 135,
     "metadata": {},
     "output_type": "execute_result"
    }
   ],
   "source": [
    "#by using labels\n",
    "df.loc[dates[0]] "
   ]
  },
  {
   "cell_type": "code",
   "execution_count": 136,
   "metadata": {},
   "outputs": [
    {
     "data": {
      "text/html": [
       "<div>\n",
       "<style scoped>\n",
       "    .dataframe tbody tr th:only-of-type {\n",
       "        vertical-align: middle;\n",
       "    }\n",
       "\n",
       "    .dataframe tbody tr th {\n",
       "        vertical-align: top;\n",
       "    }\n",
       "\n",
       "    .dataframe thead th {\n",
       "        text-align: right;\n",
       "    }\n",
       "</style>\n",
       "<table border=\"1\" class=\"dataframe\">\n",
       "  <thead>\n",
       "    <tr style=\"text-align: right;\">\n",
       "      <th></th>\n",
       "      <th>A</th>\n",
       "      <th>C</th>\n",
       "    </tr>\n",
       "  </thead>\n",
       "  <tbody>\n",
       "    <tr>\n",
       "      <th>2024-05-27</th>\n",
       "      <td>-1.847349</td>\n",
       "      <td>-0.819385</td>\n",
       "    </tr>\n",
       "    <tr>\n",
       "      <th>2024-05-28</th>\n",
       "      <td>-0.857740</td>\n",
       "      <td>1.506883</td>\n",
       "    </tr>\n",
       "    <tr>\n",
       "      <th>2024-05-29</th>\n",
       "      <td>-0.867413</td>\n",
       "      <td>0.426062</td>\n",
       "    </tr>\n",
       "    <tr>\n",
       "      <th>2024-05-30</th>\n",
       "      <td>-1.010152</td>\n",
       "      <td>-0.246609</td>\n",
       "    </tr>\n",
       "    <tr>\n",
       "      <th>2024-05-31</th>\n",
       "      <td>0.325654</td>\n",
       "      <td>1.853665</td>\n",
       "    </tr>\n",
       "    <tr>\n",
       "      <th>2024-06-01</th>\n",
       "      <td>-1.032362</td>\n",
       "      <td>-0.461368</td>\n",
       "    </tr>\n",
       "    <tr>\n",
       "      <th>2024-06-02</th>\n",
       "      <td>1.312510</td>\n",
       "      <td>-0.021289</td>\n",
       "    </tr>\n",
       "    <tr>\n",
       "      <th>2024-06-03</th>\n",
       "      <td>0.812262</td>\n",
       "      <td>0.745910</td>\n",
       "    </tr>\n",
       "    <tr>\n",
       "      <th>2024-06-04</th>\n",
       "      <td>0.416587</td>\n",
       "      <td>-2.112574</td>\n",
       "    </tr>\n",
       "    <tr>\n",
       "      <th>2024-06-05</th>\n",
       "      <td>-1.108838</td>\n",
       "      <td>0.003675</td>\n",
       "    </tr>\n",
       "  </tbody>\n",
       "</table>\n",
       "</div>"
      ],
      "text/plain": [
       "                   A         C\n",
       "2024-05-27 -1.847349 -0.819385\n",
       "2024-05-28 -0.857740  1.506883\n",
       "2024-05-29 -0.867413  0.426062\n",
       "2024-05-30 -1.010152 -0.246609\n",
       "2024-05-31  0.325654  1.853665\n",
       "2024-06-01 -1.032362 -0.461368\n",
       "2024-06-02  1.312510 -0.021289\n",
       "2024-06-03  0.812262  0.745910\n",
       "2024-06-04  0.416587 -2.112574\n",
       "2024-06-05 -1.108838  0.003675"
      ]
     },
     "execution_count": 136,
     "metadata": {},
     "output_type": "execute_result"
    }
   ],
   "source": [
    "df.loc[:,['A','C']] "
   ]
  },
  {
   "cell_type": "code",
   "execution_count": 137,
   "metadata": {},
   "outputs": [
    {
     "data": {
      "text/html": [
       "<div>\n",
       "<style scoped>\n",
       "    .dataframe tbody tr th:only-of-type {\n",
       "        vertical-align: middle;\n",
       "    }\n",
       "\n",
       "    .dataframe tbody tr th {\n",
       "        vertical-align: top;\n",
       "    }\n",
       "\n",
       "    .dataframe thead th {\n",
       "        text-align: right;\n",
       "    }\n",
       "</style>\n",
       "<table border=\"1\" class=\"dataframe\">\n",
       "  <thead>\n",
       "    <tr style=\"text-align: right;\">\n",
       "      <th></th>\n",
       "      <th>A</th>\n",
       "      <th>C</th>\n",
       "    </tr>\n",
       "  </thead>\n",
       "  <tbody>\n",
       "    <tr>\n",
       "      <th>2024-05-27</th>\n",
       "      <td>-1.847349</td>\n",
       "      <td>-0.819385</td>\n",
       "    </tr>\n",
       "    <tr>\n",
       "      <th>2024-05-28</th>\n",
       "      <td>-0.857740</td>\n",
       "      <td>1.506883</td>\n",
       "    </tr>\n",
       "    <tr>\n",
       "      <th>2024-05-29</th>\n",
       "      <td>-0.867413</td>\n",
       "      <td>0.426062</td>\n",
       "    </tr>\n",
       "  </tbody>\n",
       "</table>\n",
       "</div>"
      ],
      "text/plain": [
       "                   A         C\n",
       "2024-05-27 -1.847349 -0.819385\n",
       "2024-05-28 -0.857740  1.506883\n",
       "2024-05-29 -0.867413  0.426062"
      ]
     },
     "execution_count": 137,
     "metadata": {},
     "output_type": "execute_result"
    }
   ],
   "source": [
    "#by using both endpoints\n",
    "df.loc['2024-05-27' : '2024-05-29', ['A', 'C']]"
   ]
  },
  {
   "cell_type": "code",
   "execution_count": 138,
   "metadata": {},
   "outputs": [
    {
     "data": {
      "text/html": [
       "<div>\n",
       "<style scoped>\n",
       "    .dataframe tbody tr th:only-of-type {\n",
       "        vertical-align: middle;\n",
       "    }\n",
       "\n",
       "    .dataframe tbody tr th {\n",
       "        vertical-align: top;\n",
       "    }\n",
       "\n",
       "    .dataframe thead th {\n",
       "        text-align: right;\n",
       "    }\n",
       "</style>\n",
       "<table border=\"1\" class=\"dataframe\">\n",
       "  <thead>\n",
       "    <tr style=\"text-align: right;\">\n",
       "      <th></th>\n",
       "      <th>A</th>\n",
       "      <th>B</th>\n",
       "      <th>C</th>\n",
       "    </tr>\n",
       "  </thead>\n",
       "  <tbody>\n",
       "    <tr>\n",
       "      <th>2024-05-27</th>\n",
       "      <td>-1.847349</td>\n",
       "      <td>1.225306</td>\n",
       "      <td>-0.819385</td>\n",
       "    </tr>\n",
       "    <tr>\n",
       "      <th>2024-05-28</th>\n",
       "      <td>-0.857740</td>\n",
       "      <td>0.473946</td>\n",
       "      <td>1.506883</td>\n",
       "    </tr>\n",
       "    <tr>\n",
       "      <th>2024-05-29</th>\n",
       "      <td>-0.867413</td>\n",
       "      <td>0.355178</td>\n",
       "      <td>0.426062</td>\n",
       "    </tr>\n",
       "  </tbody>\n",
       "</table>\n",
       "</div>"
      ],
      "text/plain": [
       "                   A         B         C\n",
       "2024-05-27 -1.847349  1.225306 -0.819385\n",
       "2024-05-28 -0.857740  0.473946  1.506883\n",
       "2024-05-29 -0.867413  0.355178  0.426062"
      ]
     },
     "execution_count": 138,
     "metadata": {},
     "output_type": "execute_result"
    }
   ],
   "source": [
    "df.loc['2024-05-27' : '2024-05-29', 'A' : 'C']"
   ]
  },
  {
   "cell_type": "code",
   "execution_count": 139,
   "metadata": {},
   "outputs": [
    {
     "data": {
      "text/plain": [
       "-1.8473492817963841"
      ]
     },
     "execution_count": 139,
     "metadata": {},
     "output_type": "execute_result"
    }
   ],
   "source": [
    "df.loc[dates[0], 'A']"
   ]
  },
  {
   "cell_type": "code",
   "execution_count": 140,
   "metadata": {},
   "outputs": [
    {
     "data": {
      "text/plain": [
       "-1.8473492817963841"
      ]
     },
     "execution_count": 140,
     "metadata": {},
     "output_type": "execute_result"
    }
   ],
   "source": [
    "df.at[dates[0], 'A']"
   ]
  },
  {
   "cell_type": "code",
   "execution_count": 141,
   "metadata": {},
   "outputs": [
    {
     "data": {
      "text/plain": [
       "A   -0.867413\n",
       "B    0.355178\n",
       "C    0.426062\n",
       "D    0.634558\n",
       "E   -0.245765\n",
       "Name: 2024-05-29 00:00:00, dtype: float64"
      ]
     },
     "execution_count": 141,
     "metadata": {},
     "output_type": "execute_result"
    }
   ],
   "source": [
    "#selecting by position\n",
    "df.iloc[2]"
   ]
  },
  {
   "cell_type": "code",
   "execution_count": 142,
   "metadata": {},
   "outputs": [
    {
     "data": {
      "text/html": [
       "<div>\n",
       "<style scoped>\n",
       "    .dataframe tbody tr th:only-of-type {\n",
       "        vertical-align: middle;\n",
       "    }\n",
       "\n",
       "    .dataframe tbody tr th {\n",
       "        vertical-align: top;\n",
       "    }\n",
       "\n",
       "    .dataframe thead th {\n",
       "        text-align: right;\n",
       "    }\n",
       "</style>\n",
       "<table border=\"1\" class=\"dataframe\">\n",
       "  <thead>\n",
       "    <tr style=\"text-align: right;\">\n",
       "      <th></th>\n",
       "      <th>A</th>\n",
       "      <th>B</th>\n",
       "      <th>C</th>\n",
       "    </tr>\n",
       "  </thead>\n",
       "  <tbody>\n",
       "    <tr>\n",
       "      <th>2024-05-27</th>\n",
       "      <td>-1.847349</td>\n",
       "      <td>1.225306</td>\n",
       "      <td>-0.819385</td>\n",
       "    </tr>\n",
       "    <tr>\n",
       "      <th>2024-05-28</th>\n",
       "      <td>-0.857740</td>\n",
       "      <td>0.473946</td>\n",
       "      <td>1.506883</td>\n",
       "    </tr>\n",
       "    <tr>\n",
       "      <th>2024-05-29</th>\n",
       "      <td>-0.867413</td>\n",
       "      <td>0.355178</td>\n",
       "      <td>0.426062</td>\n",
       "    </tr>\n",
       "  </tbody>\n",
       "</table>\n",
       "</div>"
      ],
      "text/plain": [
       "                   A         B         C\n",
       "2024-05-27 -1.847349  1.225306 -0.819385\n",
       "2024-05-28 -0.857740  0.473946  1.506883\n",
       "2024-05-29 -0.867413  0.355178  0.426062"
      ]
     },
     "execution_count": 142,
     "metadata": {},
     "output_type": "execute_result"
    }
   ],
   "source": [
    "df.iloc[0:3, 0:3]"
   ]
  },
  {
   "cell_type": "code",
   "execution_count": 143,
   "metadata": {},
   "outputs": [
    {
     "data": {
      "text/html": [
       "<div>\n",
       "<style scoped>\n",
       "    .dataframe tbody tr th:only-of-type {\n",
       "        vertical-align: middle;\n",
       "    }\n",
       "\n",
       "    .dataframe tbody tr th {\n",
       "        vertical-align: top;\n",
       "    }\n",
       "\n",
       "    .dataframe thead th {\n",
       "        text-align: right;\n",
       "    }\n",
       "</style>\n",
       "<table border=\"1\" class=\"dataframe\">\n",
       "  <thead>\n",
       "    <tr style=\"text-align: right;\">\n",
       "      <th></th>\n",
       "      <th>A</th>\n",
       "      <th>B</th>\n",
       "      <th>D</th>\n",
       "    </tr>\n",
       "  </thead>\n",
       "  <tbody>\n",
       "    <tr>\n",
       "      <th>2024-05-27</th>\n",
       "      <td>-1.847349</td>\n",
       "      <td>1.225306</td>\n",
       "      <td>-1.766611</td>\n",
       "    </tr>\n",
       "    <tr>\n",
       "      <th>2024-05-29</th>\n",
       "      <td>-0.867413</td>\n",
       "      <td>0.355178</td>\n",
       "      <td>0.634558</td>\n",
       "    </tr>\n",
       "    <tr>\n",
       "      <th>2024-05-31</th>\n",
       "      <td>0.325654</td>\n",
       "      <td>0.762123</td>\n",
       "      <td>-0.595162</td>\n",
       "    </tr>\n",
       "  </tbody>\n",
       "</table>\n",
       "</div>"
      ],
      "text/plain": [
       "                   A         B         D\n",
       "2024-05-27 -1.847349  1.225306 -1.766611\n",
       "2024-05-29 -0.867413  0.355178  0.634558\n",
       "2024-05-31  0.325654  0.762123 -0.595162"
      ]
     },
     "execution_count": 143,
     "metadata": {},
     "output_type": "execute_result"
    }
   ],
   "source": [
    "df.iloc[[0,2,4], [0,1,3]] #only selecting the needed rows"
   ]
  },
  {
   "cell_type": "code",
   "execution_count": 144,
   "metadata": {},
   "outputs": [
    {
     "data": {
      "text/html": [
       "<div>\n",
       "<style scoped>\n",
       "    .dataframe tbody tr th:only-of-type {\n",
       "        vertical-align: middle;\n",
       "    }\n",
       "\n",
       "    .dataframe tbody tr th {\n",
       "        vertical-align: top;\n",
       "    }\n",
       "\n",
       "    .dataframe thead th {\n",
       "        text-align: right;\n",
       "    }\n",
       "</style>\n",
       "<table border=\"1\" class=\"dataframe\">\n",
       "  <thead>\n",
       "    <tr style=\"text-align: right;\">\n",
       "      <th></th>\n",
       "      <th>A</th>\n",
       "      <th>B</th>\n",
       "      <th>C</th>\n",
       "      <th>D</th>\n",
       "      <th>E</th>\n",
       "    </tr>\n",
       "  </thead>\n",
       "  <tbody>\n",
       "    <tr>\n",
       "      <th>2024-05-27</th>\n",
       "      <td>-1.847349</td>\n",
       "      <td>1.225306</td>\n",
       "      <td>-0.819385</td>\n",
       "      <td>-1.766611</td>\n",
       "      <td>0.732121</td>\n",
       "    </tr>\n",
       "    <tr>\n",
       "      <th>2024-05-28</th>\n",
       "      <td>-0.857740</td>\n",
       "      <td>0.473946</td>\n",
       "      <td>1.506883</td>\n",
       "      <td>1.447367</td>\n",
       "      <td>0.300583</td>\n",
       "    </tr>\n",
       "    <tr>\n",
       "      <th>2024-05-29</th>\n",
       "      <td>-0.867413</td>\n",
       "      <td>0.355178</td>\n",
       "      <td>0.426062</td>\n",
       "      <td>0.634558</td>\n",
       "      <td>-0.245765</td>\n",
       "    </tr>\n",
       "  </tbody>\n",
       "</table>\n",
       "</div>"
      ],
      "text/plain": [
       "                   A         B         C         D         E\n",
       "2024-05-27 -1.847349  1.225306 -0.819385 -1.766611  0.732121\n",
       "2024-05-28 -0.857740  0.473946  1.506883  1.447367  0.300583\n",
       "2024-05-29 -0.867413  0.355178  0.426062  0.634558 -0.245765"
      ]
     },
     "execution_count": 144,
     "metadata": {},
     "output_type": "execute_result"
    }
   ],
   "source": [
    "df.iloc[0:3, :]"
   ]
  },
  {
   "cell_type": "code",
   "execution_count": 145,
   "metadata": {},
   "outputs": [
    {
     "data": {
      "text/html": [
       "<div>\n",
       "<style scoped>\n",
       "    .dataframe tbody tr th:only-of-type {\n",
       "        vertical-align: middle;\n",
       "    }\n",
       "\n",
       "    .dataframe tbody tr th {\n",
       "        vertical-align: top;\n",
       "    }\n",
       "\n",
       "    .dataframe thead th {\n",
       "        text-align: right;\n",
       "    }\n",
       "</style>\n",
       "<table border=\"1\" class=\"dataframe\">\n",
       "  <thead>\n",
       "    <tr style=\"text-align: right;\">\n",
       "      <th></th>\n",
       "      <th>A</th>\n",
       "      <th>B</th>\n",
       "      <th>C</th>\n",
       "      <th>D</th>\n",
       "    </tr>\n",
       "  </thead>\n",
       "  <tbody>\n",
       "    <tr>\n",
       "      <th>2024-05-27</th>\n",
       "      <td>-1.847349</td>\n",
       "      <td>1.225306</td>\n",
       "      <td>-0.819385</td>\n",
       "      <td>-1.766611</td>\n",
       "    </tr>\n",
       "    <tr>\n",
       "      <th>2024-05-28</th>\n",
       "      <td>-0.857740</td>\n",
       "      <td>0.473946</td>\n",
       "      <td>1.506883</td>\n",
       "      <td>1.447367</td>\n",
       "    </tr>\n",
       "    <tr>\n",
       "      <th>2024-05-29</th>\n",
       "      <td>-0.867413</td>\n",
       "      <td>0.355178</td>\n",
       "      <td>0.426062</td>\n",
       "      <td>0.634558</td>\n",
       "    </tr>\n",
       "    <tr>\n",
       "      <th>2024-05-30</th>\n",
       "      <td>-1.010152</td>\n",
       "      <td>0.987235</td>\n",
       "      <td>-0.246609</td>\n",
       "      <td>-0.798666</td>\n",
       "    </tr>\n",
       "    <tr>\n",
       "      <th>2024-05-31</th>\n",
       "      <td>0.325654</td>\n",
       "      <td>0.762123</td>\n",
       "      <td>1.853665</td>\n",
       "      <td>-0.595162</td>\n",
       "    </tr>\n",
       "    <tr>\n",
       "      <th>2024-06-01</th>\n",
       "      <td>-1.032362</td>\n",
       "      <td>0.445865</td>\n",
       "      <td>-0.461368</td>\n",
       "      <td>-0.379834</td>\n",
       "    </tr>\n",
       "    <tr>\n",
       "      <th>2024-06-02</th>\n",
       "      <td>1.312510</td>\n",
       "      <td>-0.113314</td>\n",
       "      <td>-0.021289</td>\n",
       "      <td>0.477682</td>\n",
       "    </tr>\n",
       "    <tr>\n",
       "      <th>2024-06-03</th>\n",
       "      <td>0.812262</td>\n",
       "      <td>-2.022891</td>\n",
       "      <td>0.745910</td>\n",
       "      <td>-0.508935</td>\n",
       "    </tr>\n",
       "    <tr>\n",
       "      <th>2024-06-04</th>\n",
       "      <td>0.416587</td>\n",
       "      <td>0.162038</td>\n",
       "      <td>-2.112574</td>\n",
       "      <td>0.567182</td>\n",
       "    </tr>\n",
       "    <tr>\n",
       "      <th>2024-06-05</th>\n",
       "      <td>-1.108838</td>\n",
       "      <td>-0.978317</td>\n",
       "      <td>0.003675</td>\n",
       "      <td>0.866692</td>\n",
       "    </tr>\n",
       "  </tbody>\n",
       "</table>\n",
       "</div>"
      ],
      "text/plain": [
       "                   A         B         C         D\n",
       "2024-05-27 -1.847349  1.225306 -0.819385 -1.766611\n",
       "2024-05-28 -0.857740  0.473946  1.506883  1.447367\n",
       "2024-05-29 -0.867413  0.355178  0.426062  0.634558\n",
       "2024-05-30 -1.010152  0.987235 -0.246609 -0.798666\n",
       "2024-05-31  0.325654  0.762123  1.853665 -0.595162\n",
       "2024-06-01 -1.032362  0.445865 -0.461368 -0.379834\n",
       "2024-06-02  1.312510 -0.113314 -0.021289  0.477682\n",
       "2024-06-03  0.812262 -2.022891  0.745910 -0.508935\n",
       "2024-06-04  0.416587  0.162038 -2.112574  0.567182\n",
       "2024-06-05 -1.108838 -0.978317  0.003675  0.866692"
      ]
     },
     "execution_count": 145,
     "metadata": {},
     "output_type": "execute_result"
    }
   ],
   "source": [
    "df.iloc[:, :4]"
   ]
  },
  {
   "cell_type": "code",
   "execution_count": 146,
   "metadata": {},
   "outputs": [
    {
     "data": {
      "text/plain": [
       "1.2253057102880978"
      ]
     },
     "execution_count": 146,
     "metadata": {},
     "output_type": "execute_result"
    }
   ],
   "source": [
    "df.iloc[0,1]"
   ]
  },
  {
   "cell_type": "code",
   "execution_count": 147,
   "metadata": {},
   "outputs": [
    {
     "data": {
      "text/plain": [
       "-1.8473492817963841"
      ]
     },
     "execution_count": 147,
     "metadata": {},
     "output_type": "execute_result"
    }
   ],
   "source": [
    "df.iat[0,0]"
   ]
  },
  {
   "cell_type": "code",
   "execution_count": 148,
   "metadata": {},
   "outputs": [
    {
     "data": {
      "text/html": [
       "<div>\n",
       "<style scoped>\n",
       "    .dataframe tbody tr th:only-of-type {\n",
       "        vertical-align: middle;\n",
       "    }\n",
       "\n",
       "    .dataframe tbody tr th {\n",
       "        vertical-align: top;\n",
       "    }\n",
       "\n",
       "    .dataframe thead th {\n",
       "        text-align: right;\n",
       "    }\n",
       "</style>\n",
       "<table border=\"1\" class=\"dataframe\">\n",
       "  <thead>\n",
       "    <tr style=\"text-align: right;\">\n",
       "      <th></th>\n",
       "      <th>A</th>\n",
       "      <th>B</th>\n",
       "      <th>C</th>\n",
       "      <th>D</th>\n",
       "      <th>E</th>\n",
       "    </tr>\n",
       "  </thead>\n",
       "  <tbody>\n",
       "    <tr>\n",
       "      <th>2024-05-31</th>\n",
       "      <td>0.325654</td>\n",
       "      <td>0.762123</td>\n",
       "      <td>1.853665</td>\n",
       "      <td>-0.595162</td>\n",
       "      <td>0.225070</td>\n",
       "    </tr>\n",
       "    <tr>\n",
       "      <th>2024-06-02</th>\n",
       "      <td>1.312510</td>\n",
       "      <td>-0.113314</td>\n",
       "      <td>-0.021289</td>\n",
       "      <td>0.477682</td>\n",
       "      <td>0.993185</td>\n",
       "    </tr>\n",
       "    <tr>\n",
       "      <th>2024-06-03</th>\n",
       "      <td>0.812262</td>\n",
       "      <td>-2.022891</td>\n",
       "      <td>0.745910</td>\n",
       "      <td>-0.508935</td>\n",
       "      <td>-1.020313</td>\n",
       "    </tr>\n",
       "    <tr>\n",
       "      <th>2024-06-04</th>\n",
       "      <td>0.416587</td>\n",
       "      <td>0.162038</td>\n",
       "      <td>-2.112574</td>\n",
       "      <td>0.567182</td>\n",
       "      <td>-0.800631</td>\n",
       "    </tr>\n",
       "  </tbody>\n",
       "</table>\n",
       "</div>"
      ],
      "text/plain": [
       "                   A         B         C         D         E\n",
       "2024-05-31  0.325654  0.762123  1.853665 -0.595162  0.225070\n",
       "2024-06-02  1.312510 -0.113314 -0.021289  0.477682  0.993185\n",
       "2024-06-03  0.812262 -2.022891  0.745910 -0.508935 -1.020313\n",
       "2024-06-04  0.416587  0.162038 -2.112574  0.567182 -0.800631"
      ]
     },
     "execution_count": 148,
     "metadata": {},
     "output_type": "execute_result"
    }
   ],
   "source": [
    "#boolean indexing\n",
    "df[df['A'] > 0] #displays all the rows where the condition A is greater than true falls true"
   ]
  },
  {
   "cell_type": "code",
   "execution_count": 149,
   "metadata": {},
   "outputs": [
    {
     "data": {
      "text/html": [
       "<div>\n",
       "<style scoped>\n",
       "    .dataframe tbody tr th:only-of-type {\n",
       "        vertical-align: middle;\n",
       "    }\n",
       "\n",
       "    .dataframe tbody tr th {\n",
       "        vertical-align: top;\n",
       "    }\n",
       "\n",
       "    .dataframe thead th {\n",
       "        text-align: right;\n",
       "    }\n",
       "</style>\n",
       "<table border=\"1\" class=\"dataframe\">\n",
       "  <thead>\n",
       "    <tr style=\"text-align: right;\">\n",
       "      <th></th>\n",
       "      <th>A</th>\n",
       "      <th>B</th>\n",
       "      <th>C</th>\n",
       "      <th>D</th>\n",
       "      <th>E</th>\n",
       "    </tr>\n",
       "  </thead>\n",
       "  <tbody>\n",
       "    <tr>\n",
       "      <th>2024-05-27</th>\n",
       "      <td>NaN</td>\n",
       "      <td>1.225306</td>\n",
       "      <td>NaN</td>\n",
       "      <td>NaN</td>\n",
       "      <td>0.732121</td>\n",
       "    </tr>\n",
       "    <tr>\n",
       "      <th>2024-05-28</th>\n",
       "      <td>NaN</td>\n",
       "      <td>0.473946</td>\n",
       "      <td>1.506883</td>\n",
       "      <td>1.447367</td>\n",
       "      <td>0.300583</td>\n",
       "    </tr>\n",
       "    <tr>\n",
       "      <th>2024-05-29</th>\n",
       "      <td>NaN</td>\n",
       "      <td>0.355178</td>\n",
       "      <td>0.426062</td>\n",
       "      <td>0.634558</td>\n",
       "      <td>NaN</td>\n",
       "    </tr>\n",
       "    <tr>\n",
       "      <th>2024-05-30</th>\n",
       "      <td>NaN</td>\n",
       "      <td>0.987235</td>\n",
       "      <td>NaN</td>\n",
       "      <td>NaN</td>\n",
       "      <td>NaN</td>\n",
       "    </tr>\n",
       "    <tr>\n",
       "      <th>2024-05-31</th>\n",
       "      <td>0.325654</td>\n",
       "      <td>0.762123</td>\n",
       "      <td>1.853665</td>\n",
       "      <td>NaN</td>\n",
       "      <td>0.225070</td>\n",
       "    </tr>\n",
       "    <tr>\n",
       "      <th>2024-06-01</th>\n",
       "      <td>NaN</td>\n",
       "      <td>0.445865</td>\n",
       "      <td>NaN</td>\n",
       "      <td>NaN</td>\n",
       "      <td>NaN</td>\n",
       "    </tr>\n",
       "    <tr>\n",
       "      <th>2024-06-02</th>\n",
       "      <td>1.312510</td>\n",
       "      <td>NaN</td>\n",
       "      <td>NaN</td>\n",
       "      <td>0.477682</td>\n",
       "      <td>0.993185</td>\n",
       "    </tr>\n",
       "    <tr>\n",
       "      <th>2024-06-03</th>\n",
       "      <td>0.812262</td>\n",
       "      <td>NaN</td>\n",
       "      <td>0.745910</td>\n",
       "      <td>NaN</td>\n",
       "      <td>NaN</td>\n",
       "    </tr>\n",
       "    <tr>\n",
       "      <th>2024-06-04</th>\n",
       "      <td>0.416587</td>\n",
       "      <td>0.162038</td>\n",
       "      <td>NaN</td>\n",
       "      <td>0.567182</td>\n",
       "      <td>NaN</td>\n",
       "    </tr>\n",
       "    <tr>\n",
       "      <th>2024-06-05</th>\n",
       "      <td>NaN</td>\n",
       "      <td>NaN</td>\n",
       "      <td>0.003675</td>\n",
       "      <td>0.866692</td>\n",
       "      <td>1.171139</td>\n",
       "    </tr>\n",
       "  </tbody>\n",
       "</table>\n",
       "</div>"
      ],
      "text/plain": [
       "                   A         B         C         D         E\n",
       "2024-05-27       NaN  1.225306       NaN       NaN  0.732121\n",
       "2024-05-28       NaN  0.473946  1.506883  1.447367  0.300583\n",
       "2024-05-29       NaN  0.355178  0.426062  0.634558       NaN\n",
       "2024-05-30       NaN  0.987235       NaN       NaN       NaN\n",
       "2024-05-31  0.325654  0.762123  1.853665       NaN  0.225070\n",
       "2024-06-01       NaN  0.445865       NaN       NaN       NaN\n",
       "2024-06-02  1.312510       NaN       NaN  0.477682  0.993185\n",
       "2024-06-03  0.812262       NaN  0.745910       NaN       NaN\n",
       "2024-06-04  0.416587  0.162038       NaN  0.567182       NaN\n",
       "2024-06-05       NaN       NaN  0.003675  0.866692  1.171139"
      ]
     },
     "execution_count": 149,
     "metadata": {},
     "output_type": "execute_result"
    }
   ],
   "source": [
    "df[df > 0] #diplays all datas where the condition falls true otherwise shows NaN"
   ]
  },
  {
   "cell_type": "code",
   "execution_count": 150,
   "metadata": {},
   "outputs": [
    {
     "data": {
      "text/html": [
       "<div>\n",
       "<style scoped>\n",
       "    .dataframe tbody tr th:only-of-type {\n",
       "        vertical-align: middle;\n",
       "    }\n",
       "\n",
       "    .dataframe tbody tr th {\n",
       "        vertical-align: top;\n",
       "    }\n",
       "\n",
       "    .dataframe thead th {\n",
       "        text-align: right;\n",
       "    }\n",
       "</style>\n",
       "<table border=\"1\" class=\"dataframe\">\n",
       "  <thead>\n",
       "    <tr style=\"text-align: right;\">\n",
       "      <th></th>\n",
       "      <th>A</th>\n",
       "      <th>B</th>\n",
       "      <th>C</th>\n",
       "      <th>D</th>\n",
       "      <th>E</th>\n",
       "      <th>F</th>\n",
       "    </tr>\n",
       "  </thead>\n",
       "  <tbody>\n",
       "    <tr>\n",
       "      <th>2024-05-27</th>\n",
       "      <td>-1.847349</td>\n",
       "      <td>1.225306</td>\n",
       "      <td>-0.819385</td>\n",
       "      <td>-1.766611</td>\n",
       "      <td>0.732121</td>\n",
       "      <td>h</td>\n",
       "    </tr>\n",
       "    <tr>\n",
       "      <th>2024-05-29</th>\n",
       "      <td>-0.867413</td>\n",
       "      <td>0.355178</td>\n",
       "      <td>0.426062</td>\n",
       "      <td>0.634558</td>\n",
       "      <td>-0.245765</td>\n",
       "      <td>j</td>\n",
       "    </tr>\n",
       "  </tbody>\n",
       "</table>\n",
       "</div>"
      ],
      "text/plain": [
       "                   A         B         C         D         E  F\n",
       "2024-05-27 -1.847349  1.225306 -0.819385 -1.766611  0.732121  h\n",
       "2024-05-29 -0.867413  0.355178  0.426062  0.634558 -0.245765  j"
      ]
     },
     "execution_count": 150,
     "metadata": {},
     "output_type": "execute_result"
    }
   ],
   "source": [
    "#uisng isin method\n",
    "df2 = df.copy()\n",
    "df2['F'] = ['h', 'i', 'j', 'k', 'l', 'm', 'n', 'o', 'p', 'q']\n",
    "df2[df2['F'].isin(['h', 'j'])]"
   ]
  },
  {
   "cell_type": "code",
   "execution_count": 151,
   "metadata": {},
   "outputs": [
    {
     "name": "stdout",
     "output_type": "stream",
     "text": [
      "0    1\n",
      "1    2\n",
      "2    3\n",
      "3    4\n",
      "4    5\n",
      "dtype: int64\n"
     ]
    },
    {
     "data": {
      "text/plain": [
       "2024-05-27    1\n",
       "2024-05-28    2\n",
       "2024-05-29    3\n",
       "2024-05-30    4\n",
       "2024-05-31    5\n",
       "Freq: D, dtype: int64"
      ]
     },
     "execution_count": 151,
     "metadata": {},
     "output_type": "execute_result"
    }
   ],
   "source": [
    "#setting\n",
    "\n",
    "s1 = pd.Series([1,2,3,4,5])\n",
    "print (s1)\n",
    "s1 = pd.Series([1,2,3,4,5], index = pd.date_range('27-05-2024', periods = 5))\n",
    "s1"
   ]
  },
  {
   "cell_type": "code",
   "execution_count": 152,
   "metadata": {},
   "outputs": [
    {
     "data": {
      "text/html": [
       "<div>\n",
       "<style scoped>\n",
       "    .dataframe tbody tr th:only-of-type {\n",
       "        vertical-align: middle;\n",
       "    }\n",
       "\n",
       "    .dataframe tbody tr th {\n",
       "        vertical-align: top;\n",
       "    }\n",
       "\n",
       "    .dataframe thead th {\n",
       "        text-align: right;\n",
       "    }\n",
       "</style>\n",
       "<table border=\"1\" class=\"dataframe\">\n",
       "  <thead>\n",
       "    <tr style=\"text-align: right;\">\n",
       "      <th></th>\n",
       "      <th>A</th>\n",
       "      <th>B</th>\n",
       "      <th>C</th>\n",
       "      <th>D</th>\n",
       "      <th>E</th>\n",
       "    </tr>\n",
       "  </thead>\n",
       "  <tbody>\n",
       "    <tr>\n",
       "      <th>2024-05-27</th>\n",
       "      <td>0.000000</td>\n",
       "      <td>1.225306</td>\n",
       "      <td>-0.819385</td>\n",
       "      <td>-1.766611</td>\n",
       "      <td>0.732121</td>\n",
       "    </tr>\n",
       "    <tr>\n",
       "      <th>2024-05-28</th>\n",
       "      <td>-0.857740</td>\n",
       "      <td>0.473946</td>\n",
       "      <td>1.506883</td>\n",
       "      <td>1.447367</td>\n",
       "      <td>0.300583</td>\n",
       "    </tr>\n",
       "    <tr>\n",
       "      <th>2024-05-29</th>\n",
       "      <td>-0.867413</td>\n",
       "      <td>0.355178</td>\n",
       "      <td>0.426062</td>\n",
       "      <td>0.634558</td>\n",
       "      <td>-0.245765</td>\n",
       "    </tr>\n",
       "    <tr>\n",
       "      <th>2024-05-30</th>\n",
       "      <td>-1.010152</td>\n",
       "      <td>0.987235</td>\n",
       "      <td>-0.246609</td>\n",
       "      <td>-0.798666</td>\n",
       "      <td>-1.761010</td>\n",
       "    </tr>\n",
       "    <tr>\n",
       "      <th>2024-05-31</th>\n",
       "      <td>0.325654</td>\n",
       "      <td>0.762123</td>\n",
       "      <td>1.853665</td>\n",
       "      <td>-0.595162</td>\n",
       "      <td>0.225070</td>\n",
       "    </tr>\n",
       "    <tr>\n",
       "      <th>2024-06-01</th>\n",
       "      <td>-1.032362</td>\n",
       "      <td>0.445865</td>\n",
       "      <td>-0.461368</td>\n",
       "      <td>-0.379834</td>\n",
       "      <td>-0.465130</td>\n",
       "    </tr>\n",
       "    <tr>\n",
       "      <th>2024-06-02</th>\n",
       "      <td>1.312510</td>\n",
       "      <td>-0.113314</td>\n",
       "      <td>-0.021289</td>\n",
       "      <td>0.477682</td>\n",
       "      <td>0.993185</td>\n",
       "    </tr>\n",
       "    <tr>\n",
       "      <th>2024-06-03</th>\n",
       "      <td>0.812262</td>\n",
       "      <td>-2.022891</td>\n",
       "      <td>0.745910</td>\n",
       "      <td>-0.508935</td>\n",
       "      <td>-1.020313</td>\n",
       "    </tr>\n",
       "    <tr>\n",
       "      <th>2024-06-04</th>\n",
       "      <td>0.416587</td>\n",
       "      <td>0.162038</td>\n",
       "      <td>-2.112574</td>\n",
       "      <td>0.567182</td>\n",
       "      <td>-0.800631</td>\n",
       "    </tr>\n",
       "    <tr>\n",
       "      <th>2024-06-05</th>\n",
       "      <td>-1.108838</td>\n",
       "      <td>-0.978317</td>\n",
       "      <td>0.003675</td>\n",
       "      <td>0.866692</td>\n",
       "      <td>1.171139</td>\n",
       "    </tr>\n",
       "  </tbody>\n",
       "</table>\n",
       "</div>"
      ],
      "text/plain": [
       "                   A         B         C         D         E\n",
       "2024-05-27  0.000000  1.225306 -0.819385 -1.766611  0.732121\n",
       "2024-05-28 -0.857740  0.473946  1.506883  1.447367  0.300583\n",
       "2024-05-29 -0.867413  0.355178  0.426062  0.634558 -0.245765\n",
       "2024-05-30 -1.010152  0.987235 -0.246609 -0.798666 -1.761010\n",
       "2024-05-31  0.325654  0.762123  1.853665 -0.595162  0.225070\n",
       "2024-06-01 -1.032362  0.445865 -0.461368 -0.379834 -0.465130\n",
       "2024-06-02  1.312510 -0.113314 -0.021289  0.477682  0.993185\n",
       "2024-06-03  0.812262 -2.022891  0.745910 -0.508935 -1.020313\n",
       "2024-06-04  0.416587  0.162038 -2.112574  0.567182 -0.800631\n",
       "2024-06-05 -1.108838 -0.978317  0.003675  0.866692  1.171139"
      ]
     },
     "execution_count": 152,
     "metadata": {},
     "output_type": "execute_result"
    }
   ],
   "source": [
    "#setting values by label\n",
    "df.loc[dates[0], 'A'] = 0 \n",
    "df.at[dates[0], \"A\"] = 0\n",
    "df #both gives same output"
   ]
  },
  {
   "cell_type": "code",
   "execution_count": 153,
   "metadata": {},
   "outputs": [
    {
     "data": {
      "text/html": [
       "<div>\n",
       "<style scoped>\n",
       "    .dataframe tbody tr th:only-of-type {\n",
       "        vertical-align: middle;\n",
       "    }\n",
       "\n",
       "    .dataframe tbody tr th {\n",
       "        vertical-align: top;\n",
       "    }\n",
       "\n",
       "    .dataframe thead th {\n",
       "        text-align: right;\n",
       "    }\n",
       "</style>\n",
       "<table border=\"1\" class=\"dataframe\">\n",
       "  <thead>\n",
       "    <tr style=\"text-align: right;\">\n",
       "      <th></th>\n",
       "      <th>A</th>\n",
       "      <th>B</th>\n",
       "      <th>C</th>\n",
       "      <th>D</th>\n",
       "      <th>E</th>\n",
       "    </tr>\n",
       "  </thead>\n",
       "  <tbody>\n",
       "    <tr>\n",
       "      <th>2024-05-27</th>\n",
       "      <td>0.000000</td>\n",
       "      <td>0.000000</td>\n",
       "      <td>-0.819385</td>\n",
       "      <td>-1.766611</td>\n",
       "      <td>0.732121</td>\n",
       "    </tr>\n",
       "    <tr>\n",
       "      <th>2024-05-28</th>\n",
       "      <td>-0.857740</td>\n",
       "      <td>0.473946</td>\n",
       "      <td>1.506883</td>\n",
       "      <td>1.447367</td>\n",
       "      <td>0.300583</td>\n",
       "    </tr>\n",
       "    <tr>\n",
       "      <th>2024-05-29</th>\n",
       "      <td>-0.867413</td>\n",
       "      <td>0.355178</td>\n",
       "      <td>0.426062</td>\n",
       "      <td>0.634558</td>\n",
       "      <td>-0.245765</td>\n",
       "    </tr>\n",
       "    <tr>\n",
       "      <th>2024-05-30</th>\n",
       "      <td>-1.010152</td>\n",
       "      <td>0.987235</td>\n",
       "      <td>-0.246609</td>\n",
       "      <td>-0.798666</td>\n",
       "      <td>-1.761010</td>\n",
       "    </tr>\n",
       "    <tr>\n",
       "      <th>2024-05-31</th>\n",
       "      <td>0.325654</td>\n",
       "      <td>0.762123</td>\n",
       "      <td>1.853665</td>\n",
       "      <td>-0.595162</td>\n",
       "      <td>0.225070</td>\n",
       "    </tr>\n",
       "    <tr>\n",
       "      <th>2024-06-01</th>\n",
       "      <td>-1.032362</td>\n",
       "      <td>0.445865</td>\n",
       "      <td>-0.461368</td>\n",
       "      <td>-0.379834</td>\n",
       "      <td>-0.465130</td>\n",
       "    </tr>\n",
       "    <tr>\n",
       "      <th>2024-06-02</th>\n",
       "      <td>1.312510</td>\n",
       "      <td>-0.113314</td>\n",
       "      <td>-0.021289</td>\n",
       "      <td>0.477682</td>\n",
       "      <td>0.993185</td>\n",
       "    </tr>\n",
       "    <tr>\n",
       "      <th>2024-06-03</th>\n",
       "      <td>0.812262</td>\n",
       "      <td>-2.022891</td>\n",
       "      <td>0.745910</td>\n",
       "      <td>-0.508935</td>\n",
       "      <td>-1.020313</td>\n",
       "    </tr>\n",
       "    <tr>\n",
       "      <th>2024-06-04</th>\n",
       "      <td>0.416587</td>\n",
       "      <td>0.162038</td>\n",
       "      <td>-2.112574</td>\n",
       "      <td>0.567182</td>\n",
       "      <td>-0.800631</td>\n",
       "    </tr>\n",
       "    <tr>\n",
       "      <th>2024-06-05</th>\n",
       "      <td>-1.108838</td>\n",
       "      <td>-0.978317</td>\n",
       "      <td>0.003675</td>\n",
       "      <td>0.866692</td>\n",
       "      <td>1.171139</td>\n",
       "    </tr>\n",
       "  </tbody>\n",
       "</table>\n",
       "</div>"
      ],
      "text/plain": [
       "                   A         B         C         D         E\n",
       "2024-05-27  0.000000  0.000000 -0.819385 -1.766611  0.732121\n",
       "2024-05-28 -0.857740  0.473946  1.506883  1.447367  0.300583\n",
       "2024-05-29 -0.867413  0.355178  0.426062  0.634558 -0.245765\n",
       "2024-05-30 -1.010152  0.987235 -0.246609 -0.798666 -1.761010\n",
       "2024-05-31  0.325654  0.762123  1.853665 -0.595162  0.225070\n",
       "2024-06-01 -1.032362  0.445865 -0.461368 -0.379834 -0.465130\n",
       "2024-06-02  1.312510 -0.113314 -0.021289  0.477682  0.993185\n",
       "2024-06-03  0.812262 -2.022891  0.745910 -0.508935 -1.020313\n",
       "2024-06-04  0.416587  0.162038 -2.112574  0.567182 -0.800631\n",
       "2024-06-05 -1.108838 -0.978317  0.003675  0.866692  1.171139"
      ]
     },
     "execution_count": 153,
     "metadata": {},
     "output_type": "execute_result"
    }
   ],
   "source": [
    "#setting value by position\n",
    "df.iloc[0,1] = 0\n",
    "df.iat[0,1] = 0\n",
    "df #both gives same output"
   ]
  },
  {
   "cell_type": "code",
   "execution_count": 154,
   "metadata": {},
   "outputs": [
    {
     "data": {
      "text/html": [
       "<div>\n",
       "<style scoped>\n",
       "    .dataframe tbody tr th:only-of-type {\n",
       "        vertical-align: middle;\n",
       "    }\n",
       "\n",
       "    .dataframe tbody tr th {\n",
       "        vertical-align: top;\n",
       "    }\n",
       "\n",
       "    .dataframe thead th {\n",
       "        text-align: right;\n",
       "    }\n",
       "</style>\n",
       "<table border=\"1\" class=\"dataframe\">\n",
       "  <thead>\n",
       "    <tr style=\"text-align: right;\">\n",
       "      <th></th>\n",
       "      <th>A</th>\n",
       "      <th>B</th>\n",
       "      <th>C</th>\n",
       "      <th>D</th>\n",
       "      <th>E</th>\n",
       "    </tr>\n",
       "  </thead>\n",
       "  <tbody>\n",
       "    <tr>\n",
       "      <th>2024-05-27</th>\n",
       "      <td>0.000000</td>\n",
       "      <td>0.000000</td>\n",
       "      <td>-0.819385</td>\n",
       "      <td>5.0</td>\n",
       "      <td>0.732121</td>\n",
       "    </tr>\n",
       "    <tr>\n",
       "      <th>2024-05-28</th>\n",
       "      <td>-0.857740</td>\n",
       "      <td>0.473946</td>\n",
       "      <td>1.506883</td>\n",
       "      <td>5.0</td>\n",
       "      <td>0.300583</td>\n",
       "    </tr>\n",
       "    <tr>\n",
       "      <th>2024-05-29</th>\n",
       "      <td>-0.867413</td>\n",
       "      <td>0.355178</td>\n",
       "      <td>0.426062</td>\n",
       "      <td>5.0</td>\n",
       "      <td>-0.245765</td>\n",
       "    </tr>\n",
       "    <tr>\n",
       "      <th>2024-05-30</th>\n",
       "      <td>-1.010152</td>\n",
       "      <td>0.987235</td>\n",
       "      <td>-0.246609</td>\n",
       "      <td>5.0</td>\n",
       "      <td>-1.761010</td>\n",
       "    </tr>\n",
       "    <tr>\n",
       "      <th>2024-05-31</th>\n",
       "      <td>0.325654</td>\n",
       "      <td>0.762123</td>\n",
       "      <td>1.853665</td>\n",
       "      <td>5.0</td>\n",
       "      <td>0.225070</td>\n",
       "    </tr>\n",
       "    <tr>\n",
       "      <th>2024-06-01</th>\n",
       "      <td>-1.032362</td>\n",
       "      <td>0.445865</td>\n",
       "      <td>-0.461368</td>\n",
       "      <td>5.0</td>\n",
       "      <td>-0.465130</td>\n",
       "    </tr>\n",
       "    <tr>\n",
       "      <th>2024-06-02</th>\n",
       "      <td>1.312510</td>\n",
       "      <td>-0.113314</td>\n",
       "      <td>-0.021289</td>\n",
       "      <td>5.0</td>\n",
       "      <td>0.993185</td>\n",
       "    </tr>\n",
       "    <tr>\n",
       "      <th>2024-06-03</th>\n",
       "      <td>0.812262</td>\n",
       "      <td>-2.022891</td>\n",
       "      <td>0.745910</td>\n",
       "      <td>5.0</td>\n",
       "      <td>-1.020313</td>\n",
       "    </tr>\n",
       "    <tr>\n",
       "      <th>2024-06-04</th>\n",
       "      <td>0.416587</td>\n",
       "      <td>0.162038</td>\n",
       "      <td>-2.112574</td>\n",
       "      <td>5.0</td>\n",
       "      <td>-0.800631</td>\n",
       "    </tr>\n",
       "    <tr>\n",
       "      <th>2024-06-05</th>\n",
       "      <td>-1.108838</td>\n",
       "      <td>-0.978317</td>\n",
       "      <td>0.003675</td>\n",
       "      <td>5.0</td>\n",
       "      <td>1.171139</td>\n",
       "    </tr>\n",
       "  </tbody>\n",
       "</table>\n",
       "</div>"
      ],
      "text/plain": [
       "                   A         B         C    D         E\n",
       "2024-05-27  0.000000  0.000000 -0.819385  5.0  0.732121\n",
       "2024-05-28 -0.857740  0.473946  1.506883  5.0  0.300583\n",
       "2024-05-29 -0.867413  0.355178  0.426062  5.0 -0.245765\n",
       "2024-05-30 -1.010152  0.987235 -0.246609  5.0 -1.761010\n",
       "2024-05-31  0.325654  0.762123  1.853665  5.0  0.225070\n",
       "2024-06-01 -1.032362  0.445865 -0.461368  5.0 -0.465130\n",
       "2024-06-02  1.312510 -0.113314 -0.021289  5.0  0.993185\n",
       "2024-06-03  0.812262 -2.022891  0.745910  5.0 -1.020313\n",
       "2024-06-04  0.416587  0.162038 -2.112574  5.0 -0.800631\n",
       "2024-06-05 -1.108838 -0.978317  0.003675  5.0  1.171139"
      ]
     },
     "execution_count": 154,
     "metadata": {},
     "output_type": "execute_result"
    }
   ],
   "source": [
    "#assigning by numpy array\n",
    "df.loc[:, 'D'] = np.array([5] * len(df))\n",
    "df"
   ]
  },
  {
   "cell_type": "code",
   "execution_count": 155,
   "metadata": {},
   "outputs": [
    {
     "data": {
      "text/html": [
       "<div>\n",
       "<style scoped>\n",
       "    .dataframe tbody tr th:only-of-type {\n",
       "        vertical-align: middle;\n",
       "    }\n",
       "\n",
       "    .dataframe tbody tr th {\n",
       "        vertical-align: top;\n",
       "    }\n",
       "\n",
       "    .dataframe thead th {\n",
       "        text-align: right;\n",
       "    }\n",
       "</style>\n",
       "<table border=\"1\" class=\"dataframe\">\n",
       "  <thead>\n",
       "    <tr style=\"text-align: right;\">\n",
       "      <th></th>\n",
       "      <th>A</th>\n",
       "      <th>B</th>\n",
       "      <th>C</th>\n",
       "      <th>D</th>\n",
       "      <th>E</th>\n",
       "    </tr>\n",
       "  </thead>\n",
       "  <tbody>\n",
       "    <tr>\n",
       "      <th>2024-05-27</th>\n",
       "      <td>0.000000</td>\n",
       "      <td>0.000000</td>\n",
       "      <td>-0.819385</td>\n",
       "      <td>-5.0</td>\n",
       "      <td>0.732121</td>\n",
       "    </tr>\n",
       "    <tr>\n",
       "      <th>2024-05-28</th>\n",
       "      <td>-0.857740</td>\n",
       "      <td>0.473946</td>\n",
       "      <td>-1.506883</td>\n",
       "      <td>-5.0</td>\n",
       "      <td>0.300583</td>\n",
       "    </tr>\n",
       "    <tr>\n",
       "      <th>2024-05-29</th>\n",
       "      <td>-0.867413</td>\n",
       "      <td>0.355178</td>\n",
       "      <td>0.426062</td>\n",
       "      <td>-5.0</td>\n",
       "      <td>-0.245765</td>\n",
       "    </tr>\n",
       "    <tr>\n",
       "      <th>2024-05-30</th>\n",
       "      <td>-1.010152</td>\n",
       "      <td>0.987235</td>\n",
       "      <td>-0.246609</td>\n",
       "      <td>-5.0</td>\n",
       "      <td>-1.761010</td>\n",
       "    </tr>\n",
       "    <tr>\n",
       "      <th>2024-05-31</th>\n",
       "      <td>0.325654</td>\n",
       "      <td>0.762123</td>\n",
       "      <td>-1.853665</td>\n",
       "      <td>-5.0</td>\n",
       "      <td>0.225070</td>\n",
       "    </tr>\n",
       "    <tr>\n",
       "      <th>2024-06-01</th>\n",
       "      <td>-1.032362</td>\n",
       "      <td>0.445865</td>\n",
       "      <td>-0.461368</td>\n",
       "      <td>-5.0</td>\n",
       "      <td>-0.465130</td>\n",
       "    </tr>\n",
       "    <tr>\n",
       "      <th>2024-06-02</th>\n",
       "      <td>-1.312510</td>\n",
       "      <td>-0.113314</td>\n",
       "      <td>-0.021289</td>\n",
       "      <td>-5.0</td>\n",
       "      <td>0.993185</td>\n",
       "    </tr>\n",
       "    <tr>\n",
       "      <th>2024-06-03</th>\n",
       "      <td>0.812262</td>\n",
       "      <td>-2.022891</td>\n",
       "      <td>0.745910</td>\n",
       "      <td>-5.0</td>\n",
       "      <td>-1.020313</td>\n",
       "    </tr>\n",
       "    <tr>\n",
       "      <th>2024-06-04</th>\n",
       "      <td>0.416587</td>\n",
       "      <td>0.162038</td>\n",
       "      <td>-2.112574</td>\n",
       "      <td>-5.0</td>\n",
       "      <td>-0.800631</td>\n",
       "    </tr>\n",
       "    <tr>\n",
       "      <th>2024-06-05</th>\n",
       "      <td>-1.108838</td>\n",
       "      <td>-0.978317</td>\n",
       "      <td>0.003675</td>\n",
       "      <td>-5.0</td>\n",
       "      <td>-1.171139</td>\n",
       "    </tr>\n",
       "  </tbody>\n",
       "</table>\n",
       "</div>"
      ],
      "text/plain": [
       "                   A         B         C    D         E\n",
       "2024-05-27  0.000000  0.000000 -0.819385 -5.0  0.732121\n",
       "2024-05-28 -0.857740  0.473946 -1.506883 -5.0  0.300583\n",
       "2024-05-29 -0.867413  0.355178  0.426062 -5.0 -0.245765\n",
       "2024-05-30 -1.010152  0.987235 -0.246609 -5.0 -1.761010\n",
       "2024-05-31  0.325654  0.762123 -1.853665 -5.0  0.225070\n",
       "2024-06-01 -1.032362  0.445865 -0.461368 -5.0 -0.465130\n",
       "2024-06-02 -1.312510 -0.113314 -0.021289 -5.0  0.993185\n",
       "2024-06-03  0.812262 -2.022891  0.745910 -5.0 -1.020313\n",
       "2024-06-04  0.416587  0.162038 -2.112574 -5.0 -0.800631\n",
       "2024-06-05 -1.108838 -0.978317  0.003675 -5.0 -1.171139"
      ]
     },
     "execution_count": 155,
     "metadata": {},
     "output_type": "execute_result"
    }
   ],
   "source": [
    "#where operation with seting\n",
    "df2 = df.copy()\n",
    "df2[df2 > 1] = -df2\n",
    "df2 #converts every postive value to negative"
   ]
  },
  {
   "cell_type": "code",
   "execution_count": 156,
   "metadata": {},
   "outputs": [
    {
     "data": {
      "text/html": [
       "<div>\n",
       "<style scoped>\n",
       "    .dataframe tbody tr th:only-of-type {\n",
       "        vertical-align: middle;\n",
       "    }\n",
       "\n",
       "    .dataframe tbody tr th {\n",
       "        vertical-align: top;\n",
       "    }\n",
       "\n",
       "    .dataframe thead th {\n",
       "        text-align: right;\n",
       "    }\n",
       "</style>\n",
       "<table border=\"1\" class=\"dataframe\">\n",
       "  <thead>\n",
       "    <tr style=\"text-align: right;\">\n",
       "      <th></th>\n",
       "      <th>A</th>\n",
       "      <th>B</th>\n",
       "      <th>C</th>\n",
       "      <th>D</th>\n",
       "      <th>E</th>\n",
       "      <th>F</th>\n",
       "    </tr>\n",
       "  </thead>\n",
       "  <tbody>\n",
       "    <tr>\n",
       "      <th>2024-05-27</th>\n",
       "      <td>0.000000</td>\n",
       "      <td>0.000000</td>\n",
       "      <td>-0.819385</td>\n",
       "      <td>5.0</td>\n",
       "      <td>0.732121</td>\n",
       "      <td>2.0</td>\n",
       "    </tr>\n",
       "    <tr>\n",
       "      <th>2024-05-28</th>\n",
       "      <td>-0.857740</td>\n",
       "      <td>0.473946</td>\n",
       "      <td>1.506883</td>\n",
       "      <td>5.0</td>\n",
       "      <td>0.300583</td>\n",
       "      <td>2.0</td>\n",
       "    </tr>\n",
       "    <tr>\n",
       "      <th>2024-05-29</th>\n",
       "      <td>-0.867413</td>\n",
       "      <td>0.355178</td>\n",
       "      <td>0.426062</td>\n",
       "      <td>5.0</td>\n",
       "      <td>-0.245765</td>\n",
       "      <td>2.0</td>\n",
       "    </tr>\n",
       "    <tr>\n",
       "      <th>2024-05-30</th>\n",
       "      <td>-1.010152</td>\n",
       "      <td>0.987235</td>\n",
       "      <td>-0.246609</td>\n",
       "      <td>5.0</td>\n",
       "      <td>-1.761010</td>\n",
       "      <td>NaN</td>\n",
       "    </tr>\n",
       "    <tr>\n",
       "      <th>2024-05-31</th>\n",
       "      <td>0.325654</td>\n",
       "      <td>0.762123</td>\n",
       "      <td>1.853665</td>\n",
       "      <td>5.0</td>\n",
       "      <td>0.225070</td>\n",
       "      <td>NaN</td>\n",
       "    </tr>\n",
       "  </tbody>\n",
       "</table>\n",
       "</div>"
      ],
      "text/plain": [
       "                   A         B         C    D         E    F\n",
       "2024-05-27  0.000000  0.000000 -0.819385  5.0  0.732121  2.0\n",
       "2024-05-28 -0.857740  0.473946  1.506883  5.0  0.300583  2.0\n",
       "2024-05-29 -0.867413  0.355178  0.426062  5.0 -0.245765  2.0\n",
       "2024-05-30 -1.010152  0.987235 -0.246609  5.0 -1.761010  NaN\n",
       "2024-05-31  0.325654  0.762123  1.853665  5.0  0.225070  NaN"
      ]
     },
     "execution_count": 156,
     "metadata": {},
     "output_type": "execute_result"
    }
   ],
   "source": [
    "#missing data\n",
    "df1 = df.reindex(index = dates [0:5], columns = list(df.columns) + ['F'])\n",
    "df1.loc[dates[0]:dates[2], 'F'] = 2\n",
    "df1 #it created a nan values in the empty columns"
   ]
  },
  {
   "cell_type": "code",
   "execution_count": 157,
   "metadata": {},
   "outputs": [
    {
     "data": {
      "text/html": [
       "<div>\n",
       "<style scoped>\n",
       "    .dataframe tbody tr th:only-of-type {\n",
       "        vertical-align: middle;\n",
       "    }\n",
       "\n",
       "    .dataframe tbody tr th {\n",
       "        vertical-align: top;\n",
       "    }\n",
       "\n",
       "    .dataframe thead th {\n",
       "        text-align: right;\n",
       "    }\n",
       "</style>\n",
       "<table border=\"1\" class=\"dataframe\">\n",
       "  <thead>\n",
       "    <tr style=\"text-align: right;\">\n",
       "      <th></th>\n",
       "      <th>A</th>\n",
       "      <th>B</th>\n",
       "      <th>C</th>\n",
       "      <th>D</th>\n",
       "      <th>E</th>\n",
       "      <th>F</th>\n",
       "    </tr>\n",
       "  </thead>\n",
       "  <tbody>\n",
       "    <tr>\n",
       "      <th>2024-05-27</th>\n",
       "      <td>0.000000</td>\n",
       "      <td>0.000000</td>\n",
       "      <td>-0.819385</td>\n",
       "      <td>5.0</td>\n",
       "      <td>0.732121</td>\n",
       "      <td>2.0</td>\n",
       "    </tr>\n",
       "    <tr>\n",
       "      <th>2024-05-28</th>\n",
       "      <td>-0.857740</td>\n",
       "      <td>0.473946</td>\n",
       "      <td>1.506883</td>\n",
       "      <td>5.0</td>\n",
       "      <td>0.300583</td>\n",
       "      <td>2.0</td>\n",
       "    </tr>\n",
       "    <tr>\n",
       "      <th>2024-05-29</th>\n",
       "      <td>-0.867413</td>\n",
       "      <td>0.355178</td>\n",
       "      <td>0.426062</td>\n",
       "      <td>5.0</td>\n",
       "      <td>-0.245765</td>\n",
       "      <td>2.0</td>\n",
       "    </tr>\n",
       "  </tbody>\n",
       "</table>\n",
       "</div>"
      ],
      "text/plain": [
       "                   A         B         C    D         E    F\n",
       "2024-05-27  0.000000  0.000000 -0.819385  5.0  0.732121  2.0\n",
       "2024-05-28 -0.857740  0.473946  1.506883  5.0  0.300583  2.0\n",
       "2024-05-29 -0.867413  0.355178  0.426062  5.0 -0.245765  2.0"
      ]
     },
     "execution_count": 157,
     "metadata": {},
     "output_type": "execute_result"
    }
   ],
   "source": [
    "#drop nan values\n",
    "df1.dropna()\n",
    "df1.dropna(how = 'any') #both gives same output"
   ]
  },
  {
   "cell_type": "code",
   "execution_count": 158,
   "metadata": {},
   "outputs": [
    {
     "data": {
      "text/html": [
       "<div>\n",
       "<style scoped>\n",
       "    .dataframe tbody tr th:only-of-type {\n",
       "        vertical-align: middle;\n",
       "    }\n",
       "\n",
       "    .dataframe tbody tr th {\n",
       "        vertical-align: top;\n",
       "    }\n",
       "\n",
       "    .dataframe thead th {\n",
       "        text-align: right;\n",
       "    }\n",
       "</style>\n",
       "<table border=\"1\" class=\"dataframe\">\n",
       "  <thead>\n",
       "    <tr style=\"text-align: right;\">\n",
       "      <th></th>\n",
       "      <th>A</th>\n",
       "      <th>B</th>\n",
       "      <th>C</th>\n",
       "      <th>D</th>\n",
       "      <th>E</th>\n",
       "      <th>F</th>\n",
       "    </tr>\n",
       "  </thead>\n",
       "  <tbody>\n",
       "    <tr>\n",
       "      <th>2024-05-27</th>\n",
       "      <td>0.000000</td>\n",
       "      <td>0.000000</td>\n",
       "      <td>-0.819385</td>\n",
       "      <td>5.0</td>\n",
       "      <td>0.732121</td>\n",
       "      <td>2.0</td>\n",
       "    </tr>\n",
       "    <tr>\n",
       "      <th>2024-05-28</th>\n",
       "      <td>-0.857740</td>\n",
       "      <td>0.473946</td>\n",
       "      <td>1.506883</td>\n",
       "      <td>5.0</td>\n",
       "      <td>0.300583</td>\n",
       "      <td>2.0</td>\n",
       "    </tr>\n",
       "    <tr>\n",
       "      <th>2024-05-29</th>\n",
       "      <td>-0.867413</td>\n",
       "      <td>0.355178</td>\n",
       "      <td>0.426062</td>\n",
       "      <td>5.0</td>\n",
       "      <td>-0.245765</td>\n",
       "      <td>2.0</td>\n",
       "    </tr>\n",
       "    <tr>\n",
       "      <th>2024-05-30</th>\n",
       "      <td>-1.010152</td>\n",
       "      <td>0.987235</td>\n",
       "      <td>-0.246609</td>\n",
       "      <td>5.0</td>\n",
       "      <td>-1.761010</td>\n",
       "      <td>5.0</td>\n",
       "    </tr>\n",
       "    <tr>\n",
       "      <th>2024-05-31</th>\n",
       "      <td>0.325654</td>\n",
       "      <td>0.762123</td>\n",
       "      <td>1.853665</td>\n",
       "      <td>5.0</td>\n",
       "      <td>0.225070</td>\n",
       "      <td>5.0</td>\n",
       "    </tr>\n",
       "  </tbody>\n",
       "</table>\n",
       "</div>"
      ],
      "text/plain": [
       "                   A         B         C    D         E    F\n",
       "2024-05-27  0.000000  0.000000 -0.819385  5.0  0.732121  2.0\n",
       "2024-05-28 -0.857740  0.473946  1.506883  5.0  0.300583  2.0\n",
       "2024-05-29 -0.867413  0.355178  0.426062  5.0 -0.245765  2.0\n",
       "2024-05-30 -1.010152  0.987235 -0.246609  5.0 -1.761010  5.0\n",
       "2024-05-31  0.325654  0.762123  1.853665  5.0  0.225070  5.0"
      ]
     },
     "execution_count": 158,
     "metadata": {},
     "output_type": "execute_result"
    }
   ],
   "source": [
    "#fill nan values\n",
    "df1.fillna(5)"
   ]
  },
  {
   "cell_type": "code",
   "execution_count": 159,
   "metadata": {},
   "outputs": [
    {
     "data": {
      "text/html": [
       "<div>\n",
       "<style scoped>\n",
       "    .dataframe tbody tr th:only-of-type {\n",
       "        vertical-align: middle;\n",
       "    }\n",
       "\n",
       "    .dataframe tbody tr th {\n",
       "        vertical-align: top;\n",
       "    }\n",
       "\n",
       "    .dataframe thead th {\n",
       "        text-align: right;\n",
       "    }\n",
       "</style>\n",
       "<table border=\"1\" class=\"dataframe\">\n",
       "  <thead>\n",
       "    <tr style=\"text-align: right;\">\n",
       "      <th></th>\n",
       "      <th>A</th>\n",
       "      <th>B</th>\n",
       "      <th>C</th>\n",
       "      <th>D</th>\n",
       "      <th>E</th>\n",
       "      <th>F</th>\n",
       "    </tr>\n",
       "  </thead>\n",
       "  <tbody>\n",
       "    <tr>\n",
       "      <th>2024-05-27</th>\n",
       "      <td>False</td>\n",
       "      <td>False</td>\n",
       "      <td>False</td>\n",
       "      <td>False</td>\n",
       "      <td>False</td>\n",
       "      <td>False</td>\n",
       "    </tr>\n",
       "    <tr>\n",
       "      <th>2024-05-28</th>\n",
       "      <td>False</td>\n",
       "      <td>False</td>\n",
       "      <td>False</td>\n",
       "      <td>False</td>\n",
       "      <td>False</td>\n",
       "      <td>False</td>\n",
       "    </tr>\n",
       "    <tr>\n",
       "      <th>2024-05-29</th>\n",
       "      <td>False</td>\n",
       "      <td>False</td>\n",
       "      <td>False</td>\n",
       "      <td>False</td>\n",
       "      <td>False</td>\n",
       "      <td>False</td>\n",
       "    </tr>\n",
       "    <tr>\n",
       "      <th>2024-05-30</th>\n",
       "      <td>False</td>\n",
       "      <td>False</td>\n",
       "      <td>False</td>\n",
       "      <td>False</td>\n",
       "      <td>False</td>\n",
       "      <td>True</td>\n",
       "    </tr>\n",
       "    <tr>\n",
       "      <th>2024-05-31</th>\n",
       "      <td>False</td>\n",
       "      <td>False</td>\n",
       "      <td>False</td>\n",
       "      <td>False</td>\n",
       "      <td>False</td>\n",
       "      <td>True</td>\n",
       "    </tr>\n",
       "  </tbody>\n",
       "</table>\n",
       "</div>"
      ],
      "text/plain": [
       "                A      B      C      D      E      F\n",
       "2024-05-27  False  False  False  False  False  False\n",
       "2024-05-28  False  False  False  False  False  False\n",
       "2024-05-29  False  False  False  False  False  False\n",
       "2024-05-30  False  False  False  False  False   True\n",
       "2024-05-31  False  False  False  False  False   True"
      ]
     },
     "execution_count": 159,
     "metadata": {},
     "output_type": "execute_result"
    }
   ],
   "source": [
    "#checking for nan values\n",
    "df1.isna()"
   ]
  },
  {
   "cell_type": "code",
   "execution_count": 160,
   "metadata": {},
   "outputs": [
    {
     "data": {
      "text/plain": [
       "A    0\n",
       "B    0\n",
       "C    0\n",
       "D    0\n",
       "E    0\n",
       "F    2\n",
       "dtype: int64"
      ]
     },
     "execution_count": 160,
     "metadata": {},
     "output_type": "execute_result"
    }
   ],
   "source": [
    "#shows the count of nan values\n",
    "df1.isna().sum()"
   ]
  },
  {
   "cell_type": "code",
   "execution_count": 161,
   "metadata": {},
   "outputs": [
    {
     "data": {
      "text/plain": [
       "A   -0.200949\n",
       "B    0.007186\n",
       "C    0.087497\n",
       "D    5.000000\n",
       "E   -0.087075\n",
       "dtype: float64"
      ]
     },
     "execution_count": 161,
     "metadata": {},
     "output_type": "execute_result"
    }
   ],
   "source": [
    "#stats\n",
    "df.mean() #calculate mean along columns"
   ]
  },
  {
   "cell_type": "code",
   "execution_count": 162,
   "metadata": {},
   "outputs": [
    {
     "data": {
      "text/plain": [
       "2024-05-27    0.982547\n",
       "2024-05-28    1.284734\n",
       "2024-05-29    0.933612\n",
       "2024-05-30    0.593893\n",
       "2024-05-31    1.633302\n",
       "2024-06-01    0.697401\n",
       "2024-06-02    1.434218\n",
       "2024-06-03    0.702994\n",
       "2024-06-04    0.533084\n",
       "2024-06-05    0.817532\n",
       "Freq: D, dtype: float64"
      ]
     },
     "execution_count": 162,
     "metadata": {},
     "output_type": "execute_result"
    }
   ],
   "source": [
    "df.mean(axis = 1) #calculate mean over rows"
   ]
  },
  {
   "cell_type": "code",
   "execution_count": 245,
   "metadata": {},
   "outputs": [
    {
     "data": {
      "text/plain": [
       "2024-05-27     3.0\n",
       "2024-05-28     5.0\n",
       "2024-05-29     7.0\n",
       "2024-05-30     6.0\n",
       "2024-05-31     8.0\n",
       "2024-06-01     9.0\n",
       "2024-06-02    10.0\n",
       "2024-06-03    11.0\n",
       "2024-06-04    12.0\n",
       "2024-06-05     NaN\n",
       "Freq: D, dtype: float64"
      ]
     },
     "execution_count": 245,
     "metadata": {},
     "output_type": "execute_result"
    }
   ],
   "source": [
    "s = pd.Series([1, 3, 5, 7, 6, 8, 9, 10, 11, 12], index=dates).shift(-1)\n",
    "s #the shift makes the last 4 values as nan and inserts the remaining the end values will be neglected"
   ]
  },
  {
   "cell_type": "code",
   "execution_count": 164,
   "metadata": {},
   "outputs": [
    {
     "data": {
      "text/html": [
       "<div>\n",
       "<style scoped>\n",
       "    .dataframe tbody tr th:only-of-type {\n",
       "        vertical-align: middle;\n",
       "    }\n",
       "\n",
       "    .dataframe tbody tr th {\n",
       "        vertical-align: top;\n",
       "    }\n",
       "\n",
       "    .dataframe thead th {\n",
       "        text-align: right;\n",
       "    }\n",
       "</style>\n",
       "<table border=\"1\" class=\"dataframe\">\n",
       "  <thead>\n",
       "    <tr style=\"text-align: right;\">\n",
       "      <th></th>\n",
       "      <th>A</th>\n",
       "      <th>B</th>\n",
       "      <th>C</th>\n",
       "      <th>D</th>\n",
       "      <th>E</th>\n",
       "    </tr>\n",
       "  </thead>\n",
       "  <tbody>\n",
       "    <tr>\n",
       "      <th>2024-05-27</th>\n",
       "      <td>-6.000000</td>\n",
       "      <td>-6.000000</td>\n",
       "      <td>-6.819385</td>\n",
       "      <td>-1.0</td>\n",
       "      <td>-5.267879</td>\n",
       "    </tr>\n",
       "    <tr>\n",
       "      <th>2024-05-28</th>\n",
       "      <td>-8.857740</td>\n",
       "      <td>-7.526054</td>\n",
       "      <td>-6.493117</td>\n",
       "      <td>-3.0</td>\n",
       "      <td>-7.699417</td>\n",
       "    </tr>\n",
       "    <tr>\n",
       "      <th>2024-05-29</th>\n",
       "      <td>-9.867413</td>\n",
       "      <td>-8.644822</td>\n",
       "      <td>-8.573938</td>\n",
       "      <td>-4.0</td>\n",
       "      <td>-9.245765</td>\n",
       "    </tr>\n",
       "    <tr>\n",
       "      <th>2024-05-30</th>\n",
       "      <td>-11.010152</td>\n",
       "      <td>-9.012765</td>\n",
       "      <td>-10.246609</td>\n",
       "      <td>-5.0</td>\n",
       "      <td>-11.761010</td>\n",
       "    </tr>\n",
       "    <tr>\n",
       "      <th>2024-05-31</th>\n",
       "      <td>-10.674346</td>\n",
       "      <td>-10.237877</td>\n",
       "      <td>-9.146335</td>\n",
       "      <td>-6.0</td>\n",
       "      <td>-10.774930</td>\n",
       "    </tr>\n",
       "    <tr>\n",
       "      <th>2024-06-01</th>\n",
       "      <td>-13.032362</td>\n",
       "      <td>-11.554135</td>\n",
       "      <td>-12.461368</td>\n",
       "      <td>-7.0</td>\n",
       "      <td>-12.465130</td>\n",
       "    </tr>\n",
       "    <tr>\n",
       "      <th>2024-06-02</th>\n",
       "      <td>NaN</td>\n",
       "      <td>NaN</td>\n",
       "      <td>NaN</td>\n",
       "      <td>NaN</td>\n",
       "      <td>NaN</td>\n",
       "    </tr>\n",
       "    <tr>\n",
       "      <th>2024-06-03</th>\n",
       "      <td>NaN</td>\n",
       "      <td>NaN</td>\n",
       "      <td>NaN</td>\n",
       "      <td>NaN</td>\n",
       "      <td>NaN</td>\n",
       "    </tr>\n",
       "    <tr>\n",
       "      <th>2024-06-04</th>\n",
       "      <td>NaN</td>\n",
       "      <td>NaN</td>\n",
       "      <td>NaN</td>\n",
       "      <td>NaN</td>\n",
       "      <td>NaN</td>\n",
       "    </tr>\n",
       "    <tr>\n",
       "      <th>2024-06-05</th>\n",
       "      <td>NaN</td>\n",
       "      <td>NaN</td>\n",
       "      <td>NaN</td>\n",
       "      <td>NaN</td>\n",
       "      <td>NaN</td>\n",
       "    </tr>\n",
       "  </tbody>\n",
       "</table>\n",
       "</div>"
      ],
      "text/plain": [
       "                    A          B          C    D          E\n",
       "2024-05-27  -6.000000  -6.000000  -6.819385 -1.0  -5.267879\n",
       "2024-05-28  -8.857740  -7.526054  -6.493117 -3.0  -7.699417\n",
       "2024-05-29  -9.867413  -8.644822  -8.573938 -4.0  -9.245765\n",
       "2024-05-30 -11.010152  -9.012765 -10.246609 -5.0 -11.761010\n",
       "2024-05-31 -10.674346 -10.237877  -9.146335 -6.0 -10.774930\n",
       "2024-06-01 -13.032362 -11.554135 -12.461368 -7.0 -12.465130\n",
       "2024-06-02        NaN        NaN        NaN  NaN        NaN\n",
       "2024-06-03        NaN        NaN        NaN  NaN        NaN\n",
       "2024-06-04        NaN        NaN        NaN  NaN        NaN\n",
       "2024-06-05        NaN        NaN        NaN  NaN        NaN"
      ]
     },
     "execution_count": 164,
     "metadata": {},
     "output_type": "execute_result"
    }
   ],
   "source": [
    "df.sub(s, axis = 0)"
   ]
  },
  {
   "cell_type": "code",
   "execution_count": 165,
   "metadata": {},
   "outputs": [
    {
     "data": {
      "text/html": [
       "<div>\n",
       "<style scoped>\n",
       "    .dataframe tbody tr th:only-of-type {\n",
       "        vertical-align: middle;\n",
       "    }\n",
       "\n",
       "    .dataframe tbody tr th {\n",
       "        vertical-align: top;\n",
       "    }\n",
       "\n",
       "    .dataframe thead th {\n",
       "        text-align: right;\n",
       "    }\n",
       "</style>\n",
       "<table border=\"1\" class=\"dataframe\">\n",
       "  <thead>\n",
       "    <tr style=\"text-align: right;\">\n",
       "      <th></th>\n",
       "      <th>A</th>\n",
       "      <th>B</th>\n",
       "      <th>C</th>\n",
       "      <th>D</th>\n",
       "      <th>E</th>\n",
       "    </tr>\n",
       "  </thead>\n",
       "  <tbody>\n",
       "    <tr>\n",
       "      <th>2024-05-27</th>\n",
       "      <td>0.000000</td>\n",
       "      <td>0.000000</td>\n",
       "      <td>-0.819385</td>\n",
       "      <td>5.0</td>\n",
       "      <td>0.732121</td>\n",
       "    </tr>\n",
       "    <tr>\n",
       "      <th>2024-05-28</th>\n",
       "      <td>-0.857740</td>\n",
       "      <td>0.473946</td>\n",
       "      <td>1.506883</td>\n",
       "      <td>5.0</td>\n",
       "      <td>0.300583</td>\n",
       "    </tr>\n",
       "    <tr>\n",
       "      <th>2024-05-29</th>\n",
       "      <td>-0.867413</td>\n",
       "      <td>0.355178</td>\n",
       "      <td>0.426062</td>\n",
       "      <td>5.0</td>\n",
       "      <td>-0.245765</td>\n",
       "    </tr>\n",
       "    <tr>\n",
       "      <th>2024-05-30</th>\n",
       "      <td>-1.010152</td>\n",
       "      <td>0.987235</td>\n",
       "      <td>-0.246609</td>\n",
       "      <td>5.0</td>\n",
       "      <td>-1.761010</td>\n",
       "    </tr>\n",
       "    <tr>\n",
       "      <th>2024-05-31</th>\n",
       "      <td>0.325654</td>\n",
       "      <td>0.762123</td>\n",
       "      <td>1.853665</td>\n",
       "      <td>5.0</td>\n",
       "      <td>0.225070</td>\n",
       "    </tr>\n",
       "    <tr>\n",
       "      <th>2024-06-01</th>\n",
       "      <td>-1.032362</td>\n",
       "      <td>0.445865</td>\n",
       "      <td>-0.461368</td>\n",
       "      <td>5.0</td>\n",
       "      <td>-0.465130</td>\n",
       "    </tr>\n",
       "    <tr>\n",
       "      <th>2024-06-02</th>\n",
       "      <td>1.312510</td>\n",
       "      <td>-0.113314</td>\n",
       "      <td>-0.021289</td>\n",
       "      <td>5.0</td>\n",
       "      <td>0.993185</td>\n",
       "    </tr>\n",
       "    <tr>\n",
       "      <th>2024-06-03</th>\n",
       "      <td>0.812262</td>\n",
       "      <td>-2.022891</td>\n",
       "      <td>0.745910</td>\n",
       "      <td>5.0</td>\n",
       "      <td>-1.020313</td>\n",
       "    </tr>\n",
       "    <tr>\n",
       "      <th>2024-06-04</th>\n",
       "      <td>0.416587</td>\n",
       "      <td>0.162038</td>\n",
       "      <td>-2.112574</td>\n",
       "      <td>5.0</td>\n",
       "      <td>-0.800631</td>\n",
       "    </tr>\n",
       "    <tr>\n",
       "      <th>2024-06-05</th>\n",
       "      <td>-1.108838</td>\n",
       "      <td>-0.978317</td>\n",
       "      <td>0.003675</td>\n",
       "      <td>5.0</td>\n",
       "      <td>1.171139</td>\n",
       "    </tr>\n",
       "  </tbody>\n",
       "</table>\n",
       "</div>"
      ],
      "text/plain": [
       "                   A         B         C    D         E\n",
       "2024-05-27  0.000000  0.000000 -0.819385  5.0  0.732121\n",
       "2024-05-28 -0.857740  0.473946  1.506883  5.0  0.300583\n",
       "2024-05-29 -0.867413  0.355178  0.426062  5.0 -0.245765\n",
       "2024-05-30 -1.010152  0.987235 -0.246609  5.0 -1.761010\n",
       "2024-05-31  0.325654  0.762123  1.853665  5.0  0.225070\n",
       "2024-06-01 -1.032362  0.445865 -0.461368  5.0 -0.465130\n",
       "2024-06-02  1.312510 -0.113314 -0.021289  5.0  0.993185\n",
       "2024-06-03  0.812262 -2.022891  0.745910  5.0 -1.020313\n",
       "2024-06-04  0.416587  0.162038 -2.112574  5.0 -0.800631\n",
       "2024-06-05 -1.108838 -0.978317  0.003675  5.0  1.171139"
      ]
     },
     "execution_count": 165,
     "metadata": {},
     "output_type": "execute_result"
    }
   ],
   "source": [
    "df"
   ]
  },
  {
   "cell_type": "code",
   "execution_count": 166,
   "metadata": {},
   "outputs": [
    {
     "data": {
      "text/plain": [
       "2024-05-27    1.965094\n",
       "2024-05-28    2.569469\n",
       "2024-05-29    1.867225\n",
       "2024-05-30    1.187785\n",
       "2024-05-31    3.266605\n",
       "2024-06-01    1.394802\n",
       "2024-06-02    2.868437\n",
       "2024-06-03    1.405988\n",
       "2024-06-04    1.066168\n",
       "2024-06-05    1.635064\n",
       "Freq: D, dtype: float64"
      ]
     },
     "execution_count": 166,
     "metadata": {},
     "output_type": "execute_result"
    }
   ],
   "source": [
    "#user defined operations\n",
    "df.agg(lambda x : np.mean(x) * 2, axis =1 )"
   ]
  },
  {
   "cell_type": "code",
   "execution_count": 167,
   "metadata": {},
   "outputs": [
    {
     "data": {
      "text/html": [
       "<div>\n",
       "<style scoped>\n",
       "    .dataframe tbody tr th:only-of-type {\n",
       "        vertical-align: middle;\n",
       "    }\n",
       "\n",
       "    .dataframe tbody tr th {\n",
       "        vertical-align: top;\n",
       "    }\n",
       "\n",
       "    .dataframe thead th {\n",
       "        text-align: right;\n",
       "    }\n",
       "</style>\n",
       "<table border=\"1\" class=\"dataframe\">\n",
       "  <thead>\n",
       "    <tr style=\"text-align: right;\">\n",
       "      <th></th>\n",
       "      <th>A</th>\n",
       "      <th>B</th>\n",
       "      <th>C</th>\n",
       "      <th>D</th>\n",
       "      <th>E</th>\n",
       "    </tr>\n",
       "  </thead>\n",
       "  <tbody>\n",
       "    <tr>\n",
       "      <th>2024-05-27</th>\n",
       "      <td>0.000000</td>\n",
       "      <td>0.000000</td>\n",
       "      <td>-1.638771</td>\n",
       "      <td>10.0</td>\n",
       "      <td>1.464241</td>\n",
       "    </tr>\n",
       "    <tr>\n",
       "      <th>2024-05-28</th>\n",
       "      <td>-1.715480</td>\n",
       "      <td>0.947892</td>\n",
       "      <td>3.013765</td>\n",
       "      <td>10.0</td>\n",
       "      <td>0.601167</td>\n",
       "    </tr>\n",
       "    <tr>\n",
       "      <th>2024-05-29</th>\n",
       "      <td>-1.734826</td>\n",
       "      <td>0.710355</td>\n",
       "      <td>0.852124</td>\n",
       "      <td>10.0</td>\n",
       "      <td>-0.491529</td>\n",
       "    </tr>\n",
       "    <tr>\n",
       "      <th>2024-05-30</th>\n",
       "      <td>-2.020305</td>\n",
       "      <td>1.974470</td>\n",
       "      <td>-0.493219</td>\n",
       "      <td>10.0</td>\n",
       "      <td>-3.522020</td>\n",
       "    </tr>\n",
       "    <tr>\n",
       "      <th>2024-05-31</th>\n",
       "      <td>0.651309</td>\n",
       "      <td>1.524245</td>\n",
       "      <td>3.707330</td>\n",
       "      <td>10.0</td>\n",
       "      <td>0.450140</td>\n",
       "    </tr>\n",
       "    <tr>\n",
       "      <th>2024-06-01</th>\n",
       "      <td>-2.064724</td>\n",
       "      <td>0.891729</td>\n",
       "      <td>-0.922736</td>\n",
       "      <td>10.0</td>\n",
       "      <td>-0.930261</td>\n",
       "    </tr>\n",
       "    <tr>\n",
       "      <th>2024-06-02</th>\n",
       "      <td>2.625020</td>\n",
       "      <td>-0.226629</td>\n",
       "      <td>-0.042579</td>\n",
       "      <td>10.0</td>\n",
       "      <td>1.986370</td>\n",
       "    </tr>\n",
       "    <tr>\n",
       "      <th>2024-06-03</th>\n",
       "      <td>1.624524</td>\n",
       "      <td>-4.045781</td>\n",
       "      <td>1.491821</td>\n",
       "      <td>10.0</td>\n",
       "      <td>-2.040626</td>\n",
       "    </tr>\n",
       "    <tr>\n",
       "      <th>2024-06-04</th>\n",
       "      <td>0.833174</td>\n",
       "      <td>0.324076</td>\n",
       "      <td>-4.225148</td>\n",
       "      <td>10.0</td>\n",
       "      <td>-1.601262</td>\n",
       "    </tr>\n",
       "    <tr>\n",
       "      <th>2024-06-05</th>\n",
       "      <td>-2.217676</td>\n",
       "      <td>-1.956633</td>\n",
       "      <td>0.007350</td>\n",
       "      <td>10.0</td>\n",
       "      <td>2.342278</td>\n",
       "    </tr>\n",
       "  </tbody>\n",
       "</table>\n",
       "</div>"
      ],
      "text/plain": [
       "                   A         B         C     D         E\n",
       "2024-05-27  0.000000  0.000000 -1.638771  10.0  1.464241\n",
       "2024-05-28 -1.715480  0.947892  3.013765  10.0  0.601167\n",
       "2024-05-29 -1.734826  0.710355  0.852124  10.0 -0.491529\n",
       "2024-05-30 -2.020305  1.974470 -0.493219  10.0 -3.522020\n",
       "2024-05-31  0.651309  1.524245  3.707330  10.0  0.450140\n",
       "2024-06-01 -2.064724  0.891729 -0.922736  10.0 -0.930261\n",
       "2024-06-02  2.625020 -0.226629 -0.042579  10.0  1.986370\n",
       "2024-06-03  1.624524 -4.045781  1.491821  10.0 -2.040626\n",
       "2024-06-04  0.833174  0.324076 -4.225148  10.0 -1.601262\n",
       "2024-06-05 -2.217676 -1.956633  0.007350  10.0  2.342278"
      ]
     },
     "execution_count": 167,
     "metadata": {},
     "output_type": "execute_result"
    }
   ],
   "source": [
    "df.transform(lambda x : x * 2 )"
   ]
  },
  {
   "cell_type": "code",
   "execution_count": 168,
   "metadata": {},
   "outputs": [
    {
     "data": {
      "text/plain": [
       "2024-05-27    0.982547\n",
       "2024-05-28    1.284734\n",
       "2024-05-29    0.933612\n",
       "2024-05-30    0.593893\n",
       "2024-05-31    1.633302\n",
       "2024-06-01    0.697401\n",
       "2024-06-02    1.434218\n",
       "2024-06-03    0.702994\n",
       "2024-06-04    0.533084\n",
       "2024-06-05    0.817532\n",
       "Freq: D, dtype: float64"
      ]
     },
     "execution_count": 168,
     "metadata": {},
     "output_type": "execute_result"
    }
   ],
   "source": [
    "df.mean(axis = 1)"
   ]
  },
  {
   "cell_type": "code",
   "execution_count": 169,
   "metadata": {},
   "outputs": [
    {
     "data": {
      "text/plain": [
       "0    1\n",
       "1    4\n",
       "2    5\n",
       "3    5\n",
       "4    4\n",
       "5    5\n",
       "6    2\n",
       "7    3\n",
       "8    3\n",
       "9    4\n",
       "dtype: int32"
      ]
     },
     "execution_count": 169,
     "metadata": {},
     "output_type": "execute_result"
    }
   ],
   "source": [
    "#value counts\n",
    "s = pd.Series (np.random.randint(1, 6, size = 10))\n",
    "s"
   ]
  },
  {
   "cell_type": "code",
   "execution_count": 170,
   "metadata": {},
   "outputs": [
    {
     "data": {
      "text/plain": [
       "4    3\n",
       "5    3\n",
       "3    2\n",
       "1    1\n",
       "2    1\n",
       "Name: count, dtype: int64"
      ]
     },
     "execution_count": 170,
     "metadata": {},
     "output_type": "execute_result"
    }
   ],
   "source": [
    "s.value_counts()"
   ]
  },
  {
   "cell_type": "code",
   "execution_count": 171,
   "metadata": {},
   "outputs": [
    {
     "data": {
      "text/plain": [
       "0    A\n",
       "1    B\n",
       "2    C\n",
       "3    D\n",
       "4    E\n",
       "dtype: object"
      ]
     },
     "execution_count": 171,
     "metadata": {},
     "output_type": "execute_result"
    }
   ],
   "source": [
    "#string methods\n",
    "s = pd.Series(['A', 'B', 'C', 'D', 'E'])\n",
    "s"
   ]
  },
  {
   "cell_type": "code",
   "execution_count": 172,
   "metadata": {},
   "outputs": [
    {
     "data": {
      "text/plain": [
       "0    a\n",
       "1    b\n",
       "2    c\n",
       "3    d\n",
       "4    e\n",
       "dtype: object"
      ]
     },
     "execution_count": 172,
     "metadata": {},
     "output_type": "execute_result"
    }
   ],
   "source": [
    "s.str.lower()"
   ]
  },
  {
   "cell_type": "code",
   "execution_count": 173,
   "metadata": {},
   "outputs": [
    {
     "data": {
      "text/html": [
       "<div>\n",
       "<style scoped>\n",
       "    .dataframe tbody tr th:only-of-type {\n",
       "        vertical-align: middle;\n",
       "    }\n",
       "\n",
       "    .dataframe tbody tr th {\n",
       "        vertical-align: top;\n",
       "    }\n",
       "\n",
       "    .dataframe thead th {\n",
       "        text-align: right;\n",
       "    }\n",
       "</style>\n",
       "<table border=\"1\" class=\"dataframe\">\n",
       "  <thead>\n",
       "    <tr style=\"text-align: right;\">\n",
       "      <th></th>\n",
       "      <th>0</th>\n",
       "      <th>1</th>\n",
       "      <th>2</th>\n",
       "      <th>3</th>\n",
       "      <th>4</th>\n",
       "    </tr>\n",
       "  </thead>\n",
       "  <tbody>\n",
       "    <tr>\n",
       "      <th>0</th>\n",
       "      <td>1.149805</td>\n",
       "      <td>0.709377</td>\n",
       "      <td>1.360127</td>\n",
       "      <td>-0.847117</td>\n",
       "      <td>0.417396</td>\n",
       "    </tr>\n",
       "    <tr>\n",
       "      <th>1</th>\n",
       "      <td>-1.126009</td>\n",
       "      <td>-0.272687</td>\n",
       "      <td>-1.428218</td>\n",
       "      <td>1.022520</td>\n",
       "      <td>-0.280160</td>\n",
       "    </tr>\n",
       "    <tr>\n",
       "      <th>2</th>\n",
       "      <td>-0.356703</td>\n",
       "      <td>-0.176383</td>\n",
       "      <td>-0.610931</td>\n",
       "      <td>0.514174</td>\n",
       "      <td>-0.344354</td>\n",
       "    </tr>\n",
       "    <tr>\n",
       "      <th>3</th>\n",
       "      <td>-1.120314</td>\n",
       "      <td>0.026609</td>\n",
       "      <td>-1.268969</td>\n",
       "      <td>-0.175450</td>\n",
       "      <td>0.131430</td>\n",
       "    </tr>\n",
       "  </tbody>\n",
       "</table>\n",
       "</div>"
      ],
      "text/plain": [
       "          0         1         2         3         4\n",
       "0  1.149805  0.709377  1.360127 -0.847117  0.417396\n",
       "1 -1.126009 -0.272687 -1.428218  1.022520 -0.280160\n",
       "2 -0.356703 -0.176383 -0.610931  0.514174 -0.344354\n",
       "3 -1.120314  0.026609 -1.268969 -0.175450  0.131430"
      ]
     },
     "execution_count": 173,
     "metadata": {},
     "output_type": "execute_result"
    }
   ],
   "source": [
    "#concat\n",
    "a = pd.DataFrame(np.random.randn(4,5))\n",
    "a"
   ]
  },
  {
   "cell_type": "code",
   "execution_count": 174,
   "metadata": {},
   "outputs": [
    {
     "data": {
      "text/html": [
       "<div>\n",
       "<style scoped>\n",
       "    .dataframe tbody tr th:only-of-type {\n",
       "        vertical-align: middle;\n",
       "    }\n",
       "\n",
       "    .dataframe tbody tr th {\n",
       "        vertical-align: top;\n",
       "    }\n",
       "\n",
       "    .dataframe thead th {\n",
       "        text-align: right;\n",
       "    }\n",
       "</style>\n",
       "<table border=\"1\" class=\"dataframe\">\n",
       "  <thead>\n",
       "    <tr style=\"text-align: right;\">\n",
       "      <th></th>\n",
       "      <th>0</th>\n",
       "      <th>1</th>\n",
       "      <th>2</th>\n",
       "      <th>3</th>\n",
       "      <th>4</th>\n",
       "    </tr>\n",
       "  </thead>\n",
       "  <tbody>\n",
       "    <tr>\n",
       "      <th>0</th>\n",
       "      <td>0.026281</td>\n",
       "      <td>0.189194</td>\n",
       "      <td>-1.406819</td>\n",
       "      <td>-0.688309</td>\n",
       "      <td>0.137963</td>\n",
       "    </tr>\n",
       "    <tr>\n",
       "      <th>1</th>\n",
       "      <td>-0.617133</td>\n",
       "      <td>0.783295</td>\n",
       "      <td>-0.036397</td>\n",
       "      <td>-0.266907</td>\n",
       "      <td>-0.775221</td>\n",
       "    </tr>\n",
       "    <tr>\n",
       "      <th>2</th>\n",
       "      <td>-0.858906</td>\n",
       "      <td>-0.685211</td>\n",
       "      <td>0.354858</td>\n",
       "      <td>0.278463</td>\n",
       "      <td>-0.155481</td>\n",
       "    </tr>\n",
       "    <tr>\n",
       "      <th>3</th>\n",
       "      <td>0.121872</td>\n",
       "      <td>0.261319</td>\n",
       "      <td>0.701324</td>\n",
       "      <td>2.255572</td>\n",
       "      <td>1.736304</td>\n",
       "    </tr>\n",
       "  </tbody>\n",
       "</table>\n",
       "</div>"
      ],
      "text/plain": [
       "          0         1         2         3         4\n",
       "0  0.026281  0.189194 -1.406819 -0.688309  0.137963\n",
       "1 -0.617133  0.783295 -0.036397 -0.266907 -0.775221\n",
       "2 -0.858906 -0.685211  0.354858  0.278463 -0.155481\n",
       "3  0.121872  0.261319  0.701324  2.255572  1.736304"
      ]
     },
     "execution_count": 174,
     "metadata": {},
     "output_type": "execute_result"
    }
   ],
   "source": [
    "b = pd.DataFrame(np.random.randn(4,5))\n",
    "b"
   ]
  },
  {
   "cell_type": "code",
   "execution_count": 175,
   "metadata": {},
   "outputs": [
    {
     "data": {
      "text/html": [
       "<div>\n",
       "<style scoped>\n",
       "    .dataframe tbody tr th:only-of-type {\n",
       "        vertical-align: middle;\n",
       "    }\n",
       "\n",
       "    .dataframe tbody tr th {\n",
       "        vertical-align: top;\n",
       "    }\n",
       "\n",
       "    .dataframe thead th {\n",
       "        text-align: right;\n",
       "    }\n",
       "</style>\n",
       "<table border=\"1\" class=\"dataframe\">\n",
       "  <thead>\n",
       "    <tr style=\"text-align: right;\">\n",
       "      <th></th>\n",
       "      <th>0</th>\n",
       "      <th>1</th>\n",
       "      <th>2</th>\n",
       "      <th>3</th>\n",
       "      <th>4</th>\n",
       "      <th>0</th>\n",
       "      <th>1</th>\n",
       "      <th>2</th>\n",
       "      <th>3</th>\n",
       "      <th>4</th>\n",
       "    </tr>\n",
       "  </thead>\n",
       "  <tbody>\n",
       "    <tr>\n",
       "      <th>0</th>\n",
       "      <td>1.149805</td>\n",
       "      <td>0.709377</td>\n",
       "      <td>1.360127</td>\n",
       "      <td>-0.847117</td>\n",
       "      <td>0.417396</td>\n",
       "      <td>0.026281</td>\n",
       "      <td>0.189194</td>\n",
       "      <td>-1.406819</td>\n",
       "      <td>-0.688309</td>\n",
       "      <td>0.137963</td>\n",
       "    </tr>\n",
       "    <tr>\n",
       "      <th>1</th>\n",
       "      <td>-1.126009</td>\n",
       "      <td>-0.272687</td>\n",
       "      <td>-1.428218</td>\n",
       "      <td>1.022520</td>\n",
       "      <td>-0.280160</td>\n",
       "      <td>-0.617133</td>\n",
       "      <td>0.783295</td>\n",
       "      <td>-0.036397</td>\n",
       "      <td>-0.266907</td>\n",
       "      <td>-0.775221</td>\n",
       "    </tr>\n",
       "    <tr>\n",
       "      <th>2</th>\n",
       "      <td>-0.356703</td>\n",
       "      <td>-0.176383</td>\n",
       "      <td>-0.610931</td>\n",
       "      <td>0.514174</td>\n",
       "      <td>-0.344354</td>\n",
       "      <td>-0.858906</td>\n",
       "      <td>-0.685211</td>\n",
       "      <td>0.354858</td>\n",
       "      <td>0.278463</td>\n",
       "      <td>-0.155481</td>\n",
       "    </tr>\n",
       "    <tr>\n",
       "      <th>3</th>\n",
       "      <td>-1.120314</td>\n",
       "      <td>0.026609</td>\n",
       "      <td>-1.268969</td>\n",
       "      <td>-0.175450</td>\n",
       "      <td>0.131430</td>\n",
       "      <td>0.121872</td>\n",
       "      <td>0.261319</td>\n",
       "      <td>0.701324</td>\n",
       "      <td>2.255572</td>\n",
       "      <td>1.736304</td>\n",
       "    </tr>\n",
       "  </tbody>\n",
       "</table>\n",
       "</div>"
      ],
      "text/plain": [
       "          0         1         2         3         4         0         1  \\\n",
       "0  1.149805  0.709377  1.360127 -0.847117  0.417396  0.026281  0.189194   \n",
       "1 -1.126009 -0.272687 -1.428218  1.022520 -0.280160 -0.617133  0.783295   \n",
       "2 -0.356703 -0.176383 -0.610931  0.514174 -0.344354 -0.858906 -0.685211   \n",
       "3 -1.120314  0.026609 -1.268969 -0.175450  0.131430  0.121872  0.261319   \n",
       "\n",
       "          2         3         4  \n",
       "0 -1.406819 -0.688309  0.137963  \n",
       "1 -0.036397 -0.266907 -0.775221  \n",
       "2  0.354858  0.278463 -0.155481  \n",
       "3  0.701324  2.255572  1.736304  "
      ]
     },
     "execution_count": 175,
     "metadata": {},
     "output_type": "execute_result"
    }
   ],
   "source": [
    "pd.concat([a,b], axis = 1)"
   ]
  },
  {
   "cell_type": "code",
   "execution_count": 176,
   "metadata": {},
   "outputs": [
    {
     "data": {
      "text/html": [
       "<div>\n",
       "<style scoped>\n",
       "    .dataframe tbody tr th:only-of-type {\n",
       "        vertical-align: middle;\n",
       "    }\n",
       "\n",
       "    .dataframe tbody tr th {\n",
       "        vertical-align: top;\n",
       "    }\n",
       "\n",
       "    .dataframe thead th {\n",
       "        text-align: right;\n",
       "    }\n",
       "</style>\n",
       "<table border=\"1\" class=\"dataframe\">\n",
       "  <thead>\n",
       "    <tr style=\"text-align: right;\">\n",
       "      <th></th>\n",
       "      <th>ID</th>\n",
       "      <th>Name</th>\n",
       "    </tr>\n",
       "  </thead>\n",
       "  <tbody>\n",
       "    <tr>\n",
       "      <th>0</th>\n",
       "      <td>1</td>\n",
       "      <td>Alice</td>\n",
       "    </tr>\n",
       "    <tr>\n",
       "      <th>1</th>\n",
       "      <td>2</td>\n",
       "      <td>Bob</td>\n",
       "    </tr>\n",
       "    <tr>\n",
       "      <th>2</th>\n",
       "      <td>3</td>\n",
       "      <td>Charlie</td>\n",
       "    </tr>\n",
       "    <tr>\n",
       "      <th>3</th>\n",
       "      <td>4</td>\n",
       "      <td>David</td>\n",
       "    </tr>\n",
       "  </tbody>\n",
       "</table>\n",
       "</div>"
      ],
      "text/plain": [
       "   ID     Name\n",
       "0   1    Alice\n",
       "1   2      Bob\n",
       "2   3  Charlie\n",
       "3   4    David"
      ]
     },
     "execution_count": 176,
     "metadata": {},
     "output_type": "execute_result"
    }
   ],
   "source": [
    "#merge (joins)\n",
    "df1 = pd.DataFrame({\n",
    "    'ID': [1, 2, 3, 4],\n",
    "    'Name': ['Alice', 'Bob', 'Charlie', 'David']\n",
    "})\n",
    "\n",
    "df1"
   ]
  },
  {
   "cell_type": "code",
   "execution_count": 177,
   "metadata": {},
   "outputs": [
    {
     "data": {
      "text/html": [
       "<div>\n",
       "<style scoped>\n",
       "    .dataframe tbody tr th:only-of-type {\n",
       "        vertical-align: middle;\n",
       "    }\n",
       "\n",
       "    .dataframe tbody tr th {\n",
       "        vertical-align: top;\n",
       "    }\n",
       "\n",
       "    .dataframe thead th {\n",
       "        text-align: right;\n",
       "    }\n",
       "</style>\n",
       "<table border=\"1\" class=\"dataframe\">\n",
       "  <thead>\n",
       "    <tr style=\"text-align: right;\">\n",
       "      <th></th>\n",
       "      <th>ID</th>\n",
       "      <th>Age</th>\n",
       "    </tr>\n",
       "  </thead>\n",
       "  <tbody>\n",
       "    <tr>\n",
       "      <th>0</th>\n",
       "      <td>3</td>\n",
       "      <td>23</td>\n",
       "    </tr>\n",
       "    <tr>\n",
       "      <th>1</th>\n",
       "      <td>4</td>\n",
       "      <td>34</td>\n",
       "    </tr>\n",
       "    <tr>\n",
       "      <th>2</th>\n",
       "      <td>5</td>\n",
       "      <td>45</td>\n",
       "    </tr>\n",
       "    <tr>\n",
       "      <th>3</th>\n",
       "      <td>6</td>\n",
       "      <td>56</td>\n",
       "    </tr>\n",
       "  </tbody>\n",
       "</table>\n",
       "</div>"
      ],
      "text/plain": [
       "   ID  Age\n",
       "0   3   23\n",
       "1   4   34\n",
       "2   5   45\n",
       "3   6   56"
      ]
     },
     "execution_count": 177,
     "metadata": {},
     "output_type": "execute_result"
    }
   ],
   "source": [
    "df2 = pd.DataFrame({\n",
    "    'ID': [3, 4, 5, 6],\n",
    "    'Age': [23, 34, 45, 56]\n",
    "})\n",
    "\n",
    "df2"
   ]
  },
  {
   "cell_type": "code",
   "execution_count": 178,
   "metadata": {},
   "outputs": [
    {
     "data": {
      "text/html": [
       "<div>\n",
       "<style scoped>\n",
       "    .dataframe tbody tr th:only-of-type {\n",
       "        vertical-align: middle;\n",
       "    }\n",
       "\n",
       "    .dataframe tbody tr th {\n",
       "        vertical-align: top;\n",
       "    }\n",
       "\n",
       "    .dataframe thead th {\n",
       "        text-align: right;\n",
       "    }\n",
       "</style>\n",
       "<table border=\"1\" class=\"dataframe\">\n",
       "  <thead>\n",
       "    <tr style=\"text-align: right;\">\n",
       "      <th></th>\n",
       "      <th>ID</th>\n",
       "      <th>Name</th>\n",
       "      <th>Age</th>\n",
       "    </tr>\n",
       "  </thead>\n",
       "  <tbody>\n",
       "    <tr>\n",
       "      <th>0</th>\n",
       "      <td>1</td>\n",
       "      <td>Alice</td>\n",
       "      <td>NaN</td>\n",
       "    </tr>\n",
       "    <tr>\n",
       "      <th>1</th>\n",
       "      <td>2</td>\n",
       "      <td>Bob</td>\n",
       "      <td>NaN</td>\n",
       "    </tr>\n",
       "    <tr>\n",
       "      <th>2</th>\n",
       "      <td>3</td>\n",
       "      <td>Charlie</td>\n",
       "      <td>23.0</td>\n",
       "    </tr>\n",
       "    <tr>\n",
       "      <th>3</th>\n",
       "      <td>4</td>\n",
       "      <td>David</td>\n",
       "      <td>34.0</td>\n",
       "    </tr>\n",
       "    <tr>\n",
       "      <th>4</th>\n",
       "      <td>5</td>\n",
       "      <td>NaN</td>\n",
       "      <td>45.0</td>\n",
       "    </tr>\n",
       "    <tr>\n",
       "      <th>5</th>\n",
       "      <td>6</td>\n",
       "      <td>NaN</td>\n",
       "      <td>56.0</td>\n",
       "    </tr>\n",
       "  </tbody>\n",
       "</table>\n",
       "</div>"
      ],
      "text/plain": [
       "   ID     Name   Age\n",
       "0   1    Alice   NaN\n",
       "1   2      Bob   NaN\n",
       "2   3  Charlie  23.0\n",
       "3   4    David  34.0\n",
       "4   5      NaN  45.0\n",
       "5   6      NaN  56.0"
      ]
     },
     "execution_count": 178,
     "metadata": {},
     "output_type": "execute_result"
    }
   ],
   "source": [
    "pd.merge(df1, df2, how = 'outer', on = 'ID')"
   ]
  },
  {
   "cell_type": "code",
   "execution_count": 179,
   "metadata": {},
   "outputs": [
    {
     "data": {
      "text/html": [
       "<div>\n",
       "<style scoped>\n",
       "    .dataframe tbody tr th:only-of-type {\n",
       "        vertical-align: middle;\n",
       "    }\n",
       "\n",
       "    .dataframe tbody tr th {\n",
       "        vertical-align: top;\n",
       "    }\n",
       "\n",
       "    .dataframe thead th {\n",
       "        text-align: right;\n",
       "    }\n",
       "</style>\n",
       "<table border=\"1\" class=\"dataframe\">\n",
       "  <thead>\n",
       "    <tr style=\"text-align: right;\">\n",
       "      <th></th>\n",
       "      <th>Employee</th>\n",
       "      <th>Department</th>\n",
       "      <th>Salary</th>\n",
       "      <th>Age</th>\n",
       "    </tr>\n",
       "  </thead>\n",
       "  <tbody>\n",
       "    <tr>\n",
       "      <th>0</th>\n",
       "      <td>Alice</td>\n",
       "      <td>HR</td>\n",
       "      <td>70000</td>\n",
       "      <td>25</td>\n",
       "    </tr>\n",
       "    <tr>\n",
       "      <th>1</th>\n",
       "      <td>Bob</td>\n",
       "      <td>Engineering</td>\n",
       "      <td>80000</td>\n",
       "      <td>32</td>\n",
       "    </tr>\n",
       "    <tr>\n",
       "      <th>2</th>\n",
       "      <td>Charlie</td>\n",
       "      <td>Engineering</td>\n",
       "      <td>120000</td>\n",
       "      <td>45</td>\n",
       "    </tr>\n",
       "    <tr>\n",
       "      <th>3</th>\n",
       "      <td>David</td>\n",
       "      <td>HR</td>\n",
       "      <td>65000</td>\n",
       "      <td>28</td>\n",
       "    </tr>\n",
       "    <tr>\n",
       "      <th>4</th>\n",
       "      <td>Eve</td>\n",
       "      <td>HR</td>\n",
       "      <td>90000</td>\n",
       "      <td>35</td>\n",
       "    </tr>\n",
       "    <tr>\n",
       "      <th>5</th>\n",
       "      <td>Frank</td>\n",
       "      <td>Marketing</td>\n",
       "      <td>75000</td>\n",
       "      <td>40</td>\n",
       "    </tr>\n",
       "    <tr>\n",
       "      <th>6</th>\n",
       "      <td>Grace</td>\n",
       "      <td>Engineering</td>\n",
       "      <td>110000</td>\n",
       "      <td>29</td>\n",
       "    </tr>\n",
       "    <tr>\n",
       "      <th>7</th>\n",
       "      <td>Heidi</td>\n",
       "      <td>Marketing</td>\n",
       "      <td>60000</td>\n",
       "      <td>31</td>\n",
       "    </tr>\n",
       "  </tbody>\n",
       "</table>\n",
       "</div>"
      ],
      "text/plain": [
       "  Employee   Department  Salary  Age\n",
       "0    Alice           HR   70000   25\n",
       "1      Bob  Engineering   80000   32\n",
       "2  Charlie  Engineering  120000   45\n",
       "3    David           HR   65000   28\n",
       "4      Eve           HR   90000   35\n",
       "5    Frank    Marketing   75000   40\n",
       "6    Grace  Engineering  110000   29\n",
       "7    Heidi    Marketing   60000   31"
      ]
     },
     "execution_count": 179,
     "metadata": {},
     "output_type": "execute_result"
    }
   ],
   "source": [
    "#grouping\n",
    "data = pd.DataFrame({\n",
    "    'Employee': ['Alice', 'Bob', 'Charlie', 'David', 'Eve', 'Frank', 'Grace', 'Heidi'],\n",
    "    'Department': ['HR', 'Engineering', 'Engineering', 'HR', 'HR', 'Marketing', 'Engineering', 'Marketing'],\n",
    "    'Salary': [70000, 80000, 120000, 65000, 90000, 75000, 110000, 60000],\n",
    "    'Age': [25, 32, 45, 28, 35, 40, 29, 31]\n",
    "})\n",
    "\n",
    "data"
   ]
  },
  {
   "cell_type": "code",
   "execution_count": 180,
   "metadata": {},
   "outputs": [
    {
     "data": {
      "text/plain": [
       "Department\n",
       "Engineering    310000\n",
       "HR             225000\n",
       "Marketing      135000\n",
       "Name: Salary, dtype: int64"
      ]
     },
     "execution_count": 180,
     "metadata": {},
     "output_type": "execute_result"
    }
   ],
   "source": [
    "data.groupby('Department')['Salary'].sum()"
   ]
  },
  {
   "cell_type": "code",
   "execution_count": 181,
   "metadata": {},
   "outputs": [
    {
     "data": {
      "text/plain": [
       "Department   Employee\n",
       "Engineering  Bob          80000\n",
       "             Charlie     120000\n",
       "             Grace       110000\n",
       "HR           Alice        70000\n",
       "             David        65000\n",
       "             Eve          90000\n",
       "Marketing    Frank        75000\n",
       "             Heidi        60000\n",
       "Name: Salary, dtype: int64"
      ]
     },
     "execution_count": 181,
     "metadata": {},
     "output_type": "execute_result"
    }
   ],
   "source": [
    "data.groupby(['Department','Employee'])['Salary'].sum()"
   ]
  },
  {
   "cell_type": "code",
   "execution_count": 182,
   "metadata": {},
   "outputs": [
    {
     "data": {
      "text/html": [
       "<div>\n",
       "<style scoped>\n",
       "    .dataframe tbody tr th:only-of-type {\n",
       "        vertical-align: middle;\n",
       "    }\n",
       "\n",
       "    .dataframe tbody tr th {\n",
       "        vertical-align: top;\n",
       "    }\n",
       "\n",
       "    .dataframe thead th {\n",
       "        text-align: right;\n",
       "    }\n",
       "</style>\n",
       "<table border=\"1\" class=\"dataframe\">\n",
       "  <thead>\n",
       "    <tr style=\"text-align: right;\">\n",
       "      <th></th>\n",
       "      <th>Employee</th>\n",
       "      <th>Salary</th>\n",
       "    </tr>\n",
       "    <tr>\n",
       "      <th>Department</th>\n",
       "      <th></th>\n",
       "      <th></th>\n",
       "    </tr>\n",
       "  </thead>\n",
       "  <tbody>\n",
       "    <tr>\n",
       "      <th>Engineering</th>\n",
       "      <td>3</td>\n",
       "      <td>310000</td>\n",
       "    </tr>\n",
       "    <tr>\n",
       "      <th>HR</th>\n",
       "      <td>3</td>\n",
       "      <td>225000</td>\n",
       "    </tr>\n",
       "    <tr>\n",
       "      <th>Marketing</th>\n",
       "      <td>2</td>\n",
       "      <td>135000</td>\n",
       "    </tr>\n",
       "  </tbody>\n",
       "</table>\n",
       "</div>"
      ],
      "text/plain": [
       "             Employee  Salary\n",
       "Department                   \n",
       "Engineering         3  310000\n",
       "HR                  3  225000\n",
       "Marketing           2  135000"
      ]
     },
     "execution_count": 182,
     "metadata": {},
     "output_type": "execute_result"
    }
   ],
   "source": [
    "data.groupby(['Department']).agg({'Employee' : 'count', 'Salary' : 'sum'})"
   ]
  },
  {
   "cell_type": "code",
   "execution_count": 183,
   "metadata": {},
   "outputs": [
    {
     "data": {
      "text/html": [
       "<div>\n",
       "<style scoped>\n",
       "    .dataframe tbody tr th:only-of-type {\n",
       "        vertical-align: middle;\n",
       "    }\n",
       "\n",
       "    .dataframe tbody tr th {\n",
       "        vertical-align: top;\n",
       "    }\n",
       "\n",
       "    .dataframe thead th {\n",
       "        text-align: right;\n",
       "    }\n",
       "</style>\n",
       "<table border=\"1\" class=\"dataframe\">\n",
       "  <thead>\n",
       "    <tr style=\"text-align: right;\">\n",
       "      <th></th>\n",
       "      <th></th>\n",
       "      <th>Value 1</th>\n",
       "      <th>Value 2</th>\n",
       "    </tr>\n",
       "    <tr>\n",
       "      <th>Group</th>\n",
       "      <th>Subgroup</th>\n",
       "      <th></th>\n",
       "      <th></th>\n",
       "    </tr>\n",
       "  </thead>\n",
       "  <tbody>\n",
       "    <tr>\n",
       "      <th rowspan=\"2\" valign=\"top\">Group 1</th>\n",
       "      <th>A</th>\n",
       "      <td>10</td>\n",
       "      <td>100</td>\n",
       "    </tr>\n",
       "    <tr>\n",
       "      <th>B</th>\n",
       "      <td>20</td>\n",
       "      <td>200</td>\n",
       "    </tr>\n",
       "    <tr>\n",
       "      <th rowspan=\"2\" valign=\"top\">Group 2</th>\n",
       "      <th>A</th>\n",
       "      <td>30</td>\n",
       "      <td>300</td>\n",
       "    </tr>\n",
       "    <tr>\n",
       "      <th>B</th>\n",
       "      <td>40</td>\n",
       "      <td>400</td>\n",
       "    </tr>\n",
       "  </tbody>\n",
       "</table>\n",
       "</div>"
      ],
      "text/plain": [
       "                  Value 1  Value 2\n",
       "Group   Subgroup                  \n",
       "Group 1 A              10      100\n",
       "        B              20      200\n",
       "Group 2 A              30      300\n",
       "        B              40      400"
      ]
     },
     "execution_count": 183,
     "metadata": {},
     "output_type": "execute_result"
    }
   ],
   "source": [
    "#stack\n",
    "index = pd.MultiIndex.from_tuples(\n",
    "    [('Group 1', 'A'), ('Group 1', 'B'), ('Group 2', 'A'), ('Group 2', 'B')],\n",
    "    names=['Group', 'Subgroup']\n",
    ")\n",
    "\n",
    "data = {\n",
    "    'Value 1': [10, 20, 30, 40],\n",
    "    'Value 2': [100, 200, 300, 400]\n",
    "}\n",
    "\n",
    "d = pd.DataFrame(data, index=index)\n",
    "\n",
    "d"
   ]
  },
  {
   "cell_type": "code",
   "execution_count": 184,
   "metadata": {},
   "outputs": [
    {
     "data": {
      "text/plain": [
       "Group    Subgroup         \n",
       "Group 1  A         Value 1     10\n",
       "                   Value 2    100\n",
       "         B         Value 1     20\n",
       "                   Value 2    200\n",
       "Group 2  A         Value 1     30\n",
       "                   Value 2    300\n",
       "         B         Value 1     40\n",
       "                   Value 2    400\n",
       "dtype: int64"
      ]
     },
     "execution_count": 184,
     "metadata": {},
     "output_type": "execute_result"
    }
   ],
   "source": [
    "stacked = d.stack()\n",
    "stacked"
   ]
  },
  {
   "cell_type": "code",
   "execution_count": 185,
   "metadata": {},
   "outputs": [
    {
     "data": {
      "text/html": [
       "<div>\n",
       "<style scoped>\n",
       "    .dataframe tbody tr th:only-of-type {\n",
       "        vertical-align: middle;\n",
       "    }\n",
       "\n",
       "    .dataframe tbody tr th {\n",
       "        vertical-align: top;\n",
       "    }\n",
       "\n",
       "    .dataframe thead th {\n",
       "        text-align: right;\n",
       "    }\n",
       "</style>\n",
       "<table border=\"1\" class=\"dataframe\">\n",
       "  <thead>\n",
       "    <tr style=\"text-align: right;\">\n",
       "      <th></th>\n",
       "      <th></th>\n",
       "      <th>Value 1</th>\n",
       "      <th>Value 2</th>\n",
       "    </tr>\n",
       "    <tr>\n",
       "      <th>Group</th>\n",
       "      <th>Subgroup</th>\n",
       "      <th></th>\n",
       "      <th></th>\n",
       "    </tr>\n",
       "  </thead>\n",
       "  <tbody>\n",
       "    <tr>\n",
       "      <th rowspan=\"2\" valign=\"top\">Group 1</th>\n",
       "      <th>A</th>\n",
       "      <td>10</td>\n",
       "      <td>100</td>\n",
       "    </tr>\n",
       "    <tr>\n",
       "      <th>B</th>\n",
       "      <td>20</td>\n",
       "      <td>200</td>\n",
       "    </tr>\n",
       "    <tr>\n",
       "      <th rowspan=\"2\" valign=\"top\">Group 2</th>\n",
       "      <th>A</th>\n",
       "      <td>30</td>\n",
       "      <td>300</td>\n",
       "    </tr>\n",
       "    <tr>\n",
       "      <th>B</th>\n",
       "      <td>40</td>\n",
       "      <td>400</td>\n",
       "    </tr>\n",
       "  </tbody>\n",
       "</table>\n",
       "</div>"
      ],
      "text/plain": [
       "                  Value 1  Value 2\n",
       "Group   Subgroup                  \n",
       "Group 1 A              10      100\n",
       "        B              20      200\n",
       "Group 2 A              30      300\n",
       "        B              40      400"
      ]
     },
     "execution_count": 185,
     "metadata": {},
     "output_type": "execute_result"
    }
   ],
   "source": [
    "#unstack\n",
    "stacked.unstack()"
   ]
  },
  {
   "cell_type": "code",
   "execution_count": 186,
   "metadata": {},
   "outputs": [
    {
     "data": {
      "text/html": [
       "<div>\n",
       "<style scoped>\n",
       "    .dataframe tbody tr th:only-of-type {\n",
       "        vertical-align: middle;\n",
       "    }\n",
       "\n",
       "    .dataframe tbody tr th {\n",
       "        vertical-align: top;\n",
       "    }\n",
       "\n",
       "    .dataframe thead th {\n",
       "        text-align: right;\n",
       "    }\n",
       "</style>\n",
       "<table border=\"1\" class=\"dataframe\">\n",
       "  <thead>\n",
       "    <tr style=\"text-align: right;\">\n",
       "      <th></th>\n",
       "      <th>Subgroup</th>\n",
       "      <th>A</th>\n",
       "      <th>B</th>\n",
       "    </tr>\n",
       "    <tr>\n",
       "      <th>Group</th>\n",
       "      <th></th>\n",
       "      <th></th>\n",
       "      <th></th>\n",
       "    </tr>\n",
       "  </thead>\n",
       "  <tbody>\n",
       "    <tr>\n",
       "      <th rowspan=\"2\" valign=\"top\">Group 1</th>\n",
       "      <th>Value 1</th>\n",
       "      <td>10</td>\n",
       "      <td>20</td>\n",
       "    </tr>\n",
       "    <tr>\n",
       "      <th>Value 2</th>\n",
       "      <td>100</td>\n",
       "      <td>200</td>\n",
       "    </tr>\n",
       "    <tr>\n",
       "      <th rowspan=\"2\" valign=\"top\">Group 2</th>\n",
       "      <th>Value 1</th>\n",
       "      <td>30</td>\n",
       "      <td>40</td>\n",
       "    </tr>\n",
       "    <tr>\n",
       "      <th>Value 2</th>\n",
       "      <td>300</td>\n",
       "      <td>400</td>\n",
       "    </tr>\n",
       "  </tbody>\n",
       "</table>\n",
       "</div>"
      ],
      "text/plain": [
       "Subgroup           A    B\n",
       "Group                    \n",
       "Group 1 Value 1   10   20\n",
       "        Value 2  100  200\n",
       "Group 2 Value 1   30   40\n",
       "        Value 2  300  400"
      ]
     },
     "execution_count": 186,
     "metadata": {},
     "output_type": "execute_result"
    }
   ],
   "source": [
    "stacked.unstack(1)"
   ]
  },
  {
   "cell_type": "code",
   "execution_count": 187,
   "metadata": {},
   "outputs": [
    {
     "data": {
      "text/html": [
       "<div>\n",
       "<style scoped>\n",
       "    .dataframe tbody tr th:only-of-type {\n",
       "        vertical-align: middle;\n",
       "    }\n",
       "\n",
       "    .dataframe tbody tr th {\n",
       "        vertical-align: top;\n",
       "    }\n",
       "\n",
       "    .dataframe thead th {\n",
       "        text-align: right;\n",
       "    }\n",
       "</style>\n",
       "<table border=\"1\" class=\"dataframe\">\n",
       "  <thead>\n",
       "    <tr style=\"text-align: right;\">\n",
       "      <th></th>\n",
       "      <th>Group</th>\n",
       "      <th>Group 1</th>\n",
       "      <th>Group 2</th>\n",
       "    </tr>\n",
       "    <tr>\n",
       "      <th>Subgroup</th>\n",
       "      <th></th>\n",
       "      <th></th>\n",
       "      <th></th>\n",
       "    </tr>\n",
       "  </thead>\n",
       "  <tbody>\n",
       "    <tr>\n",
       "      <th rowspan=\"2\" valign=\"top\">A</th>\n",
       "      <th>Value 1</th>\n",
       "      <td>10</td>\n",
       "      <td>30</td>\n",
       "    </tr>\n",
       "    <tr>\n",
       "      <th>Value 2</th>\n",
       "      <td>100</td>\n",
       "      <td>300</td>\n",
       "    </tr>\n",
       "    <tr>\n",
       "      <th rowspan=\"2\" valign=\"top\">B</th>\n",
       "      <th>Value 1</th>\n",
       "      <td>20</td>\n",
       "      <td>40</td>\n",
       "    </tr>\n",
       "    <tr>\n",
       "      <th>Value 2</th>\n",
       "      <td>200</td>\n",
       "      <td>400</td>\n",
       "    </tr>\n",
       "  </tbody>\n",
       "</table>\n",
       "</div>"
      ],
      "text/plain": [
       "Group             Group 1  Group 2\n",
       "Subgroup                          \n",
       "A        Value 1       10       30\n",
       "         Value 2      100      300\n",
       "B        Value 1       20       40\n",
       "         Value 2      200      400"
      ]
     },
     "execution_count": 187,
     "metadata": {},
     "output_type": "execute_result"
    }
   ],
   "source": [
    "stacked.unstack(0)"
   ]
  },
  {
   "cell_type": "code",
   "execution_count": 188,
   "metadata": {},
   "outputs": [
    {
     "data": {
      "text/html": [
       "<div>\n",
       "<style scoped>\n",
       "    .dataframe tbody tr th:only-of-type {\n",
       "        vertical-align: middle;\n",
       "    }\n",
       "\n",
       "    .dataframe tbody tr th {\n",
       "        vertical-align: top;\n",
       "    }\n",
       "\n",
       "    .dataframe thead th {\n",
       "        text-align: right;\n",
       "    }\n",
       "</style>\n",
       "<table border=\"1\" class=\"dataframe\">\n",
       "  <thead>\n",
       "    <tr style=\"text-align: right;\">\n",
       "      <th></th>\n",
       "      <th>Date</th>\n",
       "      <th>Store</th>\n",
       "      <th>Item</th>\n",
       "      <th>Sales</th>\n",
       "    </tr>\n",
       "  </thead>\n",
       "  <tbody>\n",
       "    <tr>\n",
       "      <th>0</th>\n",
       "      <td>2024-01-01</td>\n",
       "      <td>Store A</td>\n",
       "      <td>Item 1</td>\n",
       "      <td>150</td>\n",
       "    </tr>\n",
       "    <tr>\n",
       "      <th>1</th>\n",
       "      <td>2024-01-01</td>\n",
       "      <td>Store B</td>\n",
       "      <td>Item 2</td>\n",
       "      <td>200</td>\n",
       "    </tr>\n",
       "    <tr>\n",
       "      <th>2</th>\n",
       "      <td>2024-01-02</td>\n",
       "      <td>Store A</td>\n",
       "      <td>Item 1</td>\n",
       "      <td>130</td>\n",
       "    </tr>\n",
       "    <tr>\n",
       "      <th>3</th>\n",
       "      <td>2024-01-02</td>\n",
       "      <td>Store B</td>\n",
       "      <td>Item 2</td>\n",
       "      <td>210</td>\n",
       "    </tr>\n",
       "    <tr>\n",
       "      <th>4</th>\n",
       "      <td>2024-01-03</td>\n",
       "      <td>Store A</td>\n",
       "      <td>Item 1</td>\n",
       "      <td>170</td>\n",
       "    </tr>\n",
       "    <tr>\n",
       "      <th>5</th>\n",
       "      <td>2024-01-03</td>\n",
       "      <td>Store B</td>\n",
       "      <td>Item 2</td>\n",
       "      <td>220</td>\n",
       "    </tr>\n",
       "  </tbody>\n",
       "</table>\n",
       "</div>"
      ],
      "text/plain": [
       "         Date    Store    Item  Sales\n",
       "0  2024-01-01  Store A  Item 1    150\n",
       "1  2024-01-01  Store B  Item 2    200\n",
       "2  2024-01-02  Store A  Item 1    130\n",
       "3  2024-01-02  Store B  Item 2    210\n",
       "4  2024-01-03  Store A  Item 1    170\n",
       "5  2024-01-03  Store B  Item 2    220"
      ]
     },
     "execution_count": 188,
     "metadata": {},
     "output_type": "execute_result"
    }
   ],
   "source": [
    "#pivot\n",
    "\n",
    "data = pd.DataFrame({\n",
    "    'Date': ['2024-01-01', '2024-01-01', '2024-01-02', '2024-01-02', '2024-01-03', '2024-01-03'],\n",
    "    'Store': ['Store A', 'Store B', 'Store A', 'Store B', 'Store A', 'Store B'],\n",
    "    'Item': ['Item 1', 'Item 2', 'Item 1', 'Item 2', 'Item 1', 'Item 2'],\n",
    "    'Sales': [150, 200, 130, 210, 170, 220]\n",
    "})\n",
    "\n",
    "data"
   ]
  },
  {
   "cell_type": "code",
   "execution_count": 189,
   "metadata": {},
   "outputs": [
    {
     "data": {
      "text/html": [
       "<div>\n",
       "<style scoped>\n",
       "    .dataframe tbody tr th:only-of-type {\n",
       "        vertical-align: middle;\n",
       "    }\n",
       "\n",
       "    .dataframe tbody tr th {\n",
       "        vertical-align: top;\n",
       "    }\n",
       "\n",
       "    .dataframe thead th {\n",
       "        text-align: right;\n",
       "    }\n",
       "</style>\n",
       "<table border=\"1\" class=\"dataframe\">\n",
       "  <thead>\n",
       "    <tr style=\"text-align: right;\">\n",
       "      <th>Store</th>\n",
       "      <th>Store A</th>\n",
       "      <th>Store B</th>\n",
       "    </tr>\n",
       "    <tr>\n",
       "      <th>Date</th>\n",
       "      <th></th>\n",
       "      <th></th>\n",
       "    </tr>\n",
       "  </thead>\n",
       "  <tbody>\n",
       "    <tr>\n",
       "      <th>2024-01-01</th>\n",
       "      <td>150</td>\n",
       "      <td>200</td>\n",
       "    </tr>\n",
       "    <tr>\n",
       "      <th>2024-01-02</th>\n",
       "      <td>130</td>\n",
       "      <td>210</td>\n",
       "    </tr>\n",
       "    <tr>\n",
       "      <th>2024-01-03</th>\n",
       "      <td>170</td>\n",
       "      <td>220</td>\n",
       "    </tr>\n",
       "  </tbody>\n",
       "</table>\n",
       "</div>"
      ],
      "text/plain": [
       "Store       Store A  Store B\n",
       "Date                        \n",
       "2024-01-01      150      200\n",
       "2024-01-02      130      210\n",
       "2024-01-03      170      220"
      ]
     },
     "execution_count": 189,
     "metadata": {},
     "output_type": "execute_result"
    }
   ],
   "source": [
    "data.pivot(index = 'Date', columns = 'Store', values = 'Sales')\n"
   ]
  },
  {
   "cell_type": "code",
   "execution_count": 190,
   "metadata": {},
   "outputs": [
    {
     "data": {
      "text/html": [
       "<div>\n",
       "<style scoped>\n",
       "    .dataframe tbody tr th:only-of-type {\n",
       "        vertical-align: middle;\n",
       "    }\n",
       "\n",
       "    .dataframe tbody tr th {\n",
       "        vertical-align: top;\n",
       "    }\n",
       "\n",
       "    .dataframe thead th {\n",
       "        text-align: right;\n",
       "    }\n",
       "</style>\n",
       "<table border=\"1\" class=\"dataframe\">\n",
       "  <thead>\n",
       "    <tr style=\"text-align: right;\">\n",
       "      <th></th>\n",
       "      <th>Product</th>\n",
       "      <th>January</th>\n",
       "      <th>February</th>\n",
       "      <th>March</th>\n",
       "    </tr>\n",
       "  </thead>\n",
       "  <tbody>\n",
       "    <tr>\n",
       "      <th>0</th>\n",
       "      <td>A</td>\n",
       "      <td>150</td>\n",
       "      <td>180</td>\n",
       "      <td>170</td>\n",
       "    </tr>\n",
       "    <tr>\n",
       "      <th>1</th>\n",
       "      <td>B</td>\n",
       "      <td>200</td>\n",
       "      <td>210</td>\n",
       "      <td>220</td>\n",
       "    </tr>\n",
       "    <tr>\n",
       "      <th>2</th>\n",
       "      <td>C</td>\n",
       "      <td>300</td>\n",
       "      <td>310</td>\n",
       "      <td>320</td>\n",
       "    </tr>\n",
       "  </tbody>\n",
       "</table>\n",
       "</div>"
      ],
      "text/plain": [
       "  Product  January  February  March\n",
       "0       A      150       180    170\n",
       "1       B      200       210    220\n",
       "2       C      300       310    320"
      ]
     },
     "execution_count": 190,
     "metadata": {},
     "output_type": "execute_result"
    }
   ],
   "source": [
    "#melt (unpivot)\n",
    "data = pd.DataFrame({\n",
    "    'Product': ['A', 'B', 'C'],\n",
    "    'January': [150, 200, 300],\n",
    "    'February': [180, 210, 310],\n",
    "    'March': [170, 220, 320]\n",
    "})\n",
    "data"
   ]
  },
  {
   "cell_type": "code",
   "execution_count": 191,
   "metadata": {},
   "outputs": [
    {
     "data": {
      "text/html": [
       "<div>\n",
       "<style scoped>\n",
       "    .dataframe tbody tr th:only-of-type {\n",
       "        vertical-align: middle;\n",
       "    }\n",
       "\n",
       "    .dataframe tbody tr th {\n",
       "        vertical-align: top;\n",
       "    }\n",
       "\n",
       "    .dataframe thead th {\n",
       "        text-align: right;\n",
       "    }\n",
       "</style>\n",
       "<table border=\"1\" class=\"dataframe\">\n",
       "  <thead>\n",
       "    <tr style=\"text-align: right;\">\n",
       "      <th></th>\n",
       "      <th>Product</th>\n",
       "      <th>Month</th>\n",
       "      <th>Sales</th>\n",
       "    </tr>\n",
       "  </thead>\n",
       "  <tbody>\n",
       "    <tr>\n",
       "      <th>0</th>\n",
       "      <td>A</td>\n",
       "      <td>January</td>\n",
       "      <td>150</td>\n",
       "    </tr>\n",
       "    <tr>\n",
       "      <th>1</th>\n",
       "      <td>B</td>\n",
       "      <td>January</td>\n",
       "      <td>200</td>\n",
       "    </tr>\n",
       "    <tr>\n",
       "      <th>2</th>\n",
       "      <td>C</td>\n",
       "      <td>January</td>\n",
       "      <td>300</td>\n",
       "    </tr>\n",
       "    <tr>\n",
       "      <th>3</th>\n",
       "      <td>A</td>\n",
       "      <td>February</td>\n",
       "      <td>180</td>\n",
       "    </tr>\n",
       "    <tr>\n",
       "      <th>4</th>\n",
       "      <td>B</td>\n",
       "      <td>February</td>\n",
       "      <td>210</td>\n",
       "    </tr>\n",
       "    <tr>\n",
       "      <th>5</th>\n",
       "      <td>C</td>\n",
       "      <td>February</td>\n",
       "      <td>310</td>\n",
       "    </tr>\n",
       "    <tr>\n",
       "      <th>6</th>\n",
       "      <td>A</td>\n",
       "      <td>March</td>\n",
       "      <td>170</td>\n",
       "    </tr>\n",
       "    <tr>\n",
       "      <th>7</th>\n",
       "      <td>B</td>\n",
       "      <td>March</td>\n",
       "      <td>220</td>\n",
       "    </tr>\n",
       "    <tr>\n",
       "      <th>8</th>\n",
       "      <td>C</td>\n",
       "      <td>March</td>\n",
       "      <td>320</td>\n",
       "    </tr>\n",
       "  </tbody>\n",
       "</table>\n",
       "</div>"
      ],
      "text/plain": [
       "  Product     Month  Sales\n",
       "0       A   January    150\n",
       "1       B   January    200\n",
       "2       C   January    300\n",
       "3       A  February    180\n",
       "4       B  February    210\n",
       "5       C  February    310\n",
       "6       A     March    170\n",
       "7       B     March    220\n",
       "8       C     March    320"
      ]
     },
     "execution_count": 191,
     "metadata": {},
     "output_type": "execute_result"
    }
   ],
   "source": [
    "data.melt(id_vars = 'Product', var_name = 'Month', value_name = 'Sales')"
   ]
  },
  {
   "cell_type": "code",
   "execution_count": 192,
   "metadata": {},
   "outputs": [],
   "source": [
    "#time series\n",
    "\n",
    "rng = pd.date_range('1/1/2024', periods = 5, freq = 's') #it will add one day upto 5 count and freq denotes time/method"
   ]
  },
  {
   "cell_type": "code",
   "execution_count": 193,
   "metadata": {},
   "outputs": [
    {
     "data": {
      "text/plain": [
       "DatetimeIndex(['2024-01-01', '2024-01-02', '2024-01-03', '2024-01-04',\n",
       "               '2024-01-05'],\n",
       "              dtype='datetime64[ns]', freq='D')"
      ]
     },
     "execution_count": 193,
     "metadata": {},
     "output_type": "execute_result"
    }
   ],
   "source": [
    "rng = pd.date_range('1/1/2024', periods = 5, freq = 'D')\n",
    "rng"
   ]
  },
  {
   "cell_type": "code",
   "execution_count": 194,
   "metadata": {},
   "outputs": [
    {
     "data": {
      "text/plain": [
       "DatetimeIndex(['2012-01-01 00:00:00', '2012-01-01 00:05:00',\n",
       "               '2012-01-01 00:10:00', '2012-01-01 00:15:00',\n",
       "               '2012-01-01 00:20:00', '2012-01-01 00:25:00',\n",
       "               '2012-01-01 00:30:00', '2012-01-01 00:35:00',\n",
       "               '2012-01-01 00:40:00', '2012-01-01 00:45:00'],\n",
       "              dtype='datetime64[ns]', freq='5min')"
      ]
     },
     "execution_count": 194,
     "metadata": {},
     "output_type": "execute_result"
    }
   ],
   "source": [
    "rng = pd.date_range(\"1/1/2012\", periods=10, freq=\"5min\")\n",
    "rng"
   ]
  },
  {
   "cell_type": "code",
   "execution_count": 195,
   "metadata": {},
   "outputs": [
    {
     "data": {
      "text/plain": [
       "2012-01-01 00:00:00      4\n",
       "2012-01-01 00:05:00     68\n",
       "2012-01-01 00:10:00    397\n",
       "2012-01-01 00:15:00    378\n",
       "2012-01-01 00:20:00     89\n",
       "2012-01-01 00:25:00    265\n",
       "2012-01-01 00:30:00    330\n",
       "2012-01-01 00:35:00    388\n",
       "2012-01-01 00:40:00    365\n",
       "2012-01-01 00:45:00    126\n",
       "Freq: 5min, dtype: int32"
      ]
     },
     "execution_count": 195,
     "metadata": {},
     "output_type": "execute_result"
    }
   ],
   "source": [
    "ts = pd.Series(np.random.randint(0, 500, len(rng)), index=rng) \n",
    "ts"
   ]
  },
  {
   "cell_type": "code",
   "execution_count": 196,
   "metadata": {},
   "outputs": [
    {
     "data": {
      "text/plain": [
       "2012-01-01 00:00:00     847\n",
       "2012-01-01 00:20:00    1072\n",
       "2012-01-01 00:40:00     491\n",
       "Freq: 20min, dtype: int32"
      ]
     },
     "execution_count": 196,
     "metadata": {},
     "output_type": "execute_result"
    }
   ],
   "source": [
    "ts.resample('20min').sum() #it calculates the sum for every 10 min"
   ]
  },
  {
   "cell_type": "code",
   "execution_count": 197,
   "metadata": {},
   "outputs": [
    {
     "data": {
      "text/plain": [
       "2012-01-01 00:00:00+00:00      4\n",
       "2012-01-01 00:05:00+00:00     68\n",
       "2012-01-01 00:10:00+00:00    397\n",
       "2012-01-01 00:15:00+00:00    378\n",
       "2012-01-01 00:20:00+00:00     89\n",
       "2012-01-01 00:25:00+00:00    265\n",
       "2012-01-01 00:30:00+00:00    330\n",
       "2012-01-01 00:35:00+00:00    388\n",
       "2012-01-01 00:40:00+00:00    365\n",
       "2012-01-01 00:45:00+00:00    126\n",
       "Freq: 5min, dtype: int32"
      ]
     },
     "execution_count": 197,
     "metadata": {},
     "output_type": "execute_result"
    }
   ],
   "source": [
    "ts_utc = ts.tz_localize('utc')\n",
    "ts_utc"
   ]
  },
  {
   "cell_type": "code",
   "execution_count": 198,
   "metadata": {},
   "outputs": [
    {
     "data": {
      "text/plain": [
       "2011-12-31 19:00:00-05:00      4\n",
       "2011-12-31 19:05:00-05:00     68\n",
       "2011-12-31 19:10:00-05:00    397\n",
       "2011-12-31 19:15:00-05:00    378\n",
       "2011-12-31 19:20:00-05:00     89\n",
       "2011-12-31 19:25:00-05:00    265\n",
       "2011-12-31 19:30:00-05:00    330\n",
       "2011-12-31 19:35:00-05:00    388\n",
       "2011-12-31 19:40:00-05:00    365\n",
       "2011-12-31 19:45:00-05:00    126\n",
       "Freq: 5min, dtype: int32"
      ]
     },
     "execution_count": 198,
     "metadata": {},
     "output_type": "execute_result"
    }
   ],
   "source": [
    "ts_utc.tz_convert('US/Eastern')"
   ]
  },
  {
   "cell_type": "code",
   "execution_count": 199,
   "metadata": {},
   "outputs": [
    {
     "data": {
      "text/plain": [
       "DatetimeIndex(['2024-01-01', '2024-01-02', '2024-01-03', '2024-01-04',\n",
       "               '2024-01-05'],\n",
       "              dtype='datetime64[ns]', freq='D')"
      ]
     },
     "execution_count": 199,
     "metadata": {},
     "output_type": "execute_result"
    }
   ],
   "source": [
    "rng = pd.date_range('1/1/2024', periods = 5, freq = 'D')\n",
    "rng"
   ]
  },
  {
   "cell_type": "code",
   "execution_count": 200,
   "metadata": {},
   "outputs": [
    {
     "data": {
      "text/plain": [
       "DatetimeIndex(['2024-01-08', '2024-01-09', '2024-01-10', '2024-01-11',\n",
       "               '2024-01-12'],\n",
       "              dtype='datetime64[ns]', freq=None)"
      ]
     },
     "execution_count": 200,
     "metadata": {},
     "output_type": "execute_result"
    }
   ],
   "source": [
    "rng + pd.offsets.BusinessDay(5) #it will add 5 days and neglect the week ends and give output"
   ]
  },
  {
   "cell_type": "code",
   "execution_count": 201,
   "metadata": {},
   "outputs": [
    {
     "data": {
      "text/html": [
       "<div>\n",
       "<style scoped>\n",
       "    .dataframe tbody tr th:only-of-type {\n",
       "        vertical-align: middle;\n",
       "    }\n",
       "\n",
       "    .dataframe tbody tr th {\n",
       "        vertical-align: top;\n",
       "    }\n",
       "\n",
       "    .dataframe thead th {\n",
       "        text-align: right;\n",
       "    }\n",
       "</style>\n",
       "<table border=\"1\" class=\"dataframe\">\n",
       "  <thead>\n",
       "    <tr style=\"text-align: right;\">\n",
       "      <th></th>\n",
       "      <th>id</th>\n",
       "      <th>grade</th>\n",
       "    </tr>\n",
       "  </thead>\n",
       "  <tbody>\n",
       "    <tr>\n",
       "      <th>0</th>\n",
       "      <td>1</td>\n",
       "      <td>a</td>\n",
       "    </tr>\n",
       "    <tr>\n",
       "      <th>1</th>\n",
       "      <td>2</td>\n",
       "      <td>a</td>\n",
       "    </tr>\n",
       "    <tr>\n",
       "      <th>2</th>\n",
       "      <td>3</td>\n",
       "      <td>c</td>\n",
       "    </tr>\n",
       "    <tr>\n",
       "      <th>3</th>\n",
       "      <td>4</td>\n",
       "      <td>d</td>\n",
       "    </tr>\n",
       "  </tbody>\n",
       "</table>\n",
       "</div>"
      ],
      "text/plain": [
       "   id grade\n",
       "0   1     a\n",
       "1   2     a\n",
       "2   3     c\n",
       "3   4     d"
      ]
     },
     "execution_count": 201,
     "metadata": {},
     "output_type": "execute_result"
    }
   ],
   "source": [
    "#categoricals\n",
    "\n",
    "df = pd.DataFrame({'id' : [1,2,3,4],\n",
    "                   'grade' : ['a', 'a', 'c', 'd']\n",
    "                   })\n",
    "\n",
    "df"
   ]
  },
  {
   "cell_type": "code",
   "execution_count": 202,
   "metadata": {},
   "outputs": [
    {
     "data": {
      "text/plain": [
       "0    a\n",
       "1    a\n",
       "2    c\n",
       "3    d\n",
       "Name: grade, dtype: object"
      ]
     },
     "execution_count": 202,
     "metadata": {},
     "output_type": "execute_result"
    }
   ],
   "source": [
    "df['grade']"
   ]
  },
  {
   "cell_type": "code",
   "execution_count": 203,
   "metadata": {},
   "outputs": [
    {
     "data": {
      "text/plain": [
       "0    a\n",
       "1    a\n",
       "2    c\n",
       "3    d\n",
       "Name: new_grade, dtype: category\n",
       "Categories (3, object): ['a', 'c', 'd']"
      ]
     },
     "execution_count": 203,
     "metadata": {},
     "output_type": "execute_result"
    }
   ],
   "source": [
    "df['new_grade'] = df['grade'].astype('category')\n",
    "df['new_grade']"
   ]
  },
  {
   "cell_type": "code",
   "execution_count": 204,
   "metadata": {},
   "outputs": [
    {
     "data": {
      "text/plain": [
       "0     excellent\n",
       "1     excellent\n",
       "2          good\n",
       "3    learn more\n",
       "Name: new_grade, dtype: category\n",
       "Categories (3, object): ['excellent', 'good', 'learn more']"
      ]
     },
     "execution_count": 204,
     "metadata": {},
     "output_type": "execute_result"
    }
   ],
   "source": [
    "new = ['excellent', 'good', 'learn more']\n",
    "df['new_grade'] = df['new_grade'].cat.rename_categories(new)\n",
    "df['new_grade']"
   ]
  },
  {
   "cell_type": "code",
   "execution_count": 205,
   "metadata": {},
   "outputs": [
    {
     "data": {
      "text/plain": [
       "0     excellent\n",
       "1     excellent\n",
       "2          good\n",
       "3    learn more\n",
       "Name: new_grade, dtype: category\n",
       "Categories (3, object): ['excellent', 'good', 'learn more']"
      ]
     },
     "execution_count": 205,
     "metadata": {},
     "output_type": "execute_result"
    }
   ],
   "source": [
    "df['new_grade'] = df['new_grade'].cat.rename_categories(['excellent', 'good', 'learn more'])\n",
    "df['new_grade']"
   ]
  },
  {
   "cell_type": "code",
   "execution_count": 206,
   "metadata": {},
   "outputs": [
    {
     "data": {
      "text/plain": [
       "new_grade\n",
       "excellent     2\n",
       "good          1\n",
       "learn more    1\n",
       "dtype: int64"
      ]
     },
     "execution_count": 206,
     "metadata": {},
     "output_type": "execute_result"
    }
   ],
   "source": [
    "df.groupby(df['new_grade'], observed= False).size()"
   ]
  },
  {
   "cell_type": "code",
   "execution_count": 207,
   "metadata": {},
   "outputs": [
    {
     "data": {
      "text/plain": [
       "0    0\n",
       "1    1\n",
       "2    2\n",
       "3    3\n",
       "4    4\n",
       "dtype: int64"
      ]
     },
     "execution_count": 207,
     "metadata": {},
     "output_type": "execute_result"
    }
   ],
   "source": [
    "#windowing operations\n",
    "\n",
    "a = pd.Series(range(5))\n",
    "a"
   ]
  },
  {
   "cell_type": "code",
   "execution_count": 208,
   "metadata": {},
   "outputs": [
    {
     "data": {
      "text/plain": [
       "0    NaN\n",
       "1    1.0\n",
       "2    3.0\n",
       "3    5.0\n",
       "4    7.0\n",
       "dtype: float64"
      ]
     },
     "execution_count": 208,
     "metadata": {},
     "output_type": "execute_result"
    }
   ],
   "source": [
    "a.rolling(window = 2).sum()"
   ]
  },
  {
   "cell_type": "code",
   "execution_count": 209,
   "metadata": {},
   "outputs": [
    {
     "name": "stdout",
     "output_type": "stream",
     "text": [
      "0    0\n",
      "dtype: int64\n",
      "0    0\n",
      "1    1\n",
      "dtype: int64\n",
      "1    1\n",
      "2    2\n",
      "dtype: int64\n",
      "2    2\n",
      "3    3\n",
      "dtype: int64\n",
      "3    3\n",
      "4    4\n",
      "dtype: int64\n"
     ]
    }
   ],
   "source": [
    "for window in a.rolling(window = 2): #this is how window runs\n",
    "  print(window)"
   ]
  },
  {
   "cell_type": "code",
   "execution_count": 220,
   "metadata": {},
   "outputs": [
    {
     "data": {
      "text/plain": [
       "2022-01-01    0\n",
       "2022-01-02    1\n",
       "2022-01-03    2\n",
       "2022-01-04    3\n",
       "2022-01-05    4\n",
       "2022-01-06    5\n",
       "2022-01-07    6\n",
       "Freq: D, dtype: int64"
      ]
     },
     "execution_count": 220,
     "metadata": {},
     "output_type": "execute_result"
    }
   ],
   "source": [
    "s = pd.Series(range (7), index = pd.date_range('01/01/2022', periods = 7, freq = 'D'))  \n",
    "s"
   ]
  },
  {
   "cell_type": "code",
   "execution_count": 242,
   "metadata": {},
   "outputs": [
    {
     "data": {
      "text/plain": [
       "2022-01-01     NaN\n",
       "2022-01-02     1.0\n",
       "2022-01-03     3.0\n",
       "2022-01-04     5.0\n",
       "2022-01-05     7.0\n",
       "2022-01-06     9.0\n",
       "2022-01-07    11.0\n",
       "Freq: D, dtype: float64"
      ]
     },
     "execution_count": 242,
     "metadata": {},
     "output_type": "execute_result"
    }
   ],
   "source": [
    "s.rolling(2).sum() #running total"
   ]
  },
  {
   "cell_type": "code",
   "execution_count": 235,
   "metadata": {},
   "outputs": [
    {
     "data": {
      "text/html": [
       "<div>\n",
       "<style scoped>\n",
       "    .dataframe tbody tr th:only-of-type {\n",
       "        vertical-align: middle;\n",
       "    }\n",
       "\n",
       "    .dataframe tbody tr th {\n",
       "        vertical-align: top;\n",
       "    }\n",
       "\n",
       "    .dataframe thead th {\n",
       "        text-align: right;\n",
       "    }\n",
       "</style>\n",
       "<table border=\"1\" class=\"dataframe\">\n",
       "  <thead>\n",
       "    <tr style=\"text-align: right;\">\n",
       "      <th></th>\n",
       "      <th>a</th>\n",
       "      <th>b</th>\n",
       "    </tr>\n",
       "  </thead>\n",
       "  <tbody>\n",
       "    <tr>\n",
       "      <th>0</th>\n",
       "      <td>a</td>\n",
       "      <td>0</td>\n",
       "    </tr>\n",
       "    <tr>\n",
       "      <th>1</th>\n",
       "      <td>b</td>\n",
       "      <td>1</td>\n",
       "    </tr>\n",
       "    <tr>\n",
       "      <th>2</th>\n",
       "      <td>a</td>\n",
       "      <td>2</td>\n",
       "    </tr>\n",
       "    <tr>\n",
       "      <th>3</th>\n",
       "      <td>b</td>\n",
       "      <td>3</td>\n",
       "    </tr>\n",
       "    <tr>\n",
       "      <th>4</th>\n",
       "      <td>b</td>\n",
       "      <td>4</td>\n",
       "    </tr>\n",
       "    <tr>\n",
       "      <th>5</th>\n",
       "      <td>a</td>\n",
       "      <td>5</td>\n",
       "    </tr>\n",
       "  </tbody>\n",
       "</table>\n",
       "</div>"
      ],
      "text/plain": [
       "   a  b\n",
       "0  a  0\n",
       "1  b  1\n",
       "2  a  2\n",
       "3  b  3\n",
       "4  b  4\n",
       "5  a  5"
      ]
     },
     "execution_count": 235,
     "metadata": {},
     "output_type": "execute_result"
    }
   ],
   "source": [
    "a = pd.DataFrame({'a' : ['a','b','a','b','b', 'a'], 'b': range(6)})\n",
    "a"
   ]
  },
  {
   "cell_type": "code",
   "execution_count": 236,
   "metadata": {},
   "outputs": [
    {
     "data": {
      "text/html": [
       "<div>\n",
       "<style scoped>\n",
       "    .dataframe tbody tr th:only-of-type {\n",
       "        vertical-align: middle;\n",
       "    }\n",
       "\n",
       "    .dataframe tbody tr th {\n",
       "        vertical-align: top;\n",
       "    }\n",
       "\n",
       "    .dataframe thead th {\n",
       "        text-align: right;\n",
       "    }\n",
       "</style>\n",
       "<table border=\"1\" class=\"dataframe\">\n",
       "  <thead>\n",
       "    <tr style=\"text-align: right;\">\n",
       "      <th></th>\n",
       "      <th></th>\n",
       "      <th>b</th>\n",
       "    </tr>\n",
       "    <tr>\n",
       "      <th>a</th>\n",
       "      <th></th>\n",
       "      <th></th>\n",
       "    </tr>\n",
       "  </thead>\n",
       "  <tbody>\n",
       "    <tr>\n",
       "      <th rowspan=\"3\" valign=\"top\">a</th>\n",
       "      <th>0</th>\n",
       "      <td>0.0</td>\n",
       "    </tr>\n",
       "    <tr>\n",
       "      <th>2</th>\n",
       "      <td>2.0</td>\n",
       "    </tr>\n",
       "    <tr>\n",
       "      <th>5</th>\n",
       "      <td>7.0</td>\n",
       "    </tr>\n",
       "    <tr>\n",
       "      <th rowspan=\"3\" valign=\"top\">b</th>\n",
       "      <th>1</th>\n",
       "      <td>1.0</td>\n",
       "    </tr>\n",
       "    <tr>\n",
       "      <th>3</th>\n",
       "      <td>4.0</td>\n",
       "    </tr>\n",
       "    <tr>\n",
       "      <th>4</th>\n",
       "      <td>8.0</td>\n",
       "    </tr>\n",
       "  </tbody>\n",
       "</table>\n",
       "</div>"
      ],
      "text/plain": [
       "       b\n",
       "a       \n",
       "a 0  0.0\n",
       "  2  2.0\n",
       "  5  7.0\n",
       "b 1  1.0\n",
       "  3  4.0\n",
       "  4  8.0"
      ]
     },
     "execution_count": 236,
     "metadata": {},
     "output_type": "execute_result"
    }
   ],
   "source": [
    "a.groupby('a').expanding().sum() #expanding --> cumulative sum"
   ]
  },
  {
   "cell_type": "code",
   "execution_count": 1,
   "metadata": {},
   "outputs": [
    {
     "name": "stdout",
     "output_type": "stream",
     "text": [
      "  key1 key2  value1 key3 key4  value2 key5 key6  value3 key7 key8  value4\n",
      "0    D    W       4    D    W       6    D    W      10    D    W      13\n"
     ]
    }
   ],
   "source": [
    "import pandas as pd\n",
    "\n",
    "# Four DataFrames\n",
    "df1 = pd.DataFrame({'key1': ['A', 'B', 'C', 'D'], 'key2': ['X', 'Y', 'Z', 'W'], 'value1': [1, 2, 3, 4]})\n",
    "df2 = pd.DataFrame({'key3': ['B', 'D', 'E', 'F'], 'key4': ['Y', 'W', 'X', 'Z'], 'value2': [5, 6, 7, 8]})\n",
    "df3 = pd.DataFrame({'key5': ['C', 'D', 'E', 'G'], 'key6': ['Z', 'W', 'X', 'Y'], 'value3': [9, 10, 11, 12]})\n",
    "df4 = pd.DataFrame({'key7': ['D', 'E', 'F', 'H'], 'key8': ['W', 'X', 'Z', 'Y'], 'value4': [13, 14, 15, 16]})\n"
   ]
  },
  {
   "cell_type": "code",
   "execution_count": 3,
   "metadata": {},
   "outputs": [
    {
     "data": {
      "text/html": [
       "<div>\n",
       "<style scoped>\n",
       "    .dataframe tbody tr th:only-of-type {\n",
       "        vertical-align: middle;\n",
       "    }\n",
       "\n",
       "    .dataframe tbody tr th {\n",
       "        vertical-align: top;\n",
       "    }\n",
       "\n",
       "    .dataframe thead th {\n",
       "        text-align: right;\n",
       "    }\n",
       "</style>\n",
       "<table border=\"1\" class=\"dataframe\">\n",
       "  <thead>\n",
       "    <tr style=\"text-align: right;\">\n",
       "      <th></th>\n",
       "      <th>key1</th>\n",
       "      <th>key2</th>\n",
       "      <th>value1</th>\n",
       "    </tr>\n",
       "  </thead>\n",
       "  <tbody>\n",
       "    <tr>\n",
       "      <th>0</th>\n",
       "      <td>A</td>\n",
       "      <td>X</td>\n",
       "      <td>1</td>\n",
       "    </tr>\n",
       "    <tr>\n",
       "      <th>1</th>\n",
       "      <td>B</td>\n",
       "      <td>Y</td>\n",
       "      <td>2</td>\n",
       "    </tr>\n",
       "    <tr>\n",
       "      <th>2</th>\n",
       "      <td>C</td>\n",
       "      <td>Z</td>\n",
       "      <td>3</td>\n",
       "    </tr>\n",
       "    <tr>\n",
       "      <th>3</th>\n",
       "      <td>D</td>\n",
       "      <td>W</td>\n",
       "      <td>4</td>\n",
       "    </tr>\n",
       "  </tbody>\n",
       "</table>\n",
       "</div>"
      ],
      "text/plain": [
       "  key1 key2  value1\n",
       "0    A    X       1\n",
       "1    B    Y       2\n",
       "2    C    Z       3\n",
       "3    D    W       4"
      ]
     },
     "execution_count": 3,
     "metadata": {},
     "output_type": "execute_result"
    }
   ],
   "source": [
    "df1"
   ]
  },
  {
   "cell_type": "code",
   "execution_count": 4,
   "metadata": {},
   "outputs": [
    {
     "data": {
      "text/html": [
       "<div>\n",
       "<style scoped>\n",
       "    .dataframe tbody tr th:only-of-type {\n",
       "        vertical-align: middle;\n",
       "    }\n",
       "\n",
       "    .dataframe tbody tr th {\n",
       "        vertical-align: top;\n",
       "    }\n",
       "\n",
       "    .dataframe thead th {\n",
       "        text-align: right;\n",
       "    }\n",
       "</style>\n",
       "<table border=\"1\" class=\"dataframe\">\n",
       "  <thead>\n",
       "    <tr style=\"text-align: right;\">\n",
       "      <th></th>\n",
       "      <th>key3</th>\n",
       "      <th>key4</th>\n",
       "      <th>value2</th>\n",
       "    </tr>\n",
       "  </thead>\n",
       "  <tbody>\n",
       "    <tr>\n",
       "      <th>0</th>\n",
       "      <td>B</td>\n",
       "      <td>Y</td>\n",
       "      <td>5</td>\n",
       "    </tr>\n",
       "    <tr>\n",
       "      <th>1</th>\n",
       "      <td>D</td>\n",
       "      <td>W</td>\n",
       "      <td>6</td>\n",
       "    </tr>\n",
       "    <tr>\n",
       "      <th>2</th>\n",
       "      <td>E</td>\n",
       "      <td>X</td>\n",
       "      <td>7</td>\n",
       "    </tr>\n",
       "    <tr>\n",
       "      <th>3</th>\n",
       "      <td>F</td>\n",
       "      <td>Z</td>\n",
       "      <td>8</td>\n",
       "    </tr>\n",
       "  </tbody>\n",
       "</table>\n",
       "</div>"
      ],
      "text/plain": [
       "  key3 key4  value2\n",
       "0    B    Y       5\n",
       "1    D    W       6\n",
       "2    E    X       7\n",
       "3    F    Z       8"
      ]
     },
     "execution_count": 4,
     "metadata": {},
     "output_type": "execute_result"
    }
   ],
   "source": [
    "df2"
   ]
  },
  {
   "cell_type": "code",
   "execution_count": 5,
   "metadata": {},
   "outputs": [
    {
     "data": {
      "text/html": [
       "<div>\n",
       "<style scoped>\n",
       "    .dataframe tbody tr th:only-of-type {\n",
       "        vertical-align: middle;\n",
       "    }\n",
       "\n",
       "    .dataframe tbody tr th {\n",
       "        vertical-align: top;\n",
       "    }\n",
       "\n",
       "    .dataframe thead th {\n",
       "        text-align: right;\n",
       "    }\n",
       "</style>\n",
       "<table border=\"1\" class=\"dataframe\">\n",
       "  <thead>\n",
       "    <tr style=\"text-align: right;\">\n",
       "      <th></th>\n",
       "      <th>key5</th>\n",
       "      <th>key6</th>\n",
       "      <th>value3</th>\n",
       "    </tr>\n",
       "  </thead>\n",
       "  <tbody>\n",
       "    <tr>\n",
       "      <th>0</th>\n",
       "      <td>C</td>\n",
       "      <td>Z</td>\n",
       "      <td>9</td>\n",
       "    </tr>\n",
       "    <tr>\n",
       "      <th>1</th>\n",
       "      <td>D</td>\n",
       "      <td>W</td>\n",
       "      <td>10</td>\n",
       "    </tr>\n",
       "    <tr>\n",
       "      <th>2</th>\n",
       "      <td>E</td>\n",
       "      <td>X</td>\n",
       "      <td>11</td>\n",
       "    </tr>\n",
       "    <tr>\n",
       "      <th>3</th>\n",
       "      <td>G</td>\n",
       "      <td>Y</td>\n",
       "      <td>12</td>\n",
       "    </tr>\n",
       "  </tbody>\n",
       "</table>\n",
       "</div>"
      ],
      "text/plain": [
       "  key5 key6  value3\n",
       "0    C    Z       9\n",
       "1    D    W      10\n",
       "2    E    X      11\n",
       "3    G    Y      12"
      ]
     },
     "execution_count": 5,
     "metadata": {},
     "output_type": "execute_result"
    }
   ],
   "source": [
    "df3"
   ]
  },
  {
   "cell_type": "code",
   "execution_count": 6,
   "metadata": {},
   "outputs": [
    {
     "data": {
      "text/html": [
       "<div>\n",
       "<style scoped>\n",
       "    .dataframe tbody tr th:only-of-type {\n",
       "        vertical-align: middle;\n",
       "    }\n",
       "\n",
       "    .dataframe tbody tr th {\n",
       "        vertical-align: top;\n",
       "    }\n",
       "\n",
       "    .dataframe thead th {\n",
       "        text-align: right;\n",
       "    }\n",
       "</style>\n",
       "<table border=\"1\" class=\"dataframe\">\n",
       "  <thead>\n",
       "    <tr style=\"text-align: right;\">\n",
       "      <th></th>\n",
       "      <th>key7</th>\n",
       "      <th>key8</th>\n",
       "      <th>value4</th>\n",
       "    </tr>\n",
       "  </thead>\n",
       "  <tbody>\n",
       "    <tr>\n",
       "      <th>0</th>\n",
       "      <td>D</td>\n",
       "      <td>W</td>\n",
       "      <td>13</td>\n",
       "    </tr>\n",
       "    <tr>\n",
       "      <th>1</th>\n",
       "      <td>E</td>\n",
       "      <td>X</td>\n",
       "      <td>14</td>\n",
       "    </tr>\n",
       "    <tr>\n",
       "      <th>2</th>\n",
       "      <td>F</td>\n",
       "      <td>Z</td>\n",
       "      <td>15</td>\n",
       "    </tr>\n",
       "    <tr>\n",
       "      <th>3</th>\n",
       "      <td>H</td>\n",
       "      <td>Y</td>\n",
       "      <td>16</td>\n",
       "    </tr>\n",
       "  </tbody>\n",
       "</table>\n",
       "</div>"
      ],
      "text/plain": [
       "  key7 key8  value4\n",
       "0    D    W      13\n",
       "1    E    X      14\n",
       "2    F    Z      15\n",
       "3    H    Y      16"
      ]
     },
     "execution_count": 6,
     "metadata": {},
     "output_type": "execute_result"
    }
   ],
   "source": [
    "df4"
   ]
  },
  {
   "cell_type": "code",
   "execution_count": 7,
   "metadata": {},
   "outputs": [
    {
     "name": "stdout",
     "output_type": "stream",
     "text": [
      "  key1 key2  value1 key3 key4  value2 key5 key6  value3 key7 key8  value4\n",
      "0    D    W       4    D    W       6    D    W      10    D    W      13\n"
     ]
    }
   ],
   "source": [
    "# Merging the four DataFrames\n",
    "merged_df = pd.merge(pd.merge(pd.merge(df1, df2, left_on=['key1', 'key2'], right_on=['key3', 'key4'], how='inner'),\n",
    "                               df3, left_on=['key1', 'key2'], right_on=['key5', 'key6'], how='inner'),\n",
    "                     df4, left_on=['key1', 'key2'], right_on=['key7', 'key8'], how='inner')\n",
    "\n",
    "print(merged_df)"
   ]
  },
  {
   "cell_type": "code",
   "execution_count": null,
   "metadata": {},
   "outputs": [],
   "source": []
  },
  {
   "cell_type": "code",
   "execution_count": null,
   "metadata": {},
   "outputs": [],
   "source": []
  },
  {
   "cell_type": "code",
   "execution_count": null,
   "metadata": {},
   "outputs": [],
   "source": []
  },
  {
   "cell_type": "code",
   "execution_count": null,
   "metadata": {},
   "outputs": [],
   "source": []
  },
  {
   "cell_type": "code",
   "execution_count": null,
   "metadata": {},
   "outputs": [],
   "source": []
  },
  {
   "cell_type": "code",
   "execution_count": null,
   "metadata": {},
   "outputs": [],
   "source": []
  },
  {
   "cell_type": "code",
   "execution_count": null,
   "metadata": {},
   "outputs": [],
   "source": []
  },
  {
   "cell_type": "code",
   "execution_count": null,
   "metadata": {},
   "outputs": [],
   "source": []
  },
  {
   "cell_type": "code",
   "execution_count": null,
   "metadata": {},
   "outputs": [],
   "source": []
  },
  {
   "cell_type": "code",
   "execution_count": null,
   "metadata": {},
   "outputs": [],
   "source": []
  },
  {
   "cell_type": "code",
   "execution_count": null,
   "metadata": {},
   "outputs": [],
   "source": []
  }
 ],
 "metadata": {
  "kernelspec": {
   "display_name": "Python 3",
   "language": "python",
   "name": "python3"
  },
  "language_info": {
   "codemirror_mode": {
    "name": "ipython",
    "version": 3
   },
   "file_extension": ".py",
   "mimetype": "text/x-python",
   "name": "python",
   "nbconvert_exporter": "python",
   "pygments_lexer": "ipython3",
   "version": "3.12.3"
  }
 },
 "nbformat": 4,
 "nbformat_minor": 2
}
