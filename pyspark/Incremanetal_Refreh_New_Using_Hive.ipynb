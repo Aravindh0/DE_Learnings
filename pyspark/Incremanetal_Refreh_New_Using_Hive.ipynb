{
 "cells": [
  {
   "cell_type": "markdown",
   "metadata": {
    "application/vnd.databricks.v1+cell": {
     "cellMetadata": {},
     "inputWidgets": {},
     "nuid": "5ecf7a16-dd5e-4171-8ce6-6924bd159075",
     "showTitle": false,
     "title": ""
    }
   },
   "source": [
    "# Incremantal Refresh on Hive in SCD type 2 - Union Method"
   ]
  },
  {
   "cell_type": "code",
   "execution_count": 0,
   "metadata": {
    "application/vnd.databricks.v1+cell": {
     "cellMetadata": {
      "byteLimit": 2048000,
      "rowLimit": 10000
     },
     "inputWidgets": {},
     "nuid": "292f7beb-bb35-4c39-8045-c87fa6829890",
     "showTitle": false,
     "title": ""
    }
   },
   "outputs": [],
   "source": [
    "#Import session\n",
    "from pyspark.sql import SparkSession"
   ]
  },
  {
   "cell_type": "code",
   "execution_count": 0,
   "metadata": {
    "application/vnd.databricks.v1+cell": {
     "cellMetadata": {
      "byteLimit": 2048000,
      "rowLimit": 10000
     },
     "inputWidgets": {},
     "nuid": "e0cb7724-5eac-4a47-acec-55daaba2565f",
     "showTitle": false,
     "title": ""
    }
   },
   "outputs": [],
   "source": [
    "#Enable Hive\n",
    "spark = SparkSession.builder.appName('Hive').enableHiveSupport().getOrCreate()"
   ]
  },
  {
   "cell_type": "code",
   "execution_count": 0,
   "metadata": {
    "application/vnd.databricks.v1+cell": {
     "cellMetadata": {
      "byteLimit": 2048000,
      "rowLimit": 10000
     },
     "inputWidgets": {},
     "nuid": "5e4ed025-479b-487c-a6aa-b2b1e02fe057",
     "showTitle": false,
     "title": ""
    }
   },
   "outputs": [],
   "source": [
    "#Importing necessary datatypes and functions\n",
    "from pyspark.sql.functions import *\n",
    "from pyspark.sql.types import *\n",
    "from datetime import *"
   ]
  },
  {
   "cell_type": "code",
   "execution_count": 0,
   "metadata": {
    "application/vnd.databricks.v1+cell": {
     "cellMetadata": {
      "byteLimit": 2048000,
      "rowLimit": 10000
     },
     "inputWidgets": {},
     "nuid": "aad01ca2-86be-4db3-af83-f166d92b3dcc",
     "showTitle": false,
     "title": ""
    }
   },
   "outputs": [],
   "source": [
    "#Create Schema\n",
    "schema = StructType(\n",
    "    [\n",
    "        StructField('Id', IntegerType(), False),\n",
    "        StructField('Name', StringType(), True),\n",
    "        StructField('Age', IntegerType(), True),\n",
    "        StructField('DOB', DateType(), True),\n",
    "        StructField('City', StringType(), True),\n",
    "        StructField('District', StringType(), True),\n",
    "        StructField('State', StringType(), True),\n",
    "        StructField('Flag', StringType(), True),\n",
    "        StructField('Start_Date', TimestampType(), True),\n",
    "        StructField('End_Date', TimestampType(), True)\n",
    "    ]\n",
    ")"
   ]
  },
  {
   "cell_type": "code",
   "execution_count": 0,
   "metadata": {
    "application/vnd.databricks.v1+cell": {
     "cellMetadata": {
      "byteLimit": 2048000,
      "rowLimit": 10000
     },
     "inputWidgets": {},
     "nuid": "9416cd3b-3429-49f1-9099-6b65dce7d74d",
     "showTitle": false,
     "title": ""
    }
   },
   "outputs": [
    {
     "output_type": "stream",
     "name": "stdout",
     "output_type": "stream",
     "text": [
      "+---+----+---+---+----+--------+-----+----+----------+--------+\n| Id|Name|Age|DOB|City|District|State|Flag|Start_Date|End_Date|\n+---+----+---+---+----+--------+-----+----+----------+--------+\n+---+----+---+---+----+--------+-----+----+----------+--------+\n\n"
     ]
    }
   ],
   "source": [
    "#Create a main table\n",
    "main_table = spark.createDataFrame([], schema = schema)\n",
    "main_table.show()"
   ]
  },
  {
   "cell_type": "code",
   "execution_count": 0,
   "metadata": {
    "application/vnd.databricks.v1+cell": {
     "cellMetadata": {
      "byteLimit": 2048000,
      "rowLimit": 10000
     },
     "inputWidgets": {},
     "nuid": "04a1ebd4-ea73-469f-82fb-0ee9117dc7c5",
     "showTitle": false,
     "title": ""
    }
   },
   "outputs": [
    {
     "output_type": "stream",
     "name": "stdout",
     "output_type": "stream",
     "text": [
      "+---+----+---+---+----+--------+-----+----+----------+--------+\n| Id|Name|Age|DOB|City|District|State|Flag|Start_Date|End_Date|\n+---+----+---+---+----+--------+-----+----+----------+--------+\n+---+----+---+---+----+--------+-----+----+----------+--------+\n\n"
     ]
    }
   ],
   "source": [
    "#Create a database\n",
    "spark.sql('create database if not exists db')\n",
    "\n",
    "#Insert the dataframe to the table\n",
    "main_table.write.mode('overwrite').saveAsTable('db.main')\n",
    "\n",
    "#display the tabel\n",
    "spark.sql('select * from db.main').show()"
   ]
  },
  {
   "cell_type": "code",
   "execution_count": 0,
   "metadata": {
    "application/vnd.databricks.v1+cell": {
     "cellMetadata": {
      "byteLimit": 2048000,
      "rowLimit": 10000
     },
     "inputWidgets": {},
     "nuid": "e90b1125-5210-4cb7-bd0e-dfd117beee8e",
     "showTitle": false,
     "title": ""
    }
   },
   "outputs": [
    {
     "output_type": "display_data",
     "data": {
      "text/html": [
       "<style scoped>\n",
       "  .table-result-container {\n",
       "    max-height: 300px;\n",
       "    overflow: auto;\n",
       "  }\n",
       "  table, th, td {\n",
       "    border: 1px solid black;\n",
       "    border-collapse: collapse;\n",
       "  }\n",
       "  th, td {\n",
       "    padding: 5px;\n",
       "  }\n",
       "  th {\n",
       "    text-align: left;\n",
       "  }\n",
       "</style><div class='table-result-container'><table class='table-result'><thead style='background-color: white'><tr><th>Id</th><th>Name</th><th>Age</th><th>DOB</th><th>City</th><th>District</th><th>State</th></tr></thead><tbody><tr><td>1</td><td>Ajimal</td><td>23</td><td>2001-07-01</td><td>Gobi</td><td>Erode</td><td>TamilNadu</td></tr><tr><td>2</td><td>Jervin</td><td>23</td><td>2001-10-03</td><td>Mylode</td><td>Kanyakumari</td><td>TamilNadu</td></tr><tr><td>3</td><td>Bergin</td><td>24</td><td>2000-01-20</td><td>Pollachi</td><td>Coimbatore</td><td>TamilNadu</td></tr><tr><td>4</td><td>Nishanth</td><td>24</td><td>2000-11-25</td><td>Tambaram</td><td>Chennai</td><td>TamilNadu</td></tr><tr><td>5</td><td>Vasanth</td><td>24</td><td>2001-03-14</td><td>Poonamalle</td><td>Chennai</td><td>TamilNadu</td></tr></tbody></table></div>"
      ]
     },
     "metadata": {
      "application/vnd.databricks.v1+output": {
       "addedWidgets": {},
       "aggData": [],
       "aggError": "",
       "aggOverflow": false,
       "aggSchema": [],
       "aggSeriesLimitReached": false,
       "aggType": "",
       "arguments": {},
       "columnCustomDisplayInfos": {},
       "data": [
        [
         1,
         "Ajimal",
         23,
         "2001-07-01",
         "Gobi",
         "Erode",
         "TamilNadu"
        ],
        [
         2,
         "Jervin",
         23,
         "2001-10-03",
         "Mylode",
         "Kanyakumari",
         "TamilNadu"
        ],
        [
         3,
         "Bergin",
         24,
         "2000-01-20",
         "Pollachi",
         "Coimbatore",
         "TamilNadu"
        ],
        [
         4,
         "Nishanth",
         24,
         "2000-11-25",
         "Tambaram",
         "Chennai",
         "TamilNadu"
        ],
        [
         5,
         "Vasanth",
         24,
         "2001-03-14",
         "Poonamalle",
         "Chennai",
         "TamilNadu"
        ]
       ],
       "datasetInfos": [],
       "dbfsResultPath": null,
       "isJsonSchema": true,
       "metadata": {},
       "overflow": false,
       "plotOptions": {
        "customPlotOptions": {},
        "displayType": "table",
        "pivotAggregation": null,
        "pivotColumns": null,
        "xColumns": null,
        "yColumns": null
       },
       "removedWidgets": [],
       "schema": [
        {
         "metadata": "{}",
         "name": "Id",
         "type": "\"integer\""
        },
        {
         "metadata": "{}",
         "name": "Name",
         "type": "\"string\""
        },
        {
         "metadata": "{}",
         "name": "Age",
         "type": "\"integer\""
        },
        {
         "metadata": "{}",
         "name": "DOB",
         "type": "\"date\""
        },
        {
         "metadata": "{}",
         "name": "City",
         "type": "\"string\""
        },
        {
         "metadata": "{}",
         "name": "District",
         "type": "\"string\""
        },
        {
         "metadata": "{}",
         "name": "State",
         "type": "\"string\""
        }
       ],
       "type": "table"
      }
     },
     "output_type": "display_data"
    }
   ],
   "source": [
    "#Create new data for 1st type inserting\n",
    "n_schema = StructType(\n",
    "    [\n",
    "        StructField('Id', IntegerType(), False),\n",
    "        StructField('Name', StringType(), True),\n",
    "        StructField('Age', IntegerType(), True),\n",
    "        StructField('DOB', DateType(), True),\n",
    "        StructField('City', StringType(), True),\n",
    "        StructField('District', StringType(), True),\n",
    "        StructField('State', StringType(), True),\n",
    "    ]\n",
    ")\n",
    "\n",
    "data = [\n",
    "    (1, 'Ajimal', 23, date(2001,7,1), 'Gobi', 'Erode', 'TamilNadu'),\n",
    "    (2, 'Jervin', 23, date(2001,10,3), 'Mylode', 'Kanyakumari', 'TamilNadu'),\n",
    "    (3, 'Bergin', 24, date(2000,1,20), 'Pollachi', 'Coimbatore', 'TamilNadu'),\n",
    "    (4, 'Nishanth', 24, date(2000,11,25), 'Tambaram', 'Chennai', 'TamilNadu'),\n",
    "    (5, 'Vasanth', 24, date(2001,3,14), 'Poonamalle', 'Chennai', 'TamilNadu')\n",
    "    ]\n",
    "\n",
    "#Create dataframe\n",
    "df = spark.createDataFrame(data = data, schema = n_schema)\n",
    "df.display()"
   ]
  },
  {
   "cell_type": "code",
   "execution_count": 0,
   "metadata": {
    "application/vnd.databricks.v1+cell": {
     "cellMetadata": {
      "byteLimit": 2048000,
      "rowLimit": 10000
     },
     "inputWidgets": {},
     "nuid": "3eb94759-5a37-4f31-9315-7514a0e09767",
     "showTitle": false,
     "title": ""
    }
   },
   "outputs": [
    {
     "output_type": "display_data",
     "data": {
      "text/html": [
       "<style scoped>\n",
       "  .table-result-container {\n",
       "    max-height: 300px;\n",
       "    overflow: auto;\n",
       "  }\n",
       "  table, th, td {\n",
       "    border: 1px solid black;\n",
       "    border-collapse: collapse;\n",
       "  }\n",
       "  th, td {\n",
       "    padding: 5px;\n",
       "  }\n",
       "  th {\n",
       "    text-align: left;\n",
       "  }\n",
       "</style><div class='table-result-container'><table class='table-result'><thead style='background-color: white'><tr><th>Id</th><th>Name</th><th>Age</th><th>DOB</th><th>City</th><th>District</th><th>State</th><th>Flag</th><th>Start_Date</th><th>End_Date</th></tr></thead><tbody><tr><td>1</td><td>Ajimal</td><td>23</td><td>2001-07-01</td><td>Gobi</td><td>Erode</td><td>TamilNadu</td><td>Y</td><td>2024-08-08T08:45:14.742+0000</td><td>9999-12-31T00:00:00.000+0000</td></tr><tr><td>2</td><td>Jervin</td><td>23</td><td>2001-10-03</td><td>Mylode</td><td>Kanyakumari</td><td>TamilNadu</td><td>Y</td><td>2024-08-08T08:45:14.742+0000</td><td>9999-12-31T00:00:00.000+0000</td></tr><tr><td>3</td><td>Bergin</td><td>24</td><td>2000-01-20</td><td>Pollachi</td><td>Coimbatore</td><td>TamilNadu</td><td>Y</td><td>2024-08-08T08:45:14.742+0000</td><td>9999-12-31T00:00:00.000+0000</td></tr><tr><td>4</td><td>Nishanth</td><td>24</td><td>2000-11-25</td><td>Tambaram</td><td>Chennai</td><td>TamilNadu</td><td>Y</td><td>2024-08-08T08:45:14.742+0000</td><td>9999-12-31T00:00:00.000+0000</td></tr><tr><td>5</td><td>Vasanth</td><td>24</td><td>2001-03-14</td><td>Poonamalle</td><td>Chennai</td><td>TamilNadu</td><td>Y</td><td>2024-08-08T08:45:14.742+0000</td><td>9999-12-31T00:00:00.000+0000</td></tr></tbody></table></div>"
      ]
     },
     "metadata": {
      "application/vnd.databricks.v1+output": {
       "addedWidgets": {},
       "aggData": [],
       "aggError": "",
       "aggOverflow": false,
       "aggSchema": [],
       "aggSeriesLimitReached": false,
       "aggType": "",
       "arguments": {},
       "columnCustomDisplayInfos": {},
       "data": [
        [
         1,
         "Ajimal",
         23,
         "2001-07-01",
         "Gobi",
         "Erode",
         "TamilNadu",
         "Y",
         "2024-08-08T08:45:14.742+0000",
         "9999-12-31T00:00:00.000+0000"
        ],
        [
         2,
         "Jervin",
         23,
         "2001-10-03",
         "Mylode",
         "Kanyakumari",
         "TamilNadu",
         "Y",
         "2024-08-08T08:45:14.742+0000",
         "9999-12-31T00:00:00.000+0000"
        ],
        [
         3,
         "Bergin",
         24,
         "2000-01-20",
         "Pollachi",
         "Coimbatore",
         "TamilNadu",
         "Y",
         "2024-08-08T08:45:14.742+0000",
         "9999-12-31T00:00:00.000+0000"
        ],
        [
         4,
         "Nishanth",
         24,
         "2000-11-25",
         "Tambaram",
         "Chennai",
         "TamilNadu",
         "Y",
         "2024-08-08T08:45:14.742+0000",
         "9999-12-31T00:00:00.000+0000"
        ],
        [
         5,
         "Vasanth",
         24,
         "2001-03-14",
         "Poonamalle",
         "Chennai",
         "TamilNadu",
         "Y",
         "2024-08-08T08:45:14.742+0000",
         "9999-12-31T00:00:00.000+0000"
        ]
       ],
       "datasetInfos": [],
       "dbfsResultPath": null,
       "isJsonSchema": true,
       "metadata": {},
       "overflow": false,
       "plotOptions": {
        "customPlotOptions": {},
        "displayType": "table",
        "pivotAggregation": null,
        "pivotColumns": null,
        "xColumns": null,
        "yColumns": null
       },
       "removedWidgets": [],
       "schema": [
        {
         "metadata": "{}",
         "name": "Id",
         "type": "\"integer\""
        },
        {
         "metadata": "{}",
         "name": "Name",
         "type": "\"string\""
        },
        {
         "metadata": "{}",
         "name": "Age",
         "type": "\"integer\""
        },
        {
         "metadata": "{}",
         "name": "DOB",
         "type": "\"date\""
        },
        {
         "metadata": "{}",
         "name": "City",
         "type": "\"string\""
        },
        {
         "metadata": "{}",
         "name": "District",
         "type": "\"string\""
        },
        {
         "metadata": "{}",
         "name": "State",
         "type": "\"string\""
        },
        {
         "metadata": "{}",
         "name": "Flag",
         "type": "\"string\""
        },
        {
         "metadata": "{}",
         "name": "Start_Date",
         "type": "\"timestamp\""
        },
        {
         "metadata": "{}",
         "name": "End_Date",
         "type": "\"timestamp\""
        }
       ],
       "type": "table"
      }
     },
     "output_type": "display_data"
    }
   ],
   "source": [
    "#Adding columns for history reference\n",
    "df = df.withColumn('Flag', lit('Y')).\\\n",
    "        withColumn('Start_Date', lit(current_timestamp())).\\\n",
    "        withColumn('End_Date', lit(datetime(9999, 12, 31)))\n",
    "\n",
    "#display\n",
    "df.display()"
   ]
  },
  {
   "cell_type": "code",
   "execution_count": 0,
   "metadata": {
    "application/vnd.databricks.v1+cell": {
     "cellMetadata": {
      "byteLimit": 2048000,
      "rowLimit": 10000
     },
     "inputWidgets": {},
     "nuid": "12faff6c-9e3a-4cbc-8c1b-86f7390613fa",
     "showTitle": false,
     "title": ""
    }
   },
   "outputs": [
    {
     "output_type": "display_data",
     "data": {
      "text/html": [
       "<style scoped>\n",
       "  .table-result-container {\n",
       "    max-height: 300px;\n",
       "    overflow: auto;\n",
       "  }\n",
       "  table, th, td {\n",
       "    border: 1px solid black;\n",
       "    border-collapse: collapse;\n",
       "  }\n",
       "  th, td {\n",
       "    padding: 5px;\n",
       "  }\n",
       "  th {\n",
       "    text-align: left;\n",
       "  }\n",
       "</style><div class='table-result-container'><table class='table-result'><thead style='background-color: white'><tr><th>Id</th><th>Name</th><th>Age</th><th>DOB</th><th>City</th><th>District</th><th>State</th><th>Flag</th><th>Start_Date</th><th>End_Date</th></tr></thead><tbody><tr><td>5</td><td>Vasanth</td><td>24</td><td>2001-03-14</td><td>Poonamalle</td><td>Chennai</td><td>TamilNadu</td><td>Y</td><td>2024-08-08T08:45:16.019+0000</td><td>9999-12-31T00:00:00.000+0000</td></tr><tr><td>3</td><td>Bergin</td><td>24</td><td>2000-01-20</td><td>Pollachi</td><td>Coimbatore</td><td>TamilNadu</td><td>Y</td><td>2024-08-08T08:45:16.019+0000</td><td>9999-12-31T00:00:00.000+0000</td></tr><tr><td>2</td><td>Jervin</td><td>23</td><td>2001-10-03</td><td>Mylode</td><td>Kanyakumari</td><td>TamilNadu</td><td>Y</td><td>2024-08-08T08:45:16.019+0000</td><td>9999-12-31T00:00:00.000+0000</td></tr><tr><td>4</td><td>Nishanth</td><td>24</td><td>2000-11-25</td><td>Tambaram</td><td>Chennai</td><td>TamilNadu</td><td>Y</td><td>2024-08-08T08:45:16.019+0000</td><td>9999-12-31T00:00:00.000+0000</td></tr><tr><td>1</td><td>Ajimal</td><td>23</td><td>2001-07-01</td><td>Gobi</td><td>Erode</td><td>TamilNadu</td><td>Y</td><td>2024-08-08T08:45:16.019+0000</td><td>9999-12-31T00:00:00.000+0000</td></tr></tbody></table></div>"
      ]
     },
     "metadata": {
      "application/vnd.databricks.v1+output": {
       "addedWidgets": {},
       "aggData": [],
       "aggError": "",
       "aggOverflow": false,
       "aggSchema": [],
       "aggSeriesLimitReached": false,
       "aggType": "",
       "arguments": {},
       "columnCustomDisplayInfos": {},
       "data": [
        [
         5,
         "Vasanth",
         24,
         "2001-03-14",
         "Poonamalle",
         "Chennai",
         "TamilNadu",
         "Y",
         "2024-08-08T08:45:16.019+0000",
         "9999-12-31T00:00:00.000+0000"
        ],
        [
         3,
         "Bergin",
         24,
         "2000-01-20",
         "Pollachi",
         "Coimbatore",
         "TamilNadu",
         "Y",
         "2024-08-08T08:45:16.019+0000",
         "9999-12-31T00:00:00.000+0000"
        ],
        [
         2,
         "Jervin",
         23,
         "2001-10-03",
         "Mylode",
         "Kanyakumari",
         "TamilNadu",
         "Y",
         "2024-08-08T08:45:16.019+0000",
         "9999-12-31T00:00:00.000+0000"
        ],
        [
         4,
         "Nishanth",
         24,
         "2000-11-25",
         "Tambaram",
         "Chennai",
         "TamilNadu",
         "Y",
         "2024-08-08T08:45:16.019+0000",
         "9999-12-31T00:00:00.000+0000"
        ],
        [
         1,
         "Ajimal",
         23,
         "2001-07-01",
         "Gobi",
         "Erode",
         "TamilNadu",
         "Y",
         "2024-08-08T08:45:16.019+0000",
         "9999-12-31T00:00:00.000+0000"
        ]
       ],
       "datasetInfos": [],
       "dbfsResultPath": null,
       "isJsonSchema": true,
       "metadata": {},
       "overflow": false,
       "plotOptions": {
        "customPlotOptions": {},
        "displayType": "table",
        "pivotAggregation": null,
        "pivotColumns": null,
        "xColumns": null,
        "yColumns": null
       },
       "removedWidgets": [],
       "schema": [
        {
         "metadata": "{}",
         "name": "Id",
         "type": "\"integer\""
        },
        {
         "metadata": "{}",
         "name": "Name",
         "type": "\"string\""
        },
        {
         "metadata": "{}",
         "name": "Age",
         "type": "\"integer\""
        },
        {
         "metadata": "{}",
         "name": "DOB",
         "type": "\"date\""
        },
        {
         "metadata": "{}",
         "name": "City",
         "type": "\"string\""
        },
        {
         "metadata": "{}",
         "name": "District",
         "type": "\"string\""
        },
        {
         "metadata": "{}",
         "name": "State",
         "type": "\"string\""
        },
        {
         "metadata": "{}",
         "name": "Flag",
         "type": "\"string\""
        },
        {
         "metadata": "{}",
         "name": "Start_Date",
         "type": "\"timestamp\""
        },
        {
         "metadata": "{}",
         "name": "End_Date",
         "type": "\"timestamp\""
        }
       ],
       "type": "table"
      }
     },
     "output_type": "display_data"
    }
   ],
   "source": [
    "#Writing the new datain the database\n",
    "df.write.mode('overwrite').saveAsTable('db.main')\n",
    "\n",
    "#Display the Db\n",
    "spark.sql('select * from db.main').display()"
   ]
  },
  {
   "cell_type": "code",
   "execution_count": 0,
   "metadata": {
    "application/vnd.databricks.v1+cell": {
     "cellMetadata": {
      "byteLimit": 2048000,
      "rowLimit": 10000
     },
     "inputWidgets": {},
     "nuid": "f5384bb7-fe11-4d1b-9dc9-521c118e7ddc",
     "showTitle": false,
     "title": ""
    }
   },
   "outputs": [
    {
     "output_type": "display_data",
     "data": {
      "text/html": [
       "<style scoped>\n",
       "  .table-result-container {\n",
       "    max-height: 300px;\n",
       "    overflow: auto;\n",
       "  }\n",
       "  table, th, td {\n",
       "    border: 1px solid black;\n",
       "    border-collapse: collapse;\n",
       "  }\n",
       "  th, td {\n",
       "    padding: 5px;\n",
       "  }\n",
       "  th {\n",
       "    text-align: left;\n",
       "  }\n",
       "</style><div class='table-result-container'><table class='table-result'><thead style='background-color: white'><tr><th>Id</th><th>Name</th><th>Age</th><th>DOB</th><th>City</th><th>District</th><th>State</th><th>Flag</th><th>Start_Date</th><th>End_Date</th></tr></thead><tbody><tr><td>1</td><td>Ajimal</td><td>23</td><td>2001-07-01</td><td>Mylode</td><td>Kanyakumari</td><td>TamilNadu</td><td>Y</td><td>2024-08-08</td><td>9999-12-31T00:00:00.000+0000</td></tr><tr><td>2</td><td>Jervin</td><td>23</td><td>2001-10-03</td><td>Mylode</td><td>Kanyakumari</td><td>TamilNadu</td><td>Y</td><td>2024-08-08</td><td>9999-12-31T00:00:00.000+0000</td></tr><tr><td>6</td><td>Aravindh</td><td>22</td><td>2001-03-31</td><td>TM Palayam</td><td>Coimbatore</td><td>TamilNadu</td><td>Y</td><td>2024-08-08</td><td>9999-12-31T00:00:00.000+0000</td></tr><tr><td>7</td><td>Pavithran</td><td>24</td><td>2000-11-20</td><td>Serupanacheri</td><td>Chennai</td><td>TamilNadu</td><td>Y</td><td>2024-08-08</td><td>9999-12-31T00:00:00.000+0000</td></tr></tbody></table></div>"
      ]
     },
     "metadata": {
      "application/vnd.databricks.v1+output": {
       "addedWidgets": {},
       "aggData": [],
       "aggError": "",
       "aggOverflow": false,
       "aggSchema": [],
       "aggSeriesLimitReached": false,
       "aggType": "",
       "arguments": {},
       "columnCustomDisplayInfos": {},
       "data": [
        [
         1,
         "Ajimal",
         23,
         "2001-07-01",
         "Mylode",
         "Kanyakumari",
         "TamilNadu",
         "Y",
         "2024-08-08",
         "9999-12-31T00:00:00.000+0000"
        ],
        [
         2,
         "Jervin",
         23,
         "2001-10-03",
         "Mylode",
         "Kanyakumari",
         "TamilNadu",
         "Y",
         "2024-08-08",
         "9999-12-31T00:00:00.000+0000"
        ],
        [
         6,
         "Aravindh",
         22,
         "2001-03-31",
         "TM Palayam",
         "Coimbatore",
         "TamilNadu",
         "Y",
         "2024-08-08",
         "9999-12-31T00:00:00.000+0000"
        ],
        [
         7,
         "Pavithran",
         24,
         "2000-11-20",
         "Serupanacheri",
         "Chennai",
         "TamilNadu",
         "Y",
         "2024-08-08",
         "9999-12-31T00:00:00.000+0000"
        ]
       ],
       "datasetInfos": [],
       "dbfsResultPath": null,
       "isJsonSchema": true,
       "metadata": {},
       "overflow": false,
       "plotOptions": {
        "customPlotOptions": {},
        "displayType": "table",
        "pivotAggregation": null,
        "pivotColumns": null,
        "xColumns": null,
        "yColumns": null
       },
       "removedWidgets": [],
       "schema": [
        {
         "metadata": "{}",
         "name": "Id",
         "type": "\"integer\""
        },
        {
         "metadata": "{}",
         "name": "Name",
         "type": "\"string\""
        },
        {
         "metadata": "{}",
         "name": "Age",
         "type": "\"integer\""
        },
        {
         "metadata": "{}",
         "name": "DOB",
         "type": "\"date\""
        },
        {
         "metadata": "{}",
         "name": "City",
         "type": "\"string\""
        },
        {
         "metadata": "{}",
         "name": "District",
         "type": "\"string\""
        },
        {
         "metadata": "{}",
         "name": "State",
         "type": "\"string\""
        },
        {
         "metadata": "{}",
         "name": "Flag",
         "type": "\"string\""
        },
        {
         "metadata": "{}",
         "name": "Start_Date",
         "type": "\"date\""
        },
        {
         "metadata": "{}",
         "name": "End_Date",
         "type": "\"timestamp\""
        }
       ],
       "type": "table"
      }
     },
     "output_type": "display_data"
    }
   ],
   "source": [
    "#New data to perform SCD type 2\n",
    "new_data = [\n",
    "    (1, 'Ajimal', 23, date(2001,7,1), 'Mylode', 'Kanyakumari', 'TamilNadu'),\n",
    "    (2, 'Jervin', 23, date(2001,10,3), 'Mylode', 'Kanyakumari', 'TamilNadu'),\n",
    "    (6, 'Aravindh', 22, date(2001,3,31), 'TM Palayam', 'Coimbatore', 'TamilNadu'),\n",
    "    (7, 'Pavithran', 24, date(2000,11,20), 'Serupanacheri', 'Chennai', 'TamilNadu')\n",
    "    ]\n",
    "\n",
    "stream_data = spark.createDataFrame(new_data, n_schema)\n",
    "\n",
    "#adding the default column to the stream data\n",
    "stream_data = stream_data.withColumn('Flag', lit('Y')).\\\n",
    "                            withColumn('Start_Date', lit(current_date())).\\\n",
    "                                withColumn('End_Date', lit(datetime(9999, 12, 31)))\n",
    "\n",
    "stream_data.display()"
   ]
  },
  {
   "cell_type": "code",
   "execution_count": 0,
   "metadata": {
    "application/vnd.databricks.v1+cell": {
     "cellMetadata": {
      "byteLimit": 2048000,
      "rowLimit": 10000
     },
     "inputWidgets": {},
     "nuid": "b736f0eb-6267-4067-b6b5-9be64bee1e92",
     "showTitle": false,
     "title": ""
    }
   },
   "outputs": [
    {
     "output_type": "display_data",
     "data": {
      "text/html": [
       "<style scoped>\n",
       "  .table-result-container {\n",
       "    max-height: 300px;\n",
       "    overflow: auto;\n",
       "  }\n",
       "  table, th, td {\n",
       "    border: 1px solid black;\n",
       "    border-collapse: collapse;\n",
       "  }\n",
       "  th, td {\n",
       "    padding: 5px;\n",
       "  }\n",
       "  th {\n",
       "    text-align: left;\n",
       "  }\n",
       "</style><div class='table-result-container'><table class='table-result'><thead style='background-color: white'><tr><th>Id</th><th>Name</th><th>Age</th><th>DOB</th><th>City</th><th>District</th><th>State</th><th>Flag</th><th>Start_Date</th><th>End_Date</th></tr></thead><tbody><tr><td>5</td><td>Vasanth</td><td>24</td><td>2001-03-14</td><td>Poonamalle</td><td>Chennai</td><td>TamilNadu</td><td>Y</td><td>2024-08-08T08:45:16.019+0000</td><td>9999-12-31T00:00:00.000+0000</td></tr><tr><td>3</td><td>Bergin</td><td>24</td><td>2000-01-20</td><td>Pollachi</td><td>Coimbatore</td><td>TamilNadu</td><td>Y</td><td>2024-08-08T08:45:16.019+0000</td><td>9999-12-31T00:00:00.000+0000</td></tr><tr><td>2</td><td>Jervin</td><td>23</td><td>2001-10-03</td><td>Mylode</td><td>Kanyakumari</td><td>TamilNadu</td><td>Y</td><td>2024-08-08T08:45:16.019+0000</td><td>9999-12-31T00:00:00.000+0000</td></tr><tr><td>4</td><td>Nishanth</td><td>24</td><td>2000-11-25</td><td>Tambaram</td><td>Chennai</td><td>TamilNadu</td><td>Y</td><td>2024-08-08T08:45:16.019+0000</td><td>9999-12-31T00:00:00.000+0000</td></tr><tr><td>1</td><td>Ajimal</td><td>23</td><td>2001-07-01</td><td>Gobi</td><td>Erode</td><td>TamilNadu</td><td>Y</td><td>2024-08-08T08:45:16.019+0000</td><td>9999-12-31T00:00:00.000+0000</td></tr></tbody></table></div>"
      ]
     },
     "metadata": {
      "application/vnd.databricks.v1+output": {
       "addedWidgets": {},
       "aggData": [],
       "aggError": "",
       "aggOverflow": false,
       "aggSchema": [],
       "aggSeriesLimitReached": false,
       "aggType": "",
       "arguments": {},
       "columnCustomDisplayInfos": {},
       "data": [
        [
         5,
         "Vasanth",
         24,
         "2001-03-14",
         "Poonamalle",
         "Chennai",
         "TamilNadu",
         "Y",
         "2024-08-08T08:45:16.019+0000",
         "9999-12-31T00:00:00.000+0000"
        ],
        [
         3,
         "Bergin",
         24,
         "2000-01-20",
         "Pollachi",
         "Coimbatore",
         "TamilNadu",
         "Y",
         "2024-08-08T08:45:16.019+0000",
         "9999-12-31T00:00:00.000+0000"
        ],
        [
         2,
         "Jervin",
         23,
         "2001-10-03",
         "Mylode",
         "Kanyakumari",
         "TamilNadu",
         "Y",
         "2024-08-08T08:45:16.019+0000",
         "9999-12-31T00:00:00.000+0000"
        ],
        [
         4,
         "Nishanth",
         24,
         "2000-11-25",
         "Tambaram",
         "Chennai",
         "TamilNadu",
         "Y",
         "2024-08-08T08:45:16.019+0000",
         "9999-12-31T00:00:00.000+0000"
        ],
        [
         1,
         "Ajimal",
         23,
         "2001-07-01",
         "Gobi",
         "Erode",
         "TamilNadu",
         "Y",
         "2024-08-08T08:45:16.019+0000",
         "9999-12-31T00:00:00.000+0000"
        ]
       ],
       "datasetInfos": [],
       "dbfsResultPath": null,
       "isJsonSchema": true,
       "metadata": {},
       "overflow": false,
       "plotOptions": {
        "customPlotOptions": {},
        "displayType": "table",
        "pivotAggregation": null,
        "pivotColumns": null,
        "xColumns": null,
        "yColumns": null
       },
       "removedWidgets": [],
       "schema": [
        {
         "metadata": "{}",
         "name": "Id",
         "type": "\"integer\""
        },
        {
         "metadata": "{}",
         "name": "Name",
         "type": "\"string\""
        },
        {
         "metadata": "{}",
         "name": "Age",
         "type": "\"integer\""
        },
        {
         "metadata": "{}",
         "name": "DOB",
         "type": "\"date\""
        },
        {
         "metadata": "{}",
         "name": "City",
         "type": "\"string\""
        },
        {
         "metadata": "{}",
         "name": "District",
         "type": "\"string\""
        },
        {
         "metadata": "{}",
         "name": "State",
         "type": "\"string\""
        },
        {
         "metadata": "{}",
         "name": "Flag",
         "type": "\"string\""
        },
        {
         "metadata": "{}",
         "name": "Start_Date",
         "type": "\"timestamp\""
        },
        {
         "metadata": "{}",
         "name": "End_Date",
         "type": "\"timestamp\""
        }
       ],
       "type": "table"
      }
     },
     "output_type": "display_data"
    }
   ],
   "source": [
    "main = spark.sql('select * from db.main')\n",
    "main.display()"
   ]
  },
  {
   "cell_type": "code",
   "execution_count": 0,
   "metadata": {
    "application/vnd.databricks.v1+cell": {
     "cellMetadata": {
      "byteLimit": 2048000,
      "rowLimit": 10000
     },
     "inputWidgets": {},
     "nuid": "2ab8c065-2bd5-4e78-88eb-72573cee88b1",
     "showTitle": false,
     "title": ""
    }
   },
   "outputs": [
    {
     "output_type": "display_data",
     "data": {
      "text/html": [
       "<style scoped>\n",
       "  .table-result-container {\n",
       "    max-height: 300px;\n",
       "    overflow: auto;\n",
       "  }\n",
       "  table, th, td {\n",
       "    border: 1px solid black;\n",
       "    border-collapse: collapse;\n",
       "  }\n",
       "  th, td {\n",
       "    padding: 5px;\n",
       "  }\n",
       "  th {\n",
       "    text-align: left;\n",
       "  }\n",
       "</style><div class='table-result-container'><table class='table-result'><thead style='background-color: white'><tr><th>Id</th><th>Name</th><th>Age</th><th>DOB</th><th>City</th><th>District</th><th>State</th><th>Flag</th><th>Start_Date</th><th>End_Date</th><th>Name</th><th>Age</th><th>DOB</th><th>City</th><th>District</th><th>State</th><th>Flag</th><th>Start_Date</th><th>End_Date</th></tr></thead><tbody><tr><td>5</td><td>Vasanth</td><td>24</td><td>2001-03-14</td><td>Poonamalle</td><td>Chennai</td><td>TamilNadu</td><td>Y</td><td>2024-08-08T08:45:16.019+0000</td><td>9999-12-31T00:00:00.000+0000</td><td>null</td><td>null</td><td>null</td><td>null</td><td>null</td><td>null</td><td>null</td><td>null</td><td>null</td></tr><tr><td>3</td><td>Bergin</td><td>24</td><td>2000-01-20</td><td>Pollachi</td><td>Coimbatore</td><td>TamilNadu</td><td>Y</td><td>2024-08-08T08:45:16.019+0000</td><td>9999-12-31T00:00:00.000+0000</td><td>null</td><td>null</td><td>null</td><td>null</td><td>null</td><td>null</td><td>null</td><td>null</td><td>null</td></tr><tr><td>2</td><td>Jervin</td><td>23</td><td>2001-10-03</td><td>Mylode</td><td>Kanyakumari</td><td>TamilNadu</td><td>Y</td><td>2024-08-08T08:45:16.019+0000</td><td>9999-12-31T00:00:00.000+0000</td><td>Jervin</td><td>23</td><td>2001-10-03</td><td>Mylode</td><td>Kanyakumari</td><td>TamilNadu</td><td>Y</td><td>2024-08-08</td><td>9999-12-31T00:00:00.000+0000</td></tr><tr><td>4</td><td>Nishanth</td><td>24</td><td>2000-11-25</td><td>Tambaram</td><td>Chennai</td><td>TamilNadu</td><td>Y</td><td>2024-08-08T08:45:16.019+0000</td><td>9999-12-31T00:00:00.000+0000</td><td>null</td><td>null</td><td>null</td><td>null</td><td>null</td><td>null</td><td>null</td><td>null</td><td>null</td></tr><tr><td>1</td><td>Ajimal</td><td>23</td><td>2001-07-01</td><td>Gobi</td><td>Erode</td><td>TamilNadu</td><td>Y</td><td>2024-08-08T08:45:16.019+0000</td><td>9999-12-31T00:00:00.000+0000</td><td>Ajimal</td><td>23</td><td>2001-07-01</td><td>Mylode</td><td>Kanyakumari</td><td>TamilNadu</td><td>Y</td><td>2024-08-08</td><td>9999-12-31T00:00:00.000+0000</td></tr></tbody></table></div>"
      ]
     },
     "metadata": {
      "application/vnd.databricks.v1+output": {
       "addedWidgets": {},
       "aggData": [],
       "aggError": "",
       "aggOverflow": false,
       "aggSchema": [],
       "aggSeriesLimitReached": false,
       "aggType": "",
       "arguments": {},
       "columnCustomDisplayInfos": {},
       "data": [
        [
         5,
         "Vasanth",
         24,
         "2001-03-14",
         "Poonamalle",
         "Chennai",
         "TamilNadu",
         "Y",
         "2024-08-08T08:45:16.019+0000",
         "9999-12-31T00:00:00.000+0000",
         null,
         null,
         null,
         null,
         null,
         null,
         null,
         null,
         null
        ],
        [
         3,
         "Bergin",
         24,
         "2000-01-20",
         "Pollachi",
         "Coimbatore",
         "TamilNadu",
         "Y",
         "2024-08-08T08:45:16.019+0000",
         "9999-12-31T00:00:00.000+0000",
         null,
         null,
         null,
         null,
         null,
         null,
         null,
         null,
         null
        ],
        [
         2,
         "Jervin",
         23,
         "2001-10-03",
         "Mylode",
         "Kanyakumari",
         "TamilNadu",
         "Y",
         "2024-08-08T08:45:16.019+0000",
         "9999-12-31T00:00:00.000+0000",
         "Jervin",
         23,
         "2001-10-03",
         "Mylode",
         "Kanyakumari",
         "TamilNadu",
         "Y",
         "2024-08-08",
         "9999-12-31T00:00:00.000+0000"
        ],
        [
         4,
         "Nishanth",
         24,
         "2000-11-25",
         "Tambaram",
         "Chennai",
         "TamilNadu",
         "Y",
         "2024-08-08T08:45:16.019+0000",
         "9999-12-31T00:00:00.000+0000",
         null,
         null,
         null,
         null,
         null,
         null,
         null,
         null,
         null
        ],
        [
         1,
         "Ajimal",
         23,
         "2001-07-01",
         "Gobi",
         "Erode",
         "TamilNadu",
         "Y",
         "2024-08-08T08:45:16.019+0000",
         "9999-12-31T00:00:00.000+0000",
         "Ajimal",
         23,
         "2001-07-01",
         "Mylode",
         "Kanyakumari",
         "TamilNadu",
         "Y",
         "2024-08-08",
         "9999-12-31T00:00:00.000+0000"
        ]
       ],
       "datasetInfos": [],
       "dbfsResultPath": null,
       "isJsonSchema": true,
       "metadata": {},
       "overflow": false,
       "plotOptions": {
        "customPlotOptions": {},
        "displayType": "table",
        "pivotAggregation": null,
        "pivotColumns": null,
        "xColumns": null,
        "yColumns": null
       },
       "removedWidgets": [],
       "schema": [
        {
         "metadata": "{}",
         "name": "Id",
         "type": "\"integer\""
        },
        {
         "metadata": "{}",
         "name": "Name",
         "type": "\"string\""
        },
        {
         "metadata": "{}",
         "name": "Age",
         "type": "\"integer\""
        },
        {
         "metadata": "{}",
         "name": "DOB",
         "type": "\"date\""
        },
        {
         "metadata": "{}",
         "name": "City",
         "type": "\"string\""
        },
        {
         "metadata": "{}",
         "name": "District",
         "type": "\"string\""
        },
        {
         "metadata": "{}",
         "name": "State",
         "type": "\"string\""
        },
        {
         "metadata": "{}",
         "name": "Flag",
         "type": "\"string\""
        },
        {
         "metadata": "{}",
         "name": "Start_Date",
         "type": "\"timestamp\""
        },
        {
         "metadata": "{}",
         "name": "End_Date",
         "type": "\"timestamp\""
        },
        {
         "metadata": "{}",
         "name": "Name",
         "type": "\"string\""
        },
        {
         "metadata": "{}",
         "name": "Age",
         "type": "\"integer\""
        },
        {
         "metadata": "{}",
         "name": "DOB",
         "type": "\"date\""
        },
        {
         "metadata": "{}",
         "name": "City",
         "type": "\"string\""
        },
        {
         "metadata": "{}",
         "name": "District",
         "type": "\"string\""
        },
        {
         "metadata": "{}",
         "name": "State",
         "type": "\"string\""
        },
        {
         "metadata": "{}",
         "name": "Flag",
         "type": "\"string\""
        },
        {
         "metadata": "{}",
         "name": "Start_Date",
         "type": "\"date\""
        },
        {
         "metadata": "{}",
         "name": "End_Date",
         "type": "\"timestamp\""
        }
       ],
       "type": "table"
      }
     },
     "output_type": "display_data"
    }
   ],
   "source": [
    "#joining the stream data to get the data that are present in both\n",
    "main_stream_join = main.join(\n",
    "    stream_data.alias('stream'), 'Id', 'left'\n",
    ")\n",
    "\n",
    "main_stream_join.display()"
   ]
  },
  {
   "cell_type": "code",
   "execution_count": 0,
   "metadata": {
    "application/vnd.databricks.v1+cell": {
     "cellMetadata": {
      "byteLimit": 2048000,
      "rowLimit": 10000
     },
     "inputWidgets": {},
     "nuid": "a09eac52-e38e-4116-85f6-5aaa2448f885",
     "showTitle": false,
     "title": ""
    }
   },
   "outputs": [
    {
     "output_type": "display_data",
     "data": {
      "text/html": [
       "<style scoped>\n",
       "  .table-result-container {\n",
       "    max-height: 300px;\n",
       "    overflow: auto;\n",
       "  }\n",
       "  table, th, td {\n",
       "    border: 1px solid black;\n",
       "    border-collapse: collapse;\n",
       "  }\n",
       "  th, td {\n",
       "    padding: 5px;\n",
       "  }\n",
       "  th {\n",
       "    text-align: left;\n",
       "  }\n",
       "</style><div class='table-result-container'><table class='table-result'><thead style='background-color: white'><tr><th>Id</th><th>Name</th><th>Age</th><th>DOB</th><th>City</th><th>District</th><th>State</th><th>Flag</th><th>Start_Date</th><th>End_Date</th></tr></thead><tbody><tr><td>1</td><td>Ajimal</td><td>23</td><td>2001-07-01</td><td>Gobi</td><td>Erode</td><td>TamilNadu</td><td>N</td><td>2024-08-08T08:45:16.019+0000</td><td>2024-08-08T09:39:31.102+0000</td></tr></tbody></table></div>"
      ]
     },
     "metadata": {
      "application/vnd.databricks.v1+output": {
       "addedWidgets": {},
       "aggData": [],
       "aggError": "",
       "aggOverflow": false,
       "aggSchema": [],
       "aggSeriesLimitReached": false,
       "aggType": "",
       "arguments": {},
       "columnCustomDisplayInfos": {},
       "data": [
        [
         1,
         "Ajimal",
         23,
         "2001-07-01",
         "Gobi",
         "Erode",
         "TamilNadu",
         "N",
         "2024-08-08T08:45:16.019+0000",
         "2024-08-08T09:39:31.102+0000"
        ]
       ],
       "datasetInfos": [],
       "dbfsResultPath": null,
       "isJsonSchema": true,
       "metadata": {},
       "overflow": false,
       "plotOptions": {
        "customPlotOptions": {},
        "displayType": "table",
        "pivotAggregation": null,
        "pivotColumns": null,
        "xColumns": null,
        "yColumns": null
       },
       "removedWidgets": [],
       "schema": [
        {
         "metadata": "{}",
         "name": "Id",
         "type": "\"integer\""
        },
        {
         "metadata": "{}",
         "name": "Name",
         "type": "\"string\""
        },
        {
         "metadata": "{}",
         "name": "Age",
         "type": "\"integer\""
        },
        {
         "metadata": "{}",
         "name": "DOB",
         "type": "\"date\""
        },
        {
         "metadata": "{}",
         "name": "City",
         "type": "\"string\""
        },
        {
         "metadata": "{}",
         "name": "District",
         "type": "\"string\""
        },
        {
         "metadata": "{}",
         "name": "State",
         "type": "\"string\""
        },
        {
         "metadata": "{}",
         "name": "Flag",
         "type": "\"string\""
        },
        {
         "metadata": "{}",
         "name": "Start_Date",
         "type": "\"timestamp\""
        },
        {
         "metadata": "{}",
         "name": "End_Date",
         "type": "\"timestamp\""
        }
       ],
       "type": "table"
      }
     },
     "output_type": "display_data"
    }
   ],
   "source": [
    "#joining the stream data to get the data that are not present in both\n",
    "main_stream_join = main.join(\n",
    "    stream_data.alias('stream'), 'Id', 'inner'\n",
    ").where(\n",
    "    (main.Name != stream_data.Name) | \n",
    "    (main.Age != stream_data.Age) | \n",
    "    (main.DOB != stream_data.DOB) | \n",
    "    (main.City != stream_data.City) | \n",
    "    (main.District != stream_data.District) | \n",
    "    (main.State != stream_data.State)\n",
    ").select(\n",
    "    'Id', 'main.Name', 'main.Age', 'main.DOB', 'main.City', 'main.District', 'main.State', 'main.Flag', 'main.Start_Date',\n",
    "    lit(current_timestamp()).alias('End_Date')\n",
    ").withColumn('Flag', lit('N'))\n",
    "\n",
    "main_stream_join.display()"
   ]
  },
  {
   "cell_type": "code",
   "execution_count": 0,
   "metadata": {
    "application/vnd.databricks.v1+cell": {
     "cellMetadata": {
      "byteLimit": 2048000,
      "rowLimit": 10000
     },
     "inputWidgets": {},
     "nuid": "9dfd67c3-0a64-413e-9220-b1f5986ee71e",
     "showTitle": false,
     "title": ""
    }
   },
   "outputs": [
    {
     "output_type": "display_data",
     "data": {
      "text/html": [
       "<style scoped>\n",
       "  .table-result-container {\n",
       "    max-height: 300px;\n",
       "    overflow: auto;\n",
       "  }\n",
       "  table, th, td {\n",
       "    border: 1px solid black;\n",
       "    border-collapse: collapse;\n",
       "  }\n",
       "  th, td {\n",
       "    padding: 5px;\n",
       "  }\n",
       "  th {\n",
       "    text-align: left;\n",
       "  }\n",
       "</style><div class='table-result-container'><table class='table-result'><thead style='background-color: white'><tr><th>Id</th><th>Name</th><th>Age</th><th>DOB</th><th>City</th><th>District</th><th>State</th><th>Flag</th><th>Start_Date</th><th>End_Date</th></tr></thead><tbody><tr><td>5</td><td>Vasanth</td><td>24</td><td>2001-03-14</td><td>Poonamalle</td><td>Chennai</td><td>TamilNadu</td><td>Y</td><td>2024-08-08T08:45:16.019+0000</td><td>9999-12-31T00:00:00.000+0000</td></tr><tr><td>3</td><td>Bergin</td><td>24</td><td>2000-01-20</td><td>Pollachi</td><td>Coimbatore</td><td>TamilNadu</td><td>Y</td><td>2024-08-08T08:45:16.019+0000</td><td>9999-12-31T00:00:00.000+0000</td></tr><tr><td>2</td><td>Jervin</td><td>23</td><td>2001-10-03</td><td>Mylode</td><td>Kanyakumari</td><td>TamilNadu</td><td>Y</td><td>2024-08-08T08:45:16.019+0000</td><td>9999-12-31T00:00:00.000+0000</td></tr><tr><td>4</td><td>Nishanth</td><td>24</td><td>2000-11-25</td><td>Tambaram</td><td>Chennai</td><td>TamilNadu</td><td>Y</td><td>2024-08-08T08:45:16.019+0000</td><td>9999-12-31T00:00:00.000+0000</td></tr></tbody></table></div>"
      ]
     },
     "metadata": {
      "application/vnd.databricks.v1+output": {
       "addedWidgets": {},
       "aggData": [],
       "aggError": "",
       "aggOverflow": false,
       "aggSchema": [],
       "aggSeriesLimitReached": false,
       "aggType": "",
       "arguments": {},
       "columnCustomDisplayInfos": {},
       "data": [
        [
         5,
         "Vasanth",
         24,
         "2001-03-14",
         "Poonamalle",
         "Chennai",
         "TamilNadu",
         "Y",
         "2024-08-08T08:45:16.019+0000",
         "9999-12-31T00:00:00.000+0000"
        ],
        [
         3,
         "Bergin",
         24,
         "2000-01-20",
         "Pollachi",
         "Coimbatore",
         "TamilNadu",
         "Y",
         "2024-08-08T08:45:16.019+0000",
         "9999-12-31T00:00:00.000+0000"
        ],
        [
         2,
         "Jervin",
         23,
         "2001-10-03",
         "Mylode",
         "Kanyakumari",
         "TamilNadu",
         "Y",
         "2024-08-08T08:45:16.019+0000",
         "9999-12-31T00:00:00.000+0000"
        ],
        [
         4,
         "Nishanth",
         24,
         "2000-11-25",
         "Tambaram",
         "Chennai",
         "TamilNadu",
         "Y",
         "2024-08-08T08:45:16.019+0000",
         "9999-12-31T00:00:00.000+0000"
        ]
       ],
       "datasetInfos": [],
       "dbfsResultPath": null,
       "isJsonSchema": true,
       "metadata": {},
       "overflow": false,
       "plotOptions": {
        "customPlotOptions": {},
        "displayType": "table",
        "pivotAggregation": null,
        "pivotColumns": null,
        "xColumns": null,
        "yColumns": null
       },
       "removedWidgets": [],
       "schema": [
        {
         "metadata": "{}",
         "name": "Id",
         "type": "\"integer\""
        },
        {
         "metadata": "{}",
         "name": "Name",
         "type": "\"string\""
        },
        {
         "metadata": "{}",
         "name": "Age",
         "type": "\"integer\""
        },
        {
         "metadata": "{}",
         "name": "DOB",
         "type": "\"date\""
        },
        {
         "metadata": "{}",
         "name": "City",
         "type": "\"string\""
        },
        {
         "metadata": "{}",
         "name": "District",
         "type": "\"string\""
        },
        {
         "metadata": "{}",
         "name": "State",
         "type": "\"string\""
        },
        {
         "metadata": "{}",
         "name": "Flag",
         "type": "\"string\""
        },
        {
         "metadata": "{}",
         "name": "Start_Date",
         "type": "\"timestamp\""
        },
        {
         "metadata": "{}",
         "name": "End_Date",
         "type": "\"timestamp\""
        }
       ],
       "type": "table"
      }
     },
     "output_type": "display_data"
    }
   ],
   "source": [
    "# Identify records that exist in the main table\n",
    "missed_record = main.join(\n",
    "    main_stream_join, 'Id', 'left_anti'\n",
    ")\n",
    "\n",
    "missed_record.display()"
   ]
  },
  {
   "cell_type": "code",
   "execution_count": 0,
   "metadata": {
    "application/vnd.databricks.v1+cell": {
     "cellMetadata": {
      "byteLimit": 2048000,
      "rowLimit": 10000
     },
     "inputWidgets": {},
     "nuid": "eb93d1f1-eb33-43c0-9890-2385aa37685e",
     "showTitle": false,
     "title": ""
    }
   },
   "outputs": [
    {
     "output_type": "display_data",
     "data": {
      "text/html": [
       "<style scoped>\n",
       "  .table-result-container {\n",
       "    max-height: 300px;\n",
       "    overflow: auto;\n",
       "  }\n",
       "  table, th, td {\n",
       "    border: 1px solid black;\n",
       "    border-collapse: collapse;\n",
       "  }\n",
       "  th, td {\n",
       "    padding: 5px;\n",
       "  }\n",
       "  th {\n",
       "    text-align: left;\n",
       "  }\n",
       "</style><div class='table-result-container'><table class='table-result'><thead style='background-color: white'><tr><th>Id</th><th>Name</th><th>Age</th><th>DOB</th><th>City</th><th>District</th><th>State</th><th>Flag</th><th>Start_Date</th><th>End_Date</th></tr></thead><tbody><tr><td>5</td><td>Vasanth</td><td>24</td><td>2001-03-14</td><td>Poonamalle</td><td>Chennai</td><td>TamilNadu</td><td>Y</td><td>2024-08-08T08:45:16.019+0000</td><td>9999-12-31T00:00:00.000+0000</td></tr><tr><td>3</td><td>Bergin</td><td>24</td><td>2000-01-20</td><td>Pollachi</td><td>Coimbatore</td><td>TamilNadu</td><td>Y</td><td>2024-08-08T08:45:16.019+0000</td><td>9999-12-31T00:00:00.000+0000</td></tr><tr><td>2</td><td>Jervin</td><td>23</td><td>2001-10-03</td><td>Mylode</td><td>Kanyakumari</td><td>TamilNadu</td><td>Y</td><td>2024-08-08T08:45:16.019+0000</td><td>9999-12-31T00:00:00.000+0000</td></tr><tr><td>4</td><td>Nishanth</td><td>24</td><td>2000-11-25</td><td>Tambaram</td><td>Chennai</td><td>TamilNadu</td><td>Y</td><td>2024-08-08T08:45:16.019+0000</td><td>9999-12-31T00:00:00.000+0000</td></tr><tr><td>1</td><td>Ajimal</td><td>23</td><td>2001-07-01</td><td>Gobi</td><td>Erode</td><td>TamilNadu</td><td>N</td><td>2024-08-08T08:45:16.019+0000</td><td>2024-08-08T09:42:15.083+0000</td></tr></tbody></table></div>"
      ]
     },
     "metadata": {
      "application/vnd.databricks.v1+output": {
       "addedWidgets": {},
       "aggData": [],
       "aggError": "",
       "aggOverflow": false,
       "aggSchema": [],
       "aggSeriesLimitReached": false,
       "aggType": "",
       "arguments": {},
       "columnCustomDisplayInfos": {},
       "data": [
        [
         5,
         "Vasanth",
         24,
         "2001-03-14",
         "Poonamalle",
         "Chennai",
         "TamilNadu",
         "Y",
         "2024-08-08T08:45:16.019+0000",
         "9999-12-31T00:00:00.000+0000"
        ],
        [
         3,
         "Bergin",
         24,
         "2000-01-20",
         "Pollachi",
         "Coimbatore",
         "TamilNadu",
         "Y",
         "2024-08-08T08:45:16.019+0000",
         "9999-12-31T00:00:00.000+0000"
        ],
        [
         2,
         "Jervin",
         23,
         "2001-10-03",
         "Mylode",
         "Kanyakumari",
         "TamilNadu",
         "Y",
         "2024-08-08T08:45:16.019+0000",
         "9999-12-31T00:00:00.000+0000"
        ],
        [
         4,
         "Nishanth",
         24,
         "2000-11-25",
         "Tambaram",
         "Chennai",
         "TamilNadu",
         "Y",
         "2024-08-08T08:45:16.019+0000",
         "9999-12-31T00:00:00.000+0000"
        ],
        [
         1,
         "Ajimal",
         23,
         "2001-07-01",
         "Gobi",
         "Erode",
         "TamilNadu",
         "N",
         "2024-08-08T08:45:16.019+0000",
         "2024-08-08T09:42:15.083+0000"
        ]
       ],
       "datasetInfos": [],
       "dbfsResultPath": null,
       "isJsonSchema": true,
       "metadata": {},
       "overflow": false,
       "plotOptions": {
        "customPlotOptions": {},
        "displayType": "table",
        "pivotAggregation": null,
        "pivotColumns": null,
        "xColumns": null,
        "yColumns": null
       },
       "removedWidgets": [],
       "schema": [
        {
         "metadata": "{}",
         "name": "Id",
         "type": "\"integer\""
        },
        {
         "metadata": "{}",
         "name": "Name",
         "type": "\"string\""
        },
        {
         "metadata": "{}",
         "name": "Age",
         "type": "\"integer\""
        },
        {
         "metadata": "{}",
         "name": "DOB",
         "type": "\"date\""
        },
        {
         "metadata": "{}",
         "name": "City",
         "type": "\"string\""
        },
        {
         "metadata": "{}",
         "name": "District",
         "type": "\"string\""
        },
        {
         "metadata": "{}",
         "name": "State",
         "type": "\"string\""
        },
        {
         "metadata": "{}",
         "name": "Flag",
         "type": "\"string\""
        },
        {
         "metadata": "{}",
         "name": "Start_Date",
         "type": "\"timestamp\""
        },
        {
         "metadata": "{}",
         "name": "End_Date",
         "type": "\"timestamp\""
        }
       ],
       "type": "table"
      }
     },
     "output_type": "display_data"
    }
   ],
   "source": [
    "#Union to get the missed data with the new data\n",
    "updated_main = missed_record.union(main_stream_join)\n",
    "\n",
    "updated_main.display()"
   ]
  },
  {
   "cell_type": "code",
   "execution_count": 0,
   "metadata": {
    "application/vnd.databricks.v1+cell": {
     "cellMetadata": {
      "byteLimit": 2048000,
      "rowLimit": 10000
     },
     "inputWidgets": {},
     "nuid": "5d7e0eba-9ae7-4250-9241-980369da2d90",
     "showTitle": false,
     "title": ""
    }
   },
   "outputs": [
    {
     "output_type": "display_data",
     "data": {
      "text/html": [
       "<style scoped>\n",
       "  .table-result-container {\n",
       "    max-height: 300px;\n",
       "    overflow: auto;\n",
       "  }\n",
       "  table, th, td {\n",
       "    border: 1px solid black;\n",
       "    border-collapse: collapse;\n",
       "  }\n",
       "  th, td {\n",
       "    padding: 5px;\n",
       "  }\n",
       "  th {\n",
       "    text-align: left;\n",
       "  }\n",
       "</style><div class='table-result-container'><table class='table-result'><thead style='background-color: white'><tr><th>Id</th><th>Name</th><th>Age</th><th>DOB</th><th>City</th><th>District</th><th>State</th><th>Flag</th><th>Start_Date</th><th>End_Date</th></tr></thead><tbody><tr><td>1</td><td>Ajimal</td><td>23</td><td>2001-07-01</td><td>Mylode</td><td>Kanyakumari</td><td>TamilNadu</td><td>Y</td><td>2024-08-08</td><td>9999-12-31T00:00:00.000+0000</td></tr><tr><td>6</td><td>Aravindh</td><td>22</td><td>2001-03-31</td><td>TM Palayam</td><td>Coimbatore</td><td>TamilNadu</td><td>Y</td><td>2024-08-08</td><td>9999-12-31T00:00:00.000+0000</td></tr><tr><td>7</td><td>Pavithran</td><td>24</td><td>2000-11-20</td><td>Serupanacheri</td><td>Chennai</td><td>TamilNadu</td><td>Y</td><td>2024-08-08</td><td>9999-12-31T00:00:00.000+0000</td></tr></tbody></table></div>"
      ]
     },
     "metadata": {
      "application/vnd.databricks.v1+output": {
       "addedWidgets": {},
       "aggData": [],
       "aggError": "",
       "aggOverflow": false,
       "aggSchema": [],
       "aggSeriesLimitReached": false,
       "aggType": "",
       "arguments": {},
       "columnCustomDisplayInfos": {},
       "data": [
        [
         1,
         "Ajimal",
         23,
         "2001-07-01",
         "Mylode",
         "Kanyakumari",
         "TamilNadu",
         "Y",
         "2024-08-08",
         "9999-12-31T00:00:00.000+0000"
        ],
        [
         6,
         "Aravindh",
         22,
         "2001-03-31",
         "TM Palayam",
         "Coimbatore",
         "TamilNadu",
         "Y",
         "2024-08-08",
         "9999-12-31T00:00:00.000+0000"
        ],
        [
         7,
         "Pavithran",
         24,
         "2000-11-20",
         "Serupanacheri",
         "Chennai",
         "TamilNadu",
         "Y",
         "2024-08-08",
         "9999-12-31T00:00:00.000+0000"
        ]
       ],
       "datasetInfos": [],
       "dbfsResultPath": null,
       "isJsonSchema": true,
       "metadata": {},
       "overflow": false,
       "plotOptions": {
        "customPlotOptions": {},
        "displayType": "table",
        "pivotAggregation": null,
        "pivotColumns": null,
        "xColumns": null,
        "yColumns": null
       },
       "removedWidgets": [],
       "schema": [
        {
         "metadata": "{}",
         "name": "Id",
         "type": "\"integer\""
        },
        {
         "metadata": "{}",
         "name": "Name",
         "type": "\"string\""
        },
        {
         "metadata": "{}",
         "name": "Age",
         "type": "\"integer\""
        },
        {
         "metadata": "{}",
         "name": "DOB",
         "type": "\"date\""
        },
        {
         "metadata": "{}",
         "name": "City",
         "type": "\"string\""
        },
        {
         "metadata": "{}",
         "name": "District",
         "type": "\"string\""
        },
        {
         "metadata": "{}",
         "name": "State",
         "type": "\"string\""
        },
        {
         "metadata": "{}",
         "name": "Flag",
         "type": "\"string\""
        },
        {
         "metadata": "{}",
         "name": "Start_Date",
         "type": "\"date\""
        },
        {
         "metadata": "{}",
         "name": "End_Date",
         "type": "\"timestamp\""
        }
       ],
       "type": "table"
      }
     },
     "output_type": "display_data"
    }
   ],
   "source": [
    "# Identify new records that don't exist in the main table\n",
    "new_records = stream_data.join(\n",
    "    main.alias('main'), \n",
    "    (stream_data.Id == main.Id) & \n",
    "    (stream_data.Name == main.Name) & \n",
    "    (stream_data.Age == main.Age) & \n",
    "    (stream_data.DOB == main.DOB) & \n",
    "    (stream_data.City == main.City) & \n",
    "    (stream_data.District == main.District) & \n",
    "    (stream_data.State == main.State), \n",
    "    'left_anti'\n",
    ")\n",
    "\n",
    "new_records.display()"
   ]
  },
  {
   "cell_type": "code",
   "execution_count": 0,
   "metadata": {
    "application/vnd.databricks.v1+cell": {
     "cellMetadata": {
      "byteLimit": 2048000,
      "rowLimit": 10000
     },
     "inputWidgets": {},
     "nuid": "ed1ab65e-94b6-425a-9636-94ab139e5e5e",
     "showTitle": false,
     "title": ""
    }
   },
   "outputs": [
    {
     "output_type": "display_data",
     "data": {
      "text/html": [
       "<style scoped>\n",
       "  .table-result-container {\n",
       "    max-height: 300px;\n",
       "    overflow: auto;\n",
       "  }\n",
       "  table, th, td {\n",
       "    border: 1px solid black;\n",
       "    border-collapse: collapse;\n",
       "  }\n",
       "  th, td {\n",
       "    padding: 5px;\n",
       "  }\n",
       "  th {\n",
       "    text-align: left;\n",
       "  }\n",
       "</style><div class='table-result-container'><table class='table-result'><thead style='background-color: white'><tr><th>Id</th><th>Name</th><th>Age</th><th>DOB</th><th>City</th><th>District</th><th>State</th><th>Flag</th><th>Start_Date</th><th>End_Date</th></tr></thead><tbody><tr><td>5</td><td>Vasanth</td><td>24</td><td>2001-03-14</td><td>Poonamalle</td><td>Chennai</td><td>TamilNadu</td><td>Y</td><td>2024-08-08T08:45:16.019+0000</td><td>9999-12-31T00:00:00.000+0000</td></tr><tr><td>3</td><td>Bergin</td><td>24</td><td>2000-01-20</td><td>Pollachi</td><td>Coimbatore</td><td>TamilNadu</td><td>Y</td><td>2024-08-08T08:45:16.019+0000</td><td>9999-12-31T00:00:00.000+0000</td></tr><tr><td>2</td><td>Jervin</td><td>23</td><td>2001-10-03</td><td>Mylode</td><td>Kanyakumari</td><td>TamilNadu</td><td>Y</td><td>2024-08-08T08:45:16.019+0000</td><td>9999-12-31T00:00:00.000+0000</td></tr><tr><td>4</td><td>Nishanth</td><td>24</td><td>2000-11-25</td><td>Tambaram</td><td>Chennai</td><td>TamilNadu</td><td>Y</td><td>2024-08-08T08:45:16.019+0000</td><td>9999-12-31T00:00:00.000+0000</td></tr><tr><td>1</td><td>Ajimal</td><td>23</td><td>2001-07-01</td><td>Gobi</td><td>Erode</td><td>TamilNadu</td><td>N</td><td>2024-08-08T08:45:16.019+0000</td><td>2024-08-08T09:43:26.923+0000</td></tr><tr><td>1</td><td>Ajimal</td><td>23</td><td>2001-07-01</td><td>Mylode</td><td>Kanyakumari</td><td>TamilNadu</td><td>Y</td><td>2024-08-08T00:00:00.000+0000</td><td>9999-12-31T00:00:00.000+0000</td></tr><tr><td>6</td><td>Aravindh</td><td>22</td><td>2001-03-31</td><td>TM Palayam</td><td>Coimbatore</td><td>TamilNadu</td><td>Y</td><td>2024-08-08T00:00:00.000+0000</td><td>9999-12-31T00:00:00.000+0000</td></tr><tr><td>7</td><td>Pavithran</td><td>24</td><td>2000-11-20</td><td>Serupanacheri</td><td>Chennai</td><td>TamilNadu</td><td>Y</td><td>2024-08-08T00:00:00.000+0000</td><td>9999-12-31T00:00:00.000+0000</td></tr></tbody></table></div>"
      ]
     },
     "metadata": {
      "application/vnd.databricks.v1+output": {
       "addedWidgets": {},
       "aggData": [],
       "aggError": "",
       "aggOverflow": false,
       "aggSchema": [],
       "aggSeriesLimitReached": false,
       "aggType": "",
       "arguments": {},
       "columnCustomDisplayInfos": {},
       "data": [
        [
         5,
         "Vasanth",
         24,
         "2001-03-14",
         "Poonamalle",
         "Chennai",
         "TamilNadu",
         "Y",
         "2024-08-08T08:45:16.019+0000",
         "9999-12-31T00:00:00.000+0000"
        ],
        [
         3,
         "Bergin",
         24,
         "2000-01-20",
         "Pollachi",
         "Coimbatore",
         "TamilNadu",
         "Y",
         "2024-08-08T08:45:16.019+0000",
         "9999-12-31T00:00:00.000+0000"
        ],
        [
         2,
         "Jervin",
         23,
         "2001-10-03",
         "Mylode",
         "Kanyakumari",
         "TamilNadu",
         "Y",
         "2024-08-08T08:45:16.019+0000",
         "9999-12-31T00:00:00.000+0000"
        ],
        [
         4,
         "Nishanth",
         24,
         "2000-11-25",
         "Tambaram",
         "Chennai",
         "TamilNadu",
         "Y",
         "2024-08-08T08:45:16.019+0000",
         "9999-12-31T00:00:00.000+0000"
        ],
        [
         1,
         "Ajimal",
         23,
         "2001-07-01",
         "Gobi",
         "Erode",
         "TamilNadu",
         "N",
         "2024-08-08T08:45:16.019+0000",
         "2024-08-08T09:43:26.923+0000"
        ],
        [
         1,
         "Ajimal",
         23,
         "2001-07-01",
         "Mylode",
         "Kanyakumari",
         "TamilNadu",
         "Y",
         "2024-08-08T00:00:00.000+0000",
         "9999-12-31T00:00:00.000+0000"
        ],
        [
         6,
         "Aravindh",
         22,
         "2001-03-31",
         "TM Palayam",
         "Coimbatore",
         "TamilNadu",
         "Y",
         "2024-08-08T00:00:00.000+0000",
         "9999-12-31T00:00:00.000+0000"
        ],
        [
         7,
         "Pavithran",
         24,
         "2000-11-20",
         "Serupanacheri",
         "Chennai",
         "TamilNadu",
         "Y",
         "2024-08-08T00:00:00.000+0000",
         "9999-12-31T00:00:00.000+0000"
        ]
       ],
       "datasetInfos": [],
       "dbfsResultPath": null,
       "isJsonSchema": true,
       "metadata": {},
       "overflow": false,
       "plotOptions": {
        "customPlotOptions": {},
        "displayType": "table",
        "pivotAggregation": null,
        "pivotColumns": null,
        "xColumns": null,
        "yColumns": null
       },
       "removedWidgets": [],
       "schema": [
        {
         "metadata": "{}",
         "name": "Id",
         "type": "\"integer\""
        },
        {
         "metadata": "{}",
         "name": "Name",
         "type": "\"string\""
        },
        {
         "metadata": "{}",
         "name": "Age",
         "type": "\"integer\""
        },
        {
         "metadata": "{}",
         "name": "DOB",
         "type": "\"date\""
        },
        {
         "metadata": "{}",
         "name": "City",
         "type": "\"string\""
        },
        {
         "metadata": "{}",
         "name": "District",
         "type": "\"string\""
        },
        {
         "metadata": "{}",
         "name": "State",
         "type": "\"string\""
        },
        {
         "metadata": "{}",
         "name": "Flag",
         "type": "\"string\""
        },
        {
         "metadata": "{}",
         "name": "Start_Date",
         "type": "\"timestamp\""
        },
        {
         "metadata": "{}",
         "name": "End_Date",
         "type": "\"timestamp\""
        }
       ],
       "type": "table"
      }
     },
     "output_type": "display_data"
    }
   ],
   "source": [
    "#joining all datas|\n",
    "final_df = updated_main.union(new_records)\n",
    "\n",
    "final_df.display()"
   ]
  },
  {
   "cell_type": "code",
   "execution_count": 0,
   "metadata": {
    "application/vnd.databricks.v1+cell": {
     "cellMetadata": {
      "byteLimit": 2048000,
      "rowLimit": 10000
     },
     "inputWidgets": {},
     "nuid": "97644f7a-9144-48d6-82ac-23ea537a113a",
     "showTitle": false,
     "title": ""
    }
   },
   "outputs": [],
   "source": []
  },
  {
   "cell_type": "code",
   "execution_count": 0,
   "metadata": {
    "application/vnd.databricks.v1+cell": {
     "cellMetadata": {
      "byteLimit": 2048000,
      "rowLimit": 10000
     },
     "inputWidgets": {},
     "nuid": "c44579c0-ec11-4b88-becd-2aff4397c272",
     "showTitle": false,
     "title": ""
    }
   },
   "outputs": [],
   "source": []
  },
  {
   "cell_type": "code",
   "execution_count": 0,
   "metadata": {
    "application/vnd.databricks.v1+cell": {
     "cellMetadata": {
      "byteLimit": 2048000,
      "rowLimit": 10000
     },
     "inputWidgets": {},
     "nuid": "01e2c6c9-e230-4a87-b188-b9e56ef62760",
     "showTitle": false,
     "title": ""
    }
   },
   "outputs": [],
   "source": []
  },
  {
   "cell_type": "code",
   "execution_count": 0,
   "metadata": {
    "application/vnd.databricks.v1+cell": {
     "cellMetadata": {
      "byteLimit": 2048000,
      "rowLimit": 10000
     },
     "inputWidgets": {},
     "nuid": "e1bb1cb4-fae1-4547-8630-587a5fd38932",
     "showTitle": false,
     "title": ""
    }
   },
   "outputs": [],
   "source": []
  },
  {
   "cell_type": "code",
   "execution_count": 0,
   "metadata": {
    "application/vnd.databricks.v1+cell": {
     "cellMetadata": {
      "byteLimit": 2048000,
      "rowLimit": 10000
     },
     "inputWidgets": {},
     "nuid": "3437b6f9-1e47-411d-99d8-4666cbf67980",
     "showTitle": false,
     "title": ""
    }
   },
   "outputs": [],
   "source": []
  },
  {
   "cell_type": "code",
   "execution_count": 0,
   "metadata": {
    "application/vnd.databricks.v1+cell": {
     "cellMetadata": {
      "byteLimit": 2048000,
      "rowLimit": 10000
     },
     "inputWidgets": {},
     "nuid": "9a4d56f5-3201-47a4-873f-a19d83f19d54",
     "showTitle": false,
     "title": ""
    }
   },
   "outputs": [],
   "source": []
  },
  {
   "cell_type": "code",
   "execution_count": 0,
   "metadata": {
    "application/vnd.databricks.v1+cell": {
     "cellMetadata": {
      "byteLimit": 2048000,
      "rowLimit": 10000
     },
     "inputWidgets": {},
     "nuid": "492388ea-2cdc-414a-aae0-b0d381e5bb84",
     "showTitle": false,
     "title": ""
    }
   },
   "outputs": [],
   "source": []
  }
 ],
 "metadata": {
  "application/vnd.databricks.v1+notebook": {
   "dashboards": [],
   "environmentMetadata": null,
   "language": "python",
   "notebookMetadata": {
    "pythonIndentUnit": 4
   },
   "notebookName": "Incremanetal_Refreh_New_Using_Hive",
   "widgets": {}
  }
 },
 "nbformat": 4,
 "nbformat_minor": 0
}
