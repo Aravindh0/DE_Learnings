{
 "cells": [
  {
   "cell_type": "code",
   "execution_count": 0,
   "metadata": {
    "application/vnd.databricks.v1+cell": {
     "cellMetadata": {
      "byteLimit": 2048000,
      "rowLimit": 10000
     },
     "inputWidgets": {},
     "nuid": "246d7c6f-90e7-48d1-a62d-2056587f2dd0",
     "showTitle": false,
     "title": ""
    }
   },
   "outputs": [],
   "source": [
    "# Import session\n",
    "from pyspark.sql import SparkSession\n",
    "\n",
    "# Spark\n",
    "spark = SparkSession.builder.appName('Audit_table').getOrCreate()"
   ]
  },
  {
   "cell_type": "code",
   "execution_count": 0,
   "metadata": {
    "application/vnd.databricks.v1+cell": {
     "cellMetadata": {
      "byteLimit": 2048000,
      "rowLimit": 10000
     },
     "inputWidgets": {},
     "nuid": "c5898b5c-f409-40d7-9429-421df7da27df",
     "showTitle": false,
     "title": ""
    }
   },
   "outputs": [
    {
     "output_type": "display_data",
     "data": {
      "text/html": [
       "<style scoped>\n",
       "  .table-result-container {\n",
       "    max-height: 300px;\n",
       "    overflow: auto;\n",
       "  }\n",
       "  table, th, td {\n",
       "    border: 1px solid black;\n",
       "    border-collapse: collapse;\n",
       "  }\n",
       "  th, td {\n",
       "    padding: 5px;\n",
       "  }\n",
       "  th {\n",
       "    text-align: left;\n",
       "  }\n",
       "</style><div class='table-result-container'><table class='table-result'><thead style='background-color: white'><tr><th>path</th><th>name</th><th>size</th><th>modificationTime</th></tr></thead><tbody><tr><td>dbfs:/user/hive/warehouse/a_target.db/employee/</td><td>employee/</td><td>0</td><td>0</td></tr><tr><td>dbfs:/user/hive/warehouse/a_target.db/product/</td><td>product/</td><td>0</td><td>0</td></tr><tr><td>dbfs:/user/hive/warehouse/a_target.db/student/</td><td>student/</td><td>0</td><td>0</td></tr></tbody></table></div>"
      ]
     },
     "metadata": {
      "application/vnd.databricks.v1+output": {
       "addedWidgets": {},
       "aggData": [],
       "aggError": "",
       "aggOverflow": false,
       "aggSchema": [],
       "aggSeriesLimitReached": false,
       "aggType": "",
       "arguments": {},
       "columnCustomDisplayInfos": {},
       "data": [
        [
         "dbfs:/user/hive/warehouse/a_target.db/employee/",
         "employee/",
         0,
         0
        ],
        [
         "dbfs:/user/hive/warehouse/a_target.db/product/",
         "product/",
         0,
         0
        ],
        [
         "dbfs:/user/hive/warehouse/a_target.db/student/",
         "student/",
         0,
         0
        ]
       ],
       "datasetInfos": [],
       "dbfsResultPath": null,
       "isJsonSchema": true,
       "metadata": {
        "isDbfsCommandResult": false
       },
       "overflow": false,
       "plotOptions": {
        "customPlotOptions": {},
        "displayType": "table",
        "pivotAggregation": null,
        "pivotColumns": null,
        "xColumns": null,
        "yColumns": null
       },
       "removedWidgets": [],
       "schema": [
        {
         "metadata": "{}",
         "name": "path",
         "type": "\"string\""
        },
        {
         "metadata": "{}",
         "name": "name",
         "type": "\"string\""
        },
        {
         "metadata": "{}",
         "name": "size",
         "type": "\"long\""
        },
        {
         "metadata": "{}",
         "name": "modificationTime",
         "type": "\"long\""
        }
       ],
       "type": "table"
      }
     },
     "output_type": "display_data"
    }
   ],
   "source": [
    "%fs\n",
    "ls /user/hive/warehouse/a_target.db/"
   ]
  },
  {
   "cell_type": "code",
   "execution_count": 0,
   "metadata": {
    "application/vnd.databricks.v1+cell": {
     "cellMetadata": {
      "byteLimit": 2048000,
      "rowLimit": 10000
     },
     "inputWidgets": {},
     "nuid": "f455b763-f9cd-4352-a39c-db3b501e4a3c",
     "showTitle": false,
     "title": ""
    }
   },
   "outputs": [
    {
     "output_type": "stream",
     "name": "stdout",
     "output_type": "stream",
     "text": [
      "Out[265]: True"
     ]
    }
   ],
   "source": [
    "dbutils.fs.rm('dbfs:/user/hive/warehouse/', recurse=True)"
   ]
  },
  {
   "cell_type": "code",
   "execution_count": 0,
   "metadata": {
    "application/vnd.databricks.v1+cell": {
     "cellMetadata": {
      "byteLimit": 2048000,
      "rowLimit": 10000
     },
     "inputWidgets": {},
     "nuid": "fcf0c303-0393-4836-8ca8-85fc8d4b66f4",
     "showTitle": false,
     "title": ""
    }
   },
   "outputs": [
    {
     "output_type": "stream",
     "name": "stdout",
     "output_type": "stream",
     "text": [
      "a_source\na_target\ndefault\n"
     ]
    }
   ],
   "source": [
    "# Fetch the list of databases\n",
    "databases = spark.sql(\"SHOW DATABASES\").collect()\n",
    "\n",
    "# Drop each database\n",
    "for db in databases:\n",
    "    db_name = db.databaseName\n",
    "    print(db_name)\n",
    "    if db_name != 'default':  # Skip 'default' database or any other system database you don't want to drop\n",
    "        spark.sql(f\"DROP DATABASE {db_name} CASCADE\")"
   ]
  },
  {
   "cell_type": "code",
   "execution_count": 0,
   "metadata": {
    "application/vnd.databricks.v1+cell": {
     "cellMetadata": {
      "byteLimit": 2048000,
      "implicitDf": true,
      "rowLimit": 10000
     },
     "inputWidgets": {},
     "nuid": "5ab9a323-18eb-4ad5-b75d-799065fc27b1",
     "showTitle": false,
     "title": ""
    }
   },
   "outputs": [
    {
     "output_type": "display_data",
     "data": {
      "text/html": [
       "<style scoped>\n",
       "  .table-result-container {\n",
       "    max-height: 300px;\n",
       "    overflow: auto;\n",
       "  }\n",
       "  table, th, td {\n",
       "    border: 1px solid black;\n",
       "    border-collapse: collapse;\n",
       "  }\n",
       "  th, td {\n",
       "    padding: 5px;\n",
       "  }\n",
       "  th {\n",
       "    text-align: left;\n",
       "  }\n",
       "</style><div class='table-result-container'><table class='table-result'><thead style='background-color: white'><tr></tr></thead><tbody></tbody></table></div>"
      ]
     },
     "metadata": {
      "application/vnd.databricks.v1+output": {
       "addedWidgets": {},
       "aggData": [],
       "aggError": "",
       "aggOverflow": false,
       "aggSchema": [],
       "aggSeriesLimitReached": false,
       "aggType": "",
       "arguments": {},
       "columnCustomDisplayInfos": {},
       "data": [],
       "datasetInfos": [],
       "dbfsResultPath": null,
       "isJsonSchema": true,
       "metadata": {},
       "overflow": false,
       "plotOptions": {
        "customPlotOptions": {},
        "displayType": "table",
        "pivotAggregation": null,
        "pivotColumns": null,
        "xColumns": null,
        "yColumns": null
       },
       "removedWidgets": [],
       "schema": [],
       "type": "table"
      }
     },
     "output_type": "display_data"
    }
   ],
   "source": [
    "%sql\n",
    "create database a_target;"
   ]
  },
  {
   "cell_type": "code",
   "execution_count": 0,
   "metadata": {
    "application/vnd.databricks.v1+cell": {
     "cellMetadata": {
      "byteLimit": 2048000,
      "implicitDf": true,
      "rowLimit": 10000
     },
     "inputWidgets": {},
     "nuid": "e3546118-5484-41d4-9006-6ad911d3eb38",
     "showTitle": false,
     "title": ""
    }
   },
   "outputs": [
    {
     "output_type": "stream",
     "name": "stdout",
     "output_type": "stream",
     "text": [
      "+---+---------+---+----+----------+----------+--------------------+--------------------+--------------------+--------------------+---------+\n| id|     name|dep|flag|start_date|  end_date|       inserted_date|        updated_date|   inserted_batch_id|    updated_batch_id|file_name|\n+---+---------+---+----+----------+----------+--------------------+--------------------+--------------------+--------------------+---------+\n|  1| Aravindh|Mct|   Y|1900-01-01|9999-12-31|2024-08-27 06:33:...|2024-08-27 06:33:...|e83259c2-789e-4f0...|674000a8-26fd-47d...|  student|\n|  2|  Vasanth|Mct|   Y|1900-01-01|9999-12-31|2024-08-27 06:33:...|2024-08-27 06:33:...|e83259c2-789e-4f0...|674000a8-26fd-47d...|  student|\n|  3|     Jana|Mct|   Y|1900-01-01|9999-12-31|2024-08-27 06:33:...|2024-08-27 06:33:...|e83259c2-789e-4f0...|674000a8-26fd-47d...|  student|\n|  4|Pavithran|Mct|   Y|1900-01-01|9999-12-31|2024-08-27 06:33:...|2024-08-27 06:33:...|e83259c2-789e-4f0...|674000a8-26fd-47d...|  student|\n+---+---------+---+----+----------+----------+--------------------+--------------------+--------------------+--------------------+---------+\n\n"
     ]
    }
   ],
   "source": [
    "from pyspark.sql.functions import *\n",
    "from pyspark.sql.types import *\n",
    "from datetime import *\n",
    "import uuid\n",
    "\n",
    "# Create schema for streaming data\n",
    "student_schema = StructType(\n",
    "    [\n",
    "        StructField('id', IntegerType(), True),\n",
    "        StructField('name', StringType(), True),\n",
    "        StructField('dep', StringType(), True),\n",
    "        ]\n",
    ")\n",
    "\n",
    "# Define data with UUIDs and current date\n",
    "student_data = [\n",
    "    (1, 'Aravindh', 'Mct'),\n",
    "    (2, 'Vasanth', 'Mct'),\n",
    "    (3, 'Jana', 'Mct'),    \n",
    "    (4, 'Pavithran', 'Mct')\n",
    "]\n",
    "\n",
    "# Create DataFrame\n",
    "df = spark.createDataFrame(data=student_data, schema=student_schema)\n",
    "\n",
    "# Adding uuid\n",
    "df = df.withColumn('flag', lit('Y')) \\\n",
    "    .withColumn('start_date', lit('1900-01-01').cast('date')) \\\n",
    "    .withColumn('end_date', lit('9999-12-31').cast('date')) \\\n",
    "    .withColumn('inserted_date', current_timestamp())\\\n",
    "    .withColumn('updated_date', current_timestamp()) \\\n",
    "    .withColumn('inserted_batch_id', lit(str(uuid.uuid4()))) \\\n",
    "    .withColumn('updated_batch_id', lit(str(uuid.uuid4()))) \\\n",
    "    .withColumn('file_name', lit('student'))\n",
    "\n",
    "# Show DataFrame\n",
    "df.show()\n",
    "\n",
    "# Insert DataFrame into Delta table\n",
    "df.write.format(\"delta\").mode(\"overwrite\").saveAsTable(\"a_target.student\")"
   ]
  },
  {
   "cell_type": "code",
   "execution_count": 0,
   "metadata": {
    "application/vnd.databricks.v1+cell": {
     "cellMetadata": {
      "byteLimit": 2048000,
      "rowLimit": 10000
     },
     "inputWidgets": {},
     "nuid": "cde2e14d-f70d-4889-bf53-f841e8a5fb94",
     "showTitle": false,
     "title": ""
    }
   },
   "outputs": [
    {
     "output_type": "stream",
     "name": "stdout",
     "output_type": "stream",
     "text": [
      "+---+----------+-----------+----+----------+----------+--------------------+--------------------+--------------------+--------------------+---------+\n| id|      name|   category|flag|start_date|  end_date|       inserted_date|        updated_date|   inserted_batch_id|    updated_batch_id|file_name|\n+---+----------+-----------+----+----------+----------+--------------------+--------------------+--------------------+--------------------+---------+\n|  1|    Laptop|Electronics|   Y|1900-01-01|9999-12-31|2024-08-27 06:33:...|2024-08-27 06:33:...|5f473fb6-c660-42e...|d258c67c-b0c3-453...|  product|\n|  2|     Chair|  Furniture|   Y|1900-01-01|9999-12-31|2024-08-27 06:33:...|2024-08-27 06:33:...|5f473fb6-c660-42e...|d258c67c-b0c3-453...|  product|\n|  3|      Desk|  Furniture|   Y|1900-01-01|9999-12-31|2024-08-27 06:33:...|2024-08-27 06:33:...|5f473fb6-c660-42e...|d258c67c-b0c3-453...|  product|\n|  4|Smartphone|Electronics|   Y|1900-01-01|9999-12-31|2024-08-27 06:33:...|2024-08-27 06:33:...|5f473fb6-c660-42e...|d258c67c-b0c3-453...|  product|\n|  5|   Monitor|Electronics|   Y|1900-01-01|9999-12-31|2024-08-27 06:33:...|2024-08-27 06:33:...|5f473fb6-c660-42e...|d258c67c-b0c3-453...|  product|\n+---+----------+-----------+----+----------+----------+--------------------+--------------------+--------------------+--------------------+---------+\n\n"
     ]
    }
   ],
   "source": [
    "product_schema = StructType(\n",
    "    [\n",
    "        StructField('id', IntegerType(), True),\n",
    "        StructField('name', StringType(), True),\n",
    "        StructField('category', StringType(), True)\n",
    "    ]\n",
    ")\n",
    "\n",
    "product_data = [\n",
    "    (1, 'Laptop', 'Electronics'),\n",
    "    (2, 'Chair', 'Furniture'),\n",
    "    (3, 'Desk', 'Furniture'),\n",
    "    (4, 'Smartphone', 'Electronics'),\n",
    "    (5, 'Monitor', 'Electronics')\n",
    "]\n",
    "\n",
    "# Create DataFrame\n",
    "df = spark.createDataFrame(data=product_data, schema=product_schema)\n",
    "\n",
    "# Adding uuid\n",
    "df = df.withColumn('flag', lit('Y')) \\\n",
    "    .withColumn('start_date', lit('1900-01-01').cast('date')) \\\n",
    "    .withColumn('end_date', lit('9999-12-31').cast('date')) \\\n",
    "    .withColumn('inserted_date', current_timestamp()) \\\n",
    "    .withColumn('updated_date', current_timestamp()) \\\n",
    "    .withColumn('inserted_batch_id', lit(str(uuid.uuid4()))) \\\n",
    "    .withColumn('updated_batch_id', lit(str(uuid.uuid4()))) \\\n",
    "    .withColumn('file_name', lit('product'))\n",
    "\n",
    "# Show DataFrame\n",
    "df.show()\n",
    "\n",
    "# Insert DataFrame into Delta table\n",
    "df.write.format(\"delta\").mode(\"overwrite\").saveAsTable(\"a_target.product\")"
   ]
  },
  {
   "cell_type": "code",
   "execution_count": 0,
   "metadata": {
    "application/vnd.databricks.v1+cell": {
     "cellMetadata": {
      "byteLimit": 2048000,
      "rowLimit": 10000
     },
     "inputWidgets": {},
     "nuid": "a39f926f-206c-416d-86cf-c59f0318510b",
     "showTitle": false,
     "title": ""
    }
   },
   "outputs": [
    {
     "output_type": "stream",
     "name": "stdout",
     "output_type": "stream",
     "text": [
      "+---+---------------+-----------+------+----+----------+----------+--------------------+--------------------+--------------------+--------------------+---------+\n| id|           name| department|salary|flag|start_date|  end_date|       inserted_date|        updated_date|   inserted_batch_id|    updated_batch_id|file_name|\n+---+---------------+-----------+------+----+----------+----------+--------------------+--------------------+--------------------+--------------------+---------+\n|  1|       John Doe|Engineering| 75000|   Y|1900-01-01|9999-12-31|2024-08-27 06:34:...|2024-08-27 06:34:...|f3dd1c2c-07e1-45e...|8b6705ce-6c68-4aa...| employee|\n|  2|     Jane Smith|  Marketing| 65000|   Y|1900-01-01|9999-12-31|2024-08-27 06:34:...|2024-08-27 06:34:...|f3dd1c2c-07e1-45e...|8b6705ce-6c68-4aa...| employee|\n|  3|      Sam Brown|      Sales| 55000|   Y|1900-01-01|9999-12-31|2024-08-27 06:34:...|2024-08-27 06:34:...|f3dd1c2c-07e1-45e...|8b6705ce-6c68-4aa...| employee|\n|  4|    Emily Davis|         HR| 60000|   Y|1900-01-01|9999-12-31|2024-08-27 06:34:...|2024-08-27 06:34:...|f3dd1c2c-07e1-45e...|8b6705ce-6c68-4aa...| employee|\n|  5|Michael Johnson|    Finance| 70000|   Y|1900-01-01|9999-12-31|2024-08-27 06:34:...|2024-08-27 06:34:...|f3dd1c2c-07e1-45e...|8b6705ce-6c68-4aa...| employee|\n+---+---------------+-----------+------+----+----------+----------+--------------------+--------------------+--------------------+--------------------+---------+\n\n"
     ]
    }
   ],
   "source": [
    "employee_schema = StructType(\n",
    "    [\n",
    "        StructField('id', StringType(), True),\n",
    "        StructField('name', StringType(), True),\n",
    "        StructField('department', StringType(), True),\n",
    "        StructField('salary', IntegerType(), True)\n",
    "    ]\n",
    ")\n",
    "\n",
    "employee_data = [\n",
    "    (1, \"John Doe\", \"Engineering\", 75000),\n",
    "    (2, \"Jane Smith\", \"Marketing\", 65000),\n",
    "    (3, \"Sam Brown\", \"Sales\", 55000),\n",
    "    (4, \"Emily Davis\", \"HR\", 60000),\n",
    "    (5, \"Michael Johnson\", \"Finance\", 70000)\n",
    "]\n",
    "\n",
    "# Create DataFrame\n",
    "df = spark.createDataFrame(data=employee_data, schema=employee_schema)\n",
    "\n",
    "# Adding uuid\n",
    "df = df.withColumn('flag', lit('Y')) \\\n",
    "    .withColumn('start_date', lit('1900-01-01').cast('date')) \\\n",
    "    .withColumn('end_date', lit('9999-12-31').cast('date')) \\\n",
    "    .withColumn('inserted_date', current_timestamp()) \\\n",
    "    .withColumn('updated_date', current_timestamp()) \\\n",
    "    .withColumn('inserted_batch_id', lit(str(uuid.uuid4()))) \\\n",
    "    .withColumn('updated_batch_id', lit(str(uuid.uuid4()))) \\\n",
    "    .withColumn('file_name', lit('employee'))\n",
    "\n",
    "# Show DataFrame\n",
    "df.show()\n",
    "\n",
    "# Insert DataFrame into Delta table\n",
    "df.write.format(\"delta\").mode(\"overwrite\").saveAsTable(\"a_target.employee\")"
   ]
  },
  {
   "cell_type": "markdown",
   "metadata": {
    "application/vnd.databricks.v1+cell": {
     "cellMetadata": {},
     "inputWidgets": {},
     "nuid": "50ccdeca-9381-473e-9503-83136557798d",
     "showTitle": false,
     "title": ""
    }
   },
   "source": [
    "# Create a Source Data"
   ]
  },
  {
   "cell_type": "code",
   "execution_count": 0,
   "metadata": {
    "application/vnd.databricks.v1+cell": {
     "cellMetadata": {
      "byteLimit": 2048000,
      "implicitDf": true,
      "rowLimit": 10000
     },
     "inputWidgets": {},
     "nuid": "dfba251e-ce18-4cd0-8fcc-f9b9246add60",
     "showTitle": false,
     "title": ""
    }
   },
   "outputs": [
    {
     "output_type": "display_data",
     "data": {
      "text/html": [
       "<style scoped>\n",
       "  .table-result-container {\n",
       "    max-height: 300px;\n",
       "    overflow: auto;\n",
       "  }\n",
       "  table, th, td {\n",
       "    border: 1px solid black;\n",
       "    border-collapse: collapse;\n",
       "  }\n",
       "  th, td {\n",
       "    padding: 5px;\n",
       "  }\n",
       "  th {\n",
       "    text-align: left;\n",
       "  }\n",
       "</style><div class='table-result-container'><table class='table-result'><thead style='background-color: white'><tr></tr></thead><tbody></tbody></table></div>"
      ]
     },
     "metadata": {
      "application/vnd.databricks.v1+output": {
       "addedWidgets": {},
       "aggData": [],
       "aggError": "",
       "aggOverflow": false,
       "aggSchema": [],
       "aggSeriesLimitReached": false,
       "aggType": "",
       "arguments": {},
       "columnCustomDisplayInfos": {},
       "data": [],
       "datasetInfos": [],
       "dbfsResultPath": null,
       "isJsonSchema": true,
       "metadata": {},
       "overflow": false,
       "plotOptions": {
        "customPlotOptions": {},
        "displayType": "table",
        "pivotAggregation": null,
        "pivotColumns": null,
        "xColumns": null,
        "yColumns": null
       },
       "removedWidgets": [],
       "schema": [],
       "type": "table"
      }
     },
     "output_type": "display_data"
    }
   ],
   "source": [
    "%sql\n",
    "create database a_source"
   ]
  },
  {
   "cell_type": "code",
   "execution_count": 0,
   "metadata": {
    "application/vnd.databricks.v1+cell": {
     "cellMetadata": {
      "byteLimit": 2048000,
      "rowLimit": 10000
     },
     "inputWidgets": {},
     "nuid": "e2aaa0ee-8b55-4a75-b30e-8ab940e4b110",
     "showTitle": false,
     "title": ""
    }
   },
   "outputs": [
    {
     "output_type": "display_data",
     "data": {
      "text/html": [
       "<style scoped>\n",
       "  .table-result-container {\n",
       "    max-height: 300px;\n",
       "    overflow: auto;\n",
       "  }\n",
       "  table, th, td {\n",
       "    border: 1px solid black;\n",
       "    border-collapse: collapse;\n",
       "  }\n",
       "  th, td {\n",
       "    padding: 5px;\n",
       "  }\n",
       "  th {\n",
       "    text-align: left;\n",
       "  }\n",
       "</style><div class='table-result-container'><table class='table-result'><thead style='background-color: white'><tr><th>id</th><th>name</th><th>dep</th><th>last_modified</th></tr></thead><tbody><tr><td>5</td><td>Nishanth</td><td>Mech</td><td>2024-08-14</td></tr><tr><td>6</td><td>Vikram</td><td>Mct</td><td>2024-08-14</td></tr><tr><td>3</td><td>Jana</td><td>Mech</td><td>2024-08-14</td></tr><tr><td>4</td><td>Pavithran</td><td>Cse</td><td>2024-08-14</td></tr></tbody></table></div>"
      ]
     },
     "metadata": {
      "application/vnd.databricks.v1+output": {
       "addedWidgets": {},
       "aggData": [],
       "aggError": "",
       "aggOverflow": false,
       "aggSchema": [],
       "aggSeriesLimitReached": false,
       "aggType": "",
       "arguments": {},
       "columnCustomDisplayInfos": {},
       "data": [
        [
         5,
         "Nishanth",
         "Mech",
         "2024-08-14"
        ],
        [
         6,
         "Vikram",
         "Mct",
         "2024-08-14"
        ],
        [
         3,
         "Jana",
         "Mech",
         "2024-08-14"
        ],
        [
         4,
         "Pavithran",
         "Cse",
         "2024-08-14"
        ]
       ],
       "datasetInfos": [],
       "dbfsResultPath": null,
       "isJsonSchema": true,
       "metadata": {},
       "overflow": false,
       "plotOptions": {
        "customPlotOptions": {},
        "displayType": "table",
        "pivotAggregation": null,
        "pivotColumns": null,
        "xColumns": null,
        "yColumns": null
       },
       "removedWidgets": [],
       "schema": [
        {
         "metadata": "{}",
         "name": "id",
         "type": "\"integer\""
        },
        {
         "metadata": "{}",
         "name": "name",
         "type": "\"string\""
        },
        {
         "metadata": "{}",
         "name": "dep",
         "type": "\"string\""
        },
        {
         "metadata": "{}",
         "name": "last_modified",
         "type": "\"date\""
        }
       ],
       "type": "table"
      }
     },
     "output_type": "display_data"
    }
   ],
   "source": [
    "from pyspark.sql.functions import *\n",
    "from pyspark.sql.types import *\n",
    "from datetime import *\n",
    "\n",
    "# Create schema for streaming data\n",
    "student_schema = StructType(\n",
    "    [\n",
    "        StructField('id', IntegerType(), True),\n",
    "        StructField('name', StringType(), True),\n",
    "        StructField('dep', StringType(), True),\n",
    "        StructField('last_modified', DateType(), True)\n",
    "    ]\n",
    ")\n",
    "\n",
    "student_data = [\n",
    "    (5, 'Nishanth', 'Mech', date(2024,8,14)),\n",
    "    (6, 'Vikram', 'Mct', date(2024,8,14)),\n",
    "    (3, 'Jana', 'Mech', date(2024,8,14)),\n",
    "    (4, 'Pavithran', 'Cse', date(2024,8,14))\n",
    "]\n",
    "\n",
    "s_student = spark.createDataFrame(data = student_data, schema = student_schema)\n",
    "s_student.display()"
   ]
  },
  {
   "cell_type": "code",
   "execution_count": 0,
   "metadata": {
    "application/vnd.databricks.v1+cell": {
     "cellMetadata": {
      "byteLimit": 2048000,
      "rowLimit": 10000
     },
     "inputWidgets": {},
     "nuid": "c217c032-080e-4077-b858-d065f7e799b6",
     "showTitle": false,
     "title": ""
    }
   },
   "outputs": [],
   "source": [
    "s_student.write.partitionBy('last_modified').format('delta').mode('overwrite').saveAsTable('a_source.student')"
   ]
  },
  {
   "cell_type": "code",
   "execution_count": 0,
   "metadata": {
    "application/vnd.databricks.v1+cell": {
     "cellMetadata": {
      "byteLimit": 2048000,
      "rowLimit": 10000
     },
     "inputWidgets": {},
     "nuid": "157157e4-fee5-4ec7-ae65-ea35c010d650",
     "showTitle": false,
     "title": ""
    }
   },
   "outputs": [
    {
     "output_type": "display_data",
     "data": {
      "text/html": [
       "<style scoped>\n",
       "  .table-result-container {\n",
       "    max-height: 300px;\n",
       "    overflow: auto;\n",
       "  }\n",
       "  table, th, td {\n",
       "    border: 1px solid black;\n",
       "    border-collapse: collapse;\n",
       "  }\n",
       "  th, td {\n",
       "    padding: 5px;\n",
       "  }\n",
       "  th {\n",
       "    text-align: left;\n",
       "  }\n",
       "</style><div class='table-result-container'><table class='table-result'><thead style='background-color: white'><tr><th>id</th><th>name</th><th>category</th><th>last_modified</th></tr></thead><tbody><tr><td>1</td><td>Bed</td><td>Furniture</td><td>2024-08-14</td></tr><tr><td>2</td><td>PS4</td><td>Electronics</td><td>2024-08-14</td></tr><tr><td>6</td><td>Fan</td><td>Electronics</td><td>2024-08-14</td></tr></tbody></table></div>"
      ]
     },
     "metadata": {
      "application/vnd.databricks.v1+output": {
       "addedWidgets": {},
       "aggData": [],
       "aggError": "",
       "aggOverflow": false,
       "aggSchema": [],
       "aggSeriesLimitReached": false,
       "aggType": "",
       "arguments": {},
       "columnCustomDisplayInfos": {},
       "data": [
        [
         1,
         "Bed",
         "Furniture",
         "2024-08-14"
        ],
        [
         2,
         "PS4",
         "Electronics",
         "2024-08-14"
        ],
        [
         6,
         "Fan",
         "Electronics",
         "2024-08-14"
        ]
       ],
       "datasetInfos": [],
       "dbfsResultPath": null,
       "isJsonSchema": true,
       "metadata": {},
       "overflow": false,
       "plotOptions": {
        "customPlotOptions": {},
        "displayType": "table",
        "pivotAggregation": null,
        "pivotColumns": null,
        "xColumns": null,
        "yColumns": null
       },
       "removedWidgets": [],
       "schema": [
        {
         "metadata": "{}",
         "name": "id",
         "type": "\"integer\""
        },
        {
         "metadata": "{}",
         "name": "name",
         "type": "\"string\""
        },
        {
         "metadata": "{}",
         "name": "category",
         "type": "\"string\""
        },
        {
         "metadata": "{}",
         "name": "last_modified",
         "type": "\"date\""
        }
       ],
       "type": "table"
      }
     },
     "output_type": "display_data"
    }
   ],
   "source": [
    "product_schema = StructType(\n",
    "    [\n",
    "        StructField('id', IntegerType(), True),\n",
    "        StructField('name', StringType(), True),\n",
    "        StructField('category', StringType(), True),\n",
    "        StructField('last_modified', DateType(), True)\n",
    "    ]\n",
    ")\n",
    "\n",
    "product_data = [\n",
    "    (1, 'Bed', 'Furniture', date(2024,8,14)),\n",
    "    (2, 'PS4', 'Electronics', date(2024,8,14)),\n",
    "    (6, 'Fan', 'Electronics', date(2024,8,14))\n",
    "]\n",
    "\n",
    "s_product = spark.createDataFrame(data = product_data, schema = product_schema)\n",
    "s_product.display()"
   ]
  },
  {
   "cell_type": "code",
   "execution_count": 0,
   "metadata": {
    "application/vnd.databricks.v1+cell": {
     "cellMetadata": {
      "byteLimit": 2048000,
      "rowLimit": 10000
     },
     "inputWidgets": {},
     "nuid": "61b4cee8-cbfc-4d6e-ba7d-efae2334d9f6",
     "showTitle": false,
     "title": ""
    }
   },
   "outputs": [],
   "source": [
    "s_product.write.partitionBy('last_modified').format('delta').mode('overwrite').saveAsTable('a_source.product')"
   ]
  },
  {
   "cell_type": "code",
   "execution_count": 0,
   "metadata": {
    "application/vnd.databricks.v1+cell": {
     "cellMetadata": {
      "byteLimit": 2048000,
      "rowLimit": 10000
     },
     "inputWidgets": {},
     "nuid": "6fa167be-f6c9-47d7-a22c-c31402ae6926",
     "showTitle": false,
     "title": ""
    }
   },
   "outputs": [
    {
     "output_type": "stream",
     "name": "stdout",
     "output_type": "stream",
     "text": [
      "+---+---------+-----------+------+-------------+\n| id|     name| department|salary|last_modified|\n+---+---------+-----------+------+-------------+\n|  1| Aravindh|    Jobless|     0|   2014-08-14|\n|  1| Aravindh|Engineering| 75000|   2024-08-14|\n|  6|Pavithran|  Marketing| 65000|   2024-08-14|\n|  7| Samantha|      Sales| 55000|   2024-08-14|\n|  1| Aravindh|         IT| 75000|   2024-08-15|\n|  8|     Bala|Engineering| 75000|   2024-08-15|\n+---+---------+-----------+------+-------------+\n\n"
     ]
    }
   ],
   "source": [
    "# Define schema\n",
    "employee_schema = StructType(\n",
    "    [\n",
    "        StructField('id', IntegerType(), True),\n",
    "        StructField('name', StringType(), True),\n",
    "        StructField('department', StringType(), True),\n",
    "        StructField('salary', IntegerType(), True),\n",
    "        StructField('last_modified', DateType(), True)\n",
    "    ]\n",
    ")\n",
    "\n",
    "# Define data\n",
    "employee_data = [\n",
    "    (1, \"Aravindh\", \"Jobless\", 0, date(2014, 8, 14)),\n",
    "    (1, \"Aravindh\", \"Engineering\", 75000, date(2024, 8, 14)),\n",
    "    (6, \"Pavithran\", \"Marketing\", 65000, date(2024, 8, 14)),\n",
    "    (7, \"Samantha\", \"Sales\", 55000, date(2024, 8, 14)),\n",
    "    (1, \"Aravindh\", \"IT\", 75000, date(2024, 8, 15)),\n",
    "    (8, \"Bala\", \"Engineering\", 75000, date(2024, 8, 15))\n",
    "]\n",
    "\n",
    "# Create DataFrame\n",
    "s_employee = spark.createDataFrame(data=employee_data, schema=employee_schema)\n",
    "\n",
    "# Show the DataFrame\n",
    "s_employee.show()"
   ]
  },
  {
   "cell_type": "code",
   "execution_count": 0,
   "metadata": {
    "application/vnd.databricks.v1+cell": {
     "cellMetadata": {
      "byteLimit": 2048000,
      "rowLimit": 10000
     },
     "inputWidgets": {},
     "nuid": "35b1deb1-1e25-4175-9d75-09995f559fb0",
     "showTitle": false,
     "title": ""
    }
   },
   "outputs": [],
   "source": [
    "s_employee.write.format('delta').mode('overwrite').partitionBy('last_modified').saveAsTable('a_source.employee')"
   ]
  },
  {
   "cell_type": "code",
   "execution_count": 0,
   "metadata": {
    "application/vnd.databricks.v1+cell": {
     "cellMetadata": {
      "byteLimit": 2048000,
      "rowLimit": 10000
     },
     "inputWidgets": {},
     "nuid": "ca81d5ec-948f-4ba0-a49a-91bc2e5ef725",
     "showTitle": false,
     "title": ""
    }
   },
   "outputs": [
    {
     "output_type": "stream",
     "name": "stdout",
     "output_type": "stream",
     "text": [
      "The target tables are ['employee', 'product', 'student']\nThe source tables are ['employee', 'product', 'student']\n"
     ]
    }
   ],
   "source": [
    "# Define the target path where the tables are stored\n",
    "t_path = '/user/hive/warehouse/a_target.db'\n",
    "\n",
    "# List all directories (table) inside the path\n",
    "t_tables = dbutils.fs.ls(t_path)\n",
    "\n",
    "# Loop through each target tables\n",
    "target_tbl = []\n",
    "for table in t_tables:\n",
    "    a = table.name.strip('/')\n",
    "    target_tbl.append(a)\n",
    "\n",
    "# Define the source path where the tables are stored\n",
    "s_path = '/user/hive/warehouse/a_source.db'\n",
    "\n",
    "# List all directories (table) inside the path\n",
    "s_tables = dbutils.fs.ls(s_path)\n",
    "\n",
    "# Loop through each source tables\n",
    "source_tbl = []\n",
    "for table in s_tables:\n",
    "    a = table.name.strip('/')\n",
    "    source_tbl.append(a)\n",
    "\n",
    "print(f'The target tables are {target_tbl}')\n",
    "print(f'The source tables are {source_tbl}')"
   ]
  },
  {
   "cell_type": "code",
   "execution_count": 0,
   "metadata": {
    "application/vnd.databricks.v1+cell": {
     "cellMetadata": {
      "byteLimit": 2048000,
      "rowLimit": 10000
     },
     "inputWidgets": {},
     "nuid": "442c6882-05ce-4f27-80be-80cfec99ec7a",
     "showTitle": false,
     "title": ""
    }
   },
   "outputs": [
    {
     "output_type": "stream",
     "name": "stdout",
     "output_type": "stream",
     "text": [
      "2024-05-29\n"
     ]
    }
   ],
   "source": [
    "older_date = datetime.now() - timedelta(days = 90)\n",
    "older_date = older_date.strftime('%Y-%m-%d')\n",
    "print(older_date)"
   ]
  },
  {
   "cell_type": "code",
   "execution_count": 0,
   "metadata": {
    "application/vnd.databricks.v1+cell": {
     "cellMetadata": {
      "byteLimit": 2048000,
      "rowLimit": 10000
     },
     "inputWidgets": {},
     "nuid": "a88b7be7-4fb6-4525-b991-d67bc5e06869",
     "showTitle": false,
     "title": ""
    }
   },
   "outputs": [],
   "source": [
    "# Date older than 90\n",
    "older_date = datetime.now() - timedelta(days = 90)\n",
    "older_date = older_date.strftime('%Y-%m-%d')\n",
    "max_dates = {}\n",
    "# Defining a function\n",
    "def process_table(tbl: str, keys: dict):\n",
    "    target = None\n",
    "    try:\n",
    "        tbl_path = f'dbfs:/user/hive/warehouse/a_source.db/{tbl}'\n",
    "\n",
    "        # Getting all partitions inside the directory\n",
    "        partitions = dbutils.fs.ls(tbl_path)\n",
    "\n",
    "        # Initialize max_last_modified variable\n",
    "        max_last_modified = None\n",
    "\n",
    "        # Extracting the data from directory\n",
    "        dates = []\n",
    "        for data in partitions:\n",
    "            files = data.name.strip('/')\n",
    "\n",
    "            if 'last_modified=' in files:\n",
    "                date = files.split('=')[1]\n",
    "                dates.append(date)\n",
    "\n",
    "        # Sort dates to ensure processing in the correct order\n",
    "        dates.sort()\n",
    "\n",
    "        # Process each date in the sorted list\n",
    "        for date in dates:\n",
    "            max_last_modified = dates[-1]  # Get the latest date from the sorted list\n",
    "            stored_max_date = max_dates.get(tbl)\n",
    "\n",
    "            '''# Set max_last_modified to the current date if it's not set\n",
    "            if max_last_modified is None:\n",
    "                max_last_modified = date  '''\n",
    "\n",
    "            # If no stored date or the current max_last_modified is greater, process the table\n",
    "            if not stored_max_date or (max_last_modified > stored_max_date):\n",
    "                print(f\"Processing table {tbl} with last_modified {stored_max_date}\")\n",
    "                max_dates[tbl] = date\n",
    "\n",
    "                # Construct the full path from the specific partition\n",
    "                path_date = f'{tbl_path}/last_modified={date}'\n",
    "\n",
    "                # Load the source DataFrame\n",
    "                source = spark.read.format('delta').load(path_date)\n",
    "\n",
    "                # Load the corresponding target table \n",
    "                target = spark.read.format('delta').load(f'dbfs:/user/hive/warehouse/a_target.db/{tbl}')\n",
    "\n",
    "                # Get the primary key for the current table\n",
    "                primary_key_col = keys.get(tbl)\n",
    "\n",
    "                # Perform the join operation using the dynamic primary key column\n",
    "                join_df = source.join(\n",
    "                    target,\n",
    "                    (source[primary_key_col] == target[primary_key_col]) & (target['flag'] == 'Y'),\n",
    "                    'leftouter'\n",
    "                ).select(\n",
    "                    source['*'],\n",
    "                    *[target[col].alias(f't_{col}') for col in source.columns if col in target.columns]\n",
    "                )\n",
    "\n",
    "                join_df = join_df.drop('last_modified')\n",
    "\n",
    "                # Get columns from the join_df \n",
    "                source_col = [col for col in join_df.columns if not col.startswith('t_')]\n",
    "                target_col = [col for col in join_df.columns if col.startswith('t_')]\n",
    "\n",
    "                # Construct the hash condition\n",
    "                hash_condition = xxhash64(*[join_df[col] for col in source_col]) != xxhash64(*[join_df[col] for col in target_col])\n",
    "                \n",
    "                # Filter to get the rows where the hash values differ\n",
    "                filter_df = join_df.filter(hash_condition)\n",
    "                    \n",
    "                # Add merge key\n",
    "                merge_df = filter_df.withColumn('Merge_key', filter_df[primary_key_col])\n",
    "\n",
    "                # Add dummy merge key\n",
    "                dummy_df = filter_df.filter(f't_{primary_key_col} is not null').withColumn('Merge_key', lit('None'))\n",
    "\n",
    "                # Union both merge and dummy keys\n",
    "                scd_df = merge_df.union(dummy_df)\n",
    "                    \n",
    "                # Define start_date for new and existing records dynamically\n",
    "                start_date_expr = when(col('Merge_key') == 'None', lit(current_date())).otherwise('1900-01-01')\n",
    "\n",
    "                # Apply the start_date_expr to add the start_date column in scd_df\n",
    "                scd_df = scd_df.withColumn('start_date', start_date_expr)\n",
    "\n",
    "                target_table = DeltaTable.forPath(spark, f'dbfs:/user/hive/warehouse/a_target.db/{tbl}')\n",
    "                insert_values = {col: f'source.{col}' for col in scd_df.columns if not col.startswith('t_') and col != 'Merge_key'}\n",
    "\n",
    "                # Generate a single inserted_batch_id and updated_batch_id\n",
    "                inserted_batch_id = str(uuid.uuid4())\n",
    "                updated_batch_id = str(uuid.uuid4())\n",
    "\n",
    "                insert_values.update({\n",
    "                    'flag': lit('Y'),\n",
    "                    'end_date': lit('9999-12-31'),\n",
    "                    'inserted_date': current_timestamp(),\n",
    "                    'updated_date': current_timestamp(),\n",
    "                    'inserted_batch_id': lit(inserted_batch_id),\n",
    "                    'updated_batch_id': lit(updated_batch_id),\n",
    "                    'file_name': lit(tbl)\n",
    "                })\n",
    "\n",
    "                target_table.alias('target').merge(\n",
    "                    source=scd_df.alias('source'),\n",
    "                    condition=f\"target.{primary_key_col} = source.Merge_Key and target.flag = 'Y'\"\n",
    "                ).whenMatchedUpdate(\n",
    "                    set={\n",
    "                        'flag': lit('N'),\n",
    "                        'end_date': date_sub(current_date(), 1),\n",
    "                        'inserted_date': current_timestamp(),\n",
    "                        'updated_date': current_timestamp(),\n",
    "                        'updated_batch_id': lit(inserted_batch_id),\n",
    "                        'file_name': lit(tbl)\n",
    "                    }\n",
    "                ).whenNotMatchedInsert(\n",
    "                    values=insert_values\n",
    "                ).execute()\n",
    "\n",
    "                # If successful, extract Delta operation metrics for audit logging\n",
    "                delta_df = DeltaTable.forPath(spark, f'dbfs:/user/hive/warehouse/a_target.db/{tbl}')\n",
    "                last_operation = delta_df.history(1)\n",
    "\n",
    "                explode_df = last_operation.select(last_operation.version, last_operation.operation, explode(last_operation.operationMetrics))\n",
    "                explode_df_sel = explode_df.select(explode_df.version, explode_df.operation, explode_df.key, explode_df.value.cast('int'))\n",
    "\n",
    "                pivot = explode_df_sel.groupBy(['version', 'operation']).pivot('key').sum('value')\n",
    "\n",
    "                # Extract the required metrics \n",
    "                num_op_rows = pivot.select(pivot['numOutputRows']).collect()[0][0]\n",
    "                num_target_inserted = pivot.select(pivot['numTargetRowsInserted']).collect()[0][0]\n",
    "                num_target_updated = pivot.select(pivot['numTargetRowsUpdated']).collect()[0][0]\n",
    "                num_source_rows = pivot.select(pivot['numSourceRows']).collect()[0][0]\n",
    "                version = pivot.select(pivot['version']).collect()[0][0]\n",
    "\n",
    "                # Prepare the audit log record\n",
    "                audit_log_record = spark.createDataFrame([\n",
    "                        (\n",
    "                            version,\n",
    "                            'Audit_column',                                     # job_name\n",
    "                            path_date,                                          # source_name\n",
    "                            tbl,                                                # source_table_name\n",
    "                            tbl,                                                # target_table_name\n",
    "                            datetime.now(),                                     # load_date\n",
    "                            'Completed',                                        # job_status\n",
    "                            num_source_rows,                                    # source_received_count\n",
    "                            num_target_inserted,                                # new_inserted_count\n",
    "                            num_target_updated,                                 # new_updated_count\n",
    "                            num_target_inserted + num_target_updated,           # total_inserted_count\n",
    "                            num_target_updated,                                 # total_updated_count\n",
    "                            num_source_rows - num_op_rows,                      # skip_count\n",
    "                            tbl,                                                # filename_ts\n",
    "                            tbl,                                                # source_file_name\n",
    "                            str(uuid.uuid4())                                   # batch_id\n",
    "                        )\n",
    "                    ], [\n",
    "                        'job_name', 'source_name', 'source_table_name', 'target_table_name', 'load_date', 'job_status',\n",
    "                        'source_received_count', 'new_inserted_count', 'new_updated_count', 'total_inserted_count',\n",
    "                        'total_updated_count', 'skip_count', 'filename_ts', 'source_file_name', 'batch_id'\n",
    "                    ])\n",
    "\n",
    "                # Insert the audit log record into the audit_log table\n",
    "                audit_log_record.write.insertInto('audit_log')\n",
    "\n",
    "                if date < older_date: \n",
    "                    # Construct the SQL command for deletion\n",
    "                    delete_query = f\"DELETE FROM a_source.{tbl} WHERE last_modified = '{date}'\"\n",
    "                    \n",
    "                    # Execute the delete query\n",
    "                    spark.sql(delete_query)\n",
    "                    print(f'Deleted old file: {path_date}')\n",
    "\n",
    "                else:\n",
    "                    print('All files in the table are above 90 days')\n",
    "\n",
    "            else:\n",
    "                print(f\"No new data to process for table {tbl}. Latest date {max_last_modified} is not greater than stored date {stored_max_date}.\")\n",
    "\n",
    "        else:\n",
    "            print(f\"No valid last_modified dates found for table {tbl}.\")\n",
    "\n",
    "        # Store the max last_modified date for the current table in the dictionary\n",
    "        if max_last_modified:\n",
    "            max_dates[tbl] = max_last_modified\n",
    "            print(f'Max last_modified date for {tbl}: {max_last_modified}')\n",
    "\n",
    "    except Exception as e:\n",
    "        # Handle the exception and update audit log with 'Failed' status\n",
    "        audit_log_record = spark.createDataFrame([\n",
    "            (\n",
    "                version,\n",
    "                'Audit_column',                                     # job_name\n",
    "                path_date if 'path_date' in locals() else '',       # source_name\n",
    "                tbl,                                                # source_table_name\n",
    "                tbl,                                                # target_table_name\n",
    "                datetime.now(),                                     # load_date\n",
    "                'Failed',                                           # job_status\n",
    "                None,                                               # source_received_count\n",
    "                None,                                               # new_inserted_count\n",
    "                None,                                               # new_updated_count\n",
    "                None,                                               # total_inserted_count\n",
    "                None,                                               # total_updated_count\n",
    "                None,                                               # skip_count\n",
    "                date,                                               # filename_ts\n",
    "                tbl,                                                # source_file_name\n",
    "                str(uuid.uuid4())                                   # batch_id\n",
    "            )\n",
    "        ], [\n",
    "            'job_name', 'source_name', 'source_table_name', 'target_table_name', 'load_date', 'job_status',\n",
    "            'source_received_count', 'new_inserted_count', 'new_updated_count', 'total_inserted_count',\n",
    "            'total_updated_count', 'skip_count', 'filename_ts', 'source_file_name', 'batch_id'\n",
    "        ])\n",
    "        audit_log_record.write.insertInto('audit_log')\n",
    "        print(f\"Error occurred while processing table {tbl}: {e}\")\n",
    "\n",
    "    finally:\n",
    "        # Ensure target DataFrame is defined before displaying\n",
    "        if target is not None:\n",
    "            print(f'The final result of {tbl} table is:')\n",
    "            df = target.orderBy(f'{primary_key_col}')\n",
    "            display(df)\n"
   ]
  },
  {
   "cell_type": "code",
   "execution_count": 0,
   "metadata": {
    "application/vnd.databricks.v1+cell": {
     "cellMetadata": {
      "byteLimit": 2048000,
      "rowLimit": 10000
     },
     "inputWidgets": {},
     "nuid": "52074775-96cc-4623-b0d2-80df03b75663",
     "showTitle": false,
     "title": ""
    }
   },
   "outputs": [
    {
     "output_type": "stream",
     "name": "stdout",
     "output_type": "stream",
     "text": [
      "{}\n"
     ]
    }
   ],
   "source": [
    "print(max_dates)"
   ]
  },
  {
   "cell_type": "markdown",
   "metadata": {
    "application/vnd.databricks.v1+cell": {
     "cellMetadata": {},
     "inputWidgets": {},
     "nuid": "4156736a-50be-4d09-80e6-c8a6156e043e",
     "showTitle": false,
     "title": ""
    }
   },
   "source": [
    "# Audit Log Table"
   ]
  },
  {
   "cell_type": "code",
   "execution_count": 0,
   "metadata": {
    "application/vnd.databricks.v1+cell": {
     "cellMetadata": {
      "byteLimit": 2048000,
      "implicitDf": true,
      "rowLimit": 10000
     },
     "inputWidgets": {},
     "nuid": "9b2fbc1d-7343-4360-8b55-beb446f16dfd",
     "showTitle": false,
     "title": ""
    }
   },
   "outputs": [
    {
     "output_type": "display_data",
     "data": {
      "text/html": [
       "<style scoped>\n",
       "  .table-result-container {\n",
       "    max-height: 300px;\n",
       "    overflow: auto;\n",
       "  }\n",
       "  table, th, td {\n",
       "    border: 1px solid black;\n",
       "    border-collapse: collapse;\n",
       "  }\n",
       "  th, td {\n",
       "    padding: 5px;\n",
       "  }\n",
       "  th {\n",
       "    text-align: left;\n",
       "  }\n",
       "</style><div class='table-result-container'><table class='table-result'><thead style='background-color: white'><tr></tr></thead><tbody></tbody></table></div>"
      ]
     },
     "metadata": {
      "application/vnd.databricks.v1+output": {
       "addedWidgets": {},
       "aggData": [],
       "aggError": "",
       "aggOverflow": false,
       "aggSchema": [],
       "aggSeriesLimitReached": false,
       "aggType": "",
       "arguments": {},
       "columnCustomDisplayInfos": {},
       "data": [],
       "datasetInfos": [],
       "dbfsResultPath": null,
       "isJsonSchema": true,
       "metadata": {},
       "overflow": false,
       "plotOptions": {
        "customPlotOptions": {},
        "displayType": "table",
        "pivotAggregation": null,
        "pivotColumns": null,
        "xColumns": null,
        "yColumns": null
       },
       "removedWidgets": [],
       "schema": [],
       "type": "table"
      }
     },
     "output_type": "display_data"
    }
   ],
   "source": [
    "%sql\n",
    "drop table audit_log"
   ]
  },
  {
   "cell_type": "code",
   "execution_count": 0,
   "metadata": {
    "application/vnd.databricks.v1+cell": {
     "cellMetadata": {
      "byteLimit": 2048000,
      "implicitDf": true,
      "rowLimit": 10000
     },
     "inputWidgets": {},
     "nuid": "2ab4bd0c-4169-4b12-974c-26214f30cbac",
     "showTitle": false,
     "title": ""
    }
   },
   "outputs": [
    {
     "output_type": "display_data",
     "data": {
      "text/html": [
       "<style scoped>\n",
       "  .table-result-container {\n",
       "    max-height: 300px;\n",
       "    overflow: auto;\n",
       "  }\n",
       "  table, th, td {\n",
       "    border: 1px solid black;\n",
       "    border-collapse: collapse;\n",
       "  }\n",
       "  th, td {\n",
       "    padding: 5px;\n",
       "  }\n",
       "  th {\n",
       "    text-align: left;\n",
       "  }\n",
       "</style><div class='table-result-container'><table class='table-result'><thead style='background-color: white'><tr></tr></thead><tbody></tbody></table></div>"
      ]
     },
     "metadata": {
      "application/vnd.databricks.v1+output": {
       "addedWidgets": {},
       "aggData": [],
       "aggError": "",
       "aggOverflow": false,
       "aggSchema": [],
       "aggSeriesLimitReached": false,
       "aggType": "",
       "arguments": {},
       "columnCustomDisplayInfos": {},
       "data": [],
       "datasetInfos": [],
       "dbfsResultPath": null,
       "isJsonSchema": true,
       "metadata": {},
       "overflow": false,
       "plotOptions": {
        "customPlotOptions": {},
        "displayType": "table",
        "pivotAggregation": null,
        "pivotColumns": null,
        "xColumns": null,
        "yColumns": null
       },
       "removedWidgets": [],
       "schema": [],
       "type": "table"
      }
     },
     "output_type": "display_data"
    }
   ],
   "source": [
    "%sql\n",
    "create table audit_log(\n",
    "  version int,\n",
    "  job_name string,\n",
    "  source_name string,\n",
    "  source_table_name string,\n",
    "  target_table_name string,\n",
    "  load_date timestamp,\n",
    "  job_status string,\n",
    "  source_received_count int,\n",
    "  new_inserted_count int,\n",
    "  new_updated_count int,\n",
    "  total_inserted_count int,\n",
    "  total_updated_count int,\n",
    "  skip_count int,\n",
    "  filename_ts string,\n",
    "  source_file_name string,\n",
    "  batch_id string\n",
    ")"
   ]
  },
  {
   "cell_type": "code",
   "execution_count": 0,
   "metadata": {
    "application/vnd.databricks.v1+cell": {
     "cellMetadata": {
      "byteLimit": 2048000,
      "rowLimit": 10000
     },
     "inputWidgets": {},
     "nuid": "2bb116a6-1c66-42dc-b2bd-0cf831d1580e",
     "showTitle": false,
     "title": ""
    }
   },
   "outputs": [],
   "source": [
    "keys = {\n",
    "    'employee' : 'id',\n",
    "    'product' : 'id',\n",
    "    'student' : 'id'\n",
    "}"
   ]
  },
  {
   "cell_type": "code",
   "execution_count": 0,
   "metadata": {
    "application/vnd.databricks.v1+cell": {
     "cellMetadata": {
      "byteLimit": 2048000,
      "rowLimit": 10000
     },
     "inputWidgets": {},
     "nuid": "0192e502-fceb-4241-b521-ce26a753e55f",
     "showTitle": false,
     "title": ""
    }
   },
   "outputs": [
    {
     "output_type": "stream",
     "name": "stdout",
     "output_type": "stream",
     "text": [
      "Processing table employee with last_modified None\nDeleted old file: dbfs:/user/hive/warehouse/a_source.db/employee/last_modified=2014-08-14\nProcessing table employee with last_modified 2014-08-14\nAll files in the table are above 90 days\nProcessing table employee with last_modified 2024-08-14\nAll files in the table are above 90 days\nNo valid last_modified dates found for table employee.\nMax last_modified date for employee: 2024-08-15\nThe final result of employee table is:\n"
     ]
    },
    {
     "output_type": "display_data",
     "data": {
      "text/html": [
       "<style scoped>\n",
       "  .table-result-container {\n",
       "    max-height: 300px;\n",
       "    overflow: auto;\n",
       "  }\n",
       "  table, th, td {\n",
       "    border: 1px solid black;\n",
       "    border-collapse: collapse;\n",
       "  }\n",
       "  th, td {\n",
       "    padding: 5px;\n",
       "  }\n",
       "  th {\n",
       "    text-align: left;\n",
       "  }\n",
       "</style><div class='table-result-container'><table class='table-result'><thead style='background-color: white'><tr><th>id</th><th>name</th><th>department</th><th>salary</th><th>flag</th><th>start_date</th><th>end_date</th><th>inserted_date</th><th>updated_date</th><th>inserted_batch_id</th><th>updated_batch_id</th><th>file_name</th></tr></thead><tbody><tr><td>1</td><td>Aravindh</td><td>IT</td><td>75000</td><td>Y</td><td>2024-08-27</td><td>9999-12-31</td><td>2024-08-27T06:35:08.623+0000</td><td>2024-08-27T06:35:08.623+0000</td><td>494d6856-4fda-48bd-9b51-17136cfb5e5d</td><td>669fcd56-bae3-4791-9764-2a29db3a33c0</td><td>employee</td></tr><tr><td>1</td><td>John Doe</td><td>Engineering</td><td>75000</td><td>N</td><td>1900-01-01</td><td>2024-08-26</td><td>2024-08-27T06:34:32.103+0000</td><td>2024-08-27T06:34:32.103+0000</td><td>f3dd1c2c-07e1-45ed-905f-d6e787c7a4aa</td><td>c1a978b0-fa2b-483d-97a5-d0daaf7a266b</td><td>employee</td></tr><tr><td>1</td><td>Aravindh</td><td>Engineering</td><td>75000</td><td>N</td><td>2024-08-27</td><td>2024-08-26</td><td>2024-08-27T06:35:08.623+0000</td><td>2024-08-27T06:35:08.623+0000</td><td>ab3de10e-bffd-4e85-bebc-776f277f8ccc</td><td>494d6856-4fda-48bd-9b51-17136cfb5e5d</td><td>employee</td></tr><tr><td>1</td><td>Aravindh</td><td>Jobless</td><td>0</td><td>N</td><td>2024-08-27</td><td>2024-08-26</td><td>2024-08-27T06:34:50.228+0000</td><td>2024-08-27T06:34:50.228+0000</td><td>c1a978b0-fa2b-483d-97a5-d0daaf7a266b</td><td>ab3de10e-bffd-4e85-bebc-776f277f8ccc</td><td>employee</td></tr><tr><td>2</td><td>Jane Smith</td><td>Marketing</td><td>65000</td><td>Y</td><td>1900-01-01</td><td>9999-12-31</td><td>2024-08-27T06:34:03.353+0000</td><td>2024-08-27T06:34:03.353+0000</td><td>f3dd1c2c-07e1-45ed-905f-d6e787c7a4aa</td><td>8b6705ce-6c68-4aac-94d6-6dd80665767a</td><td>employee</td></tr><tr><td>3</td><td>Sam Brown</td><td>Sales</td><td>55000</td><td>Y</td><td>1900-01-01</td><td>9999-12-31</td><td>2024-08-27T06:34:03.353+0000</td><td>2024-08-27T06:34:03.353+0000</td><td>f3dd1c2c-07e1-45ed-905f-d6e787c7a4aa</td><td>8b6705ce-6c68-4aac-94d6-6dd80665767a</td><td>employee</td></tr><tr><td>4</td><td>Emily Davis</td><td>HR</td><td>60000</td><td>Y</td><td>1900-01-01</td><td>9999-12-31</td><td>2024-08-27T06:34:03.353+0000</td><td>2024-08-27T06:34:03.353+0000</td><td>f3dd1c2c-07e1-45ed-905f-d6e787c7a4aa</td><td>8b6705ce-6c68-4aac-94d6-6dd80665767a</td><td>employee</td></tr><tr><td>5</td><td>Michael Johnson</td><td>Finance</td><td>70000</td><td>Y</td><td>1900-01-01</td><td>9999-12-31</td><td>2024-08-27T06:34:03.353+0000</td><td>2024-08-27T06:34:03.353+0000</td><td>f3dd1c2c-07e1-45ed-905f-d6e787c7a4aa</td><td>8b6705ce-6c68-4aac-94d6-6dd80665767a</td><td>employee</td></tr><tr><td>6</td><td>Pavithran</td><td>Marketing</td><td>65000</td><td>Y</td><td>1900-01-01</td><td>9999-12-31</td><td>2024-08-27T06:34:50.228+0000</td><td>2024-08-27T06:34:50.228+0000</td><td>ab3de10e-bffd-4e85-bebc-776f277f8ccc</td><td>19bce467-6c7e-412e-9eef-4c8d7c8fdc78</td><td>employee</td></tr><tr><td>7</td><td>Samantha</td><td>Sales</td><td>55000</td><td>Y</td><td>1900-01-01</td><td>9999-12-31</td><td>2024-08-27T06:34:50.228+0000</td><td>2024-08-27T06:34:50.228+0000</td><td>ab3de10e-bffd-4e85-bebc-776f277f8ccc</td><td>19bce467-6c7e-412e-9eef-4c8d7c8fdc78</td><td>employee</td></tr><tr><td>8</td><td>Bala</td><td>Engineering</td><td>75000</td><td>Y</td><td>1900-01-01</td><td>9999-12-31</td><td>2024-08-27T06:35:08.623+0000</td><td>2024-08-27T06:35:08.623+0000</td><td>494d6856-4fda-48bd-9b51-17136cfb5e5d</td><td>669fcd56-bae3-4791-9764-2a29db3a33c0</td><td>employee</td></tr></tbody></table></div>"
      ]
     },
     "metadata": {
      "application/vnd.databricks.v1+output": {
       "addedWidgets": {},
       "aggData": [],
       "aggError": "",
       "aggOverflow": false,
       "aggSchema": [],
       "aggSeriesLimitReached": false,
       "aggType": "",
       "arguments": {},
       "columnCustomDisplayInfos": {},
       "data": [
        [
         "1",
         "Aravindh",
         "IT",
         75000,
         "Y",
         "2024-08-27",
         "9999-12-31",
         "2024-08-27T06:35:08.623+0000",
         "2024-08-27T06:35:08.623+0000",
         "494d6856-4fda-48bd-9b51-17136cfb5e5d",
         "669fcd56-bae3-4791-9764-2a29db3a33c0",
         "employee"
        ],
        [
         "1",
         "John Doe",
         "Engineering",
         75000,
         "N",
         "1900-01-01",
         "2024-08-26",
         "2024-08-27T06:34:32.103+0000",
         "2024-08-27T06:34:32.103+0000",
         "f3dd1c2c-07e1-45ed-905f-d6e787c7a4aa",
         "c1a978b0-fa2b-483d-97a5-d0daaf7a266b",
         "employee"
        ],
        [
         "1",
         "Aravindh",
         "Engineering",
         75000,
         "N",
         "2024-08-27",
         "2024-08-26",
         "2024-08-27T06:35:08.623+0000",
         "2024-08-27T06:35:08.623+0000",
         "ab3de10e-bffd-4e85-bebc-776f277f8ccc",
         "494d6856-4fda-48bd-9b51-17136cfb5e5d",
         "employee"
        ],
        [
         "1",
         "Aravindh",
         "Jobless",
         0,
         "N",
         "2024-08-27",
         "2024-08-26",
         "2024-08-27T06:34:50.228+0000",
         "2024-08-27T06:34:50.228+0000",
         "c1a978b0-fa2b-483d-97a5-d0daaf7a266b",
         "ab3de10e-bffd-4e85-bebc-776f277f8ccc",
         "employee"
        ],
        [
         "2",
         "Jane Smith",
         "Marketing",
         65000,
         "Y",
         "1900-01-01",
         "9999-12-31",
         "2024-08-27T06:34:03.353+0000",
         "2024-08-27T06:34:03.353+0000",
         "f3dd1c2c-07e1-45ed-905f-d6e787c7a4aa",
         "8b6705ce-6c68-4aac-94d6-6dd80665767a",
         "employee"
        ],
        [
         "3",
         "Sam Brown",
         "Sales",
         55000,
         "Y",
         "1900-01-01",
         "9999-12-31",
         "2024-08-27T06:34:03.353+0000",
         "2024-08-27T06:34:03.353+0000",
         "f3dd1c2c-07e1-45ed-905f-d6e787c7a4aa",
         "8b6705ce-6c68-4aac-94d6-6dd80665767a",
         "employee"
        ],
        [
         "4",
         "Emily Davis",
         "HR",
         60000,
         "Y",
         "1900-01-01",
         "9999-12-31",
         "2024-08-27T06:34:03.353+0000",
         "2024-08-27T06:34:03.353+0000",
         "f3dd1c2c-07e1-45ed-905f-d6e787c7a4aa",
         "8b6705ce-6c68-4aac-94d6-6dd80665767a",
         "employee"
        ],
        [
         "5",
         "Michael Johnson",
         "Finance",
         70000,
         "Y",
         "1900-01-01",
         "9999-12-31",
         "2024-08-27T06:34:03.353+0000",
         "2024-08-27T06:34:03.353+0000",
         "f3dd1c2c-07e1-45ed-905f-d6e787c7a4aa",
         "8b6705ce-6c68-4aac-94d6-6dd80665767a",
         "employee"
        ],
        [
         "6",
         "Pavithran",
         "Marketing",
         65000,
         "Y",
         "1900-01-01",
         "9999-12-31",
         "2024-08-27T06:34:50.228+0000",
         "2024-08-27T06:34:50.228+0000",
         "ab3de10e-bffd-4e85-bebc-776f277f8ccc",
         "19bce467-6c7e-412e-9eef-4c8d7c8fdc78",
         "employee"
        ],
        [
         "7",
         "Samantha",
         "Sales",
         55000,
         "Y",
         "1900-01-01",
         "9999-12-31",
         "2024-08-27T06:34:50.228+0000",
         "2024-08-27T06:34:50.228+0000",
         "ab3de10e-bffd-4e85-bebc-776f277f8ccc",
         "19bce467-6c7e-412e-9eef-4c8d7c8fdc78",
         "employee"
        ],
        [
         "8",
         "Bala",
         "Engineering",
         75000,
         "Y",
         "1900-01-01",
         "9999-12-31",
         "2024-08-27T06:35:08.623+0000",
         "2024-08-27T06:35:08.623+0000",
         "494d6856-4fda-48bd-9b51-17136cfb5e5d",
         "669fcd56-bae3-4791-9764-2a29db3a33c0",
         "employee"
        ]
       ],
       "datasetInfos": [],
       "dbfsResultPath": null,
       "isJsonSchema": true,
       "metadata": {},
       "overflow": false,
       "plotOptions": {
        "customPlotOptions": {},
        "displayType": "table",
        "pivotAggregation": null,
        "pivotColumns": null,
        "xColumns": null,
        "yColumns": null
       },
       "removedWidgets": [],
       "schema": [
        {
         "metadata": "{}",
         "name": "id",
         "type": "\"string\""
        },
        {
         "metadata": "{}",
         "name": "name",
         "type": "\"string\""
        },
        {
         "metadata": "{}",
         "name": "department",
         "type": "\"string\""
        },
        {
         "metadata": "{}",
         "name": "salary",
         "type": "\"integer\""
        },
        {
         "metadata": "{}",
         "name": "flag",
         "type": "\"string\""
        },
        {
         "metadata": "{}",
         "name": "start_date",
         "type": "\"date\""
        },
        {
         "metadata": "{}",
         "name": "end_date",
         "type": "\"date\""
        },
        {
         "metadata": "{}",
         "name": "inserted_date",
         "type": "\"timestamp\""
        },
        {
         "metadata": "{}",
         "name": "updated_date",
         "type": "\"timestamp\""
        },
        {
         "metadata": "{}",
         "name": "inserted_batch_id",
         "type": "\"string\""
        },
        {
         "metadata": "{}",
         "name": "updated_batch_id",
         "type": "\"string\""
        },
        {
         "metadata": "{}",
         "name": "file_name",
         "type": "\"string\""
        }
       ],
       "type": "table"
      }
     },
     "output_type": "display_data"
    },
    {
     "output_type": "stream",
     "name": "stdout",
     "output_type": "stream",
     "text": [
      "Processing table product with last_modified None\nAll files in the table are above 90 days\nNo valid last_modified dates found for table product.\nMax last_modified date for product: 2024-08-14\nThe final result of product table is:\n"
     ]
    },
    {
     "output_type": "display_data",
     "data": {
      "text/html": [
       "<style scoped>\n",
       "  .table-result-container {\n",
       "    max-height: 300px;\n",
       "    overflow: auto;\n",
       "  }\n",
       "  table, th, td {\n",
       "    border: 1px solid black;\n",
       "    border-collapse: collapse;\n",
       "  }\n",
       "  th, td {\n",
       "    padding: 5px;\n",
       "  }\n",
       "  th {\n",
       "    text-align: left;\n",
       "  }\n",
       "</style><div class='table-result-container'><table class='table-result'><thead style='background-color: white'><tr><th>id</th><th>name</th><th>category</th><th>flag</th><th>start_date</th><th>end_date</th><th>inserted_date</th><th>updated_date</th><th>inserted_batch_id</th><th>updated_batch_id</th><th>file_name</th></tr></thead><tbody><tr><td>1</td><td>Bed</td><td>Furniture</td><td>Y</td><td>2024-08-27</td><td>9999-12-31</td><td>2024-08-27T06:35:29.184+0000</td><td>2024-08-27T06:35:29.184+0000</td><td>a6b7f0fb-ff42-4963-a2b0-353ebc986221</td><td>5b10551b-b276-43d3-83f2-a9f1dd9baf37</td><td>product</td></tr><tr><td>1</td><td>Laptop</td><td>Electronics</td><td>N</td><td>1900-01-01</td><td>2024-08-26</td><td>2024-08-27T06:35:29.184+0000</td><td>2024-08-27T06:35:29.184+0000</td><td>5f473fb6-c660-42e8-8b2b-9d780f15272d</td><td>a6b7f0fb-ff42-4963-a2b0-353ebc986221</td><td>product</td></tr><tr><td>2</td><td>PS4</td><td>Electronics</td><td>Y</td><td>2024-08-27</td><td>9999-12-31</td><td>2024-08-27T06:35:29.184+0000</td><td>2024-08-27T06:35:29.184+0000</td><td>a6b7f0fb-ff42-4963-a2b0-353ebc986221</td><td>5b10551b-b276-43d3-83f2-a9f1dd9baf37</td><td>product</td></tr><tr><td>2</td><td>Chair</td><td>Furniture</td><td>N</td><td>1900-01-01</td><td>2024-08-26</td><td>2024-08-27T06:35:29.184+0000</td><td>2024-08-27T06:35:29.184+0000</td><td>5f473fb6-c660-42e8-8b2b-9d780f15272d</td><td>a6b7f0fb-ff42-4963-a2b0-353ebc986221</td><td>product</td></tr><tr><td>3</td><td>Desk</td><td>Furniture</td><td>Y</td><td>1900-01-01</td><td>9999-12-31</td><td>2024-08-27T06:33:59.536+0000</td><td>2024-08-27T06:33:59.536+0000</td><td>5f473fb6-c660-42e8-8b2b-9d780f15272d</td><td>d258c67c-b0c3-453b-b92e-f947eb93199b</td><td>product</td></tr><tr><td>4</td><td>Smartphone</td><td>Electronics</td><td>Y</td><td>1900-01-01</td><td>9999-12-31</td><td>2024-08-27T06:33:59.536+0000</td><td>2024-08-27T06:33:59.536+0000</td><td>5f473fb6-c660-42e8-8b2b-9d780f15272d</td><td>d258c67c-b0c3-453b-b92e-f947eb93199b</td><td>product</td></tr><tr><td>5</td><td>Monitor</td><td>Electronics</td><td>Y</td><td>1900-01-01</td><td>9999-12-31</td><td>2024-08-27T06:33:59.536+0000</td><td>2024-08-27T06:33:59.536+0000</td><td>5f473fb6-c660-42e8-8b2b-9d780f15272d</td><td>d258c67c-b0c3-453b-b92e-f947eb93199b</td><td>product</td></tr><tr><td>6</td><td>Fan</td><td>Electronics</td><td>Y</td><td>1900-01-01</td><td>9999-12-31</td><td>2024-08-27T06:35:29.184+0000</td><td>2024-08-27T06:35:29.184+0000</td><td>a6b7f0fb-ff42-4963-a2b0-353ebc986221</td><td>5b10551b-b276-43d3-83f2-a9f1dd9baf37</td><td>product</td></tr></tbody></table></div>"
      ]
     },
     "metadata": {
      "application/vnd.databricks.v1+output": {
       "addedWidgets": {},
       "aggData": [],
       "aggError": "",
       "aggOverflow": false,
       "aggSchema": [],
       "aggSeriesLimitReached": false,
       "aggType": "",
       "arguments": {},
       "columnCustomDisplayInfos": {},
       "data": [
        [
         1,
         "Bed",
         "Furniture",
         "Y",
         "2024-08-27",
         "9999-12-31",
         "2024-08-27T06:35:29.184+0000",
         "2024-08-27T06:35:29.184+0000",
         "a6b7f0fb-ff42-4963-a2b0-353ebc986221",
         "5b10551b-b276-43d3-83f2-a9f1dd9baf37",
         "product"
        ],
        [
         1,
         "Laptop",
         "Electronics",
         "N",
         "1900-01-01",
         "2024-08-26",
         "2024-08-27T06:35:29.184+0000",
         "2024-08-27T06:35:29.184+0000",
         "5f473fb6-c660-42e8-8b2b-9d780f15272d",
         "a6b7f0fb-ff42-4963-a2b0-353ebc986221",
         "product"
        ],
        [
         2,
         "PS4",
         "Electronics",
         "Y",
         "2024-08-27",
         "9999-12-31",
         "2024-08-27T06:35:29.184+0000",
         "2024-08-27T06:35:29.184+0000",
         "a6b7f0fb-ff42-4963-a2b0-353ebc986221",
         "5b10551b-b276-43d3-83f2-a9f1dd9baf37",
         "product"
        ],
        [
         2,
         "Chair",
         "Furniture",
         "N",
         "1900-01-01",
         "2024-08-26",
         "2024-08-27T06:35:29.184+0000",
         "2024-08-27T06:35:29.184+0000",
         "5f473fb6-c660-42e8-8b2b-9d780f15272d",
         "a6b7f0fb-ff42-4963-a2b0-353ebc986221",
         "product"
        ],
        [
         3,
         "Desk",
         "Furniture",
         "Y",
         "1900-01-01",
         "9999-12-31",
         "2024-08-27T06:33:59.536+0000",
         "2024-08-27T06:33:59.536+0000",
         "5f473fb6-c660-42e8-8b2b-9d780f15272d",
         "d258c67c-b0c3-453b-b92e-f947eb93199b",
         "product"
        ],
        [
         4,
         "Smartphone",
         "Electronics",
         "Y",
         "1900-01-01",
         "9999-12-31",
         "2024-08-27T06:33:59.536+0000",
         "2024-08-27T06:33:59.536+0000",
         "5f473fb6-c660-42e8-8b2b-9d780f15272d",
         "d258c67c-b0c3-453b-b92e-f947eb93199b",
         "product"
        ],
        [
         5,
         "Monitor",
         "Electronics",
         "Y",
         "1900-01-01",
         "9999-12-31",
         "2024-08-27T06:33:59.536+0000",
         "2024-08-27T06:33:59.536+0000",
         "5f473fb6-c660-42e8-8b2b-9d780f15272d",
         "d258c67c-b0c3-453b-b92e-f947eb93199b",
         "product"
        ],
        [
         6,
         "Fan",
         "Electronics",
         "Y",
         "1900-01-01",
         "9999-12-31",
         "2024-08-27T06:35:29.184+0000",
         "2024-08-27T06:35:29.184+0000",
         "a6b7f0fb-ff42-4963-a2b0-353ebc986221",
         "5b10551b-b276-43d3-83f2-a9f1dd9baf37",
         "product"
        ]
       ],
       "datasetInfos": [],
       "dbfsResultPath": null,
       "isJsonSchema": true,
       "metadata": {},
       "overflow": false,
       "plotOptions": {
        "customPlotOptions": {},
        "displayType": "table",
        "pivotAggregation": null,
        "pivotColumns": null,
        "xColumns": null,
        "yColumns": null
       },
       "removedWidgets": [],
       "schema": [
        {
         "metadata": "{}",
         "name": "id",
         "type": "\"integer\""
        },
        {
         "metadata": "{}",
         "name": "name",
         "type": "\"string\""
        },
        {
         "metadata": "{}",
         "name": "category",
         "type": "\"string\""
        },
        {
         "metadata": "{}",
         "name": "flag",
         "type": "\"string\""
        },
        {
         "metadata": "{}",
         "name": "start_date",
         "type": "\"date\""
        },
        {
         "metadata": "{}",
         "name": "end_date",
         "type": "\"date\""
        },
        {
         "metadata": "{}",
         "name": "inserted_date",
         "type": "\"timestamp\""
        },
        {
         "metadata": "{}",
         "name": "updated_date",
         "type": "\"timestamp\""
        },
        {
         "metadata": "{}",
         "name": "inserted_batch_id",
         "type": "\"string\""
        },
        {
         "metadata": "{}",
         "name": "updated_batch_id",
         "type": "\"string\""
        },
        {
         "metadata": "{}",
         "name": "file_name",
         "type": "\"string\""
        }
       ],
       "type": "table"
      }
     },
     "output_type": "display_data"
    },
    {
     "output_type": "stream",
     "name": "stdout",
     "output_type": "stream",
     "text": [
      "Processing table student with last_modified None\nAll files in the table are above 90 days\nNo valid last_modified dates found for table student.\nMax last_modified date for student: 2024-08-14\nThe final result of student table is:\n"
     ]
    },
    {
     "output_type": "display_data",
     "data": {
      "text/html": [
       "<style scoped>\n",
       "  .table-result-container {\n",
       "    max-height: 300px;\n",
       "    overflow: auto;\n",
       "  }\n",
       "  table, th, td {\n",
       "    border: 1px solid black;\n",
       "    border-collapse: collapse;\n",
       "  }\n",
       "  th, td {\n",
       "    padding: 5px;\n",
       "  }\n",
       "  th {\n",
       "    text-align: left;\n",
       "  }\n",
       "</style><div class='table-result-container'><table class='table-result'><thead style='background-color: white'><tr><th>id</th><th>name</th><th>dep</th><th>flag</th><th>start_date</th><th>end_date</th><th>inserted_date</th><th>updated_date</th><th>inserted_batch_id</th><th>updated_batch_id</th><th>file_name</th></tr></thead><tbody><tr><td>1</td><td>Aravindh</td><td>Mct</td><td>Y</td><td>1900-01-01</td><td>9999-12-31</td><td>2024-08-27T06:33:55.908+0000</td><td>2024-08-27T06:33:55.908+0000</td><td>e83259c2-789e-4f03-ae21-017c98c333da</td><td>674000a8-26fd-47dc-b5e1-c6bd24aeffe6</td><td>student</td></tr><tr><td>2</td><td>Vasanth</td><td>Mct</td><td>Y</td><td>1900-01-01</td><td>9999-12-31</td><td>2024-08-27T06:33:55.908+0000</td><td>2024-08-27T06:33:55.908+0000</td><td>e83259c2-789e-4f03-ae21-017c98c333da</td><td>674000a8-26fd-47dc-b5e1-c6bd24aeffe6</td><td>student</td></tr><tr><td>3</td><td>Jana</td><td>Mct</td><td>N</td><td>1900-01-01</td><td>2024-08-26</td><td>2024-08-27T06:35:48.183+0000</td><td>2024-08-27T06:35:48.183+0000</td><td>e83259c2-789e-4f03-ae21-017c98c333da</td><td>b6326898-02d0-4a05-bec8-3eb5d019c5f4</td><td>student</td></tr><tr><td>3</td><td>Jana</td><td>Mech</td><td>Y</td><td>2024-08-27</td><td>9999-12-31</td><td>2024-08-27T06:35:48.183+0000</td><td>2024-08-27T06:35:48.183+0000</td><td>b6326898-02d0-4a05-bec8-3eb5d019c5f4</td><td>c175b87b-c167-4526-b4ed-b2f56a38298f</td><td>student</td></tr><tr><td>4</td><td>Pavithran</td><td>Cse</td><td>Y</td><td>2024-08-27</td><td>9999-12-31</td><td>2024-08-27T06:35:48.183+0000</td><td>2024-08-27T06:35:48.183+0000</td><td>b6326898-02d0-4a05-bec8-3eb5d019c5f4</td><td>c175b87b-c167-4526-b4ed-b2f56a38298f</td><td>student</td></tr><tr><td>4</td><td>Pavithran</td><td>Mct</td><td>N</td><td>1900-01-01</td><td>2024-08-26</td><td>2024-08-27T06:35:48.183+0000</td><td>2024-08-27T06:35:48.183+0000</td><td>e83259c2-789e-4f03-ae21-017c98c333da</td><td>b6326898-02d0-4a05-bec8-3eb5d019c5f4</td><td>student</td></tr><tr><td>5</td><td>Nishanth</td><td>Mech</td><td>Y</td><td>1900-01-01</td><td>9999-12-31</td><td>2024-08-27T06:35:48.183+0000</td><td>2024-08-27T06:35:48.183+0000</td><td>b6326898-02d0-4a05-bec8-3eb5d019c5f4</td><td>c175b87b-c167-4526-b4ed-b2f56a38298f</td><td>student</td></tr><tr><td>6</td><td>Vikram</td><td>Mct</td><td>Y</td><td>1900-01-01</td><td>9999-12-31</td><td>2024-08-27T06:35:48.183+0000</td><td>2024-08-27T06:35:48.183+0000</td><td>b6326898-02d0-4a05-bec8-3eb5d019c5f4</td><td>c175b87b-c167-4526-b4ed-b2f56a38298f</td><td>student</td></tr></tbody></table></div>"
      ]
     },
     "metadata": {
      "application/vnd.databricks.v1+output": {
       "addedWidgets": {},
       "aggData": [],
       "aggError": "",
       "aggOverflow": false,
       "aggSchema": [],
       "aggSeriesLimitReached": false,
       "aggType": "",
       "arguments": {},
       "columnCustomDisplayInfos": {},
       "data": [
        [
         1,
         "Aravindh",
         "Mct",
         "Y",
         "1900-01-01",
         "9999-12-31",
         "2024-08-27T06:33:55.908+0000",
         "2024-08-27T06:33:55.908+0000",
         "e83259c2-789e-4f03-ae21-017c98c333da",
         "674000a8-26fd-47dc-b5e1-c6bd24aeffe6",
         "student"
        ],
        [
         2,
         "Vasanth",
         "Mct",
         "Y",
         "1900-01-01",
         "9999-12-31",
         "2024-08-27T06:33:55.908+0000",
         "2024-08-27T06:33:55.908+0000",
         "e83259c2-789e-4f03-ae21-017c98c333da",
         "674000a8-26fd-47dc-b5e1-c6bd24aeffe6",
         "student"
        ],
        [
         3,
         "Jana",
         "Mct",
         "N",
         "1900-01-01",
         "2024-08-26",
         "2024-08-27T06:35:48.183+0000",
         "2024-08-27T06:35:48.183+0000",
         "e83259c2-789e-4f03-ae21-017c98c333da",
         "b6326898-02d0-4a05-bec8-3eb5d019c5f4",
         "student"
        ],
        [
         3,
         "Jana",
         "Mech",
         "Y",
         "2024-08-27",
         "9999-12-31",
         "2024-08-27T06:35:48.183+0000",
         "2024-08-27T06:35:48.183+0000",
         "b6326898-02d0-4a05-bec8-3eb5d019c5f4",
         "c175b87b-c167-4526-b4ed-b2f56a38298f",
         "student"
        ],
        [
         4,
         "Pavithran",
         "Cse",
         "Y",
         "2024-08-27",
         "9999-12-31",
         "2024-08-27T06:35:48.183+0000",
         "2024-08-27T06:35:48.183+0000",
         "b6326898-02d0-4a05-bec8-3eb5d019c5f4",
         "c175b87b-c167-4526-b4ed-b2f56a38298f",
         "student"
        ],
        [
         4,
         "Pavithran",
         "Mct",
         "N",
         "1900-01-01",
         "2024-08-26",
         "2024-08-27T06:35:48.183+0000",
         "2024-08-27T06:35:48.183+0000",
         "e83259c2-789e-4f03-ae21-017c98c333da",
         "b6326898-02d0-4a05-bec8-3eb5d019c5f4",
         "student"
        ],
        [
         5,
         "Nishanth",
         "Mech",
         "Y",
         "1900-01-01",
         "9999-12-31",
         "2024-08-27T06:35:48.183+0000",
         "2024-08-27T06:35:48.183+0000",
         "b6326898-02d0-4a05-bec8-3eb5d019c5f4",
         "c175b87b-c167-4526-b4ed-b2f56a38298f",
         "student"
        ],
        [
         6,
         "Vikram",
         "Mct",
         "Y",
         "1900-01-01",
         "9999-12-31",
         "2024-08-27T06:35:48.183+0000",
         "2024-08-27T06:35:48.183+0000",
         "b6326898-02d0-4a05-bec8-3eb5d019c5f4",
         "c175b87b-c167-4526-b4ed-b2f56a38298f",
         "student"
        ]
       ],
       "datasetInfos": [],
       "dbfsResultPath": null,
       "isJsonSchema": true,
       "metadata": {},
       "overflow": false,
       "plotOptions": {
        "customPlotOptions": {},
        "displayType": "table",
        "pivotAggregation": null,
        "pivotColumns": null,
        "xColumns": null,
        "yColumns": null
       },
       "removedWidgets": [],
       "schema": [
        {
         "metadata": "{}",
         "name": "id",
         "type": "\"integer\""
        },
        {
         "metadata": "{}",
         "name": "name",
         "type": "\"string\""
        },
        {
         "metadata": "{}",
         "name": "dep",
         "type": "\"string\""
        },
        {
         "metadata": "{}",
         "name": "flag",
         "type": "\"string\""
        },
        {
         "metadata": "{}",
         "name": "start_date",
         "type": "\"date\""
        },
        {
         "metadata": "{}",
         "name": "end_date",
         "type": "\"date\""
        },
        {
         "metadata": "{}",
         "name": "inserted_date",
         "type": "\"timestamp\""
        },
        {
         "metadata": "{}",
         "name": "updated_date",
         "type": "\"timestamp\""
        },
        {
         "metadata": "{}",
         "name": "inserted_batch_id",
         "type": "\"string\""
        },
        {
         "metadata": "{}",
         "name": "updated_batch_id",
         "type": "\"string\""
        },
        {
         "metadata": "{}",
         "name": "file_name",
         "type": "\"string\""
        }
       ],
       "type": "table"
      }
     },
     "output_type": "display_data"
    }
   ],
   "source": [
    "from delta.tables import DeltaTable\n",
    "# Process each table in the source_tbl list\n",
    "for tbl in source_tbl:\n",
    "    process_table(tbl, keys)"
   ]
  },
  {
   "cell_type": "code",
   "execution_count": 0,
   "metadata": {
    "application/vnd.databricks.v1+cell": {
     "cellMetadata": {
      "byteLimit": 2048000,
      "implicitDf": true,
      "rowLimit": 10000
     },
     "inputWidgets": {},
     "nuid": "8de0a202-de0e-4f70-87ab-36d42ccc0220",
     "showTitle": false,
     "title": ""
    }
   },
   "outputs": [
    {
     "output_type": "display_data",
     "data": {
      "text/html": [
       "<style scoped>\n",
       "  .table-result-container {\n",
       "    max-height: 300px;\n",
       "    overflow: auto;\n",
       "  }\n",
       "  table, th, td {\n",
       "    border: 1px solid black;\n",
       "    border-collapse: collapse;\n",
       "  }\n",
       "  th, td {\n",
       "    padding: 5px;\n",
       "  }\n",
       "  th {\n",
       "    text-align: left;\n",
       "  }\n",
       "</style><div class='table-result-container'><table class='table-result'><thead style='background-color: white'><tr><th>id</th><th>name</th><th>department</th><th>salary</th><th>last_modified</th></tr></thead><tbody><tr><td>1</td><td>Aravindh</td><td>Engineering</td><td>75000</td><td>2024-08-14</td></tr><tr><td>6</td><td>Pavithran</td><td>Marketing</td><td>65000</td><td>2024-08-14</td></tr><tr><td>8</td><td>Bala</td><td>Engineering</td><td>75000</td><td>2024-08-15</td></tr><tr><td>7</td><td>Samantha</td><td>Sales</td><td>55000</td><td>2024-08-14</td></tr><tr><td>1</td><td>Aravindh</td><td>IT</td><td>75000</td><td>2024-08-15</td></tr></tbody></table></div>"
      ]
     },
     "metadata": {
      "application/vnd.databricks.v1+output": {
       "addedWidgets": {},
       "aggData": [],
       "aggError": "",
       "aggOverflow": false,
       "aggSchema": [],
       "aggSeriesLimitReached": false,
       "aggType": "",
       "arguments": {},
       "columnCustomDisplayInfos": {},
       "data": [
        [
         1,
         "Aravindh",
         "Engineering",
         75000,
         "2024-08-14"
        ],
        [
         6,
         "Pavithran",
         "Marketing",
         65000,
         "2024-08-14"
        ],
        [
         8,
         "Bala",
         "Engineering",
         75000,
         "2024-08-15"
        ],
        [
         7,
         "Samantha",
         "Sales",
         55000,
         "2024-08-14"
        ],
        [
         1,
         "Aravindh",
         "IT",
         75000,
         "2024-08-15"
        ]
       ],
       "datasetInfos": [],
       "dbfsResultPath": null,
       "isJsonSchema": true,
       "metadata": {},
       "overflow": false,
       "plotOptions": {
        "customPlotOptions": {},
        "displayType": "table",
        "pivotAggregation": null,
        "pivotColumns": null,
        "xColumns": null,
        "yColumns": null
       },
       "removedWidgets": [],
       "schema": [
        {
         "metadata": "{}",
         "name": "id",
         "type": "\"integer\""
        },
        {
         "metadata": "{}",
         "name": "name",
         "type": "\"string\""
        },
        {
         "metadata": "{}",
         "name": "department",
         "type": "\"string\""
        },
        {
         "metadata": "{}",
         "name": "salary",
         "type": "\"integer\""
        },
        {
         "metadata": "{}",
         "name": "last_modified",
         "type": "\"date\""
        }
       ],
       "type": "table"
      }
     },
     "output_type": "display_data"
    }
   ],
   "source": [
    "%sql\n",
    "select * from a_source.employee"
   ]
  },
  {
   "cell_type": "code",
   "execution_count": 0,
   "metadata": {
    "application/vnd.databricks.v1+cell": {
     "cellMetadata": {
      "byteLimit": 2048000,
      "implicitDf": true,
      "rowLimit": 10000
     },
     "inputWidgets": {},
     "nuid": "1beb1e31-412e-4794-996d-7485b3883fd6",
     "showTitle": false,
     "title": ""
    }
   },
   "outputs": [
    {
     "output_type": "display_data",
     "data": {
      "text/html": [
       "<style scoped>\n",
       "  .table-result-container {\n",
       "    max-height: 300px;\n",
       "    overflow: auto;\n",
       "  }\n",
       "  table, th, td {\n",
       "    border: 1px solid black;\n",
       "    border-collapse: collapse;\n",
       "  }\n",
       "  th, td {\n",
       "    padding: 5px;\n",
       "  }\n",
       "  th {\n",
       "    text-align: left;\n",
       "  }\n",
       "</style><div class='table-result-container'><table class='table-result'><thead style='background-color: white'><tr><th>version</th><th>job_name</th><th>source_name</th><th>source_table_name</th><th>target_table_name</th><th>load_date</th><th>job_status</th><th>source_received_count</th><th>new_inserted_count</th><th>new_updated_count</th><th>total_inserted_count</th><th>total_updated_count</th><th>skip_count</th><th>filename_ts</th><th>source_file_name</th><th>batch_id</th></tr></thead><tbody><tr><td>1</td><td>Audit_column</td><td>dbfs:/user/hive/warehouse/a_source.db/employee/last_modified=2014-08-14</td><td>employee</td><td>employee</td><td>2024-08-27T06:34:44.743+0000</td><td>Completed</td><td>2</td><td>1</td><td>1</td><td>2</td><td>1</td><td>0</td><td>employee</td><td>employee</td><td>df81ce90-ef1f-4d62-9fbf-18c11f9ea5be</td></tr><tr><td>2</td><td>Audit_column</td><td>dbfs:/user/hive/warehouse/a_source.db/employee/last_modified=2024-08-14</td><td>employee</td><td>employee</td><td>2024-08-27T06:35:04.159+0000</td><td>Completed</td><td>4</td><td>3</td><td>1</td><td>4</td><td>1</td><td>0</td><td>employee</td><td>employee</td><td>65060d14-24ff-4179-9281-fd3f90ed23ea</td></tr><tr><td>3</td><td>Audit_column</td><td>dbfs:/user/hive/warehouse/a_source.db/employee/last_modified=2024-08-15</td><td>employee</td><td>employee</td><td>2024-08-27T06:35:23.105+0000</td><td>Completed</td><td>3</td><td>2</td><td>1</td><td>3</td><td>1</td><td>0</td><td>employee</td><td>employee</td><td>6ec3ab0a-1efb-40a8-94b1-1afd5e6e4b4b</td></tr><tr><td>1</td><td>Audit_column</td><td>dbfs:/user/hive/warehouse/a_source.db/product/last_modified=2024-08-14</td><td>product</td><td>product</td><td>2024-08-27T06:35:42.335+0000</td><td>Completed</td><td>5</td><td>3</td><td>2</td><td>5</td><td>2</td><td>0</td><td>product</td><td>product</td><td>5f947bc5-5df0-4b46-a72e-d777c68eb2ca</td></tr><tr><td>1</td><td>Audit_column</td><td>dbfs:/user/hive/warehouse/a_source.db/student/last_modified=2024-08-14</td><td>student</td><td>student</td><td>2024-08-27T06:36:01.298+0000</td><td>Completed</td><td>6</td><td>4</td><td>2</td><td>6</td><td>2</td><td>0</td><td>student</td><td>student</td><td>a4951ccc-e4ff-4ebd-b8de-5ec2f8f424bb</td></tr></tbody></table></div>"
      ]
     },
     "metadata": {
      "application/vnd.databricks.v1+output": {
       "addedWidgets": {},
       "aggData": [],
       "aggError": "",
       "aggOverflow": false,
       "aggSchema": [],
       "aggSeriesLimitReached": false,
       "aggType": "",
       "arguments": {},
       "columnCustomDisplayInfos": {},
       "data": [
        [
         1,
         "Audit_column",
         "dbfs:/user/hive/warehouse/a_source.db/employee/last_modified=2014-08-14",
         "employee",
         "employee",
         "2024-08-27T06:34:44.743+0000",
         "Completed",
         2,
         1,
         1,
         2,
         1,
         0,
         "employee",
         "employee",
         "df81ce90-ef1f-4d62-9fbf-18c11f9ea5be"
        ],
        [
         2,
         "Audit_column",
         "dbfs:/user/hive/warehouse/a_source.db/employee/last_modified=2024-08-14",
         "employee",
         "employee",
         "2024-08-27T06:35:04.159+0000",
         "Completed",
         4,
         3,
         1,
         4,
         1,
         0,
         "employee",
         "employee",
         "65060d14-24ff-4179-9281-fd3f90ed23ea"
        ],
        [
         3,
         "Audit_column",
         "dbfs:/user/hive/warehouse/a_source.db/employee/last_modified=2024-08-15",
         "employee",
         "employee",
         "2024-08-27T06:35:23.105+0000",
         "Completed",
         3,
         2,
         1,
         3,
         1,
         0,
         "employee",
         "employee",
         "6ec3ab0a-1efb-40a8-94b1-1afd5e6e4b4b"
        ],
        [
         1,
         "Audit_column",
         "dbfs:/user/hive/warehouse/a_source.db/product/last_modified=2024-08-14",
         "product",
         "product",
         "2024-08-27T06:35:42.335+0000",
         "Completed",
         5,
         3,
         2,
         5,
         2,
         0,
         "product",
         "product",
         "5f947bc5-5df0-4b46-a72e-d777c68eb2ca"
        ],
        [
         1,
         "Audit_column",
         "dbfs:/user/hive/warehouse/a_source.db/student/last_modified=2024-08-14",
         "student",
         "student",
         "2024-08-27T06:36:01.298+0000",
         "Completed",
         6,
         4,
         2,
         6,
         2,
         0,
         "student",
         "student",
         "a4951ccc-e4ff-4ebd-b8de-5ec2f8f424bb"
        ]
       ],
       "datasetInfos": [],
       "dbfsResultPath": null,
       "isJsonSchema": true,
       "metadata": {},
       "overflow": false,
       "plotOptions": {
        "customPlotOptions": {},
        "displayType": "table",
        "pivotAggregation": null,
        "pivotColumns": null,
        "xColumns": null,
        "yColumns": null
       },
       "removedWidgets": [],
       "schema": [
        {
         "metadata": "{}",
         "name": "version",
         "type": "\"integer\""
        },
        {
         "metadata": "{}",
         "name": "job_name",
         "type": "\"string\""
        },
        {
         "metadata": "{}",
         "name": "source_name",
         "type": "\"string\""
        },
        {
         "metadata": "{}",
         "name": "source_table_name",
         "type": "\"string\""
        },
        {
         "metadata": "{}",
         "name": "target_table_name",
         "type": "\"string\""
        },
        {
         "metadata": "{}",
         "name": "load_date",
         "type": "\"timestamp\""
        },
        {
         "metadata": "{}",
         "name": "job_status",
         "type": "\"string\""
        },
        {
         "metadata": "{}",
         "name": "source_received_count",
         "type": "\"integer\""
        },
        {
         "metadata": "{}",
         "name": "new_inserted_count",
         "type": "\"integer\""
        },
        {
         "metadata": "{}",
         "name": "new_updated_count",
         "type": "\"integer\""
        },
        {
         "metadata": "{}",
         "name": "total_inserted_count",
         "type": "\"integer\""
        },
        {
         "metadata": "{}",
         "name": "total_updated_count",
         "type": "\"integer\""
        },
        {
         "metadata": "{}",
         "name": "skip_count",
         "type": "\"integer\""
        },
        {
         "metadata": "{}",
         "name": "filename_ts",
         "type": "\"string\""
        },
        {
         "metadata": "{}",
         "name": "source_file_name",
         "type": "\"string\""
        },
        {
         "metadata": "{}",
         "name": "batch_id",
         "type": "\"string\""
        }
       ],
       "type": "table"
      }
     },
     "output_type": "display_data"
    }
   ],
   "source": [
    "%sql \n",
    "select * from audit_log"
   ]
  },
  {
   "cell_type": "markdown",
   "metadata": {
    "application/vnd.databricks.v1+cell": {
     "cellMetadata": {},
     "inputWidgets": {},
     "nuid": "123342c1-5c79-4143-a65e-57e8d19c52dd",
     "showTitle": false,
     "title": ""
    }
   },
   "source": [
    "# Learning "
   ]
  },
  {
   "cell_type": "code",
   "execution_count": 0,
   "metadata": {
    "application/vnd.databricks.v1+cell": {
     "cellMetadata": {
      "byteLimit": 2048000,
      "rowLimit": 10000
     },
     "inputWidgets": {},
     "nuid": "3a9a9bcd-11ff-4fa0-bc9f-d34f5d16834a",
     "showTitle": false,
     "title": ""
    }
   },
   "outputs": [
    {
     "output_type": "display_data",
     "data": {
      "text/html": [
       "<style scoped>\n",
       "  .table-result-container {\n",
       "    max-height: 300px;\n",
       "    overflow: auto;\n",
       "  }\n",
       "  table, th, td {\n",
       "    border: 1px solid black;\n",
       "    border-collapse: collapse;\n",
       "  }\n",
       "  th, td {\n",
       "    padding: 5px;\n",
       "  }\n",
       "  th {\n",
       "    text-align: left;\n",
       "  }\n",
       "</style><div class='table-result-container'><table class='table-result'><thead style='background-color: white'><tr><th>operation</th><th>version</th><th>executionTimeMs</th><th>numOutputRows</th><th>numSourceRows</th><th>numTargetBytesAdded</th><th>numTargetBytesRemoved</th><th>numTargetChangeFilesAdded</th><th>numTargetDeletionVectorsAdded</th><th>numTargetDeletionVectorsRemoved</th><th>numTargetFilesAdded</th><th>numTargetFilesRemoved</th><th>numTargetRowsCopied</th><th>numTargetRowsDeleted</th><th>numTargetRowsInserted</th><th>numTargetRowsMatchedDeleted</th><th>numTargetRowsMatchedUpdated</th><th>numTargetRowsNotMatchedBySourceDeleted</th><th>numTargetRowsNotMatchedBySourceUpdated</th><th>numTargetRowsUpdated</th><th>rewriteTimeMs</th><th>scanTimeMs</th></tr></thead><tbody><tr><td>MERGE</td><td>3</td><td>6321</td><td>3</td><td>3</td><td>11660</td><td>3918</td><td>0</td><td>0</td><td>0</td><td>3</td><td>1</td><td>0</td><td>0</td><td>2</td><td>0</td><td>1</td><td>0</td><td>0</td><td>1</td><td>1599</td><td>1715</td></tr></tbody></table></div>"
      ]
     },
     "metadata": {
      "application/vnd.databricks.v1+output": {
       "addedWidgets": {},
       "aggData": [],
       "aggError": "",
       "aggOverflow": false,
       "aggSchema": [],
       "aggSeriesLimitReached": false,
       "aggType": "",
       "arguments": {},
       "columnCustomDisplayInfos": {},
       "data": [
        [
         "MERGE",
         3,
         6321,
         3,
         3,
         11660,
         3918,
         0,
         0,
         0,
         3,
         1,
         0,
         0,
         2,
         0,
         1,
         0,
         0,
         1,
         1599,
         1715
        ]
       ],
       "datasetInfos": [],
       "dbfsResultPath": null,
       "isJsonSchema": true,
       "metadata": {},
       "overflow": false,
       "plotOptions": {
        "customPlotOptions": {},
        "displayType": "table",
        "pivotAggregation": null,
        "pivotColumns": null,
        "xColumns": null,
        "yColumns": null
       },
       "removedWidgets": [],
       "schema": [
        {
         "metadata": "{}",
         "name": "operation",
         "type": "\"string\""
        },
        {
         "metadata": "{}",
         "name": "version",
         "type": "\"long\""
        },
        {
         "metadata": "{}",
         "name": "executionTimeMs",
         "type": "\"long\""
        },
        {
         "metadata": "{}",
         "name": "numOutputRows",
         "type": "\"long\""
        },
        {
         "metadata": "{}",
         "name": "numSourceRows",
         "type": "\"long\""
        },
        {
         "metadata": "{}",
         "name": "numTargetBytesAdded",
         "type": "\"long\""
        },
        {
         "metadata": "{}",
         "name": "numTargetBytesRemoved",
         "type": "\"long\""
        },
        {
         "metadata": "{}",
         "name": "numTargetChangeFilesAdded",
         "type": "\"long\""
        },
        {
         "metadata": "{}",
         "name": "numTargetDeletionVectorsAdded",
         "type": "\"long\""
        },
        {
         "metadata": "{}",
         "name": "numTargetDeletionVectorsRemoved",
         "type": "\"long\""
        },
        {
         "metadata": "{}",
         "name": "numTargetFilesAdded",
         "type": "\"long\""
        },
        {
         "metadata": "{}",
         "name": "numTargetFilesRemoved",
         "type": "\"long\""
        },
        {
         "metadata": "{}",
         "name": "numTargetRowsCopied",
         "type": "\"long\""
        },
        {
         "metadata": "{}",
         "name": "numTargetRowsDeleted",
         "type": "\"long\""
        },
        {
         "metadata": "{}",
         "name": "numTargetRowsInserted",
         "type": "\"long\""
        },
        {
         "metadata": "{}",
         "name": "numTargetRowsMatchedDeleted",
         "type": "\"long\""
        },
        {
         "metadata": "{}",
         "name": "numTargetRowsMatchedUpdated",
         "type": "\"long\""
        },
        {
         "metadata": "{}",
         "name": "numTargetRowsNotMatchedBySourceDeleted",
         "type": "\"long\""
        },
        {
         "metadata": "{}",
         "name": "numTargetRowsNotMatchedBySourceUpdated",
         "type": "\"long\""
        },
        {
         "metadata": "{}",
         "name": "numTargetRowsUpdated",
         "type": "\"long\""
        },
        {
         "metadata": "{}",
         "name": "rewriteTimeMs",
         "type": "\"long\""
        },
        {
         "metadata": "{}",
         "name": "scanTimeMs",
         "type": "\"long\""
        }
       ],
       "type": "table"
      }
     },
     "output_type": "display_data"
    },
    {
     "output_type": "display_data",
     "data": {
      "text/html": [
       "<style scoped>\n",
       "  .table-result-container {\n",
       "    max-height: 300px;\n",
       "    overflow: auto;\n",
       "  }\n",
       "  table, th, td {\n",
       "    border: 1px solid black;\n",
       "    border-collapse: collapse;\n",
       "  }\n",
       "  th, td {\n",
       "    padding: 5px;\n",
       "  }\n",
       "  th {\n",
       "    text-align: left;\n",
       "  }\n",
       "</style><div class='table-result-container'><table class='table-result'><thead style='background-color: white'><tr><th>operation</th><th>version</th><th>executionTimeMs</th><th>numOutputRows</th><th>numSourceRows</th><th>numTargetBytesAdded</th><th>numTargetBytesRemoved</th><th>numTargetChangeFilesAdded</th><th>numTargetDeletionVectorsAdded</th><th>numTargetDeletionVectorsRemoved</th><th>numTargetFilesAdded</th><th>numTargetFilesRemoved</th><th>numTargetRowsCopied</th><th>numTargetRowsDeleted</th><th>numTargetRowsInserted</th><th>numTargetRowsMatchedDeleted</th><th>numTargetRowsMatchedUpdated</th><th>numTargetRowsNotMatchedBySourceDeleted</th><th>numTargetRowsNotMatchedBySourceUpdated</th><th>numTargetRowsUpdated</th><th>rewriteTimeMs</th><th>scanTimeMs</th></tr></thead><tbody><tr><td>MERGE</td><td>1</td><td>6043</td><td>5</td><td>5</td><td>18265</td><td>7325</td><td>0</td><td>0</td><td>0</td><td>5</td><td>2</td><td>0</td><td>0</td><td>3</td><td>0</td><td>2</td><td>0</td><td>0</td><td>2</td><td>1475</td><td>1655</td></tr></tbody></table></div>"
      ]
     },
     "metadata": {
      "application/vnd.databricks.v1+output": {
       "addedWidgets": {},
       "aggData": [],
       "aggError": "",
       "aggOverflow": false,
       "aggSchema": [],
       "aggSeriesLimitReached": false,
       "aggType": "",
       "arguments": {},
       "columnCustomDisplayInfos": {},
       "data": [
        [
         "MERGE",
         1,
         6043,
         5,
         5,
         18265,
         7325,
         0,
         0,
         0,
         5,
         2,
         0,
         0,
         3,
         0,
         2,
         0,
         0,
         2,
         1475,
         1655
        ]
       ],
       "datasetInfos": [],
       "dbfsResultPath": null,
       "isJsonSchema": true,
       "metadata": {},
       "overflow": false,
       "plotOptions": {
        "customPlotOptions": {},
        "displayType": "table",
        "pivotAggregation": null,
        "pivotColumns": null,
        "xColumns": null,
        "yColumns": null
       },
       "removedWidgets": [],
       "schema": [
        {
         "metadata": "{}",
         "name": "operation",
         "type": "\"string\""
        },
        {
         "metadata": "{}",
         "name": "version",
         "type": "\"long\""
        },
        {
         "metadata": "{}",
         "name": "executionTimeMs",
         "type": "\"long\""
        },
        {
         "metadata": "{}",
         "name": "numOutputRows",
         "type": "\"long\""
        },
        {
         "metadata": "{}",
         "name": "numSourceRows",
         "type": "\"long\""
        },
        {
         "metadata": "{}",
         "name": "numTargetBytesAdded",
         "type": "\"long\""
        },
        {
         "metadata": "{}",
         "name": "numTargetBytesRemoved",
         "type": "\"long\""
        },
        {
         "metadata": "{}",
         "name": "numTargetChangeFilesAdded",
         "type": "\"long\""
        },
        {
         "metadata": "{}",
         "name": "numTargetDeletionVectorsAdded",
         "type": "\"long\""
        },
        {
         "metadata": "{}",
         "name": "numTargetDeletionVectorsRemoved",
         "type": "\"long\""
        },
        {
         "metadata": "{}",
         "name": "numTargetFilesAdded",
         "type": "\"long\""
        },
        {
         "metadata": "{}",
         "name": "numTargetFilesRemoved",
         "type": "\"long\""
        },
        {
         "metadata": "{}",
         "name": "numTargetRowsCopied",
         "type": "\"long\""
        },
        {
         "metadata": "{}",
         "name": "numTargetRowsDeleted",
         "type": "\"long\""
        },
        {
         "metadata": "{}",
         "name": "numTargetRowsInserted",
         "type": "\"long\""
        },
        {
         "metadata": "{}",
         "name": "numTargetRowsMatchedDeleted",
         "type": "\"long\""
        },
        {
         "metadata": "{}",
         "name": "numTargetRowsMatchedUpdated",
         "type": "\"long\""
        },
        {
         "metadata": "{}",
         "name": "numTargetRowsNotMatchedBySourceDeleted",
         "type": "\"long\""
        },
        {
         "metadata": "{}",
         "name": "numTargetRowsNotMatchedBySourceUpdated",
         "type": "\"long\""
        },
        {
         "metadata": "{}",
         "name": "numTargetRowsUpdated",
         "type": "\"long\""
        },
        {
         "metadata": "{}",
         "name": "rewriteTimeMs",
         "type": "\"long\""
        },
        {
         "metadata": "{}",
         "name": "scanTimeMs",
         "type": "\"long\""
        }
       ],
       "type": "table"
      }
     },
     "output_type": "display_data"
    },
    {
     "output_type": "display_data",
     "data": {
      "text/html": [
       "<style scoped>\n",
       "  .table-result-container {\n",
       "    max-height: 300px;\n",
       "    overflow: auto;\n",
       "  }\n",
       "  table, th, td {\n",
       "    border: 1px solid black;\n",
       "    border-collapse: collapse;\n",
       "  }\n",
       "  th, td {\n",
       "    padding: 5px;\n",
       "  }\n",
       "  th {\n",
       "    text-align: left;\n",
       "  }\n",
       "</style><div class='table-result-container'><table class='table-result'><thead style='background-color: white'><tr><th>operation</th><th>version</th><th>executionTimeMs</th><th>numOutputRows</th><th>numSourceRows</th><th>numTargetBytesAdded</th><th>numTargetBytesRemoved</th><th>numTargetChangeFilesAdded</th><th>numTargetDeletionVectorsAdded</th><th>numTargetDeletionVectorsRemoved</th><th>numTargetFilesAdded</th><th>numTargetFilesRemoved</th><th>numTargetRowsCopied</th><th>numTargetRowsDeleted</th><th>numTargetRowsInserted</th><th>numTargetRowsMatchedDeleted</th><th>numTargetRowsMatchedUpdated</th><th>numTargetRowsNotMatchedBySourceDeleted</th><th>numTargetRowsNotMatchedBySourceUpdated</th><th>numTargetRowsUpdated</th><th>rewriteTimeMs</th><th>scanTimeMs</th></tr></thead><tbody><tr><td>MERGE</td><td>1</td><td>6111</td><td>6</td><td>6</td><td>21654</td><td>7211</td><td>0</td><td>0</td><td>0</td><td>6</td><td>2</td><td>0</td><td>0</td><td>4</td><td>0</td><td>2</td><td>0</td><td>0</td><td>2</td><td>1618</td><td>1679</td></tr></tbody></table></div>"
      ]
     },
     "metadata": {
      "application/vnd.databricks.v1+output": {
       "addedWidgets": {},
       "aggData": [],
       "aggError": "",
       "aggOverflow": false,
       "aggSchema": [],
       "aggSeriesLimitReached": false,
       "aggType": "",
       "arguments": {},
       "columnCustomDisplayInfos": {},
       "data": [
        [
         "MERGE",
         1,
         6111,
         6,
         6,
         21654,
         7211,
         0,
         0,
         0,
         6,
         2,
         0,
         0,
         4,
         0,
         2,
         0,
         0,
         2,
         1618,
         1679
        ]
       ],
       "datasetInfos": [],
       "dbfsResultPath": null,
       "isJsonSchema": true,
       "metadata": {},
       "overflow": false,
       "plotOptions": {
        "customPlotOptions": {},
        "displayType": "table",
        "pivotAggregation": null,
        "pivotColumns": null,
        "xColumns": null,
        "yColumns": null
       },
       "removedWidgets": [],
       "schema": [
        {
         "metadata": "{}",
         "name": "operation",
         "type": "\"string\""
        },
        {
         "metadata": "{}",
         "name": "version",
         "type": "\"long\""
        },
        {
         "metadata": "{}",
         "name": "executionTimeMs",
         "type": "\"long\""
        },
        {
         "metadata": "{}",
         "name": "numOutputRows",
         "type": "\"long\""
        },
        {
         "metadata": "{}",
         "name": "numSourceRows",
         "type": "\"long\""
        },
        {
         "metadata": "{}",
         "name": "numTargetBytesAdded",
         "type": "\"long\""
        },
        {
         "metadata": "{}",
         "name": "numTargetBytesRemoved",
         "type": "\"long\""
        },
        {
         "metadata": "{}",
         "name": "numTargetChangeFilesAdded",
         "type": "\"long\""
        },
        {
         "metadata": "{}",
         "name": "numTargetDeletionVectorsAdded",
         "type": "\"long\""
        },
        {
         "metadata": "{}",
         "name": "numTargetDeletionVectorsRemoved",
         "type": "\"long\""
        },
        {
         "metadata": "{}",
         "name": "numTargetFilesAdded",
         "type": "\"long\""
        },
        {
         "metadata": "{}",
         "name": "numTargetFilesRemoved",
         "type": "\"long\""
        },
        {
         "metadata": "{}",
         "name": "numTargetRowsCopied",
         "type": "\"long\""
        },
        {
         "metadata": "{}",
         "name": "numTargetRowsDeleted",
         "type": "\"long\""
        },
        {
         "metadata": "{}",
         "name": "numTargetRowsInserted",
         "type": "\"long\""
        },
        {
         "metadata": "{}",
         "name": "numTargetRowsMatchedDeleted",
         "type": "\"long\""
        },
        {
         "metadata": "{}",
         "name": "numTargetRowsMatchedUpdated",
         "type": "\"long\""
        },
        {
         "metadata": "{}",
         "name": "numTargetRowsNotMatchedBySourceDeleted",
         "type": "\"long\""
        },
        {
         "metadata": "{}",
         "name": "numTargetRowsNotMatchedBySourceUpdated",
         "type": "\"long\""
        },
        {
         "metadata": "{}",
         "name": "numTargetRowsUpdated",
         "type": "\"long\""
        },
        {
         "metadata": "{}",
         "name": "rewriteTimeMs",
         "type": "\"long\""
        },
        {
         "metadata": "{}",
         "name": "scanTimeMs",
         "type": "\"long\""
        }
       ],
       "type": "table"
      }
     },
     "output_type": "display_data"
    }
   ],
   "source": [
    "for tbl in target_tbl:\n",
    "    delta_df = DeltaTable.forPath(spark, f'dbfs:/user/hive/warehouse/a_target.db/{tbl}')\n",
    "    last_operation = delta_df.history(1)\n",
    "\n",
    "    explode_df = last_operation.select(last_operation.operation, last_operation.version, explode(last_operation.operationMetrics))\n",
    "\n",
    "    explode_df_sel = explode_df.select(explode_df.operation, explode_df.version,explode_df.key, explode_df.value.cast('int'))\n",
    "\n",
    "    pivot = explode_df_sel.groupBy(['operation', 'version']).pivot('key').sum('value')\n",
    "    pivot.display()"
   ]
  },
  {
   "cell_type": "code",
   "execution_count": 0,
   "metadata": {
    "application/vnd.databricks.v1+cell": {
     "cellMetadata": {
      "byteLimit": 2048000,
      "rowLimit": 10000
     },
     "inputWidgets": {},
     "nuid": "3850a198-c5b7-4ef9-8565-1a535afd1e17",
     "showTitle": false,
     "title": ""
    }
   },
   "outputs": [
    {
     "output_type": "display_data",
     "data": {
      "text/html": [
       "<style scoped>\n",
       "  .table-result-container {\n",
       "    max-height: 300px;\n",
       "    overflow: auto;\n",
       "  }\n",
       "  table, th, td {\n",
       "    border: 1px solid black;\n",
       "    border-collapse: collapse;\n",
       "  }\n",
       "  th, td {\n",
       "    padding: 5px;\n",
       "  }\n",
       "  th {\n",
       "    text-align: left;\n",
       "  }\n",
       "</style><div class='table-result-container'><table class='table-result'><thead style='background-color: white'><tr><th>version</th><th>timestamp</th><th>userId</th><th>userName</th><th>operation</th><th>operationParameters</th><th>job</th><th>notebook</th><th>clusterId</th><th>readVersion</th><th>isolationLevel</th><th>isBlindAppend</th><th>operationMetrics</th><th>userMetadata</th><th>engineInfo</th></tr></thead><tbody><tr><td>4</td><td>2024-08-23T09:52:50.000+0000</td><td>4792984848781430</td><td>arvndh001@outlook.com</td><td>MERGE</td><td>Map(predicate -> [\"((id#33232 = cast(Merge_Key#33191 as int)) AND (flag#33235 = Y))\"], matchedPredicates -> [{\"actionType\":\"update\"}], notMatchedPredicates -> [{\"actionType\":\"insert\"}], notMatchedBySourcePredicates -> [])</td><td>null</td><td>List(2168272299856041)</td><td>0823-083153-73wr5gxw</td><td>3</td><td>WriteSerializable</td><td>false</td><td>Map(numTargetRowsCopied -> 0, numTargetRowsDeleted -> 0, numTargetFilesAdded -> 0, numTargetBytesAdded -> 0, numTargetBytesRemoved -> 0, numTargetDeletionVectorsAdded -> 0, numTargetRowsMatchedUpdated -> 0, executionTimeMs -> 5119, numTargetRowsInserted -> 0, numTargetRowsMatchedDeleted -> 0, scanTimeMs -> 1275, numTargetRowsUpdated -> 0, numOutputRows -> 0, numTargetDeletionVectorsRemoved -> 0, numTargetRowsNotMatchedBySourceUpdated -> 0, numTargetChangeFilesAdded -> 0, numSourceRows -> 0, numTargetFilesRemoved -> 0, numTargetRowsNotMatchedBySourceDeleted -> 0, rewriteTimeMs -> 993)</td><td>null</td><td>Databricks-Runtime/12.2.x-scala2.12</td></tr></tbody></table></div>"
      ]
     },
     "metadata": {
      "application/vnd.databricks.v1+output": {
       "addedWidgets": {},
       "aggData": [],
       "aggError": "",
       "aggOverflow": false,
       "aggSchema": [],
       "aggSeriesLimitReached": false,
       "aggType": "",
       "arguments": {},
       "columnCustomDisplayInfos": {},
       "data": [
        [
         4,
         "2024-08-23T09:52:50.000+0000",
         "4792984848781430",
         "arvndh001@outlook.com",
         "MERGE",
         {
          "matchedPredicates": "[{\"actionType\":\"update\"}]",
          "notMatchedBySourcePredicates": "[]",
          "notMatchedPredicates": "[{\"actionType\":\"insert\"}]",
          "predicate": "[\"((id#33232 = cast(Merge_Key#33191 as int)) AND (flag#33235 = Y))\"]"
         },
         null,
         [
          "2168272299856041"
         ],
         "0823-083153-73wr5gxw",
         3,
         "WriteSerializable",
         false,
         {
          "executionTimeMs": "5119",
          "numOutputRows": "0",
          "numSourceRows": "0",
          "numTargetBytesAdded": "0",
          "numTargetBytesRemoved": "0",
          "numTargetChangeFilesAdded": "0",
          "numTargetDeletionVectorsAdded": "0",
          "numTargetDeletionVectorsRemoved": "0",
          "numTargetFilesAdded": "0",
          "numTargetFilesRemoved": "0",
          "numTargetRowsCopied": "0",
          "numTargetRowsDeleted": "0",
          "numTargetRowsInserted": "0",
          "numTargetRowsMatchedDeleted": "0",
          "numTargetRowsMatchedUpdated": "0",
          "numTargetRowsNotMatchedBySourceDeleted": "0",
          "numTargetRowsNotMatchedBySourceUpdated": "0",
          "numTargetRowsUpdated": "0",
          "rewriteTimeMs": "993",
          "scanTimeMs": "1275"
         },
         null,
         "Databricks-Runtime/12.2.x-scala2.12"
        ]
       ],
       "datasetInfos": [],
       "dbfsResultPath": null,
       "isJsonSchema": true,
       "metadata": {},
       "overflow": false,
       "plotOptions": {
        "customPlotOptions": {},
        "displayType": "table",
        "pivotAggregation": null,
        "pivotColumns": null,
        "xColumns": null,
        "yColumns": null
       },
       "removedWidgets": [],
       "schema": [
        {
         "metadata": "{}",
         "name": "version",
         "type": "\"long\""
        },
        {
         "metadata": "{}",
         "name": "timestamp",
         "type": "\"timestamp\""
        },
        {
         "metadata": "{}",
         "name": "userId",
         "type": "\"string\""
        },
        {
         "metadata": "{}",
         "name": "userName",
         "type": "\"string\""
        },
        {
         "metadata": "{}",
         "name": "operation",
         "type": "\"string\""
        },
        {
         "metadata": "{}",
         "name": "operationParameters",
         "type": "{\"type\":\"map\",\"keyType\":\"string\",\"valueType\":\"string\",\"valueContainsNull\":true}"
        },
        {
         "metadata": "{}",
         "name": "job",
         "type": "{\"type\":\"struct\",\"fields\":[{\"name\":\"jobId\",\"type\":\"string\",\"nullable\":true,\"metadata\":{}},{\"name\":\"jobName\",\"type\":\"string\",\"nullable\":true,\"metadata\":{}},{\"name\":\"jobRunId\",\"type\":\"string\",\"nullable\":true,\"metadata\":{}},{\"name\":\"runId\",\"type\":\"string\",\"nullable\":true,\"metadata\":{}},{\"name\":\"jobOwnerId\",\"type\":\"string\",\"nullable\":true,\"metadata\":{}},{\"name\":\"triggerType\",\"type\":\"string\",\"nullable\":true,\"metadata\":{}}]}"
        },
        {
         "metadata": "{}",
         "name": "notebook",
         "type": "{\"type\":\"struct\",\"fields\":[{\"name\":\"notebookId\",\"type\":\"string\",\"nullable\":true,\"metadata\":{}}]}"
        },
        {
         "metadata": "{}",
         "name": "clusterId",
         "type": "\"string\""
        },
        {
         "metadata": "{}",
         "name": "readVersion",
         "type": "\"long\""
        },
        {
         "metadata": "{}",
         "name": "isolationLevel",
         "type": "\"string\""
        },
        {
         "metadata": "{}",
         "name": "isBlindAppend",
         "type": "\"boolean\""
        },
        {
         "metadata": "{}",
         "name": "operationMetrics",
         "type": "{\"type\":\"map\",\"keyType\":\"string\",\"valueType\":\"string\",\"valueContainsNull\":true}"
        },
        {
         "metadata": "{}",
         "name": "userMetadata",
         "type": "\"string\""
        },
        {
         "metadata": "{}",
         "name": "engineInfo",
         "type": "\"string\""
        }
       ],
       "type": "table"
      }
     },
     "output_type": "display_data"
    }
   ],
   "source": [
    "delta_df = DeltaTable.forPath(spark, f'dbfs:/user/hive/warehouse/a_target.db/{tbl}')\n",
    "last_operation = delta_df.history(1)\n",
    "last_operation.display()"
   ]
  },
  {
   "cell_type": "code",
   "execution_count": 0,
   "metadata": {
    "application/vnd.databricks.v1+cell": {
     "cellMetadata": {
      "byteLimit": 2048000,
      "rowLimit": 10000
     },
     "inputWidgets": {},
     "nuid": "da2ead85-bbe1-48fc-be91-9373ba850258",
     "showTitle": false,
     "title": ""
    }
   },
   "outputs": [
    {
     "output_type": "display_data",
     "data": {
      "text/html": [
       "<style scoped>\n",
       "  .table-result-container {\n",
       "    max-height: 300px;\n",
       "    overflow: auto;\n",
       "  }\n",
       "  table, th, td {\n",
       "    border: 1px solid black;\n",
       "    border-collapse: collapse;\n",
       "  }\n",
       "  th, td {\n",
       "    padding: 5px;\n",
       "  }\n",
       "  th {\n",
       "    text-align: left;\n",
       "  }\n",
       "</style><div class='table-result-container'><table class='table-result'><thead style='background-color: white'><tr><th>operation</th><th>key</th><th>value</th></tr></thead><tbody><tr><td>MERGE</td><td>numTargetRowsCopied</td><td>0</td></tr><tr><td>MERGE</td><td>numTargetRowsDeleted</td><td>0</td></tr><tr><td>MERGE</td><td>numTargetFilesAdded</td><td>0</td></tr><tr><td>MERGE</td><td>numTargetBytesAdded</td><td>0</td></tr><tr><td>MERGE</td><td>numTargetBytesRemoved</td><td>0</td></tr><tr><td>MERGE</td><td>numTargetDeletionVectorsAdded</td><td>0</td></tr><tr><td>MERGE</td><td>numTargetRowsMatchedUpdated</td><td>0</td></tr><tr><td>MERGE</td><td>executionTimeMs</td><td>5119</td></tr><tr><td>MERGE</td><td>numTargetRowsInserted</td><td>0</td></tr><tr><td>MERGE</td><td>numTargetRowsMatchedDeleted</td><td>0</td></tr><tr><td>MERGE</td><td>scanTimeMs</td><td>1275</td></tr><tr><td>MERGE</td><td>numTargetRowsUpdated</td><td>0</td></tr><tr><td>MERGE</td><td>numOutputRows</td><td>0</td></tr><tr><td>MERGE</td><td>numTargetDeletionVectorsRemoved</td><td>0</td></tr><tr><td>MERGE</td><td>numTargetRowsNotMatchedBySourceUpdated</td><td>0</td></tr><tr><td>MERGE</td><td>numTargetChangeFilesAdded</td><td>0</td></tr><tr><td>MERGE</td><td>numSourceRows</td><td>0</td></tr><tr><td>MERGE</td><td>numTargetFilesRemoved</td><td>0</td></tr><tr><td>MERGE</td><td>numTargetRowsNotMatchedBySourceDeleted</td><td>0</td></tr><tr><td>MERGE</td><td>rewriteTimeMs</td><td>993</td></tr></tbody></table></div>"
      ]
     },
     "metadata": {
      "application/vnd.databricks.v1+output": {
       "addedWidgets": {},
       "aggData": [],
       "aggError": "",
       "aggOverflow": false,
       "aggSchema": [],
       "aggSeriesLimitReached": false,
       "aggType": "",
       "arguments": {},
       "columnCustomDisplayInfos": {},
       "data": [
        [
         "MERGE",
         "numTargetRowsCopied",
         "0"
        ],
        [
         "MERGE",
         "numTargetRowsDeleted",
         "0"
        ],
        [
         "MERGE",
         "numTargetFilesAdded",
         "0"
        ],
        [
         "MERGE",
         "numTargetBytesAdded",
         "0"
        ],
        [
         "MERGE",
         "numTargetBytesRemoved",
         "0"
        ],
        [
         "MERGE",
         "numTargetDeletionVectorsAdded",
         "0"
        ],
        [
         "MERGE",
         "numTargetRowsMatchedUpdated",
         "0"
        ],
        [
         "MERGE",
         "executionTimeMs",
         "5119"
        ],
        [
         "MERGE",
         "numTargetRowsInserted",
         "0"
        ],
        [
         "MERGE",
         "numTargetRowsMatchedDeleted",
         "0"
        ],
        [
         "MERGE",
         "scanTimeMs",
         "1275"
        ],
        [
         "MERGE",
         "numTargetRowsUpdated",
         "0"
        ],
        [
         "MERGE",
         "numOutputRows",
         "0"
        ],
        [
         "MERGE",
         "numTargetDeletionVectorsRemoved",
         "0"
        ],
        [
         "MERGE",
         "numTargetRowsNotMatchedBySourceUpdated",
         "0"
        ],
        [
         "MERGE",
         "numTargetChangeFilesAdded",
         "0"
        ],
        [
         "MERGE",
         "numSourceRows",
         "0"
        ],
        [
         "MERGE",
         "numTargetFilesRemoved",
         "0"
        ],
        [
         "MERGE",
         "numTargetRowsNotMatchedBySourceDeleted",
         "0"
        ],
        [
         "MERGE",
         "rewriteTimeMs",
         "993"
        ]
       ],
       "datasetInfos": [],
       "dbfsResultPath": null,
       "isJsonSchema": true,
       "metadata": {},
       "overflow": false,
       "plotOptions": {
        "customPlotOptions": {},
        "displayType": "table",
        "pivotAggregation": null,
        "pivotColumns": null,
        "xColumns": null,
        "yColumns": null
       },
       "removedWidgets": [],
       "schema": [
        {
         "metadata": "{}",
         "name": "operation",
         "type": "\"string\""
        },
        {
         "metadata": "{}",
         "name": "key",
         "type": "\"string\""
        },
        {
         "metadata": "{}",
         "name": "value",
         "type": "\"string\""
        }
       ],
       "type": "table"
      }
     },
     "output_type": "display_data"
    },
    {
     "output_type": "display_data",
     "data": {
      "text/html": [
       "<style scoped>\n",
       "  .table-result-container {\n",
       "    max-height: 300px;\n",
       "    overflow: auto;\n",
       "  }\n",
       "  table, th, td {\n",
       "    border: 1px solid black;\n",
       "    border-collapse: collapse;\n",
       "  }\n",
       "  th, td {\n",
       "    padding: 5px;\n",
       "  }\n",
       "  th {\n",
       "    text-align: left;\n",
       "  }\n",
       "</style><div class='table-result-container'><table class='table-result'><thead style='background-color: white'><tr><th>operation</th><th>key</th><th>value</th></tr></thead><tbody><tr><td>MERGE</td><td>numTargetRowsCopied</td><td>0</td></tr><tr><td>MERGE</td><td>numTargetRowsDeleted</td><td>0</td></tr><tr><td>MERGE</td><td>numTargetFilesAdded</td><td>0</td></tr><tr><td>MERGE</td><td>numTargetBytesAdded</td><td>0</td></tr><tr><td>MERGE</td><td>numTargetBytesRemoved</td><td>0</td></tr><tr><td>MERGE</td><td>numTargetDeletionVectorsAdded</td><td>0</td></tr><tr><td>MERGE</td><td>numTargetRowsMatchedUpdated</td><td>0</td></tr><tr><td>MERGE</td><td>executionTimeMs</td><td>5119</td></tr><tr><td>MERGE</td><td>numTargetRowsInserted</td><td>0</td></tr><tr><td>MERGE</td><td>numTargetRowsMatchedDeleted</td><td>0</td></tr><tr><td>MERGE</td><td>scanTimeMs</td><td>1275</td></tr><tr><td>MERGE</td><td>numTargetRowsUpdated</td><td>0</td></tr><tr><td>MERGE</td><td>numOutputRows</td><td>0</td></tr><tr><td>MERGE</td><td>numTargetDeletionVectorsRemoved</td><td>0</td></tr><tr><td>MERGE</td><td>numTargetRowsNotMatchedBySourceUpdated</td><td>0</td></tr><tr><td>MERGE</td><td>numTargetChangeFilesAdded</td><td>0</td></tr><tr><td>MERGE</td><td>numSourceRows</td><td>0</td></tr><tr><td>MERGE</td><td>numTargetFilesRemoved</td><td>0</td></tr><tr><td>MERGE</td><td>numTargetRowsNotMatchedBySourceDeleted</td><td>0</td></tr><tr><td>MERGE</td><td>rewriteTimeMs</td><td>993</td></tr></tbody></table></div>"
      ]
     },
     "metadata": {
      "application/vnd.databricks.v1+output": {
       "addedWidgets": {},
       "aggData": [],
       "aggError": "",
       "aggOverflow": false,
       "aggSchema": [],
       "aggSeriesLimitReached": false,
       "aggType": "",
       "arguments": {},
       "columnCustomDisplayInfos": {},
       "data": [
        [
         "MERGE",
         "numTargetRowsCopied",
         0
        ],
        [
         "MERGE",
         "numTargetRowsDeleted",
         0
        ],
        [
         "MERGE",
         "numTargetFilesAdded",
         0
        ],
        [
         "MERGE",
         "numTargetBytesAdded",
         0
        ],
        [
         "MERGE",
         "numTargetBytesRemoved",
         0
        ],
        [
         "MERGE",
         "numTargetDeletionVectorsAdded",
         0
        ],
        [
         "MERGE",
         "numTargetRowsMatchedUpdated",
         0
        ],
        [
         "MERGE",
         "executionTimeMs",
         5119
        ],
        [
         "MERGE",
         "numTargetRowsInserted",
         0
        ],
        [
         "MERGE",
         "numTargetRowsMatchedDeleted",
         0
        ],
        [
         "MERGE",
         "scanTimeMs",
         1275
        ],
        [
         "MERGE",
         "numTargetRowsUpdated",
         0
        ],
        [
         "MERGE",
         "numOutputRows",
         0
        ],
        [
         "MERGE",
         "numTargetDeletionVectorsRemoved",
         0
        ],
        [
         "MERGE",
         "numTargetRowsNotMatchedBySourceUpdated",
         0
        ],
        [
         "MERGE",
         "numTargetChangeFilesAdded",
         0
        ],
        [
         "MERGE",
         "numSourceRows",
         0
        ],
        [
         "MERGE",
         "numTargetFilesRemoved",
         0
        ],
        [
         "MERGE",
         "numTargetRowsNotMatchedBySourceDeleted",
         0
        ],
        [
         "MERGE",
         "rewriteTimeMs",
         993
        ]
       ],
       "datasetInfos": [],
       "dbfsResultPath": null,
       "isJsonSchema": true,
       "metadata": {},
       "overflow": false,
       "plotOptions": {
        "customPlotOptions": {},
        "displayType": "table",
        "pivotAggregation": null,
        "pivotColumns": null,
        "xColumns": null,
        "yColumns": null
       },
       "removedWidgets": [],
       "schema": [
        {
         "metadata": "{}",
         "name": "operation",
         "type": "\"string\""
        },
        {
         "metadata": "{}",
         "name": "key",
         "type": "\"string\""
        },
        {
         "metadata": "{}",
         "name": "value",
         "type": "\"integer\""
        }
       ],
       "type": "table"
      }
     },
     "output_type": "display_data"
    }
   ],
   "source": [
    "explode_df = last_operation.select(last_operation.operation, explode(last_operation.operationMetrics))\n",
    "explode_df.display()\n",
    "\n",
    "explode_df_sel = explode_df.select(explode_df.operation, explode_df.key, explode_df.value.cast('int'))\n",
    "explode_df_sel.display()"
   ]
  },
  {
   "cell_type": "code",
   "execution_count": 0,
   "metadata": {
    "application/vnd.databricks.v1+cell": {
     "cellMetadata": {
      "byteLimit": 2048000,
      "rowLimit": 10000
     },
     "inputWidgets": {},
     "nuid": "1d5e8d84-a3e4-452e-8949-b2a2b54c8e85",
     "showTitle": false,
     "title": ""
    }
   },
   "outputs": [
    {
     "output_type": "display_data",
     "data": {
      "text/html": [
       "<style scoped>\n",
       "  .table-result-container {\n",
       "    max-height: 300px;\n",
       "    overflow: auto;\n",
       "  }\n",
       "  table, th, td {\n",
       "    border: 1px solid black;\n",
       "    border-collapse: collapse;\n",
       "  }\n",
       "  th, td {\n",
       "    padding: 5px;\n",
       "  }\n",
       "  th {\n",
       "    text-align: left;\n",
       "  }\n",
       "</style><div class='table-result-container'><table class='table-result'><thead style='background-color: white'><tr><th>operation</th><th>executionTimeMs</th><th>numOutputRows</th><th>numSourceRows</th><th>numTargetBytesAdded</th><th>numTargetBytesRemoved</th><th>numTargetChangeFilesAdded</th><th>numTargetDeletionVectorsAdded</th><th>numTargetDeletionVectorsRemoved</th><th>numTargetFilesAdded</th><th>numTargetFilesRemoved</th><th>numTargetRowsCopied</th><th>numTargetRowsDeleted</th><th>numTargetRowsInserted</th><th>numTargetRowsMatchedDeleted</th><th>numTargetRowsMatchedUpdated</th><th>numTargetRowsNotMatchedBySourceDeleted</th><th>numTargetRowsNotMatchedBySourceUpdated</th><th>numTargetRowsUpdated</th><th>rewriteTimeMs</th><th>scanTimeMs</th></tr></thead><tbody><tr><td>MERGE</td><td>5119</td><td>0</td><td>0</td><td>0</td><td>0</td><td>0</td><td>0</td><td>0</td><td>0</td><td>0</td><td>0</td><td>0</td><td>0</td><td>0</td><td>0</td><td>0</td><td>0</td><td>0</td><td>993</td><td>1275</td></tr></tbody></table></div>"
      ]
     },
     "metadata": {
      "application/vnd.databricks.v1+output": {
       "addedWidgets": {},
       "aggData": [],
       "aggError": "",
       "aggOverflow": false,
       "aggSchema": [],
       "aggSeriesLimitReached": false,
       "aggType": "",
       "arguments": {},
       "columnCustomDisplayInfos": {},
       "data": [
        [
         "MERGE",
         5119,
         0,
         0,
         0,
         0,
         0,
         0,
         0,
         0,
         0,
         0,
         0,
         0,
         0,
         0,
         0,
         0,
         0,
         993,
         1275
        ]
       ],
       "datasetInfos": [],
       "dbfsResultPath": null,
       "isJsonSchema": true,
       "metadata": {},
       "overflow": false,
       "plotOptions": {
        "customPlotOptions": {},
        "displayType": "table",
        "pivotAggregation": null,
        "pivotColumns": null,
        "xColumns": null,
        "yColumns": null
       },
       "removedWidgets": [],
       "schema": [
        {
         "metadata": "{}",
         "name": "operation",
         "type": "\"string\""
        },
        {
         "metadata": "{}",
         "name": "executionTimeMs",
         "type": "\"long\""
        },
        {
         "metadata": "{}",
         "name": "numOutputRows",
         "type": "\"long\""
        },
        {
         "metadata": "{}",
         "name": "numSourceRows",
         "type": "\"long\""
        },
        {
         "metadata": "{}",
         "name": "numTargetBytesAdded",
         "type": "\"long\""
        },
        {
         "metadata": "{}",
         "name": "numTargetBytesRemoved",
         "type": "\"long\""
        },
        {
         "metadata": "{}",
         "name": "numTargetChangeFilesAdded",
         "type": "\"long\""
        },
        {
         "metadata": "{}",
         "name": "numTargetDeletionVectorsAdded",
         "type": "\"long\""
        },
        {
         "metadata": "{}",
         "name": "numTargetDeletionVectorsRemoved",
         "type": "\"long\""
        },
        {
         "metadata": "{}",
         "name": "numTargetFilesAdded",
         "type": "\"long\""
        },
        {
         "metadata": "{}",
         "name": "numTargetFilesRemoved",
         "type": "\"long\""
        },
        {
         "metadata": "{}",
         "name": "numTargetRowsCopied",
         "type": "\"long\""
        },
        {
         "metadata": "{}",
         "name": "numTargetRowsDeleted",
         "type": "\"long\""
        },
        {
         "metadata": "{}",
         "name": "numTargetRowsInserted",
         "type": "\"long\""
        },
        {
         "metadata": "{}",
         "name": "numTargetRowsMatchedDeleted",
         "type": "\"long\""
        },
        {
         "metadata": "{}",
         "name": "numTargetRowsMatchedUpdated",
         "type": "\"long\""
        },
        {
         "metadata": "{}",
         "name": "numTargetRowsNotMatchedBySourceDeleted",
         "type": "\"long\""
        },
        {
         "metadata": "{}",
         "name": "numTargetRowsNotMatchedBySourceUpdated",
         "type": "\"long\""
        },
        {
         "metadata": "{}",
         "name": "numTargetRowsUpdated",
         "type": "\"long\""
        },
        {
         "metadata": "{}",
         "name": "rewriteTimeMs",
         "type": "\"long\""
        },
        {
         "metadata": "{}",
         "name": "scanTimeMs",
         "type": "\"long\""
        }
       ],
       "type": "table"
      }
     },
     "output_type": "display_data"
    }
   ],
   "source": [
    "pivot = explode_df_sel.groupBy('operation').pivot('key').sum('value')\n",
    "pivot.display()"
   ]
  },
  {
   "cell_type": "code",
   "execution_count": 0,
   "metadata": {
    "application/vnd.databricks.v1+cell": {
     "cellMetadata": {
      "byteLimit": 2048000,
      "rowLimit": 10000
     },
     "inputWidgets": {},
     "nuid": "93a4d890-6c96-4899-8586-791ab9724904",
     "showTitle": false,
     "title": ""
    }
   },
   "outputs": [
    {
     "output_type": "stream",
     "name": "stdout",
     "output_type": "stream",
     "text": [
      "Out[41]: 'arvndh001@outlook.com'"
     ]
    }
   ],
   "source": [
    "dbutils.notebook.entry_point.getDbutils().notebook().getContext().userName().get()"
   ]
  },
  {
   "cell_type": "code",
   "execution_count": 0,
   "metadata": {
    "application/vnd.databricks.v1+cell": {
     "cellMetadata": {
      "byteLimit": 2048000,
      "rowLimit": 10000
     },
     "inputWidgets": {},
     "nuid": "3a0b2b6c-d184-4e38-b2ab-7c3914268e71",
     "showTitle": false,
     "title": ""
    }
   },
   "outputs": [
    {
     "output_type": "stream",
     "name": "stdout",
     "output_type": "stream",
     "text": [
      "Out[33]: '/Task/Audit_column'"
     ]
    }
   ],
   "source": [
    "dbutils.notebook.entry_point.getDbutils().notebook().getContext().notebookPath().get()"
   ]
  },
  {
   "cell_type": "code",
   "execution_count": 0,
   "metadata": {
    "application/vnd.databricks.v1+cell": {
     "cellMetadata": {},
     "inputWidgets": {},
     "nuid": "3aa28d8f-d61e-4ad3-b6a8-01acb454ae10",
     "showTitle": false,
     "title": ""
    }
   },
   "outputs": [],
   "source": [
    "  "
   ]
  }
 ],
 "metadata": {
  "application/vnd.databricks.v1+notebook": {
   "dashboards": [],
   "environmentMetadata": null,
   "language": "python",
   "notebookMetadata": {
    "mostRecentlyExecutedCommandWithImplicitDF": {
     "commandId": 4121814937200110,
     "dataframes": [
      "_sqldf"
     ]
    },
    "pythonIndentUnit": 4
   },
   "notebookName": "Audit_column",
   "widgets": {}
  }
 },
 "nbformat": 4,
 "nbformat_minor": 0
}
