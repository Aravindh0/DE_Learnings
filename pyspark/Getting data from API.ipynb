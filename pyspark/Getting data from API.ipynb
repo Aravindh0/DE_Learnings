{
 "cells": [
  {
   "cell_type": "code",
   "execution_count": 0,
   "metadata": {
    "application/vnd.databricks.v1+cell": {
     "cellMetadata": {
      "byteLimit": 2048000,
      "rowLimit": 10000
     },
     "inputWidgets": {},
     "nuid": "e1f243e3-2aa9-4bc8-9ce6-9b952cff9fc5",
     "showTitle": false,
     "title": ""
    }
   },
   "outputs": [],
   "source": [
    "import requests\n",
    "import xml.etree.ElementTree as ET"
   ]
  },
  {
   "cell_type": "code",
   "execution_count": 0,
   "metadata": {
    "application/vnd.databricks.v1+cell": {
     "cellMetadata": {
      "byteLimit": 2048000,
      "rowLimit": 10000
     },
     "inputWidgets": {},
     "nuid": "88a5208d-2816-4b7d-a7b6-78d4e2cb655b",
     "showTitle": false,
     "title": ""
    }
   },
   "outputs": [
    {
     "output_type": "stream",
     "name": "stdout",
     "output_type": "stream",
     "text": [
      "<?xml version='1.0' encoding='utf8'?>\n<customers>\n    <customer>\n        <Customer_ID>1</Customer_ID>\n        <Name>John Doe</Name>\n        <Age>30</Age>\n        <Address>\n            <City>New York</City>\n            <District>Manhattan</District>\n            <State>NY</State>\n        </Address>\n        <Orders>\n            <Order>\n                <Order_ID>1001</Order_ID>\n                <Product>Book</Product>\n                <Quantity>2</Quantity>\n            </Order>\n            <Order>\n                <Order_ID>1002</Order_ID>\n                <Product>Pen</Product>\n                <Quantity>10</Quantity>\n            </Order>\n        </Orders>\n    </customer>\n    <customer>\n        <Customer_ID>2</Customer_ID>\n        <Name>Jane Smith</Name>\n        <Age>25</Age>\n        <Address>\n            <City>Los Angeles</City>\n            <District>Hollywood</District>\n            <State>CA</State>\n        </Address>\n        <Orders>\n            <Order>\n                <Order_ID>1003</Order_ID>\n                <Product>Laptop</Product>\n                <Quantity>1</Quantity>\n            </Order>\n        </Orders>\n    </customer>\n</customers>\n"
     ]
    }
   ],
   "source": [
    "# Define the URL to fetch XML data\n",
    "url = 'https://raw.githubusercontent.com/Aravindh0/Sample_xml/refs/heads/main/sample.xml'\n",
    "response = requests.get(url)\n",
    "\n",
    "if response.status_code == 200:\n",
    "    # Parse the XML content\n",
    "    try:\n",
    "        root = ET.fromstring(response.content)\n",
    "        data = ET.tostring(root, encoding='utf8').decode('utf8')\n",
    "        print(data)  # Print the parsed XML data\n",
    "    except ET.ParseError as e:\n",
    "        print(f'Error parsing XML: {e}')\n",
    "else:\n",
    "    print(f'Failed to fetch data: {response.status_code}')\n",
    "\n",
    "# Optional: Print the raw content as a string\n",
    "#print(response.content.decode('utf-8'))\n"
   ]
  },
  {
   "cell_type": "code",
   "execution_count": 0,
   "metadata": {
    "application/vnd.databricks.v1+cell": {
     "cellMetadata": {
      "byteLimit": 2048000,
      "rowLimit": 10000
     },
     "inputWidgets": {},
     "nuid": "8e43be95-f485-4d79-9dec-64a778f4e55f",
     "showTitle": false,
     "title": ""
    }
   },
   "outputs": [
    {
     "output_type": "display_data",
     "data": {
      "text/html": [
       "<style scoped>\n",
       "  .table-result-container {\n",
       "    max-height: 300px;\n",
       "    overflow: auto;\n",
       "  }\n",
       "  table, th, td {\n",
       "    border: 1px solid black;\n",
       "    border-collapse: collapse;\n",
       "  }\n",
       "  th, td {\n",
       "    padding: 5px;\n",
       "  }\n",
       "  th {\n",
       "    text-align: left;\n",
       "  }\n",
       "</style><div class='table-result-container'><table class='table-result'><thead style='background-color: white'><tr><th>path</th><th>name</th><th>size</th><th>modificationTime</th></tr></thead><tbody><tr><td>dbfs:/FileStore/tables/SAMPLE.zip</td><td>SAMPLE.zip</td><td>6624</td><td>1725622415000</td></tr><tr><td>dbfs:/FileStore/tables/authors.xml</td><td>authors.xml</td><td>1687</td><td>1725605601000</td></tr><tr><td>dbfs:/FileStore/tables/config-1.json</td><td>config-1.json</td><td>276</td><td>1723611879000</td></tr><tr><td>dbfs:/FileStore/tables/config.json</td><td>config.json</td><td>276</td><td>1723611517000</td></tr><tr><td>dbfs:/FileStore/tables/sample.xml</td><td>sample.xml</td><td>1153</td><td>1728966407000</td></tr><tr><td>dbfs:/FileStore/tables/test.txt</td><td>test.txt</td><td>47</td><td>1724915571000</td></tr></tbody></table></div>"
      ]
     },
     "metadata": {
      "application/vnd.databricks.v1+output": {
       "addedWidgets": {},
       "aggData": [],
       "aggError": "",
       "aggOverflow": false,
       "aggSchema": [],
       "aggSeriesLimitReached": false,
       "aggType": "",
       "arguments": {},
       "columnCustomDisplayInfos": {},
       "data": [
        [
         "dbfs:/FileStore/tables/SAMPLE.zip",
         "SAMPLE.zip",
         6624,
         1725622415000
        ],
        [
         "dbfs:/FileStore/tables/authors.xml",
         "authors.xml",
         1687,
         1725605601000
        ],
        [
         "dbfs:/FileStore/tables/config-1.json",
         "config-1.json",
         276,
         1723611879000
        ],
        [
         "dbfs:/FileStore/tables/config.json",
         "config.json",
         276,
         1723611517000
        ],
        [
         "dbfs:/FileStore/tables/sample.xml",
         "sample.xml",
         1153,
         1728966407000
        ],
        [
         "dbfs:/FileStore/tables/test.txt",
         "test.txt",
         47,
         1724915571000
        ]
       ],
       "datasetInfos": [],
       "dbfsResultPath": null,
       "isJsonSchema": true,
       "metadata": {
        "isDbfsCommandResult": false
       },
       "overflow": false,
       "plotOptions": {
        "customPlotOptions": {},
        "displayType": "table",
        "pivotAggregation": null,
        "pivotColumns": null,
        "xColumns": null,
        "yColumns": null
       },
       "removedWidgets": [],
       "schema": [
        {
         "metadata": "{}",
         "name": "path",
         "type": "\"string\""
        },
        {
         "metadata": "{}",
         "name": "name",
         "type": "\"string\""
        },
        {
         "metadata": "{}",
         "name": "size",
         "type": "\"long\""
        },
        {
         "metadata": "{}",
         "name": "modificationTime",
         "type": "\"long\""
        }
       ],
       "type": "table"
      }
     },
     "output_type": "display_data"
    }
   ],
   "source": [
    "%fs ls /FileStore/tables/\n"
   ]
  },
  {
   "cell_type": "code",
   "execution_count": 0,
   "metadata": {
    "application/vnd.databricks.v1+cell": {
     "cellMetadata": {
      "byteLimit": 2048000,
      "rowLimit": 10000
     },
     "inputWidgets": {},
     "nuid": "3168c76a-b481-4fba-bc6d-316bf5368548",
     "showTitle": false,
     "title": ""
    }
   },
   "outputs": [
    {
     "output_type": "stream",
     "name": "stdout",
     "output_type": "stream",
     "text": [
      "Wrote 1153 bytes.\n"
     ]
    },
    {
     "output_type": "execute_result",
     "data": {
      "text/plain": [
       "True"
      ]
     },
     "execution_count": 3,
     "metadata": {},
     "output_type": "execute_result"
    }
   ],
   "source": [
    "output = 'dbfs:/FileStore/tables/sample.xml'\n",
    "dbutils.fs.put(output, data)"
   ]
  },
  {
   "cell_type": "code",
   "execution_count": 0,
   "metadata": {
    "application/vnd.databricks.v1+cell": {
     "cellMetadata": {
      "byteLimit": 2048000,
      "rowLimit": 10000
     },
     "inputWidgets": {},
     "nuid": "74c5a2fb-bb59-4fe5-aed5-446275e1b527",
     "showTitle": false,
     "title": ""
    }
   },
   "outputs": [],
   "source": [
    "from pyspark.sql import SparkSession\n",
    "\n",
    "spark = SparkSession.builder.appName(\"XML to DataFrame\").getOrCreate()"
   ]
  },
  {
   "cell_type": "code",
   "execution_count": 0,
   "metadata": {
    "application/vnd.databricks.v1+cell": {
     "cellMetadata": {
      "byteLimit": 2048000,
      "rowLimit": 10000
     },
     "inputWidgets": {},
     "nuid": "772f4e13-9f37-4197-a911-402758edeeb7",
     "showTitle": false,
     "title": ""
    }
   },
   "outputs": [
    {
     "output_type": "display_data",
     "data": {
      "text/html": [
       "<style scoped>\n",
       "  .table-result-container {\n",
       "    max-height: 300px;\n",
       "    overflow: auto;\n",
       "  }\n",
       "  table, th, td {\n",
       "    border: 1px solid black;\n",
       "    border-collapse: collapse;\n",
       "  }\n",
       "  th, td {\n",
       "    padding: 5px;\n",
       "  }\n",
       "  th {\n",
       "    text-align: left;\n",
       "  }\n",
       "</style><div class='table-result-container'><table class='table-result'><thead style='background-color: white'><tr><th>Address</th><th>Age</th><th>Customer_ID</th><th>Name</th><th>Orders</th></tr></thead><tbody><tr><td>List(New York, Manhattan, NY)</td><td>30</td><td>1</td><td>John Doe</td><td>List(List(List(1001, Book, 2), List(1002, Pen, 10)))</td></tr><tr><td>List(Los Angeles, Hollywood, CA)</td><td>25</td><td>2</td><td>Jane Smith</td><td>List(List(List(1003, Laptop, 1)))</td></tr></tbody></table></div>"
      ]
     },
     "metadata": {
      "application/vnd.databricks.v1+output": {
       "addedWidgets": {},
       "aggData": [],
       "aggError": "",
       "aggOverflow": false,
       "aggSchema": [],
       "aggSeriesLimitReached": false,
       "aggType": "",
       "arguments": {},
       "columnCustomDisplayInfos": {},
       "data": [
        [
         [
          "New York",
          "Manhattan",
          "NY"
         ],
         30,
         1,
         "John Doe",
         [
          [
           [
            1001,
            "Book",
            2
           ],
           [
            1002,
            "Pen",
            10
           ]
          ]
         ]
        ],
        [
         [
          "Los Angeles",
          "Hollywood",
          "CA"
         ],
         25,
         2,
         "Jane Smith",
         [
          [
           [
            1003,
            "Laptop",
            1
           ]
          ]
         ]
        ]
       ],
       "datasetInfos": [],
       "dbfsResultPath": null,
       "isJsonSchema": true,
       "metadata": {},
       "overflow": false,
       "plotOptions": {
        "customPlotOptions": {},
        "displayType": "table",
        "pivotAggregation": null,
        "pivotColumns": null,
        "xColumns": null,
        "yColumns": null
       },
       "removedWidgets": [],
       "schema": [
        {
         "metadata": "{}",
         "name": "Address",
         "type": "{\"type\":\"struct\",\"fields\":[{\"name\":\"City\",\"type\":\"string\",\"nullable\":true,\"metadata\":{}},{\"name\":\"District\",\"type\":\"string\",\"nullable\":true,\"metadata\":{}},{\"name\":\"State\",\"type\":\"string\",\"nullable\":true,\"metadata\":{}}]}"
        },
        {
         "metadata": "{}",
         "name": "Age",
         "type": "\"long\""
        },
        {
         "metadata": "{}",
         "name": "Customer_ID",
         "type": "\"long\""
        },
        {
         "metadata": "{}",
         "name": "Name",
         "type": "\"string\""
        },
        {
         "metadata": "{}",
         "name": "Orders",
         "type": "{\"type\":\"struct\",\"fields\":[{\"name\":\"Order\",\"type\":{\"type\":\"array\",\"elementType\":{\"type\":\"struct\",\"fields\":[{\"name\":\"Order_ID\",\"type\":\"long\",\"nullable\":true,\"metadata\":{}},{\"name\":\"Product\",\"type\":\"string\",\"nullable\":true,\"metadata\":{}},{\"name\":\"Quantity\",\"type\":\"long\",\"nullable\":true,\"metadata\":{}}]},\"containsNull\":true},\"nullable\":true,\"metadata\":{}}]}"
        }
       ],
       "type": "table"
      }
     },
     "output_type": "display_data"
    }
   ],
   "source": [
    "df = spark.read.format('xml').option('rowTag', 'customer').xml('dbfs:/FileStore/tables/sample.xml')\n",
    "display(df)"
   ]
  },
  {
   "cell_type": "code",
   "execution_count": 0,
   "metadata": {
    "application/vnd.databricks.v1+cell": {
     "cellMetadata": {
      "byteLimit": 2048000,
      "rowLimit": 10000
     },
     "inputWidgets": {},
     "nuid": "dfd537b1-496f-4979-ab11-62b030b23199",
     "showTitle": false,
     "title": ""
    }
   },
   "outputs": [
    {
     "output_type": "display_data",
     "data": {
      "text/html": [
       "<style scoped>\n",
       "  .table-result-container {\n",
       "    max-height: 300px;\n",
       "    overflow: auto;\n",
       "  }\n",
       "  table, th, td {\n",
       "    border: 1px solid black;\n",
       "    border-collapse: collapse;\n",
       "  }\n",
       "  th, td {\n",
       "    padding: 5px;\n",
       "  }\n",
       "  th {\n",
       "    text-align: left;\n",
       "  }\n",
       "</style><div class='table-result-container'><table class='table-result'><thead style='background-color: white'><tr><th>Customer_ID</th><th>Name</th><th>Age</th><th>City</th><th>District</th><th>State</th><th>Order</th></tr></thead><tbody><tr><td>1</td><td>John Doe</td><td>30</td><td>New York</td><td>Manhattan</td><td>NY</td><td>List(1001, Book, 2)</td></tr><tr><td>1</td><td>John Doe</td><td>30</td><td>New York</td><td>Manhattan</td><td>NY</td><td>List(1002, Pen, 10)</td></tr><tr><td>2</td><td>Jane Smith</td><td>25</td><td>Los Angeles</td><td>Hollywood</td><td>CA</td><td>List(1003, Laptop, 1)</td></tr></tbody></table></div>"
      ]
     },
     "metadata": {
      "application/vnd.databricks.v1+output": {
       "addedWidgets": {},
       "aggData": [],
       "aggError": "",
       "aggOverflow": false,
       "aggSchema": [],
       "aggSeriesLimitReached": false,
       "aggType": "",
       "arguments": {},
       "columnCustomDisplayInfos": {},
       "data": [
        [
         1,
         "John Doe",
         30,
         "New York",
         "Manhattan",
         "NY",
         [
          1001,
          "Book",
          2
         ]
        ],
        [
         1,
         "John Doe",
         30,
         "New York",
         "Manhattan",
         "NY",
         [
          1002,
          "Pen",
          10
         ]
        ],
        [
         2,
         "Jane Smith",
         25,
         "Los Angeles",
         "Hollywood",
         "CA",
         [
          1003,
          "Laptop",
          1
         ]
        ]
       ],
       "datasetInfos": [],
       "dbfsResultPath": null,
       "isJsonSchema": true,
       "metadata": {},
       "overflow": false,
       "plotOptions": {
        "customPlotOptions": {},
        "displayType": "table",
        "pivotAggregation": null,
        "pivotColumns": null,
        "xColumns": null,
        "yColumns": null
       },
       "removedWidgets": [],
       "schema": [
        {
         "metadata": "{}",
         "name": "Customer_ID",
         "type": "\"long\""
        },
        {
         "metadata": "{}",
         "name": "Name",
         "type": "\"string\""
        },
        {
         "metadata": "{}",
         "name": "Age",
         "type": "\"long\""
        },
        {
         "metadata": "{}",
         "name": "City",
         "type": "\"string\""
        },
        {
         "metadata": "{}",
         "name": "District",
         "type": "\"string\""
        },
        {
         "metadata": "{}",
         "name": "State",
         "type": "\"string\""
        },
        {
         "metadata": "{}",
         "name": "Order",
         "type": "{\"type\":\"struct\",\"fields\":[{\"name\":\"Order_ID\",\"type\":\"long\",\"nullable\":true,\"metadata\":{}},{\"name\":\"Product\",\"type\":\"string\",\"nullable\":true,\"metadata\":{}},{\"name\":\"Quantity\",\"type\":\"long\",\"nullable\":true,\"metadata\":{}}]}"
        }
       ],
       "type": "table"
      }
     },
     "output_type": "display_data"
    },
    {
     "output_type": "display_data",
     "data": {
      "text/html": [
       "<style scoped>\n",
       "  .table-result-container {\n",
       "    max-height: 300px;\n",
       "    overflow: auto;\n",
       "  }\n",
       "  table, th, td {\n",
       "    border: 1px solid black;\n",
       "    border-collapse: collapse;\n",
       "  }\n",
       "  th, td {\n",
       "    padding: 5px;\n",
       "  }\n",
       "  th {\n",
       "    text-align: left;\n",
       "  }\n",
       "</style><div class='table-result-container'><table class='table-result'><thead style='background-color: white'><tr><th>Customer_ID</th><th>Name</th><th>Age</th><th>City</th><th>District</th><th>State</th><th>Order_ID</th><th>Product</th><th>Quantity</th></tr></thead><tbody><tr><td>1</td><td>John Doe</td><td>30</td><td>New York</td><td>Manhattan</td><td>NY</td><td>1001</td><td>Book</td><td>2</td></tr><tr><td>1</td><td>John Doe</td><td>30</td><td>New York</td><td>Manhattan</td><td>NY</td><td>1002</td><td>Pen</td><td>10</td></tr><tr><td>2</td><td>Jane Smith</td><td>25</td><td>Los Angeles</td><td>Hollywood</td><td>CA</td><td>1003</td><td>Laptop</td><td>1</td></tr></tbody></table></div>"
      ]
     },
     "metadata": {
      "application/vnd.databricks.v1+output": {
       "addedWidgets": {},
       "aggData": [],
       "aggError": "",
       "aggOverflow": false,
       "aggSchema": [],
       "aggSeriesLimitReached": false,
       "aggType": "",
       "arguments": {},
       "columnCustomDisplayInfos": {},
       "data": [
        [
         1,
         "John Doe",
         30,
         "New York",
         "Manhattan",
         "NY",
         1001,
         "Book",
         2
        ],
        [
         1,
         "John Doe",
         30,
         "New York",
         "Manhattan",
         "NY",
         1002,
         "Pen",
         10
        ],
        [
         2,
         "Jane Smith",
         25,
         "Los Angeles",
         "Hollywood",
         "CA",
         1003,
         "Laptop",
         1
        ]
       ],
       "datasetInfos": [],
       "dbfsResultPath": null,
       "isJsonSchema": true,
       "metadata": {},
       "overflow": false,
       "plotOptions": {
        "customPlotOptions": {},
        "displayType": "table",
        "pivotAggregation": null,
        "pivotColumns": null,
        "xColumns": null,
        "yColumns": null
       },
       "removedWidgets": [],
       "schema": [
        {
         "metadata": "{}",
         "name": "Customer_ID",
         "type": "\"long\""
        },
        {
         "metadata": "{}",
         "name": "Name",
         "type": "\"string\""
        },
        {
         "metadata": "{}",
         "name": "Age",
         "type": "\"long\""
        },
        {
         "metadata": "{}",
         "name": "City",
         "type": "\"string\""
        },
        {
         "metadata": "{}",
         "name": "District",
         "type": "\"string\""
        },
        {
         "metadata": "{}",
         "name": "State",
         "type": "\"string\""
        },
        {
         "metadata": "{}",
         "name": "Order_ID",
         "type": "\"long\""
        },
        {
         "metadata": "{}",
         "name": "Product",
         "type": "\"string\""
        },
        {
         "metadata": "{}",
         "name": "Quantity",
         "type": "\"long\""
        }
       ],
       "type": "table"
      }
     },
     "output_type": "display_data"
    }
   ],
   "source": [
    "from pyspark.sql.functions import explode, col\n",
    "\n",
    "# Explode the 'Orders' array and access individual fields from 'Address' struct\n",
    "df_flattened = df.select(\n",
    "    col(\"Customer_ID\"),\n",
    "    col(\"Name\"),\n",
    "    col(\"Age\"),\n",
    "    col(\"Address.City\").alias(\"City\"),\n",
    "    col(\"Address.District\").alias(\"District\"),\n",
    "    col(\"Address.State\").alias(\"State\"),\n",
    "    explode(col(\"Orders.Order\")).alias(\"Order\")\n",
    ")\n",
    "display(df_flattened)\n",
    "# Extract individual fields from the exploded 'Order' struct\n",
    "df_final = df_flattened.select(\n",
    "    \"Customer_ID\", \"Name\", \"Age\", \"City\", \"District\", \"State\",\n",
    "    col(\"Order.Order_ID\").alias(\"Order_ID\"),\n",
    "    col(\"Order.Product\").alias(\"Product\"),\n",
    "    col(\"Order.Quantity\").alias(\"Quantity\")   \n",
    ")\n",
    "\n",
    "# Display the final DataFrame\n",
    "display(df_final)\n"
   ]
  },
  {
   "cell_type": "code",
   "execution_count": 0,
   "metadata": {
    "application/vnd.databricks.v1+cell": {
     "cellMetadata": {},
     "inputWidgets": {},
     "nuid": "6cd73ebc-1b0d-49a6-a592-a2a9296b2a87",
     "showTitle": false,
     "title": ""
    }
   },
   "outputs": [],
   "source": []
  }
 ],
 "metadata": {
  "application/vnd.databricks.v1+notebook": {
   "dashboards": [],
   "environmentMetadata": null,
   "language": "python",
   "notebookMetadata": {
    "mostRecentlyExecutedCommandWithImplicitDF": {
     "commandId": 770019083988971,
     "dataframes": [
      "_sqldf"
     ]
    },
    "pythonIndentUnit": 4
   },
   "notebookName": "Getting data from API",
   "widgets": {}
  }
 },
 "nbformat": 4,
 "nbformat_minor": 0
}
