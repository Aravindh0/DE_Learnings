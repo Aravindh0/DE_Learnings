{
 "cells": [
  {
   "cell_type": "code",
   "execution_count": 0,
   "metadata": {
    "application/vnd.databricks.v1+cell": {
     "cellMetadata": {
      "byteLimit": 2048000,
      "rowLimit": 10000
     },
     "inputWidgets": {},
     "nuid": "c6c022c1-5ab1-48d9-8bd7-597c8309ef85",
     "showTitle": false,
     "title": ""
    }
   },
   "outputs": [],
   "source": [
    "from pyspark.sql import SparkSession\n",
    "\n",
    "spark = SparkSession.builder.appName(\"XML to DataFrame\").getOrCreate()"
   ]
  },
  {
   "cell_type": "code",
   "execution_count": 0,
   "metadata": {
    "application/vnd.databricks.v1+cell": {
     "cellMetadata": {
      "byteLimit": 2048000,
      "rowLimit": 10000
     },
     "inputWidgets": {},
     "nuid": "e1f243e3-2aa9-4bc8-9ce6-9b952cff9fc5",
     "showTitle": false,
     "title": ""
    }
   },
   "outputs": [],
   "source": [
    "import requests\n",
    "import xml.etree.ElementTree as ET"
   ]
  },
  {
   "cell_type": "code",
   "execution_count": 0,
   "metadata": {
    "application/vnd.databricks.v1+cell": {
     "cellMetadata": {
      "byteLimit": 2048000,
      "rowLimit": 10000
     },
     "inputWidgets": {},
     "nuid": "c38ef480-d7f9-4c43-888b-1119484a19e6",
     "showTitle": false,
     "title": ""
    }
   },
   "outputs": [],
   "source": [
    "collections = ['sample3', 'sample2', 'sample']\n",
    "collection = []\n",
    "for i in collections:\n",
    "    collection.append(i)"
   ]
  },
  {
   "cell_type": "code",
   "execution_count": 0,
   "metadata": {
    "application/vnd.databricks.v1+cell": {
     "cellMetadata": {
      "byteLimit": 2048000,
      "rowLimit": 10000
     },
     "inputWidgets": {},
     "nuid": "d36dc38f-db76-4ab5-85f4-a526dc68fe8b",
     "showTitle": false,
     "title": ""
    }
   },
   "outputs": [
    {
     "output_type": "execute_result",
     "data": {
      "text/plain": [
       "['sample3', 'sample2', 'sample']"
      ]
     },
     "execution_count": 7,
     "metadata": {},
     "output_type": "execute_result"
    }
   ],
   "source": [
    "collection"
   ]
  },
  {
   "cell_type": "code",
   "execution_count": 0,
   "metadata": {
    "application/vnd.databricks.v1+cell": {
     "cellMetadata": {
      "byteLimit": 2048000,
      "rowLimit": 10000
     },
     "inputWidgets": {},
     "nuid": "e65369d7-e266-4b94-a793-f7bd823d5617",
     "showTitle": false,
     "title": ""
    }
   },
   "outputs": [
    {
     "output_type": "stream",
     "name": "stdout",
     "output_type": "stream",
     "text": [
      "Wrote 3342 bytes.\nWrote 3429 bytes.\nWrote 697 bytes.\n"
     ]
    }
   ],
   "source": [
    "# Define the URL to fetch XML data\n",
    "for i in collections:\n",
    "    url = f'https://1d55-2001-4490-4e9c-990e-bc6a-bb57-3bac-cea5.ngrok-free.app/{i}'\n",
    "    response = requests.get(url)\n",
    "\n",
    "    if response.status_code == 200:\n",
    "        try:\n",
    "            root = ET.fromstring(response.content)\n",
    "            data = ET.tostring(root, encoding = 'utf8').decode('utf8')\n",
    "            #print(data)\n",
    "        except ET.ParseError as e:\n",
    "            print(f'Error parsing XML :  {e}')\n",
    "    else:\n",
    "        print(f'Failed tp fetch data :  {response.status_code}')\n",
    "\n",
    "    #Storing all xml data in the dbfs storage \n",
    "    output = f'dbfs:/FileStore/tables/{i}.xml'\n",
    "    dbutils.fs.put(output, data, overwrite = True)"
   ]
  },
  {
   "cell_type": "code",
   "execution_count": 0,
   "metadata": {
    "application/vnd.databricks.v1+cell": {
     "cellMetadata": {
      "byteLimit": 2048000,
      "rowLimit": 10000
     },
     "inputWidgets": {},
     "nuid": "8e43be95-f485-4d79-9dec-64a778f4e55f",
     "showTitle": false,
     "title": ""
    }
   },
   "outputs": [
    {
     "output_type": "display_data",
     "data": {
      "text/html": [
       "<style scoped>\n",
       "  .table-result-container {\n",
       "    max-height: 300px;\n",
       "    overflow: auto;\n",
       "  }\n",
       "  table, th, td {\n",
       "    border: 1px solid black;\n",
       "    border-collapse: collapse;\n",
       "  }\n",
       "  th, td {\n",
       "    padding: 5px;\n",
       "  }\n",
       "  th {\n",
       "    text-align: left;\n",
       "  }\n",
       "</style><div class='table-result-container'><table class='table-result'><thead style='background-color: white'><tr><th>path</th><th>name</th><th>size</th><th>modificationTime</th></tr></thead><tbody><tr><td>dbfs:/FileStore/tables/SAMPLE.zip</td><td>SAMPLE.zip</td><td>6624</td><td>1725622415000</td></tr><tr><td>dbfs:/FileStore/tables/authors.xml</td><td>authors.xml</td><td>1687</td><td>1725605601000</td></tr><tr><td>dbfs:/FileStore/tables/config-1.json</td><td>config-1.json</td><td>276</td><td>1723611879000</td></tr><tr><td>dbfs:/FileStore/tables/config.json</td><td>config.json</td><td>276</td><td>1723611517000</td></tr><tr><td>dbfs:/FileStore/tables/sample.xml</td><td>sample.xml</td><td>1153</td><td>1728966407000</td></tr><tr><td>dbfs:/FileStore/tables/sample2.xml</td><td>sample2.xml</td><td>3473</td><td>1729147307000</td></tr><tr><td>dbfs:/FileStore/tables/sample3.xml</td><td>sample3.xml</td><td>3386</td><td>1729147307000</td></tr><tr><td>dbfs:/FileStore/tables/test.txt</td><td>test.txt</td><td>47</td><td>1724915571000</td></tr></tbody></table></div>"
      ]
     },
     "metadata": {
      "application/vnd.databricks.v1+output": {
       "addedWidgets": {},
       "aggData": [],
       "aggError": "",
       "aggOverflow": false,
       "aggSchema": [],
       "aggSeriesLimitReached": false,
       "aggType": "",
       "arguments": {},
       "columnCustomDisplayInfos": {},
       "data": [
        [
         "dbfs:/FileStore/tables/SAMPLE.zip",
         "SAMPLE.zip",
         6624,
         1725622415000
        ],
        [
         "dbfs:/FileStore/tables/authors.xml",
         "authors.xml",
         1687,
         1725605601000
        ],
        [
         "dbfs:/FileStore/tables/config-1.json",
         "config-1.json",
         276,
         1723611879000
        ],
        [
         "dbfs:/FileStore/tables/config.json",
         "config.json",
         276,
         1723611517000
        ],
        [
         "dbfs:/FileStore/tables/sample.xml",
         "sample.xml",
         1153,
         1728966407000
        ],
        [
         "dbfs:/FileStore/tables/sample2.xml",
         "sample2.xml",
         3473,
         1729147307000
        ],
        [
         "dbfs:/FileStore/tables/sample3.xml",
         "sample3.xml",
         3386,
         1729147307000
        ],
        [
         "dbfs:/FileStore/tables/test.txt",
         "test.txt",
         47,
         1724915571000
        ]
       ],
       "datasetInfos": [],
       "dbfsResultPath": null,
       "isJsonSchema": true,
       "metadata": {
        "isDbfsCommandResult": false
       },
       "overflow": false,
       "plotOptions": {
        "customPlotOptions": {},
        "displayType": "table",
        "pivotAggregation": null,
        "pivotColumns": null,
        "xColumns": null,
        "yColumns": null
       },
       "removedWidgets": [],
       "schema": [
        {
         "metadata": "{}",
         "name": "path",
         "type": "\"string\""
        },
        {
         "metadata": "{}",
         "name": "name",
         "type": "\"string\""
        },
        {
         "metadata": "{}",
         "name": "size",
         "type": "\"long\""
        },
        {
         "metadata": "{}",
         "name": "modificationTime",
         "type": "\"long\""
        }
       ],
       "type": "table"
      }
     },
     "output_type": "display_data"
    }
   ],
   "source": [
    "%fs ls /FileStore/tables/\n"
   ]
  },
  {
   "cell_type": "code",
   "execution_count": 0,
   "metadata": {
    "application/vnd.databricks.v1+cell": {
     "cellMetadata": {
      "byteLimit": 2048000,
      "rowLimit": 10000
     },
     "inputWidgets": {},
     "nuid": "772f4e13-9f37-4197-a911-402758edeeb7",
     "showTitle": false,
     "title": ""
    }
   },
   "outputs": [
    {
     "output_type": "stream",
     "name": "stdout",
     "output_type": "stream",
     "text": [
      "DataFrame of sample\n"
     ]
    },
    {
     "output_type": "display_data",
     "data": {
      "text/html": [
       "<style scoped>\n",
       "  .table-result-container {\n",
       "    max-height: 300px;\n",
       "    overflow: auto;\n",
       "  }\n",
       "  table, th, td {\n",
       "    border: 1px solid black;\n",
       "    border-collapse: collapse;\n",
       "  }\n",
       "  th, td {\n",
       "    padding: 5px;\n",
       "  }\n",
       "  th {\n",
       "    text-align: left;\n",
       "  }\n",
       "</style><div class='table-result-container'><table class='table-result'><thead style='background-color: white'><tr><th>customer</th></tr></thead><tbody><tr><td>List(List(List(New York, Manhattan, NY), 30, 1, John Doe, List(List(List(1001, Book, 2), List(1002, Pen, 10)))), List(List(Los Angeles, Hollywood, CA), 25, 2, Jane Smith, List(List(List(1003, Laptop, 1)))))</td></tr></tbody></table></div>"
      ]
     },
     "metadata": {
      "application/vnd.databricks.v1+output": {
       "addedWidgets": {},
       "aggData": [],
       "aggError": "",
       "aggOverflow": false,
       "aggSchema": [],
       "aggSeriesLimitReached": false,
       "aggType": "",
       "arguments": {},
       "columnCustomDisplayInfos": {},
       "data": [
        [
         [
          [
           [
            "New York",
            "Manhattan",
            "NY"
           ],
           30,
           1,
           "John Doe",
           [
            [
             [
              1001,
              "Book",
              2
             ],
             [
              1002,
              "Pen",
              10
             ]
            ]
           ]
          ],
          [
           [
            "Los Angeles",
            "Hollywood",
            "CA"
           ],
           25,
           2,
           "Jane Smith",
           [
            [
             [
              1003,
              "Laptop",
              1
             ]
            ]
           ]
          ]
         ]
        ]
       ],
       "datasetInfos": [],
       "dbfsResultPath": null,
       "isJsonSchema": true,
       "metadata": {},
       "overflow": false,
       "plotOptions": {
        "customPlotOptions": {},
        "displayType": "table",
        "pivotAggregation": null,
        "pivotColumns": null,
        "xColumns": null,
        "yColumns": null
       },
       "removedWidgets": [],
       "schema": [
        {
         "metadata": "{}",
         "name": "customer",
         "type": "{\"type\":\"array\",\"elementType\":{\"type\":\"struct\",\"fields\":[{\"name\":\"Address\",\"type\":{\"type\":\"struct\",\"fields\":[{\"name\":\"City\",\"type\":\"string\",\"nullable\":true,\"metadata\":{}},{\"name\":\"District\",\"type\":\"string\",\"nullable\":true,\"metadata\":{}},{\"name\":\"State\",\"type\":\"string\",\"nullable\":true,\"metadata\":{}}]},\"nullable\":true,\"metadata\":{}},{\"name\":\"Age\",\"type\":\"long\",\"nullable\":true,\"metadata\":{}},{\"name\":\"Customer_ID\",\"type\":\"long\",\"nullable\":true,\"metadata\":{}},{\"name\":\"Name\",\"type\":\"string\",\"nullable\":true,\"metadata\":{}},{\"name\":\"Orders\",\"type\":{\"type\":\"struct\",\"fields\":[{\"name\":\"Order\",\"type\":{\"type\":\"array\",\"elementType\":{\"type\":\"struct\",\"fields\":[{\"name\":\"Order_ID\",\"type\":\"long\",\"nullable\":true,\"metadata\":{}},{\"name\":\"Product\",\"type\":\"string\",\"nullable\":true,\"metadata\":{}},{\"name\":\"Quantity\",\"type\":\"long\",\"nullable\":true,\"metadata\":{}}]},\"containsNull\":true},\"nullable\":true,\"metadata\":{}}]},\"nullable\":true,\"metadata\":{}}]},\"containsNull\":true}"
        }
       ],
       "type": "table"
      }
     },
     "output_type": "display_data"
    },
    {
     "output_type": "stream",
     "name": "stdout",
     "output_type": "stream",
     "text": [
      "DataFrame of sample2\n"
     ]
    },
    {
     "output_type": "display_data",
     "data": {
      "text/html": [
       "<style scoped>\n",
       "  .table-result-container {\n",
       "    max-height: 300px;\n",
       "    overflow: auto;\n",
       "  }\n",
       "  table, th, td {\n",
       "    border: 1px solid black;\n",
       "    border-collapse: collapse;\n",
       "  }\n",
       "  th, td {\n",
       "    padding: 5px;\n",
       "  }\n",
       "  th {\n",
       "    text-align: left;\n",
       "  }\n",
       "</style><div class='table-result-container'><table class='table-result'><thead style='background-color: white'><tr><th>departments</th><th>location</th><th>name</th><th>products</th></tr></thead><tbody><tr><td>List(List(List(List(List(List(null, List(alice@techcorp.com, +1-555-1010), 10, 1001, Alice, List(List(Project X, Project Z)), Senior Software Engineer, 150000, List(List(Java, Python, C++)), null), List(null, List(bob@techcorp.com, +1-555-2020), 7, 1002, Bob, List(List(Project Y)), Data Scientist, 120000, List(List(Python, R, SQL)), null))), Engineering), List(List(List(List(null, List(carol@techcorp.com, +1-555-3030), 12, 2001, Carol, null, Sales Manager, 90000, null, List(List(USA, Canada))))), Sales), List(List(List(List(List(List(List(250000, Brand Awareness 2024, Ongoing), List(500000, Product Launch 2023, Completed))), List(david@techcorp.com, +1-555-4040), 5, 3001, David, null, Marketing Specialist, 85000, null, null))), Marketing)))</td><td>List(List(List(List(New York, 300, List(List(List(500000, Project X, Ongoing), List(1200000, Project Y, Completed)))), List(Chicago, 150, List(List(List(800000, Project Z, Planning)))))), List(789 Innovation Drive, San Francisco, USA, CA, 94107))</td><td>TechCorp</td><td>List(List(List(Hardware, List(12 hours, Black, null, null, 10x15 cm, null), P001, 2022-05-01, TechWidget, 250, List(List(List(North America, 1250000, 5000), List(Europe, 750000, 3000)))), List(Software, List(null, null, 1 year, List(List(Windows, macOS, Linux)), null, 2.1), P002, 2023-01-15, TechGadget, 499, List(List(List(North America, 998000, 2000), List(Asia, 748500, 1500))))))</td></tr></tbody></table></div>"
      ]
     },
     "metadata": {
      "application/vnd.databricks.v1+output": {
       "addedWidgets": {},
       "aggData": [],
       "aggError": "",
       "aggOverflow": false,
       "aggSchema": [],
       "aggSeriesLimitReached": false,
       "aggType": "",
       "arguments": {},
       "columnCustomDisplayInfos": {},
       "data": [
        [
         [
          [
           [
            [
             [
              [
               null,
               [
                "alice@techcorp.com",
                "+1-555-1010"
               ],
               10,
               1001,
               "Alice",
               [
                [
                 "Project X",
                 "Project Z"
                ]
               ],
               "Senior Software Engineer",
               150000,
               [
                [
                 "Java",
                 "Python",
                 "C++"
                ]
               ],
               null
              ],
              [
               null,
               [
                "bob@techcorp.com",
                "+1-555-2020"
               ],
               7,
               1002,
               "Bob",
               [
                [
                 "Project Y"
                ]
               ],
               "Data Scientist",
               120000,
               [
                [
                 "Python",
                 "R",
                 "SQL"
                ]
               ],
               null
              ]
             ]
            ],
            "Engineering"
           ],
           [
            [
             [
              [
               null,
               [
                "carol@techcorp.com",
                "+1-555-3030"
               ],
               12,
               2001,
               "Carol",
               null,
               "Sales Manager",
               90000,
               null,
               [
                [
                 "USA",
                 "Canada"
                ]
               ]
              ]
             ]
            ],
            "Sales"
           ],
           [
            [
             [
              [
               [
                [
                 [
                  250000,
                  "Brand Awareness 2024",
                  "Ongoing"
                 ],
                 [
                  500000,
                  "Product Launch 2023",
                  "Completed"
                 ]
                ]
               ],
               [
                "david@techcorp.com",
                "+1-555-4040"
               ],
               5,
               3001,
               "David",
               null,
               "Marketing Specialist",
               85000,
               null,
               null
              ]
             ]
            ],
            "Marketing"
           ]
          ]
         ],
         [
          [
           [
            [
             "New York",
             300,
             [
              [
               [
                500000,
                "Project X",
                "Ongoing"
               ],
               [
                1200000,
                "Project Y",
                "Completed"
               ]
              ]
             ]
            ],
            [
             "Chicago",
             150,
             [
              [
               [
                800000,
                "Project Z",
                "Planning"
               ]
              ]
             ]
            ]
           ]
          ],
          [
           "789 Innovation Drive",
           "San Francisco",
           "USA",
           "CA",
           94107
          ]
         ],
         "TechCorp",
         [
          [
           [
            "Hardware",
            [
             "12 hours",
             "Black",
             null,
             null,
             "10x15 cm",
             null
            ],
            "P001",
            "2022-05-01",
            "TechWidget",
            250,
            [
             [
              [
               "North America",
               1250000,
               5000
              ],
              [
               "Europe",
               750000,
               3000
              ]
             ]
            ]
           ],
           [
            "Software",
            [
             null,
             null,
             "1 year",
             [
              [
               "Windows",
               "macOS",
               "Linux"
              ]
             ],
             null,
             2.1
            ],
            "P002",
            "2023-01-15",
            "TechGadget",
            499,
            [
             [
              [
               "North America",
               998000,
               2000
              ],
              [
               "Asia",
               748500,
               1500
              ]
             ]
            ]
           ]
          ]
         ]
        ]
       ],
       "datasetInfos": [],
       "dbfsResultPath": null,
       "isJsonSchema": true,
       "metadata": {},
       "overflow": false,
       "plotOptions": {
        "customPlotOptions": {},
        "displayType": "table",
        "pivotAggregation": null,
        "pivotColumns": null,
        "xColumns": null,
        "yColumns": null
       },
       "removedWidgets": [],
       "schema": [
        {
         "metadata": "{}",
         "name": "departments",
         "type": "{\"type\":\"struct\",\"fields\":[{\"name\":\"department\",\"type\":{\"type\":\"array\",\"elementType\":{\"type\":\"struct\",\"fields\":[{\"name\":\"employees\",\"type\":{\"type\":\"struct\",\"fields\":[{\"name\":\"employee\",\"type\":{\"type\":\"array\",\"elementType\":{\"type\":\"struct\",\"fields\":[{\"name\":\"campaigns\",\"type\":{\"type\":\"struct\",\"fields\":[{\"name\":\"campaign\",\"type\":{\"type\":\"array\",\"elementType\":{\"type\":\"struct\",\"fields\":[{\"name\":\"budget\",\"type\":\"long\",\"nullable\":true,\"metadata\":{}},{\"name\":\"name\",\"type\":\"string\",\"nullable\":true,\"metadata\":{}},{\"name\":\"status\",\"type\":\"string\",\"nullable\":true,\"metadata\":{}}]},\"containsNull\":true},\"nullable\":true,\"metadata\":{}}]},\"nullable\":true,\"metadata\":{}},{\"name\":\"contact\",\"type\":{\"type\":\"struct\",\"fields\":[{\"name\":\"email\",\"type\":\"string\",\"nullable\":true,\"metadata\":{}},{\"name\":\"phone\",\"type\":\"string\",\"nullable\":true,\"metadata\":{}}]},\"nullable\":true,\"metadata\":{}},{\"name\":\"experience_years\",\"type\":\"long\",\"nullable\":true,\"metadata\":{}},{\"name\":\"id\",\"type\":\"long\",\"nullable\":true,\"metadata\":{}},{\"name\":\"name\",\"type\":\"string\",\"nullable\":true,\"metadata\":{}},{\"name\":\"projects\",\"type\":{\"type\":\"struct\",\"fields\":[{\"name\":\"project\",\"type\":{\"type\":\"array\",\"elementType\":\"string\",\"containsNull\":true},\"nullable\":true,\"metadata\":{}}]},\"nullable\":true,\"metadata\":{}},{\"name\":\"role\",\"type\":\"string\",\"nullable\":true,\"metadata\":{}},{\"name\":\"salary\",\"type\":\"long\",\"nullable\":true,\"metadata\":{}},{\"name\":\"skills\",\"type\":{\"type\":\"struct\",\"fields\":[{\"name\":\"skill\",\"type\":{\"type\":\"array\",\"elementType\":\"string\",\"containsNull\":true},\"nullable\":true,\"metadata\":{}}]},\"nullable\":true,\"metadata\":{}},{\"name\":\"territories\",\"type\":{\"type\":\"struct\",\"fields\":[{\"name\":\"territorie\",\"type\":{\"type\":\"array\",\"elementType\":\"string\",\"containsNull\":true},\"nullable\":true,\"metadata\":{}}]},\"nullable\":true,\"metadata\":{}}]},\"containsNull\":true},\"nullable\":true,\"metadata\":{}}]},\"nullable\":true,\"metadata\":{}},{\"name\":\"name\",\"type\":\"string\",\"nullable\":true,\"metadata\":{}}]},\"containsNull\":true},\"nullable\":true,\"metadata\":{}}]}"
        },
        {
         "metadata": "{}",
         "name": "location",
         "type": "{\"type\":\"struct\",\"fields\":[{\"name\":\"branch_offices\",\"type\":{\"type\":\"struct\",\"fields\":[{\"name\":\"branch_office\",\"type\":{\"type\":\"array\",\"elementType\":{\"type\":\"struct\",\"fields\":[{\"name\":\"city\",\"type\":\"string\",\"nullable\":true,\"metadata\":{}},{\"name\":\"employees\",\"type\":\"long\",\"nullable\":true,\"metadata\":{}},{\"name\":\"projects\",\"type\":{\"type\":\"struct\",\"fields\":[{\"name\":\"project\",\"type\":{\"type\":\"array\",\"elementType\":{\"type\":\"struct\",\"fields\":[{\"name\":\"budget\",\"type\":\"long\",\"nullable\":true,\"metadata\":{}},{\"name\":\"name\",\"type\":\"string\",\"nullable\":true,\"metadata\":{}},{\"name\":\"status\",\"type\":\"string\",\"nullable\":true,\"metadata\":{}}]},\"containsNull\":true},\"nullable\":true,\"metadata\":{}}]},\"nullable\":true,\"metadata\":{}}]},\"containsNull\":true},\"nullable\":true,\"metadata\":{}}]},\"nullable\":true,\"metadata\":{}},{\"name\":\"headquarters\",\"type\":{\"type\":\"struct\",\"fields\":[{\"name\":\"address\",\"type\":\"string\",\"nullable\":true,\"metadata\":{}},{\"name\":\"city\",\"type\":\"string\",\"nullable\":true,\"metadata\":{}},{\"name\":\"country\",\"type\":\"string\",\"nullable\":true,\"metadata\":{}},{\"name\":\"state\",\"type\":\"string\",\"nullable\":true,\"metadata\":{}},{\"name\":\"zipcode\",\"type\":\"long\",\"nullable\":true,\"metadata\":{}}]},\"nullable\":true,\"metadata\":{}}]}"
        },
        {
         "metadata": "{}",
         "name": "name",
         "type": "\"string\""
        },
        {
         "metadata": "{}",
         "name": "products",
         "type": "{\"type\":\"struct\",\"fields\":[{\"name\":\"product\",\"type\":{\"type\":\"array\",\"elementType\":{\"type\":\"struct\",\"fields\":[{\"name\":\"category\",\"type\":\"string\",\"nullable\":true,\"metadata\":{}},{\"name\":\"features\",\"type\":{\"type\":\"struct\",\"fields\":[{\"name\":\"battery_life\",\"type\":\"string\",\"nullable\":true,\"metadata\":{}},{\"name\":\"color\",\"type\":\"string\",\"nullable\":true,\"metadata\":{}},{\"name\":\"license\",\"type\":\"string\",\"nullable\":true,\"metadata\":{}},{\"name\":\"platforms\",\"type\":{\"type\":\"struct\",\"fields\":[{\"name\":\"platform\",\"type\":{\"type\":\"array\",\"elementType\":\"string\",\"containsNull\":true},\"nullable\":true,\"metadata\":{}}]},\"nullable\":true,\"metadata\":{}},{\"name\":\"size\",\"type\":\"string\",\"nullable\":true,\"metadata\":{}},{\"name\":\"version\",\"type\":\"double\",\"nullable\":true,\"metadata\":{}}]},\"nullable\":true,\"metadata\":{}},{\"name\":\"id\",\"type\":\"string\",\"nullable\":true,\"metadata\":{}},{\"name\":\"launch_date\",\"type\":\"date\",\"nullable\":true,\"metadata\":{}},{\"name\":\"name\",\"type\":\"string\",\"nullable\":true,\"metadata\":{}},{\"name\":\"price\",\"type\":\"long\",\"nullable\":true,\"metadata\":{}},{\"name\":\"sales\",\"type\":{\"type\":\"struct\",\"fields\":[{\"name\":\"sale\",\"type\":{\"type\":\"array\",\"elementType\":{\"type\":\"struct\",\"fields\":[{\"name\":\"region\",\"type\":\"string\",\"nullable\":true,\"metadata\":{}},{\"name\":\"revenue\",\"type\":\"long\",\"nullable\":true,\"metadata\":{}},{\"name\":\"units_sold\",\"type\":\"long\",\"nullable\":true,\"metadata\":{}}]},\"containsNull\":true},\"nullable\":true,\"metadata\":{}}]},\"nullable\":true,\"metadata\":{}}]},\"containsNull\":true},\"nullable\":true,\"metadata\":{}}]}"
        }
       ],
       "type": "table"
      }
     },
     "output_type": "display_data"
    },
    {
     "output_type": "stream",
     "name": "stdout",
     "output_type": "stream",
     "text": [
      "DataFrame of sample3\n"
     ]
    },
    {
     "output_type": "display_data",
     "data": {
      "text/html": [
       "<style scoped>\n",
       "  .table-result-container {\n",
       "    max-height: 300px;\n",
       "    overflow: auto;\n",
       "  }\n",
       "  table, th, td {\n",
       "    border: 1px solid black;\n",
       "    border-collapse: collapse;\n",
       "  }\n",
       "  th, td {\n",
       "    padding: 5px;\n",
       "  }\n",
       "  th {\n",
       "    text-align: left;\n",
       "  }\n",
       "</style><div class='table-result-container'><table class='table-result'><thead style='background-color: white'><tr><th>employee</th></tr></thead><tbody><tr><td>List(List(1, List(New York, USA, 123 Main St, 10001), 30, Engineering, 2015-03-15, 2021-06-01, John Doe, Senior Software Engineer, List(List(List(500000, Project Alpha, Ongoing), List(300000, Project Beta, Completed))), 120000, List(List(Python, SQL, Java, AWS))), List(2, List(San Francisco, USA, 456 Market St, 94107), 28, Marketing, 2018-09-01, 2022-01-15, Jane Smith, Marketing Manager, List(List(List(120000, Campaign 2023, Completed), List(150000, Campaign 2024, Ongoing))), 95000, List(List(SEO, Content Strategy, Google Analytics))), List(3, List(Chicago, USA, 789 Wall St, 60605), 35, Finance, 2010-05-20, 2020-02-10, Alice Johnson, Finance Manager, List(List(List(200000, Budget Forecast 2023, Completed))), 130000, List(List(Financial Analysis, Risk Management, Excel, SAP))), List(4, List(Los Angeles, USA, 101 HR Lane, 90001), 42, Human Resources, 2008-08-25, 2019-09-05, Bob Williams, HR Director, List(List(List(50000, Employee Engagement, Ongoing))), 140000, List(List(Employee Relations, Recruitment, Training, HR Compliance))), List(5, List(Austin, USA, 102 Tech Park, 73301), 38, IT, 2012-11-11, 2020-07-21, Charlie Brown, IT Manager, List(List(List(250000, Network Overhaul, Completed), List(400000, Cloud Migration, Ongoing))), 125000, List(List(Networking, System Administration, Linux, Cybersecurity))))</td></tr></tbody></table></div>"
      ]
     },
     "metadata": {
      "application/vnd.databricks.v1+output": {
       "addedWidgets": {},
       "aggData": [],
       "aggError": "",
       "aggOverflow": false,
       "aggSchema": [],
       "aggSeriesLimitReached": false,
       "aggType": "",
       "arguments": {},
       "columnCustomDisplayInfos": {},
       "data": [
        [
         [
          [
           1,
           [
            "New York",
            "USA",
            "123 Main St",
            10001
           ],
           30,
           "Engineering",
           "2015-03-15",
           "2021-06-01",
           "John Doe",
           "Senior Software Engineer",
           [
            [
             [
              500000,
              "Project Alpha",
              "Ongoing"
             ],
             [
              300000,
              "Project Beta",
              "Completed"
             ]
            ]
           ],
           120000,
           [
            [
             "Python",
             "SQL",
             "Java",
             "AWS"
            ]
           ]
          ],
          [
           2,
           [
            "San Francisco",
            "USA",
            "456 Market St",
            94107
           ],
           28,
           "Marketing",
           "2018-09-01",
           "2022-01-15",
           "Jane Smith",
           "Marketing Manager",
           [
            [
             [
              120000,
              "Campaign 2023",
              "Completed"
             ],
             [
              150000,
              "Campaign 2024",
              "Ongoing"
             ]
            ]
           ],
           95000,
           [
            [
             "SEO",
             "Content Strategy",
             "Google Analytics"
            ]
           ]
          ],
          [
           3,
           [
            "Chicago",
            "USA",
            "789 Wall St",
            60605
           ],
           35,
           "Finance",
           "2010-05-20",
           "2020-02-10",
           "Alice Johnson",
           "Finance Manager",
           [
            [
             [
              200000,
              "Budget Forecast 2023",
              "Completed"
             ]
            ]
           ],
           130000,
           [
            [
             "Financial Analysis",
             "Risk Management",
             "Excel",
             "SAP"
            ]
           ]
          ],
          [
           4,
           [
            "Los Angeles",
            "USA",
            "101 HR Lane",
            90001
           ],
           42,
           "Human Resources",
           "2008-08-25",
           "2019-09-05",
           "Bob Williams",
           "HR Director",
           [
            [
             [
              50000,
              "Employee Engagement",
              "Ongoing"
             ]
            ]
           ],
           140000,
           [
            [
             "Employee Relations",
             "Recruitment",
             "Training",
             "HR Compliance"
            ]
           ]
          ],
          [
           5,
           [
            "Austin",
            "USA",
            "102 Tech Park",
            73301
           ],
           38,
           "IT",
           "2012-11-11",
           "2020-07-21",
           "Charlie Brown",
           "IT Manager",
           [
            [
             [
              250000,
              "Network Overhaul",
              "Completed"
             ],
             [
              400000,
              "Cloud Migration",
              "Ongoing"
             ]
            ]
           ],
           125000,
           [
            [
             "Networking",
             "System Administration",
             "Linux",
             "Cybersecurity"
            ]
           ]
          ]
         ]
        ]
       ],
       "datasetInfos": [],
       "dbfsResultPath": null,
       "isJsonSchema": true,
       "metadata": {},
       "overflow": false,
       "plotOptions": {
        "customPlotOptions": {},
        "displayType": "table",
        "pivotAggregation": null,
        "pivotColumns": null,
        "xColumns": null,
        "yColumns": null
       },
       "removedWidgets": [],
       "schema": [
        {
         "metadata": "{}",
         "name": "employee",
         "type": "{\"type\":\"array\",\"elementType\":{\"type\":\"struct\",\"fields\":[{\"name\":\"_id\",\"type\":\"long\",\"nullable\":true,\"metadata\":{}},{\"name\":\"address\",\"type\":{\"type\":\"struct\",\"fields\":[{\"name\":\"city\",\"type\":\"string\",\"nullable\":true,\"metadata\":{}},{\"name\":\"country\",\"type\":\"string\",\"nullable\":true,\"metadata\":{}},{\"name\":\"street\",\"type\":\"string\",\"nullable\":true,\"metadata\":{}},{\"name\":\"zipcode\",\"type\":\"long\",\"nullable\":true,\"metadata\":{}}]},\"nullable\":true,\"metadata\":{}},{\"name\":\"age\",\"type\":\"long\",\"nullable\":true,\"metadata\":{}},{\"name\":\"department\",\"type\":\"string\",\"nullable\":true,\"metadata\":{}},{\"name\":\"joining_date\",\"type\":\"date\",\"nullable\":true,\"metadata\":{}},{\"name\":\"last_promotion_date\",\"type\":\"date\",\"nullable\":true,\"metadata\":{}},{\"name\":\"name\",\"type\":\"string\",\"nullable\":true,\"metadata\":{}},{\"name\":\"position\",\"type\":\"string\",\"nullable\":true,\"metadata\":{}},{\"name\":\"projects\",\"type\":{\"type\":\"struct\",\"fields\":[{\"name\":\"project\",\"type\":{\"type\":\"array\",\"elementType\":{\"type\":\"struct\",\"fields\":[{\"name\":\"budget\",\"type\":\"long\",\"nullable\":true,\"metadata\":{}},{\"name\":\"name\",\"type\":\"string\",\"nullable\":true,\"metadata\":{}},{\"name\":\"status\",\"type\":\"string\",\"nullable\":true,\"metadata\":{}}]},\"containsNull\":true},\"nullable\":true,\"metadata\":{}}]},\"nullable\":true,\"metadata\":{}},{\"name\":\"salary\",\"type\":\"long\",\"nullable\":true,\"metadata\":{}},{\"name\":\"skills\",\"type\":{\"type\":\"struct\",\"fields\":[{\"name\":\"skill\",\"type\":{\"type\":\"array\",\"elementType\":\"string\",\"containsNull\":true},\"nullable\":true,\"metadata\":{}}]},\"nullable\":true,\"metadata\":{}}]},\"containsNull\":true}"
        }
       ],
       "type": "table"
      }
     },
     "output_type": "display_data"
    }
   ],
   "source": [
    "tag = {\n",
    "    'sample' : 'customers',\n",
    "    'sample2' : 'company',\n",
    "    'sample3' : 'employees',\n",
    "}\n",
    "\n",
    "for i, row_tag in tag.items():\n",
    "    df = spark.read.format('xml').option('rowTag', row_tag).load(f'dbfs:/FileStore/tables/{i}.xml') \n",
    "    print(f'DataFrame of {i}')\n",
    "    display(df)"
   ]
  },
  {
   "cell_type": "code",
   "execution_count": 0,
   "metadata": {
    "application/vnd.databricks.v1+cell": {
     "cellMetadata": {
      "byteLimit": 2048000,
      "rowLimit": 10000
     },
     "inputWidgets": {},
     "nuid": "6cd73ebc-1b0d-49a6-a592-a2a9296b2a87",
     "showTitle": false,
     "title": ""
    }
   },
   "outputs": [
    {
     "output_type": "display_data",
     "data": {
      "text/html": [
       "<style scoped>\n",
       "  .table-result-container {\n",
       "    max-height: 300px;\n",
       "    overflow: auto;\n",
       "  }\n",
       "  table, th, td {\n",
       "    border: 1px solid black;\n",
       "    border-collapse: collapse;\n",
       "  }\n",
       "  th, td {\n",
       "    padding: 5px;\n",
       "  }\n",
       "  th {\n",
       "    text-align: left;\n",
       "  }\n",
       "</style><div class='table-result-container'><table class='table-result'><thead style='background-color: white'><tr><th>customer</th></tr></thead><tbody><tr><td>List(List(List(New York, Manhattan, NY), 30, 1, John Doe, List(List(List(1001, Book, 2), List(1002, Pen, 10)))), List(List(Los Angeles, Hollywood, CA), 25, 2, Jane Smith, List(List(List(1003, Laptop, 1)))))</td></tr></tbody></table></div>"
      ]
     },
     "metadata": {
      "application/vnd.databricks.v1+output": {
       "addedWidgets": {},
       "aggData": [],
       "aggError": "",
       "aggOverflow": false,
       "aggSchema": [],
       "aggSeriesLimitReached": false,
       "aggType": "",
       "arguments": {},
       "columnCustomDisplayInfos": {},
       "data": [
        [
         [
          [
           [
            "New York",
            "Manhattan",
            "NY"
           ],
           30,
           1,
           "John Doe",
           [
            [
             [
              1001,
              "Book",
              2
             ],
             [
              1002,
              "Pen",
              10
             ]
            ]
           ]
          ],
          [
           [
            "Los Angeles",
            "Hollywood",
            "CA"
           ],
           25,
           2,
           "Jane Smith",
           [
            [
             [
              1003,
              "Laptop",
              1
             ]
            ]
           ]
          ]
         ]
        ]
       ],
       "datasetInfos": [],
       "dbfsResultPath": null,
       "isJsonSchema": true,
       "metadata": {},
       "overflow": false,
       "plotOptions": {
        "customPlotOptions": {},
        "displayType": "table",
        "pivotAggregation": null,
        "pivotColumns": null,
        "xColumns": null,
        "yColumns": null
       },
       "removedWidgets": [],
       "schema": [
        {
         "metadata": "{}",
         "name": "customer",
         "type": "{\"type\":\"array\",\"elementType\":{\"type\":\"struct\",\"fields\":[{\"name\":\"Address\",\"type\":{\"type\":\"struct\",\"fields\":[{\"name\":\"City\",\"type\":\"string\",\"nullable\":true,\"metadata\":{}},{\"name\":\"District\",\"type\":\"string\",\"nullable\":true,\"metadata\":{}},{\"name\":\"State\",\"type\":\"string\",\"nullable\":true,\"metadata\":{}}]},\"nullable\":true,\"metadata\":{}},{\"name\":\"Age\",\"type\":\"long\",\"nullable\":true,\"metadata\":{}},{\"name\":\"Customer_ID\",\"type\":\"long\",\"nullable\":true,\"metadata\":{}},{\"name\":\"Name\",\"type\":\"string\",\"nullable\":true,\"metadata\":{}},{\"name\":\"Orders\",\"type\":{\"type\":\"struct\",\"fields\":[{\"name\":\"Order\",\"type\":{\"type\":\"array\",\"elementType\":{\"type\":\"struct\",\"fields\":[{\"name\":\"Order_ID\",\"type\":\"long\",\"nullable\":true,\"metadata\":{}},{\"name\":\"Product\",\"type\":\"string\",\"nullable\":true,\"metadata\":{}},{\"name\":\"Quantity\",\"type\":\"long\",\"nullable\":true,\"metadata\":{}}]},\"containsNull\":true},\"nullable\":true,\"metadata\":{}}]},\"nullable\":true,\"metadata\":{}}]},\"containsNull\":true}"
        }
       ],
       "type": "table"
      }
     },
     "output_type": "display_data"
    }
   ],
   "source": [
    "sample_df = spark.read.format('xml').option('rowTag', 'customers').load('dbfs:/FileStore/tables/sample.xml')\n",
    "sample_df.display()"
   ]
  },
  {
   "cell_type": "code",
   "execution_count": 0,
   "metadata": {
    "application/vnd.databricks.v1+cell": {
     "cellMetadata": {
      "byteLimit": 2048000,
      "rowLimit": 10000
     },
     "inputWidgets": {},
     "nuid": "ad06d779-5275-472b-9482-3cc7b66ab72a",
     "showTitle": false,
     "title": ""
    }
   },
   "outputs": [
    {
     "output_type": "display_data",
     "data": {
      "text/html": [
       "<style scoped>\n",
       "  .table-result-container {\n",
       "    max-height: 300px;\n",
       "    overflow: auto;\n",
       "  }\n",
       "  table, th, td {\n",
       "    border: 1px solid black;\n",
       "    border-collapse: collapse;\n",
       "  }\n",
       "  th, td {\n",
       "    padding: 5px;\n",
       "  }\n",
       "  th {\n",
       "    text-align: left;\n",
       "  }\n",
       "</style><div class='table-result-container'><table class='table-result'><thead style='background-color: white'><tr><th>customer</th></tr></thead><tbody><tr><td>List(List(New York, Manhattan, NY), 30, 1, John Doe, List(List(List(1001, Book, 2), List(1002, Pen, 10))))</td></tr><tr><td>List(List(Los Angeles, Hollywood, CA), 25, 2, Jane Smith, List(List(List(1003, Laptop, 1))))</td></tr></tbody></table></div>"
      ]
     },
     "metadata": {
      "application/vnd.databricks.v1+output": {
       "addedWidgets": {},
       "aggData": [],
       "aggError": "",
       "aggOverflow": false,
       "aggSchema": [],
       "aggSeriesLimitReached": false,
       "aggType": "",
       "arguments": {},
       "columnCustomDisplayInfos": {},
       "data": [
        [
         [
          [
           "New York",
           "Manhattan",
           "NY"
          ],
          30,
          1,
          "John Doe",
          [
           [
            [
             1001,
             "Book",
             2
            ],
            [
             1002,
             "Pen",
             10
            ]
           ]
          ]
         ]
        ],
        [
         [
          [
           "Los Angeles",
           "Hollywood",
           "CA"
          ],
          25,
          2,
          "Jane Smith",
          [
           [
            [
             1003,
             "Laptop",
             1
            ]
           ]
          ]
         ]
        ]
       ],
       "datasetInfos": [],
       "dbfsResultPath": null,
       "isJsonSchema": true,
       "metadata": {},
       "overflow": false,
       "plotOptions": {
        "customPlotOptions": {},
        "displayType": "table",
        "pivotAggregation": null,
        "pivotColumns": null,
        "xColumns": null,
        "yColumns": null
       },
       "removedWidgets": [],
       "schema": [
        {
         "metadata": "{}",
         "name": "customer",
         "type": "{\"type\":\"struct\",\"fields\":[{\"name\":\"Address\",\"type\":{\"type\":\"struct\",\"fields\":[{\"name\":\"City\",\"type\":\"string\",\"nullable\":true,\"metadata\":{}},{\"name\":\"District\",\"type\":\"string\",\"nullable\":true,\"metadata\":{}},{\"name\":\"State\",\"type\":\"string\",\"nullable\":true,\"metadata\":{}}]},\"nullable\":true,\"metadata\":{}},{\"name\":\"Age\",\"type\":\"long\",\"nullable\":true,\"metadata\":{}},{\"name\":\"Customer_ID\",\"type\":\"long\",\"nullable\":true,\"metadata\":{}},{\"name\":\"Name\",\"type\":\"string\",\"nullable\":true,\"metadata\":{}},{\"name\":\"Orders\",\"type\":{\"type\":\"struct\",\"fields\":[{\"name\":\"Order\",\"type\":{\"type\":\"array\",\"elementType\":{\"type\":\"struct\",\"fields\":[{\"name\":\"Order_ID\",\"type\":\"long\",\"nullable\":true,\"metadata\":{}},{\"name\":\"Product\",\"type\":\"string\",\"nullable\":true,\"metadata\":{}},{\"name\":\"Quantity\",\"type\":\"long\",\"nullable\":true,\"metadata\":{}}]},\"containsNull\":true},\"nullable\":true,\"metadata\":{}}]},\"nullable\":true,\"metadata\":{}}]}"
        }
       ],
       "type": "table"
      }
     },
     "output_type": "display_data"
    }
   ],
   "source": [
    "from pyspark.sql.functions import explode,col\n",
    "\n",
    "df_flat = sample_df.select(\n",
    "    explode('customer').alias('customer')\n",
    ")\n",
    "df_flat.display()"
   ]
  },
  {
   "cell_type": "code",
   "execution_count": 0,
   "metadata": {
    "application/vnd.databricks.v1+cell": {
     "cellMetadata": {
      "byteLimit": 2048000,
      "rowLimit": 10000
     },
     "inputWidgets": {},
     "nuid": "517faa50-4b4a-43eb-a62b-69a5bc6f25b6",
     "showTitle": false,
     "title": ""
    }
   },
   "outputs": [
    {
     "output_type": "display_data",
     "data": {
      "text/html": [
       "<style scoped>\n",
       "  .table-result-container {\n",
       "    max-height: 300px;\n",
       "    overflow: auto;\n",
       "  }\n",
       "  table, th, td {\n",
       "    border: 1px solid black;\n",
       "    border-collapse: collapse;\n",
       "  }\n",
       "  th, td {\n",
       "    padding: 5px;\n",
       "  }\n",
       "  th {\n",
       "    text-align: left;\n",
       "  }\n",
       "</style><div class='table-result-container'><table class='table-result'><thead style='background-color: white'><tr><th>Customer_ID</th><th>Name</th><th>City</th><th>District</th><th>State</th><th>Age</th><th>order</th></tr></thead><tbody><tr><td>1</td><td>John Doe</td><td>New York</td><td>Manhattan</td><td>NY</td><td>30</td><td>List(1001, Book, 2)</td></tr><tr><td>1</td><td>John Doe</td><td>New York</td><td>Manhattan</td><td>NY</td><td>30</td><td>List(1002, Pen, 10)</td></tr><tr><td>2</td><td>Jane Smith</td><td>Los Angeles</td><td>Hollywood</td><td>CA</td><td>25</td><td>List(1003, Laptop, 1)</td></tr></tbody></table></div>"
      ]
     },
     "metadata": {
      "application/vnd.databricks.v1+output": {
       "addedWidgets": {},
       "aggData": [],
       "aggError": "",
       "aggOverflow": false,
       "aggSchema": [],
       "aggSeriesLimitReached": false,
       "aggType": "",
       "arguments": {},
       "columnCustomDisplayInfos": {},
       "data": [
        [
         1,
         "John Doe",
         "New York",
         "Manhattan",
         "NY",
         30,
         [
          1001,
          "Book",
          2
         ]
        ],
        [
         1,
         "John Doe",
         "New York",
         "Manhattan",
         "NY",
         30,
         [
          1002,
          "Pen",
          10
         ]
        ],
        [
         2,
         "Jane Smith",
         "Los Angeles",
         "Hollywood",
         "CA",
         25,
         [
          1003,
          "Laptop",
          1
         ]
        ]
       ],
       "datasetInfos": [],
       "dbfsResultPath": null,
       "isJsonSchema": true,
       "metadata": {},
       "overflow": false,
       "plotOptions": {
        "customPlotOptions": {},
        "displayType": "table",
        "pivotAggregation": null,
        "pivotColumns": null,
        "xColumns": null,
        "yColumns": null
       },
       "removedWidgets": [],
       "schema": [
        {
         "metadata": "{}",
         "name": "Customer_ID",
         "type": "\"long\""
        },
        {
         "metadata": "{}",
         "name": "Name",
         "type": "\"string\""
        },
        {
         "metadata": "{}",
         "name": "City",
         "type": "\"string\""
        },
        {
         "metadata": "{}",
         "name": "District",
         "type": "\"string\""
        },
        {
         "metadata": "{}",
         "name": "State",
         "type": "\"string\""
        },
        {
         "metadata": "{}",
         "name": "Age",
         "type": "\"long\""
        },
        {
         "metadata": "{}",
         "name": "order",
         "type": "{\"type\":\"struct\",\"fields\":[{\"name\":\"Order_ID\",\"type\":\"long\",\"nullable\":true,\"metadata\":{}},{\"name\":\"Product\",\"type\":\"string\",\"nullable\":true,\"metadata\":{}},{\"name\":\"Quantity\",\"type\":\"long\",\"nullable\":true,\"metadata\":{}}]}"
        }
       ],
       "type": "table"
      }
     },
     "output_type": "display_data"
    }
   ],
   "source": [
    "df_flat = df_flat.select(\n",
    "    'customer.Customer_ID',\n",
    "    'customer.Name',\n",
    "    'customer.Address.City',\n",
    "    'customer.Address.District',\n",
    "    'customer.Address.State',\n",
    "    'customer.Age',\n",
    "    explode('customer.Orders.Order').alias('order')  # Exploding the Orders.Order array\n",
    ")\n",
    "\n",
    "df_flat.display()"
   ]
  },
  {
   "cell_type": "code",
   "execution_count": 0,
   "metadata": {
    "application/vnd.databricks.v1+cell": {
     "cellMetadata": {
      "byteLimit": 2048000,
      "rowLimit": 10000
     },
     "inputWidgets": {},
     "nuid": "a10128d0-6267-492f-8b93-c6a0148db9b5",
     "showTitle": false,
     "title": ""
    }
   },
   "outputs": [
    {
     "output_type": "display_data",
     "data": {
      "text/html": [
       "<style scoped>\n",
       "  .table-result-container {\n",
       "    max-height: 300px;\n",
       "    overflow: auto;\n",
       "  }\n",
       "  table, th, td {\n",
       "    border: 1px solid black;\n",
       "    border-collapse: collapse;\n",
       "  }\n",
       "  th, td {\n",
       "    padding: 5px;\n",
       "  }\n",
       "  th {\n",
       "    text-align: left;\n",
       "  }\n",
       "</style><div class='table-result-container'><table class='table-result'><thead style='background-color: white'><tr><th>Customer_ID</th><th>Name</th><th>Age</th><th>City</th><th>State</th><th>Order_ID</th><th>Product</th><th>Quantity</th></tr></thead><tbody><tr><td>1</td><td>John Doe</td><td>30</td><td>New York</td><td>NY</td><td>1001</td><td>Book</td><td>2</td></tr><tr><td>1</td><td>John Doe</td><td>30</td><td>New York</td><td>NY</td><td>1002</td><td>Pen</td><td>10</td></tr><tr><td>2</td><td>Jane Smith</td><td>25</td><td>Los Angeles</td><td>CA</td><td>1003</td><td>Laptop</td><td>1</td></tr></tbody></table></div>"
      ]
     },
     "metadata": {
      "application/vnd.databricks.v1+output": {
       "addedWidgets": {},
       "aggData": [],
       "aggError": "",
       "aggOverflow": false,
       "aggSchema": [],
       "aggSeriesLimitReached": false,
       "aggType": "",
       "arguments": {},
       "columnCustomDisplayInfos": {},
       "data": [
        [
         1,
         "John Doe",
         30,
         "New York",
         "NY",
         1001,
         "Book",
         2
        ],
        [
         1,
         "John Doe",
         30,
         "New York",
         "NY",
         1002,
         "Pen",
         10
        ],
        [
         2,
         "Jane Smith",
         25,
         "Los Angeles",
         "CA",
         1003,
         "Laptop",
         1
        ]
       ],
       "datasetInfos": [],
       "dbfsResultPath": null,
       "isJsonSchema": true,
       "metadata": {},
       "overflow": false,
       "plotOptions": {
        "customPlotOptions": {},
        "displayType": "table",
        "pivotAggregation": null,
        "pivotColumns": null,
        "xColumns": null,
        "yColumns": null
       },
       "removedWidgets": [],
       "schema": [
        {
         "metadata": "{}",
         "name": "Customer_ID",
         "type": "\"long\""
        },
        {
         "metadata": "{}",
         "name": "Name",
         "type": "\"string\""
        },
        {
         "metadata": "{}",
         "name": "Age",
         "type": "\"long\""
        },
        {
         "metadata": "{}",
         "name": "City",
         "type": "\"string\""
        },
        {
         "metadata": "{}",
         "name": "State",
         "type": "\"string\""
        },
        {
         "metadata": "{}",
         "name": "Order_ID",
         "type": "\"long\""
        },
        {
         "metadata": "{}",
         "name": "Product",
         "type": "\"string\""
        },
        {
         "metadata": "{}",
         "name": "Quantity",
         "type": "\"long\""
        }
       ],
       "type": "table"
      }
     },
     "output_type": "display_data"
    }
   ],
   "source": [
    "df_flat_final = df_flat.select(\n",
    "    'Customer_ID',\n",
    "    'Name',\n",
    "    'Age',\n",
    "    'City',\n",
    "    'State',\n",
    "    col('order.Order_ID').alias('Order_ID'),\n",
    "    col('order.Product').alias('Product'),\n",
    "    col('order.Quantity').alias('Quantity')\n",
    ")\n",
    "\n",
    "df_flat_final.display()"
   ]
  },
  {
   "cell_type": "code",
   "execution_count": 0,
   "metadata": {
    "application/vnd.databricks.v1+cell": {
     "cellMetadata": {
      "byteLimit": 2048000,
      "rowLimit": 10000
     },
     "inputWidgets": {},
     "nuid": "8714e55c-21dd-4cd5-ad84-d14be8cff0e9",
     "showTitle": false,
     "title": ""
    }
   },
   "outputs": [
    {
     "output_type": "display_data",
     "data": {
      "text/html": [
       "<style scoped>\n",
       "  .table-result-container {\n",
       "    max-height: 300px;\n",
       "    overflow: auto;\n",
       "  }\n",
       "  table, th, td {\n",
       "    border: 1px solid black;\n",
       "    border-collapse: collapse;\n",
       "  }\n",
       "  th, td {\n",
       "    padding: 5px;\n",
       "  }\n",
       "  th {\n",
       "    text-align: left;\n",
       "  }\n",
       "</style><div class='table-result-container'><table class='table-result'><thead style='background-color: white'><tr><th>departments</th><th>location</th><th>name</th><th>products</th></tr></thead><tbody><tr><td>List(List(List(List(List(List(null, List(alice@techcorp.com, +1-555-1010), 10, 1001, Alice, List(List(Project X, Project Z)), Senior Software Engineer, 150000, List(List(Java, Python, C++)), null), List(null, List(bob@techcorp.com, +1-555-2020), 7, 1002, Bob, List(List(Project Y)), Data Scientist, 120000, List(List(Python, R, SQL)), null))), Engineering), List(List(List(List(null, List(carol@techcorp.com, +1-555-3030), 12, 2001, Carol, null, Sales Manager, 90000, null, List(List(USA, Canada))))), Sales), List(List(List(List(List(List(List(250000, Brand Awareness 2024, Ongoing), List(500000, Product Launch 2023, Completed))), List(david@techcorp.com, +1-555-4040), 5, 3001, David, null, Marketing Specialist, 85000, null, null))), Marketing)))</td><td>List(List(List(List(New York, 300, List(List(List(500000, Project X, Ongoing), List(1200000, Project Y, Completed)))), List(Chicago, 150, List(List(List(800000, Project Z, Planning)))))), List(789 Innovation Drive, San Francisco, USA, CA, 94107))</td><td>TechCorp</td><td>List(List(List(Hardware, List(12 hours, Black, null, null, 10x15 cm, null), P001, 2022-05-01, TechWidget, 250, List(List(List(North America, 1250000, 5000), List(Europe, 750000, 3000)))), List(Software, List(null, null, 1 year, List(List(Windows, macOS, Linux)), null, 2.1), P002, 2023-01-15, TechGadget, 499, List(List(List(North America, 998000, 2000), List(Asia, 748500, 1500))))))</td></tr></tbody></table></div>"
      ]
     },
     "metadata": {
      "application/vnd.databricks.v1+output": {
       "addedWidgets": {},
       "aggData": [],
       "aggError": "",
       "aggOverflow": false,
       "aggSchema": [],
       "aggSeriesLimitReached": false,
       "aggType": "",
       "arguments": {},
       "columnCustomDisplayInfos": {},
       "data": [
        [
         [
          [
           [
            [
             [
              [
               null,
               [
                "alice@techcorp.com",
                "+1-555-1010"
               ],
               10,
               1001,
               "Alice",
               [
                [
                 "Project X",
                 "Project Z"
                ]
               ],
               "Senior Software Engineer",
               150000,
               [
                [
                 "Java",
                 "Python",
                 "C++"
                ]
               ],
               null
              ],
              [
               null,
               [
                "bob@techcorp.com",
                "+1-555-2020"
               ],
               7,
               1002,
               "Bob",
               [
                [
                 "Project Y"
                ]
               ],
               "Data Scientist",
               120000,
               [
                [
                 "Python",
                 "R",
                 "SQL"
                ]
               ],
               null
              ]
             ]
            ],
            "Engineering"
           ],
           [
            [
             [
              [
               null,
               [
                "carol@techcorp.com",
                "+1-555-3030"
               ],
               12,
               2001,
               "Carol",
               null,
               "Sales Manager",
               90000,
               null,
               [
                [
                 "USA",
                 "Canada"
                ]
               ]
              ]
             ]
            ],
            "Sales"
           ],
           [
            [
             [
              [
               [
                [
                 [
                  250000,
                  "Brand Awareness 2024",
                  "Ongoing"
                 ],
                 [
                  500000,
                  "Product Launch 2023",
                  "Completed"
                 ]
                ]
               ],
               [
                "david@techcorp.com",
                "+1-555-4040"
               ],
               5,
               3001,
               "David",
               null,
               "Marketing Specialist",
               85000,
               null,
               null
              ]
             ]
            ],
            "Marketing"
           ]
          ]
         ],
         [
          [
           [
            [
             "New York",
             300,
             [
              [
               [
                500000,
                "Project X",
                "Ongoing"
               ],
               [
                1200000,
                "Project Y",
                "Completed"
               ]
              ]
             ]
            ],
            [
             "Chicago",
             150,
             [
              [
               [
                800000,
                "Project Z",
                "Planning"
               ]
              ]
             ]
            ]
           ]
          ],
          [
           "789 Innovation Drive",
           "San Francisco",
           "USA",
           "CA",
           94107
          ]
         ],
         "TechCorp",
         [
          [
           [
            "Hardware",
            [
             "12 hours",
             "Black",
             null,
             null,
             "10x15 cm",
             null
            ],
            "P001",
            "2022-05-01",
            "TechWidget",
            250,
            [
             [
              [
               "North America",
               1250000,
               5000
              ],
              [
               "Europe",
               750000,
               3000
              ]
             ]
            ]
           ],
           [
            "Software",
            [
             null,
             null,
             "1 year",
             [
              [
               "Windows",
               "macOS",
               "Linux"
              ]
             ],
             null,
             2.1
            ],
            "P002",
            "2023-01-15",
            "TechGadget",
            499,
            [
             [
              [
               "North America",
               998000,
               2000
              ],
              [
               "Asia",
               748500,
               1500
              ]
             ]
            ]
           ]
          ]
         ]
        ]
       ],
       "datasetInfos": [],
       "dbfsResultPath": null,
       "isJsonSchema": true,
       "metadata": {},
       "overflow": false,
       "plotOptions": {
        "customPlotOptions": {},
        "displayType": "table",
        "pivotAggregation": null,
        "pivotColumns": null,
        "xColumns": null,
        "yColumns": null
       },
       "removedWidgets": [],
       "schema": [
        {
         "metadata": "{}",
         "name": "departments",
         "type": "{\"type\":\"struct\",\"fields\":[{\"name\":\"department\",\"type\":{\"type\":\"array\",\"elementType\":{\"type\":\"struct\",\"fields\":[{\"name\":\"employees\",\"type\":{\"type\":\"struct\",\"fields\":[{\"name\":\"employee\",\"type\":{\"type\":\"array\",\"elementType\":{\"type\":\"struct\",\"fields\":[{\"name\":\"campaigns\",\"type\":{\"type\":\"struct\",\"fields\":[{\"name\":\"campaign\",\"type\":{\"type\":\"array\",\"elementType\":{\"type\":\"struct\",\"fields\":[{\"name\":\"budget\",\"type\":\"long\",\"nullable\":true,\"metadata\":{}},{\"name\":\"name\",\"type\":\"string\",\"nullable\":true,\"metadata\":{}},{\"name\":\"status\",\"type\":\"string\",\"nullable\":true,\"metadata\":{}}]},\"containsNull\":true},\"nullable\":true,\"metadata\":{}}]},\"nullable\":true,\"metadata\":{}},{\"name\":\"contact\",\"type\":{\"type\":\"struct\",\"fields\":[{\"name\":\"email\",\"type\":\"string\",\"nullable\":true,\"metadata\":{}},{\"name\":\"phone\",\"type\":\"string\",\"nullable\":true,\"metadata\":{}}]},\"nullable\":true,\"metadata\":{}},{\"name\":\"experience_years\",\"type\":\"long\",\"nullable\":true,\"metadata\":{}},{\"name\":\"id\",\"type\":\"long\",\"nullable\":true,\"metadata\":{}},{\"name\":\"name\",\"type\":\"string\",\"nullable\":true,\"metadata\":{}},{\"name\":\"projects\",\"type\":{\"type\":\"struct\",\"fields\":[{\"name\":\"project\",\"type\":{\"type\":\"array\",\"elementType\":\"string\",\"containsNull\":true},\"nullable\":true,\"metadata\":{}}]},\"nullable\":true,\"metadata\":{}},{\"name\":\"role\",\"type\":\"string\",\"nullable\":true,\"metadata\":{}},{\"name\":\"salary\",\"type\":\"long\",\"nullable\":true,\"metadata\":{}},{\"name\":\"skills\",\"type\":{\"type\":\"struct\",\"fields\":[{\"name\":\"skill\",\"type\":{\"type\":\"array\",\"elementType\":\"string\",\"containsNull\":true},\"nullable\":true,\"metadata\":{}}]},\"nullable\":true,\"metadata\":{}},{\"name\":\"territories\",\"type\":{\"type\":\"struct\",\"fields\":[{\"name\":\"territorie\",\"type\":{\"type\":\"array\",\"elementType\":\"string\",\"containsNull\":true},\"nullable\":true,\"metadata\":{}}]},\"nullable\":true,\"metadata\":{}}]},\"containsNull\":true},\"nullable\":true,\"metadata\":{}}]},\"nullable\":true,\"metadata\":{}},{\"name\":\"name\",\"type\":\"string\",\"nullable\":true,\"metadata\":{}}]},\"containsNull\":true},\"nullable\":true,\"metadata\":{}}]}"
        },
        {
         "metadata": "{}",
         "name": "location",
         "type": "{\"type\":\"struct\",\"fields\":[{\"name\":\"branch_offices\",\"type\":{\"type\":\"struct\",\"fields\":[{\"name\":\"branch_office\",\"type\":{\"type\":\"array\",\"elementType\":{\"type\":\"struct\",\"fields\":[{\"name\":\"city\",\"type\":\"string\",\"nullable\":true,\"metadata\":{}},{\"name\":\"employees\",\"type\":\"long\",\"nullable\":true,\"metadata\":{}},{\"name\":\"projects\",\"type\":{\"type\":\"struct\",\"fields\":[{\"name\":\"project\",\"type\":{\"type\":\"array\",\"elementType\":{\"type\":\"struct\",\"fields\":[{\"name\":\"budget\",\"type\":\"long\",\"nullable\":true,\"metadata\":{}},{\"name\":\"name\",\"type\":\"string\",\"nullable\":true,\"metadata\":{}},{\"name\":\"status\",\"type\":\"string\",\"nullable\":true,\"metadata\":{}}]},\"containsNull\":true},\"nullable\":true,\"metadata\":{}}]},\"nullable\":true,\"metadata\":{}}]},\"containsNull\":true},\"nullable\":true,\"metadata\":{}}]},\"nullable\":true,\"metadata\":{}},{\"name\":\"headquarters\",\"type\":{\"type\":\"struct\",\"fields\":[{\"name\":\"address\",\"type\":\"string\",\"nullable\":true,\"metadata\":{}},{\"name\":\"city\",\"type\":\"string\",\"nullable\":true,\"metadata\":{}},{\"name\":\"country\",\"type\":\"string\",\"nullable\":true,\"metadata\":{}},{\"name\":\"state\",\"type\":\"string\",\"nullable\":true,\"metadata\":{}},{\"name\":\"zipcode\",\"type\":\"long\",\"nullable\":true,\"metadata\":{}}]},\"nullable\":true,\"metadata\":{}}]}"
        },
        {
         "metadata": "{}",
         "name": "name",
         "type": "\"string\""
        },
        {
         "metadata": "{}",
         "name": "products",
         "type": "{\"type\":\"struct\",\"fields\":[{\"name\":\"product\",\"type\":{\"type\":\"array\",\"elementType\":{\"type\":\"struct\",\"fields\":[{\"name\":\"category\",\"type\":\"string\",\"nullable\":true,\"metadata\":{}},{\"name\":\"features\",\"type\":{\"type\":\"struct\",\"fields\":[{\"name\":\"battery_life\",\"type\":\"string\",\"nullable\":true,\"metadata\":{}},{\"name\":\"color\",\"type\":\"string\",\"nullable\":true,\"metadata\":{}},{\"name\":\"license\",\"type\":\"string\",\"nullable\":true,\"metadata\":{}},{\"name\":\"platforms\",\"type\":{\"type\":\"struct\",\"fields\":[{\"name\":\"platform\",\"type\":{\"type\":\"array\",\"elementType\":\"string\",\"containsNull\":true},\"nullable\":true,\"metadata\":{}}]},\"nullable\":true,\"metadata\":{}},{\"name\":\"size\",\"type\":\"string\",\"nullable\":true,\"metadata\":{}},{\"name\":\"version\",\"type\":\"double\",\"nullable\":true,\"metadata\":{}}]},\"nullable\":true,\"metadata\":{}},{\"name\":\"id\",\"type\":\"string\",\"nullable\":true,\"metadata\":{}},{\"name\":\"launch_date\",\"type\":\"date\",\"nullable\":true,\"metadata\":{}},{\"name\":\"name\",\"type\":\"string\",\"nullable\":true,\"metadata\":{}},{\"name\":\"price\",\"type\":\"long\",\"nullable\":true,\"metadata\":{}},{\"name\":\"sales\",\"type\":{\"type\":\"struct\",\"fields\":[{\"name\":\"sale\",\"type\":{\"type\":\"array\",\"elementType\":{\"type\":\"struct\",\"fields\":[{\"name\":\"region\",\"type\":\"string\",\"nullable\":true,\"metadata\":{}},{\"name\":\"revenue\",\"type\":\"long\",\"nullable\":true,\"metadata\":{}},{\"name\":\"units_sold\",\"type\":\"long\",\"nullable\":true,\"metadata\":{}}]},\"containsNull\":true},\"nullable\":true,\"metadata\":{}}]},\"nullable\":true,\"metadata\":{}}]},\"containsNull\":true},\"nullable\":true,\"metadata\":{}}]}"
        }
       ],
       "type": "table"
      }
     },
     "output_type": "display_data"
    }
   ],
   "source": [
    "sample2_df = spark.read.format('xml').option('rowTag', 'company').load('dbfs:/FileStore/tables/sample2.xml')\n",
    "sample2_df.display()"
   ]
  },
  {
   "cell_type": "code",
   "execution_count": 0,
   "metadata": {
    "application/vnd.databricks.v1+cell": {
     "cellMetadata": {
      "byteLimit": 2048000,
      "rowLimit": 10000
     },
     "inputWidgets": {},
     "nuid": "226b9aee-faa3-461e-b08c-5201f1e36c5a",
     "showTitle": false,
     "title": ""
    }
   },
   "outputs": [
    {
     "output_type": "stream",
     "name": "stdout",
     "output_type": "stream",
     "text": [
      "root\n |-- departments: struct (nullable = true)\n |    |-- department: array (nullable = true)\n |    |    |-- element: struct (containsNull = true)\n |    |    |    |-- employees: struct (nullable = true)\n |    |    |    |    |-- employee: array (nullable = true)\n |    |    |    |    |    |-- element: struct (containsNull = true)\n |    |    |    |    |    |    |-- campaigns: struct (nullable = true)\n |    |    |    |    |    |    |    |-- campaign: array (nullable = true)\n |    |    |    |    |    |    |    |    |-- element: struct (containsNull = true)\n |    |    |    |    |    |    |    |    |    |-- budget: long (nullable = true)\n |    |    |    |    |    |    |    |    |    |-- name: string (nullable = true)\n |    |    |    |    |    |    |    |    |    |-- status: string (nullable = true)\n |    |    |    |    |    |    |-- contact: struct (nullable = true)\n |    |    |    |    |    |    |    |-- email: string (nullable = true)\n |    |    |    |    |    |    |    |-- phone: string (nullable = true)\n |    |    |    |    |    |    |-- experience_years: long (nullable = true)\n |    |    |    |    |    |    |-- id: long (nullable = true)\n |    |    |    |    |    |    |-- name: string (nullable = true)\n |    |    |    |    |    |    |-- projects: struct (nullable = true)\n |    |    |    |    |    |    |    |-- project: array (nullable = true)\n |    |    |    |    |    |    |    |    |-- element: string (containsNull = true)\n |    |    |    |    |    |    |-- role: string (nullable = true)\n |    |    |    |    |    |    |-- salary: long (nullable = true)\n |    |    |    |    |    |    |-- skills: struct (nullable = true)\n |    |    |    |    |    |    |    |-- skill: array (nullable = true)\n |    |    |    |    |    |    |    |    |-- element: string (containsNull = true)\n |    |    |    |    |    |    |-- territories: struct (nullable = true)\n |    |    |    |    |    |    |    |-- territorie: array (nullable = true)\n |    |    |    |    |    |    |    |    |-- element: string (containsNull = true)\n |    |    |    |-- name: string (nullable = true)\n |-- location: struct (nullable = true)\n |    |-- branch_offices: struct (nullable = true)\n |    |    |-- branch_office: array (nullable = true)\n |    |    |    |-- element: struct (containsNull = true)\n |    |    |    |    |-- city: string (nullable = true)\n |    |    |    |    |-- employees: long (nullable = true)\n |    |    |    |    |-- projects: struct (nullable = true)\n |    |    |    |    |    |-- project: array (nullable = true)\n |    |    |    |    |    |    |-- element: struct (containsNull = true)\n |    |    |    |    |    |    |    |-- budget: long (nullable = true)\n |    |    |    |    |    |    |    |-- name: string (nullable = true)\n |    |    |    |    |    |    |    |-- status: string (nullable = true)\n |    |-- headquarters: struct (nullable = true)\n |    |    |-- address: string (nullable = true)\n |    |    |-- city: string (nullable = true)\n |    |    |-- country: string (nullable = true)\n |    |    |-- state: string (nullable = true)\n |    |    |-- zipcode: long (nullable = true)\n |-- name: string (nullable = true)\n |-- products: struct (nullable = true)\n |    |-- product: array (nullable = true)\n |    |    |-- element: struct (containsNull = true)\n |    |    |    |-- category: string (nullable = true)\n |    |    |    |-- features: struct (nullable = true)\n |    |    |    |    |-- battery_life: string (nullable = true)\n |    |    |    |    |-- color: string (nullable = true)\n |    |    |    |    |-- license: string (nullable = true)\n |    |    |    |    |-- platforms: struct (nullable = true)\n |    |    |    |    |    |-- platform: array (nullable = true)\n |    |    |    |    |    |    |-- element: string (containsNull = true)\n |    |    |    |    |-- size: string (nullable = true)\n |    |    |    |    |-- version: double (nullable = true)\n |    |    |    |-- id: string (nullable = true)\n |    |    |    |-- launch_date: date (nullable = true)\n |    |    |    |-- name: string (nullable = true)\n |    |    |    |-- price: long (nullable = true)\n |    |    |    |-- sales: struct (nullable = true)\n |    |    |    |    |-- sale: array (nullable = true)\n |    |    |    |    |    |-- element: struct (containsNull = true)\n |    |    |    |    |    |    |-- region: string (nullable = true)\n |    |    |    |    |    |    |-- revenue: long (nullable = true)\n |    |    |    |    |    |    |-- units_sold: long (nullable = true)\n\n"
     ]
    }
   ],
   "source": [
    "sample2_df.printSchema()"
   ]
  },
  {
   "cell_type": "code",
   "execution_count": 0,
   "metadata": {
    "application/vnd.databricks.v1+cell": {
     "cellMetadata": {
      "byteLimit": 2048000,
      "rowLimit": 10000
     },
     "inputWidgets": {},
     "nuid": "8d8a625e-7ea7-4e72-b974-88e778beb8bd",
     "showTitle": false,
     "title": ""
    }
   },
   "outputs": [
    {
     "output_type": "display_data",
     "data": {
      "text/html": [
       "<style scoped>\n",
       "  .table-result-container {\n",
       "    max-height: 300px;\n",
       "    overflow: auto;\n",
       "  }\n",
       "  table, th, td {\n",
       "    border: 1px solid black;\n",
       "    border-collapse: collapse;\n",
       "  }\n",
       "  th, td {\n",
       "    padding: 5px;\n",
       "  }\n",
       "  th {\n",
       "    text-align: left;\n",
       "  }\n",
       "</style><div class='table-result-container'><table class='table-result'><thead style='background-color: white'><tr><th>Department_Name</th><th>Employee_ID</th><th>Employee_Name</th><th>Role</th><th>Salary</th><th>Experience_Years</th><th>Email</th><th>Phone</th><th>Campaign_Name</th><th>Budget</th><th>Status</th></tr></thead><tbody><tr><td>Marketing</td><td>3001</td><td>David</td><td>Marketing Specialist</td><td>85000</td><td>5</td><td>david@techcorp.com</td><td>+1-555-4040</td><td>Brand Awareness 2024</td><td>250000</td><td>Ongoing</td></tr><tr><td>Marketing</td><td>3001</td><td>David</td><td>Marketing Specialist</td><td>85000</td><td>5</td><td>david@techcorp.com</td><td>+1-555-4040</td><td>Product Launch 2023</td><td>500000</td><td>Completed</td></tr></tbody></table></div>"
      ]
     },
     "metadata": {
      "application/vnd.databricks.v1+output": {
       "addedWidgets": {},
       "aggData": [],
       "aggError": "",
       "aggOverflow": false,
       "aggSchema": [],
       "aggSeriesLimitReached": false,
       "aggType": "",
       "arguments": {},
       "columnCustomDisplayInfos": {},
       "data": [
        [
         "Marketing",
         3001,
         "David",
         "Marketing Specialist",
         85000,
         5,
         "david@techcorp.com",
         "+1-555-4040",
         "Brand Awareness 2024",
         250000,
         "Ongoing"
        ],
        [
         "Marketing",
         3001,
         "David",
         "Marketing Specialist",
         85000,
         5,
         "david@techcorp.com",
         "+1-555-4040",
         "Product Launch 2023",
         500000,
         "Completed"
        ]
       ],
       "datasetInfos": [],
       "dbfsResultPath": null,
       "isJsonSchema": true,
       "metadata": {},
       "overflow": false,
       "plotOptions": {
        "customPlotOptions": {},
        "displayType": "table",
        "pivotAggregation": null,
        "pivotColumns": null,
        "xColumns": null,
        "yColumns": null
       },
       "removedWidgets": [],
       "schema": [
        {
         "metadata": "{}",
         "name": "Department_Name",
         "type": "\"string\""
        },
        {
         "metadata": "{}",
         "name": "Employee_ID",
         "type": "\"long\""
        },
        {
         "metadata": "{}",
         "name": "Employee_Name",
         "type": "\"string\""
        },
        {
         "metadata": "{}",
         "name": "Role",
         "type": "\"string\""
        },
        {
         "metadata": "{}",
         "name": "Salary",
         "type": "\"long\""
        },
        {
         "metadata": "{}",
         "name": "Experience_Years",
         "type": "\"long\""
        },
        {
         "metadata": "{}",
         "name": "Email",
         "type": "\"string\""
        },
        {
         "metadata": "{}",
         "name": "Phone",
         "type": "\"string\""
        },
        {
         "metadata": "{}",
         "name": "Campaign_Name",
         "type": "\"string\""
        },
        {
         "metadata": "{}",
         "name": "Budget",
         "type": "\"long\""
        },
        {
         "metadata": "{}",
         "name": "Status",
         "type": "\"string\""
        }
       ],
       "type": "table"
      }
     },
     "output_type": "display_data"
    },
    {
     "output_type": "display_data",
     "data": {
      "text/html": [
       "<style scoped>\n",
       "  .table-result-container {\n",
       "    max-height: 300px;\n",
       "    overflow: auto;\n",
       "  }\n",
       "  table, th, td {\n",
       "    border: 1px solid black;\n",
       "    border-collapse: collapse;\n",
       "  }\n",
       "  th, td {\n",
       "    padding: 5px;\n",
       "  }\n",
       "  th {\n",
       "    text-align: left;\n",
       "  }\n",
       "</style><div class='table-result-container'><table class='table-result'><thead style='background-color: white'><tr><th>Branch_City</th><th>Branch_Employees</th><th>Project_Name</th><th>Project_Budget</th><th>Project_Status</th></tr></thead><tbody><tr><td>New York</td><td>300</td><td>Project X</td><td>500000</td><td>Ongoing</td></tr><tr><td>New York</td><td>300</td><td>Project Y</td><td>1200000</td><td>Completed</td></tr><tr><td>Chicago</td><td>150</td><td>Project Z</td><td>800000</td><td>Planning</td></tr></tbody></table></div>"
      ]
     },
     "metadata": {
      "application/vnd.databricks.v1+output": {
       "addedWidgets": {},
       "aggData": [],
       "aggError": "",
       "aggOverflow": false,
       "aggSchema": [],
       "aggSeriesLimitReached": false,
       "aggType": "",
       "arguments": {},
       "columnCustomDisplayInfos": {},
       "data": [
        [
         "New York",
         300,
         "Project X",
         500000,
         "Ongoing"
        ],
        [
         "New York",
         300,
         "Project Y",
         1200000,
         "Completed"
        ],
        [
         "Chicago",
         150,
         "Project Z",
         800000,
         "Planning"
        ]
       ],
       "datasetInfos": [],
       "dbfsResultPath": null,
       "isJsonSchema": true,
       "metadata": {},
       "overflow": false,
       "plotOptions": {
        "customPlotOptions": {},
        "displayType": "table",
        "pivotAggregation": null,
        "pivotColumns": null,
        "xColumns": null,
        "yColumns": null
       },
       "removedWidgets": [],
       "schema": [
        {
         "metadata": "{}",
         "name": "Branch_City",
         "type": "\"string\""
        },
        {
         "metadata": "{}",
         "name": "Branch_Employees",
         "type": "\"long\""
        },
        {
         "metadata": "{}",
         "name": "Project_Name",
         "type": "\"string\""
        },
        {
         "metadata": "{}",
         "name": "Project_Budget",
         "type": "\"long\""
        },
        {
         "metadata": "{}",
         "name": "Project_Status",
         "type": "\"string\""
        }
       ],
       "type": "table"
      }
     },
     "output_type": "display_data"
    },
    {
     "output_type": "display_data",
     "data": {
      "text/html": [
       "<style scoped>\n",
       "  .table-result-container {\n",
       "    max-height: 300px;\n",
       "    overflow: auto;\n",
       "  }\n",
       "  table, th, td {\n",
       "    border: 1px solid black;\n",
       "    border-collapse: collapse;\n",
       "  }\n",
       "  th, td {\n",
       "    padding: 5px;\n",
       "  }\n",
       "  th {\n",
       "    text-align: left;\n",
       "  }\n",
       "</style><div class='table-result-container'><table class='table-result'><thead style='background-color: white'><tr><th>Product_ID</th><th>Product_Name</th><th>Price</th><th>Launch_Date</th><th>Category</th><th>Color</th><th>Size</th><th>Battery_Life</th><th>License</th><th>Sales_Region</th><th>Revenue</th><th>Units_Sold</th></tr></thead><tbody><tr><td>P001</td><td>TechWidget</td><td>250</td><td>2022-05-01</td><td>Hardware</td><td>Black</td><td>10x15 cm</td><td>12 hours</td><td>null</td><td>North America</td><td>1250000</td><td>5000</td></tr><tr><td>P001</td><td>TechWidget</td><td>250</td><td>2022-05-01</td><td>Hardware</td><td>Black</td><td>10x15 cm</td><td>12 hours</td><td>null</td><td>Europe</td><td>750000</td><td>3000</td></tr><tr><td>P002</td><td>TechGadget</td><td>499</td><td>2023-01-15</td><td>Software</td><td>null</td><td>null</td><td>null</td><td>1 year</td><td>North America</td><td>998000</td><td>2000</td></tr><tr><td>P002</td><td>TechGadget</td><td>499</td><td>2023-01-15</td><td>Software</td><td>null</td><td>null</td><td>null</td><td>1 year</td><td>Asia</td><td>748500</td><td>1500</td></tr></tbody></table></div>"
      ]
     },
     "metadata": {
      "application/vnd.databricks.v1+output": {
       "addedWidgets": {},
       "aggData": [],
       "aggError": "",
       "aggOverflow": false,
       "aggSchema": [],
       "aggSeriesLimitReached": false,
       "aggType": "",
       "arguments": {},
       "columnCustomDisplayInfos": {},
       "data": [
        [
         "P001",
         "TechWidget",
         250,
         "2022-05-01",
         "Hardware",
         "Black",
         "10x15 cm",
         "12 hours",
         null,
         "North America",
         1250000,
         5000
        ],
        [
         "P001",
         "TechWidget",
         250,
         "2022-05-01",
         "Hardware",
         "Black",
         "10x15 cm",
         "12 hours",
         null,
         "Europe",
         750000,
         3000
        ],
        [
         "P002",
         "TechGadget",
         499,
         "2023-01-15",
         "Software",
         null,
         null,
         null,
         "1 year",
         "North America",
         998000,
         2000
        ],
        [
         "P002",
         "TechGadget",
         499,
         "2023-01-15",
         "Software",
         null,
         null,
         null,
         "1 year",
         "Asia",
         748500,
         1500
        ]
       ],
       "datasetInfos": [],
       "dbfsResultPath": null,
       "isJsonSchema": true,
       "metadata": {},
       "overflow": false,
       "plotOptions": {
        "customPlotOptions": {},
        "displayType": "table",
        "pivotAggregation": null,
        "pivotColumns": null,
        "xColumns": null,
        "yColumns": null
       },
       "removedWidgets": [],
       "schema": [
        {
         "metadata": "{}",
         "name": "Product_ID",
         "type": "\"string\""
        },
        {
         "metadata": "{}",
         "name": "Product_Name",
         "type": "\"string\""
        },
        {
         "metadata": "{}",
         "name": "Price",
         "type": "\"long\""
        },
        {
         "metadata": "{}",
         "name": "Launch_Date",
         "type": "\"date\""
        },
        {
         "metadata": "{}",
         "name": "Category",
         "type": "\"string\""
        },
        {
         "metadata": "{}",
         "name": "Color",
         "type": "\"string\""
        },
        {
         "metadata": "{}",
         "name": "Size",
         "type": "\"string\""
        },
        {
         "metadata": "{}",
         "name": "Battery_Life",
         "type": "\"string\""
        },
        {
         "metadata": "{}",
         "name": "License",
         "type": "\"string\""
        },
        {
         "metadata": "{}",
         "name": "Sales_Region",
         "type": "\"string\""
        },
        {
         "metadata": "{}",
         "name": "Revenue",
         "type": "\"long\""
        },
        {
         "metadata": "{}",
         "name": "Units_Sold",
         "type": "\"long\""
        }
       ],
       "type": "table"
      }
     },
     "output_type": "display_data"
    }
   ],
   "source": [
    "from pyspark.sql.functions import explode, col\n",
    "\n",
    "# Step 1: Explode the 'departments.department' array to separate departments\n",
    "df_exploded_departments = sample2_df.select(explode('departments.department').alias('department'))\n",
    "\n",
    "# Step 2: Select individual fields from the exploded 'department' struct\n",
    "df_flat_departments = df_exploded_departments.select(\n",
    "    col('department.name').alias('Department_Name'),\n",
    "    explode('department.employees.employee').alias('employee')\n",
    ")\n",
    "\n",
    "# Step 3: Select fields from the exploded 'employee' struct\n",
    "df_flat_employees = df_flat_departments.select(\n",
    "    col('Department_Name'),\n",
    "    col('employee.id').alias('Employee_ID'),\n",
    "    col('employee.name').alias('Employee_Name'),\n",
    "    col('employee.role').alias('Role'),\n",
    "    col('employee.salary').alias('Salary'),\n",
    "    col('employee.experience_years').alias('Experience_Years'),\n",
    "    col('employee.contact.email').alias('Email'),\n",
    "    col('employee.contact.phone').alias('Phone'),\n",
    "    explode('employee.campaigns.campaign').alias('campaign')\n",
    ")\n",
    "\n",
    "# Step 4: Select fields from the exploded 'campaign' struct\n",
    "df_flat_campaigns = df_flat_employees.select(\n",
    "    col('Department_Name'),\n",
    "    col('Employee_ID'),\n",
    "    col('Employee_Name'),\n",
    "    col('Role'),\n",
    "    col('Salary'),\n",
    "    col('Experience_Years'),\n",
    "    col('Email'),\n",
    "    col('Phone'),\n",
    "    col('campaign.name').alias('Campaign_Name'),\n",
    "    col('campaign.budget').alias('Budget'),\n",
    "    col('campaign.status').alias('Status')\n",
    ")\n",
    "\n",
    "# Step 5: Explode 'location.branch_offices.branch_office' and select relevant fields\n",
    "df_flat_location = sample2_df.select(\n",
    "    explode('location.branch_offices.branch_office').alias('branch_office')\n",
    ").select(\n",
    "    col('branch_office.city').alias('Branch_City'),\n",
    "    col('branch_office.employees').alias('Branch_Employees'),\n",
    "    explode('branch_office.projects.project').alias('project')\n",
    ").select(\n",
    "    col('Branch_City'),\n",
    "    col('Branch_Employees'),\n",
    "    col('project.name').alias('Project_Name'),\n",
    "    col('project.budget').alias('Project_Budget'),\n",
    "    col('project.status').alias('Project_Status')\n",
    ")\n",
    "\n",
    "# Step 6: Explode 'products.product' and handle nested 'features' and 'sales'\n",
    "df_flat_products = sample2_df.select(explode('products.product').alias('product')).select(\n",
    "    col('product.id').alias('Product_ID'),\n",
    "    col('product.name').alias('Product_Name'),\n",
    "    col('product.price').alias('Price'),\n",
    "    col('product.launch_date').alias('Launch_Date'),\n",
    "    col('product.category').alias('Category'),\n",
    "    col('product.features.color').alias('Color'),\n",
    "    col('product.features.size').alias('Size'),\n",
    "    col('product.features.battery_life').alias('Battery_Life'),\n",
    "    col('product.features.license').alias('License'),\n",
    "    explode('product.sales.sale').alias('sale')\n",
    ").select(\n",
    "    col('Product_ID'),\n",
    "    col('Product_Name'),\n",
    "    col('Price'),\n",
    "    col('Launch_Date'),\n",
    "    col('Category'),\n",
    "    col('Color'),\n",
    "    col('Size'),\n",
    "    col('Battery_Life'),\n",
    "    col('License'),\n",
    "    col('sale.region').alias('Sales_Region'),\n",
    "    col('sale.revenue').alias('Revenue'),\n",
    "    col('sale.units_sold').alias('Units_Sold')\n",
    ")\n",
    "\n",
    "# Display the flattened DataFrames\n",
    "df_flat_campaigns.display()\n",
    "df_flat_location.display()\n",
    "df_flat_products.display()\n"
   ]
  },
  {
   "cell_type": "code",
   "execution_count": 0,
   "metadata": {
    "application/vnd.databricks.v1+cell": {
     "cellMetadata": {
      "byteLimit": 2048000,
      "rowLimit": 10000
     },
     "inputWidgets": {},
     "nuid": "0e77750b-61cf-4615-b74e-1811ea5d3766",
     "showTitle": false,
     "title": ""
    }
   },
   "outputs": [
    {
     "output_type": "display_data",
     "data": {
      "text/html": [
       "<style scoped>\n",
       "  .table-result-container {\n",
       "    max-height: 300px;\n",
       "    overflow: auto;\n",
       "  }\n",
       "  table, th, td {\n",
       "    border: 1px solid black;\n",
       "    border-collapse: collapse;\n",
       "  }\n",
       "  th, td {\n",
       "    padding: 5px;\n",
       "  }\n",
       "  th {\n",
       "    text-align: left;\n",
       "  }\n",
       "</style><div class='table-result-container'><table class='table-result'><thead style='background-color: white'><tr><th>employee</th></tr></thead><tbody><tr><td>List(List(1, List(New York, USA, 123 Main St, 10001), 30, Engineering, 2015-03-15, 2021-06-01, John Doe, Senior Software Engineer, List(List(List(500000, Project Alpha, Ongoing), List(300000, Project Beta, Completed))), 120000, List(List(Python, SQL, Java, AWS))), List(2, List(San Francisco, USA, 456 Market St, 94107), 28, Marketing, 2018-09-01, 2022-01-15, Jane Smith, Marketing Manager, List(List(List(120000, Campaign 2023, Completed), List(150000, Campaign 2024, Ongoing))), 95000, List(List(SEO, Content Strategy, Google Analytics))), List(3, List(Chicago, USA, 789 Wall St, 60605), 35, Finance, 2010-05-20, 2020-02-10, Alice Johnson, Finance Manager, List(List(List(200000, Budget Forecast 2023, Completed))), 130000, List(List(Financial Analysis, Risk Management, Excel, SAP))), List(4, List(Los Angeles, USA, 101 HR Lane, 90001), 42, Human Resources, 2008-08-25, 2019-09-05, Bob Williams, HR Director, List(List(List(50000, Employee Engagement, Ongoing))), 140000, List(List(Employee Relations, Recruitment, Training, HR Compliance))), List(5, List(Austin, USA, 102 Tech Park, 73301), 38, IT, 2012-11-11, 2020-07-21, Charlie Brown, IT Manager, List(List(List(250000, Network Overhaul, Completed), List(400000, Cloud Migration, Ongoing))), 125000, List(List(Networking, System Administration, Linux, Cybersecurity))))</td></tr></tbody></table></div>"
      ]
     },
     "metadata": {
      "application/vnd.databricks.v1+output": {
       "addedWidgets": {},
       "aggData": [],
       "aggError": "",
       "aggOverflow": false,
       "aggSchema": [],
       "aggSeriesLimitReached": false,
       "aggType": "",
       "arguments": {},
       "columnCustomDisplayInfos": {},
       "data": [
        [
         [
          [
           1,
           [
            "New York",
            "USA",
            "123 Main St",
            10001
           ],
           30,
           "Engineering",
           "2015-03-15",
           "2021-06-01",
           "John Doe",
           "Senior Software Engineer",
           [
            [
             [
              500000,
              "Project Alpha",
              "Ongoing"
             ],
             [
              300000,
              "Project Beta",
              "Completed"
             ]
            ]
           ],
           120000,
           [
            [
             "Python",
             "SQL",
             "Java",
             "AWS"
            ]
           ]
          ],
          [
           2,
           [
            "San Francisco",
            "USA",
            "456 Market St",
            94107
           ],
           28,
           "Marketing",
           "2018-09-01",
           "2022-01-15",
           "Jane Smith",
           "Marketing Manager",
           [
            [
             [
              120000,
              "Campaign 2023",
              "Completed"
             ],
             [
              150000,
              "Campaign 2024",
              "Ongoing"
             ]
            ]
           ],
           95000,
           [
            [
             "SEO",
             "Content Strategy",
             "Google Analytics"
            ]
           ]
          ],
          [
           3,
           [
            "Chicago",
            "USA",
            "789 Wall St",
            60605
           ],
           35,
           "Finance",
           "2010-05-20",
           "2020-02-10",
           "Alice Johnson",
           "Finance Manager",
           [
            [
             [
              200000,
              "Budget Forecast 2023",
              "Completed"
             ]
            ]
           ],
           130000,
           [
            [
             "Financial Analysis",
             "Risk Management",
             "Excel",
             "SAP"
            ]
           ]
          ],
          [
           4,
           [
            "Los Angeles",
            "USA",
            "101 HR Lane",
            90001
           ],
           42,
           "Human Resources",
           "2008-08-25",
           "2019-09-05",
           "Bob Williams",
           "HR Director",
           [
            [
             [
              50000,
              "Employee Engagement",
              "Ongoing"
             ]
            ]
           ],
           140000,
           [
            [
             "Employee Relations",
             "Recruitment",
             "Training",
             "HR Compliance"
            ]
           ]
          ],
          [
           5,
           [
            "Austin",
            "USA",
            "102 Tech Park",
            73301
           ],
           38,
           "IT",
           "2012-11-11",
           "2020-07-21",
           "Charlie Brown",
           "IT Manager",
           [
            [
             [
              250000,
              "Network Overhaul",
              "Completed"
             ],
             [
              400000,
              "Cloud Migration",
              "Ongoing"
             ]
            ]
           ],
           125000,
           [
            [
             "Networking",
             "System Administration",
             "Linux",
             "Cybersecurity"
            ]
           ]
          ]
         ]
        ]
       ],
       "datasetInfos": [],
       "dbfsResultPath": null,
       "isJsonSchema": true,
       "metadata": {},
       "overflow": false,
       "plotOptions": {
        "customPlotOptions": {},
        "displayType": "table",
        "pivotAggregation": null,
        "pivotColumns": null,
        "xColumns": null,
        "yColumns": null
       },
       "removedWidgets": [],
       "schema": [
        {
         "metadata": "{}",
         "name": "employee",
         "type": "{\"type\":\"array\",\"elementType\":{\"type\":\"struct\",\"fields\":[{\"name\":\"_id\",\"type\":\"long\",\"nullable\":true,\"metadata\":{}},{\"name\":\"address\",\"type\":{\"type\":\"struct\",\"fields\":[{\"name\":\"city\",\"type\":\"string\",\"nullable\":true,\"metadata\":{}},{\"name\":\"country\",\"type\":\"string\",\"nullable\":true,\"metadata\":{}},{\"name\":\"street\",\"type\":\"string\",\"nullable\":true,\"metadata\":{}},{\"name\":\"zipcode\",\"type\":\"long\",\"nullable\":true,\"metadata\":{}}]},\"nullable\":true,\"metadata\":{}},{\"name\":\"age\",\"type\":\"long\",\"nullable\":true,\"metadata\":{}},{\"name\":\"department\",\"type\":\"string\",\"nullable\":true,\"metadata\":{}},{\"name\":\"joining_date\",\"type\":\"date\",\"nullable\":true,\"metadata\":{}},{\"name\":\"last_promotion_date\",\"type\":\"date\",\"nullable\":true,\"metadata\":{}},{\"name\":\"name\",\"type\":\"string\",\"nullable\":true,\"metadata\":{}},{\"name\":\"position\",\"type\":\"string\",\"nullable\":true,\"metadata\":{}},{\"name\":\"projects\",\"type\":{\"type\":\"struct\",\"fields\":[{\"name\":\"project\",\"type\":{\"type\":\"array\",\"elementType\":{\"type\":\"struct\",\"fields\":[{\"name\":\"budget\",\"type\":\"long\",\"nullable\":true,\"metadata\":{}},{\"name\":\"name\",\"type\":\"string\",\"nullable\":true,\"metadata\":{}},{\"name\":\"status\",\"type\":\"string\",\"nullable\":true,\"metadata\":{}}]},\"containsNull\":true},\"nullable\":true,\"metadata\":{}}]},\"nullable\":true,\"metadata\":{}},{\"name\":\"salary\",\"type\":\"long\",\"nullable\":true,\"metadata\":{}},{\"name\":\"skills\",\"type\":{\"type\":\"struct\",\"fields\":[{\"name\":\"skill\",\"type\":{\"type\":\"array\",\"elementType\":\"string\",\"containsNull\":true},\"nullable\":true,\"metadata\":{}}]},\"nullable\":true,\"metadata\":{}}]},\"containsNull\":true}"
        }
       ],
       "type": "table"
      }
     },
     "output_type": "display_data"
    }
   ],
   "source": [
    "sample3_df = spark.read.format('xml').option('rowTag', 'employees').load('dbfs:/FileStore/tables/sample3.xml')\n",
    "sample3_df.display()"
   ]
  },
  {
   "cell_type": "code",
   "execution_count": 0,
   "metadata": {
    "application/vnd.databricks.v1+cell": {
     "cellMetadata": {
      "byteLimit": 2048000,
      "rowLimit": 10000
     },
     "inputWidgets": {},
     "nuid": "7bb67887-75db-47bb-8f27-7ef7b5315a1b",
     "showTitle": false,
     "title": ""
    }
   },
   "outputs": [
    {
     "output_type": "stream",
     "name": "stdout",
     "output_type": "stream",
     "text": [
      "root\n |-- employee: array (nullable = true)\n |    |-- element: struct (containsNull = true)\n |    |    |-- _id: long (nullable = true)\n |    |    |-- address: struct (nullable = true)\n |    |    |    |-- city: string (nullable = true)\n |    |    |    |-- country: string (nullable = true)\n |    |    |    |-- street: string (nullable = true)\n |    |    |    |-- zipcode: long (nullable = true)\n |    |    |-- age: long (nullable = true)\n |    |    |-- department: string (nullable = true)\n |    |    |-- joining_date: date (nullable = true)\n |    |    |-- last_promotion_date: date (nullable = true)\n |    |    |-- name: string (nullable = true)\n |    |    |-- position: string (nullable = true)\n |    |    |-- projects: struct (nullable = true)\n |    |    |    |-- project: array (nullable = true)\n |    |    |    |    |-- element: struct (containsNull = true)\n |    |    |    |    |    |-- budget: long (nullable = true)\n |    |    |    |    |    |-- name: string (nullable = true)\n |    |    |    |    |    |-- status: string (nullable = true)\n |    |    |-- salary: long (nullable = true)\n |    |    |-- skills: struct (nullable = true)\n |    |    |    |-- skill: array (nullable = true)\n |    |    |    |    |-- element: string (containsNull = true)\n\n"
     ]
    }
   ],
   "source": [
    "sample3_df.printSchema()"
   ]
  },
  {
   "cell_type": "code",
   "execution_count": 0,
   "metadata": {
    "application/vnd.databricks.v1+cell": {
     "cellMetadata": {
      "byteLimit": 2048000,
      "rowLimit": 10000
     },
     "inputWidgets": {},
     "nuid": "beb9890e-9c00-49a4-af4c-93cd4a227b65",
     "showTitle": false,
     "title": ""
    }
   },
   "outputs": [
    {
     "output_type": "display_data",
     "data": {
      "text/html": [
       "<style scoped>\n",
       "  .table-result-container {\n",
       "    max-height: 300px;\n",
       "    overflow: auto;\n",
       "  }\n",
       "  table, th, td {\n",
       "    border: 1px solid black;\n",
       "    border-collapse: collapse;\n",
       "  }\n",
       "  th, td {\n",
       "    padding: 5px;\n",
       "  }\n",
       "  th {\n",
       "    text-align: left;\n",
       "  }\n",
       "</style><div class='table-result-container'><table class='table-result'><thead style='background-color: white'><tr><th>employee</th></tr></thead><tbody><tr><td>List(1, List(New York, USA, 123 Main St, 10001), 30, Engineering, 2015-03-15, 2021-06-01, John Doe, Senior Software Engineer, List(List(List(500000, Project Alpha, Ongoing), List(300000, Project Beta, Completed))), 120000, List(List(Python, SQL, Java, AWS)))</td></tr><tr><td>List(2, List(San Francisco, USA, 456 Market St, 94107), 28, Marketing, 2018-09-01, 2022-01-15, Jane Smith, Marketing Manager, List(List(List(120000, Campaign 2023, Completed), List(150000, Campaign 2024, Ongoing))), 95000, List(List(SEO, Content Strategy, Google Analytics)))</td></tr><tr><td>List(3, List(Chicago, USA, 789 Wall St, 60605), 35, Finance, 2010-05-20, 2020-02-10, Alice Johnson, Finance Manager, List(List(List(200000, Budget Forecast 2023, Completed))), 130000, List(List(Financial Analysis, Risk Management, Excel, SAP)))</td></tr><tr><td>List(4, List(Los Angeles, USA, 101 HR Lane, 90001), 42, Human Resources, 2008-08-25, 2019-09-05, Bob Williams, HR Director, List(List(List(50000, Employee Engagement, Ongoing))), 140000, List(List(Employee Relations, Recruitment, Training, HR Compliance)))</td></tr><tr><td>List(5, List(Austin, USA, 102 Tech Park, 73301), 38, IT, 2012-11-11, 2020-07-21, Charlie Brown, IT Manager, List(List(List(250000, Network Overhaul, Completed), List(400000, Cloud Migration, Ongoing))), 125000, List(List(Networking, System Administration, Linux, Cybersecurity)))</td></tr></tbody></table></div>"
      ]
     },
     "metadata": {
      "application/vnd.databricks.v1+output": {
       "addedWidgets": {},
       "aggData": [],
       "aggError": "",
       "aggOverflow": false,
       "aggSchema": [],
       "aggSeriesLimitReached": false,
       "aggType": "",
       "arguments": {},
       "columnCustomDisplayInfos": {},
       "data": [
        [
         [
          1,
          [
           "New York",
           "USA",
           "123 Main St",
           10001
          ],
          30,
          "Engineering",
          "2015-03-15",
          "2021-06-01",
          "John Doe",
          "Senior Software Engineer",
          [
           [
            [
             500000,
             "Project Alpha",
             "Ongoing"
            ],
            [
             300000,
             "Project Beta",
             "Completed"
            ]
           ]
          ],
          120000,
          [
           [
            "Python",
            "SQL",
            "Java",
            "AWS"
           ]
          ]
         ]
        ],
        [
         [
          2,
          [
           "San Francisco",
           "USA",
           "456 Market St",
           94107
          ],
          28,
          "Marketing",
          "2018-09-01",
          "2022-01-15",
          "Jane Smith",
          "Marketing Manager",
          [
           [
            [
             120000,
             "Campaign 2023",
             "Completed"
            ],
            [
             150000,
             "Campaign 2024",
             "Ongoing"
            ]
           ]
          ],
          95000,
          [
           [
            "SEO",
            "Content Strategy",
            "Google Analytics"
           ]
          ]
         ]
        ],
        [
         [
          3,
          [
           "Chicago",
           "USA",
           "789 Wall St",
           60605
          ],
          35,
          "Finance",
          "2010-05-20",
          "2020-02-10",
          "Alice Johnson",
          "Finance Manager",
          [
           [
            [
             200000,
             "Budget Forecast 2023",
             "Completed"
            ]
           ]
          ],
          130000,
          [
           [
            "Financial Analysis",
            "Risk Management",
            "Excel",
            "SAP"
           ]
          ]
         ]
        ],
        [
         [
          4,
          [
           "Los Angeles",
           "USA",
           "101 HR Lane",
           90001
          ],
          42,
          "Human Resources",
          "2008-08-25",
          "2019-09-05",
          "Bob Williams",
          "HR Director",
          [
           [
            [
             50000,
             "Employee Engagement",
             "Ongoing"
            ]
           ]
          ],
          140000,
          [
           [
            "Employee Relations",
            "Recruitment",
            "Training",
            "HR Compliance"
           ]
          ]
         ]
        ],
        [
         [
          5,
          [
           "Austin",
           "USA",
           "102 Tech Park",
           73301
          ],
          38,
          "IT",
          "2012-11-11",
          "2020-07-21",
          "Charlie Brown",
          "IT Manager",
          [
           [
            [
             250000,
             "Network Overhaul",
             "Completed"
            ],
            [
             400000,
             "Cloud Migration",
             "Ongoing"
            ]
           ]
          ],
          125000,
          [
           [
            "Networking",
            "System Administration",
            "Linux",
            "Cybersecurity"
           ]
          ]
         ]
        ]
       ],
       "datasetInfos": [],
       "dbfsResultPath": null,
       "isJsonSchema": true,
       "metadata": {},
       "overflow": false,
       "plotOptions": {
        "customPlotOptions": {},
        "displayType": "table",
        "pivotAggregation": null,
        "pivotColumns": null,
        "xColumns": null,
        "yColumns": null
       },
       "removedWidgets": [],
       "schema": [
        {
         "metadata": "{}",
         "name": "employee",
         "type": "{\"type\":\"struct\",\"fields\":[{\"name\":\"_id\",\"type\":\"long\",\"nullable\":true,\"metadata\":{}},{\"name\":\"address\",\"type\":{\"type\":\"struct\",\"fields\":[{\"name\":\"city\",\"type\":\"string\",\"nullable\":true,\"metadata\":{}},{\"name\":\"country\",\"type\":\"string\",\"nullable\":true,\"metadata\":{}},{\"name\":\"street\",\"type\":\"string\",\"nullable\":true,\"metadata\":{}},{\"name\":\"zipcode\",\"type\":\"long\",\"nullable\":true,\"metadata\":{}}]},\"nullable\":true,\"metadata\":{}},{\"name\":\"age\",\"type\":\"long\",\"nullable\":true,\"metadata\":{}},{\"name\":\"department\",\"type\":\"string\",\"nullable\":true,\"metadata\":{}},{\"name\":\"joining_date\",\"type\":\"date\",\"nullable\":true,\"metadata\":{}},{\"name\":\"last_promotion_date\",\"type\":\"date\",\"nullable\":true,\"metadata\":{}},{\"name\":\"name\",\"type\":\"string\",\"nullable\":true,\"metadata\":{}},{\"name\":\"position\",\"type\":\"string\",\"nullable\":true,\"metadata\":{}},{\"name\":\"projects\",\"type\":{\"type\":\"struct\",\"fields\":[{\"name\":\"project\",\"type\":{\"type\":\"array\",\"elementType\":{\"type\":\"struct\",\"fields\":[{\"name\":\"budget\",\"type\":\"long\",\"nullable\":true,\"metadata\":{}},{\"name\":\"name\",\"type\":\"string\",\"nullable\":true,\"metadata\":{}},{\"name\":\"status\",\"type\":\"string\",\"nullable\":true,\"metadata\":{}}]},\"containsNull\":true},\"nullable\":true,\"metadata\":{}}]},\"nullable\":true,\"metadata\":{}},{\"name\":\"salary\",\"type\":\"long\",\"nullable\":true,\"metadata\":{}},{\"name\":\"skills\",\"type\":{\"type\":\"struct\",\"fields\":[{\"name\":\"skill\",\"type\":{\"type\":\"array\",\"elementType\":\"string\",\"containsNull\":true},\"nullable\":true,\"metadata\":{}}]},\"nullable\":true,\"metadata\":{}}]}"
        }
       ],
       "type": "table"
      }
     },
     "output_type": "display_data"
    }
   ],
   "source": [
    "df_flat = sample3_df.select(\n",
    "    explode('employee').alias('employee')\n",
    ")\n",
    "\n",
    "df_flat.display()"
   ]
  },
  {
   "cell_type": "code",
   "execution_count": 0,
   "metadata": {
    "application/vnd.databricks.v1+cell": {
     "cellMetadata": {
      "byteLimit": 2048000,
      "rowLimit": 10000
     },
     "inputWidgets": {},
     "nuid": "11540385-247e-4807-87cd-3aa92d7869c8",
     "showTitle": false,
     "title": ""
    }
   },
   "outputs": [
    {
     "output_type": "stream",
     "name": "stdout",
     "output_type": "stream",
     "text": [
      "root\n |-- employee: struct (nullable = true)\n |    |-- _id: long (nullable = true)\n |    |-- address: struct (nullable = true)\n |    |    |-- city: string (nullable = true)\n |    |    |-- country: string (nullable = true)\n |    |    |-- street: string (nullable = true)\n |    |    |-- zipcode: long (nullable = true)\n |    |-- age: long (nullable = true)\n |    |-- department: string (nullable = true)\n |    |-- joining_date: date (nullable = true)\n |    |-- last_promotion_date: date (nullable = true)\n |    |-- name: string (nullable = true)\n |    |-- position: string (nullable = true)\n |    |-- projects: struct (nullable = true)\n |    |    |-- project: array (nullable = true)\n |    |    |    |-- element: struct (containsNull = true)\n |    |    |    |    |-- budget: long (nullable = true)\n |    |    |    |    |-- name: string (nullable = true)\n |    |    |    |    |-- status: string (nullable = true)\n |    |-- salary: long (nullable = true)\n |    |-- skills: struct (nullable = true)\n |    |    |-- skill: array (nullable = true)\n |    |    |    |-- element: string (containsNull = true)\n\n"
     ]
    }
   ],
   "source": [
    "df_flat.printSchema()"
   ]
  },
  {
   "cell_type": "code",
   "execution_count": 0,
   "metadata": {
    "application/vnd.databricks.v1+cell": {
     "cellMetadata": {
      "byteLimit": 2048000,
      "rowLimit": 10000
     },
     "inputWidgets": {},
     "nuid": "281d68b0-4fcd-44ad-bc64-85fa7db09e3d",
     "showTitle": false,
     "title": ""
    }
   },
   "outputs": [
    {
     "output_type": "display_data",
     "data": {
      "text/html": [
       "<style scoped>\n",
       "  .table-result-container {\n",
       "    max-height: 300px;\n",
       "    overflow: auto;\n",
       "  }\n",
       "  table, th, td {\n",
       "    border: 1px solid black;\n",
       "    border-collapse: collapse;\n",
       "  }\n",
       "  th, td {\n",
       "    padding: 5px;\n",
       "  }\n",
       "  th {\n",
       "    text-align: left;\n",
       "  }\n",
       "</style><div class='table-result-container'><table class='table-result'><thead style='background-color: white'><tr><th>id</th><th>name</th><th>age</th><th>department</th><th>joining_date</th><th>last_promotion_date</th><th>position</th><th>salary</th><th>city</th><th>country</th><th>street</th><th>zipcode</th><th>project</th></tr></thead><tbody><tr><td>1</td><td>John Doe</td><td>30</td><td>Engineering</td><td>2015-03-15</td><td>2021-06-01</td><td>Senior Software Engineer</td><td>120000</td><td>New York</td><td>USA</td><td>123 Main St</td><td>10001</td><td>List(500000, Project Alpha, Ongoing)</td></tr><tr><td>1</td><td>John Doe</td><td>30</td><td>Engineering</td><td>2015-03-15</td><td>2021-06-01</td><td>Senior Software Engineer</td><td>120000</td><td>New York</td><td>USA</td><td>123 Main St</td><td>10001</td><td>List(300000, Project Beta, Completed)</td></tr><tr><td>2</td><td>Jane Smith</td><td>28</td><td>Marketing</td><td>2018-09-01</td><td>2022-01-15</td><td>Marketing Manager</td><td>95000</td><td>San Francisco</td><td>USA</td><td>456 Market St</td><td>94107</td><td>List(120000, Campaign 2023, Completed)</td></tr><tr><td>2</td><td>Jane Smith</td><td>28</td><td>Marketing</td><td>2018-09-01</td><td>2022-01-15</td><td>Marketing Manager</td><td>95000</td><td>San Francisco</td><td>USA</td><td>456 Market St</td><td>94107</td><td>List(150000, Campaign 2024, Ongoing)</td></tr><tr><td>3</td><td>Alice Johnson</td><td>35</td><td>Finance</td><td>2010-05-20</td><td>2020-02-10</td><td>Finance Manager</td><td>130000</td><td>Chicago</td><td>USA</td><td>789 Wall St</td><td>60605</td><td>List(200000, Budget Forecast 2023, Completed)</td></tr><tr><td>4</td><td>Bob Williams</td><td>42</td><td>Human Resources</td><td>2008-08-25</td><td>2019-09-05</td><td>HR Director</td><td>140000</td><td>Los Angeles</td><td>USA</td><td>101 HR Lane</td><td>90001</td><td>List(50000, Employee Engagement, Ongoing)</td></tr><tr><td>5</td><td>Charlie Brown</td><td>38</td><td>IT</td><td>2012-11-11</td><td>2020-07-21</td><td>IT Manager</td><td>125000</td><td>Austin</td><td>USA</td><td>102 Tech Park</td><td>73301</td><td>List(250000, Network Overhaul, Completed)</td></tr><tr><td>5</td><td>Charlie Brown</td><td>38</td><td>IT</td><td>2012-11-11</td><td>2020-07-21</td><td>IT Manager</td><td>125000</td><td>Austin</td><td>USA</td><td>102 Tech Park</td><td>73301</td><td>List(400000, Cloud Migration, Ongoing)</td></tr></tbody></table></div>"
      ]
     },
     "metadata": {
      "application/vnd.databricks.v1+output": {
       "addedWidgets": {},
       "aggData": [],
       "aggError": "",
       "aggOverflow": false,
       "aggSchema": [],
       "aggSeriesLimitReached": false,
       "aggType": "",
       "arguments": {},
       "columnCustomDisplayInfos": {},
       "data": [
        [
         1,
         "John Doe",
         30,
         "Engineering",
         "2015-03-15",
         "2021-06-01",
         "Senior Software Engineer",
         120000,
         "New York",
         "USA",
         "123 Main St",
         10001,
         [
          500000,
          "Project Alpha",
          "Ongoing"
         ]
        ],
        [
         1,
         "John Doe",
         30,
         "Engineering",
         "2015-03-15",
         "2021-06-01",
         "Senior Software Engineer",
         120000,
         "New York",
         "USA",
         "123 Main St",
         10001,
         [
          300000,
          "Project Beta",
          "Completed"
         ]
        ],
        [
         2,
         "Jane Smith",
         28,
         "Marketing",
         "2018-09-01",
         "2022-01-15",
         "Marketing Manager",
         95000,
         "San Francisco",
         "USA",
         "456 Market St",
         94107,
         [
          120000,
          "Campaign 2023",
          "Completed"
         ]
        ],
        [
         2,
         "Jane Smith",
         28,
         "Marketing",
         "2018-09-01",
         "2022-01-15",
         "Marketing Manager",
         95000,
         "San Francisco",
         "USA",
         "456 Market St",
         94107,
         [
          150000,
          "Campaign 2024",
          "Ongoing"
         ]
        ],
        [
         3,
         "Alice Johnson",
         35,
         "Finance",
         "2010-05-20",
         "2020-02-10",
         "Finance Manager",
         130000,
         "Chicago",
         "USA",
         "789 Wall St",
         60605,
         [
          200000,
          "Budget Forecast 2023",
          "Completed"
         ]
        ],
        [
         4,
         "Bob Williams",
         42,
         "Human Resources",
         "2008-08-25",
         "2019-09-05",
         "HR Director",
         140000,
         "Los Angeles",
         "USA",
         "101 HR Lane",
         90001,
         [
          50000,
          "Employee Engagement",
          "Ongoing"
         ]
        ],
        [
         5,
         "Charlie Brown",
         38,
         "IT",
         "2012-11-11",
         "2020-07-21",
         "IT Manager",
         125000,
         "Austin",
         "USA",
         "102 Tech Park",
         73301,
         [
          250000,
          "Network Overhaul",
          "Completed"
         ]
        ],
        [
         5,
         "Charlie Brown",
         38,
         "IT",
         "2012-11-11",
         "2020-07-21",
         "IT Manager",
         125000,
         "Austin",
         "USA",
         "102 Tech Park",
         73301,
         [
          400000,
          "Cloud Migration",
          "Ongoing"
         ]
        ]
       ],
       "datasetInfos": [],
       "dbfsResultPath": null,
       "isJsonSchema": true,
       "metadata": {},
       "overflow": false,
       "plotOptions": {
        "customPlotOptions": {},
        "displayType": "table",
        "pivotAggregation": null,
        "pivotColumns": null,
        "xColumns": null,
        "yColumns": null
       },
       "removedWidgets": [],
       "schema": [
        {
         "metadata": "{}",
         "name": "id",
         "type": "\"long\""
        },
        {
         "metadata": "{}",
         "name": "name",
         "type": "\"string\""
        },
        {
         "metadata": "{}",
         "name": "age",
         "type": "\"long\""
        },
        {
         "metadata": "{}",
         "name": "department",
         "type": "\"string\""
        },
        {
         "metadata": "{}",
         "name": "joining_date",
         "type": "\"date\""
        },
        {
         "metadata": "{}",
         "name": "last_promotion_date",
         "type": "\"date\""
        },
        {
         "metadata": "{}",
         "name": "position",
         "type": "\"string\""
        },
        {
         "metadata": "{}",
         "name": "salary",
         "type": "\"long\""
        },
        {
         "metadata": "{}",
         "name": "city",
         "type": "\"string\""
        },
        {
         "metadata": "{}",
         "name": "country",
         "type": "\"string\""
        },
        {
         "metadata": "{}",
         "name": "street",
         "type": "\"string\""
        },
        {
         "metadata": "{}",
         "name": "zipcode",
         "type": "\"long\""
        },
        {
         "metadata": "{}",
         "name": "project",
         "type": "{\"type\":\"struct\",\"fields\":[{\"name\":\"budget\",\"type\":\"long\",\"nullable\":true,\"metadata\":{}},{\"name\":\"name\",\"type\":\"string\",\"nullable\":true,\"metadata\":{}},{\"name\":\"status\",\"type\":\"string\",\"nullable\":true,\"metadata\":{}}]}"
        }
       ],
       "type": "table"
      }
     },
     "output_type": "display_data"
    }
   ],
   "source": [
    "df_flat = df_flat.select(\n",
    "    col('employee._id').alias('id'),\n",
    "    col('employee.name').alias('name'),\n",
    "    col('employee.age').alias('age'),\n",
    "    col('employee.department').alias('department'),\n",
    "    col('employee.joining_date').alias('joining_date'),\n",
    "    col('employee.last_promotion_date').alias('last_promotion_date'),\n",
    "    col('employee.position').alias('position'),\n",
    "    col('employee.salary').alias('salary'),\n",
    "    col('employee.address.city').alias('city'),\n",
    "    col('employee.address.country').alias('country'),\n",
    "    col('employee.address.street').alias('street'),\n",
    "    col('employee.address.zipcode').alias('zipcode'),\n",
    "    explode('employee.projects.project').alias('project')\n",
    ")\n",
    "\n",
    "df_flat.display()"
   ]
  },
  {
   "cell_type": "code",
   "execution_count": 0,
   "metadata": {
    "application/vnd.databricks.v1+cell": {
     "cellMetadata": {
      "byteLimit": 2048000,
      "rowLimit": 10000
     },
     "inputWidgets": {},
     "nuid": "34b6daab-df6c-4bfa-9968-4cbc22bc5a03",
     "showTitle": false,
     "title": ""
    }
   },
   "outputs": [
    {
     "output_type": "stream",
     "name": "stdout",
     "output_type": "stream",
     "text": [
      "root\n |-- id: long (nullable = true)\n |-- name: string (nullable = true)\n |-- age: long (nullable = true)\n |-- department: string (nullable = true)\n |-- joining_date: date (nullable = true)\n |-- last_promotion_date: date (nullable = true)\n |-- position: string (nullable = true)\n |-- salary: long (nullable = true)\n |-- city: string (nullable = true)\n |-- country: string (nullable = true)\n |-- street: string (nullable = true)\n |-- zipcode: long (nullable = true)\n |-- project: struct (nullable = true)\n |    |-- budget: long (nullable = true)\n |    |-- name: string (nullable = true)\n |    |-- status: string (nullable = true)\n\n"
     ]
    }
   ],
   "source": [
    "df_flat.printSchema()"
   ]
  },
  {
   "cell_type": "code",
   "execution_count": 0,
   "metadata": {
    "application/vnd.databricks.v1+cell": {
     "cellMetadata": {
      "byteLimit": 2048000,
      "rowLimit": 10000
     },
     "inputWidgets": {},
     "nuid": "a6f0813b-47b8-4f0c-9515-43a02ae0241f",
     "showTitle": false,
     "title": ""
    },
    "jupyter": {
     "outputs_hidden": true
    }
   },
   "outputs": [
    {
     "output_type": "display_data",
     "data": {
      "text/html": [
       "<style scoped>\n",
       "  .table-result-container {\n",
       "    max-height: 300px;\n",
       "    overflow: auto;\n",
       "  }\n",
       "  table, th, td {\n",
       "    border: 1px solid black;\n",
       "    border-collapse: collapse;\n",
       "  }\n",
       "  th, td {\n",
       "    padding: 5px;\n",
       "  }\n",
       "  th {\n",
       "    text-align: left;\n",
       "  }\n",
       "</style><div class='table-result-container'><table class='table-result'><thead style='background-color: white'><tr><th>id</th><th>name</th><th>age</th><th>department</th><th>joining_date</th><th>last_promotion_date</th><th>position</th><th>salary</th><th>city</th><th>country</th><th>street</th><th>zipcode</th><th>project_budget</th><th>project_name</th><th>project_status</th></tr></thead><tbody><tr><td>1</td><td>John Doe</td><td>30</td><td>Engineering</td><td>2015-03-15</td><td>2021-06-01</td><td>Senior Software Engineer</td><td>120000</td><td>New York</td><td>USA</td><td>123 Main St</td><td>10001</td><td>500000</td><td>Project Alpha</td><td>Ongoing</td></tr><tr><td>1</td><td>John Doe</td><td>30</td><td>Engineering</td><td>2015-03-15</td><td>2021-06-01</td><td>Senior Software Engineer</td><td>120000</td><td>New York</td><td>USA</td><td>123 Main St</td><td>10001</td><td>300000</td><td>Project Beta</td><td>Completed</td></tr><tr><td>2</td><td>Jane Smith</td><td>28</td><td>Marketing</td><td>2018-09-01</td><td>2022-01-15</td><td>Marketing Manager</td><td>95000</td><td>San Francisco</td><td>USA</td><td>456 Market St</td><td>94107</td><td>120000</td><td>Campaign 2023</td><td>Completed</td></tr><tr><td>2</td><td>Jane Smith</td><td>28</td><td>Marketing</td><td>2018-09-01</td><td>2022-01-15</td><td>Marketing Manager</td><td>95000</td><td>San Francisco</td><td>USA</td><td>456 Market St</td><td>94107</td><td>150000</td><td>Campaign 2024</td><td>Ongoing</td></tr><tr><td>3</td><td>Alice Johnson</td><td>35</td><td>Finance</td><td>2010-05-20</td><td>2020-02-10</td><td>Finance Manager</td><td>130000</td><td>Chicago</td><td>USA</td><td>789 Wall St</td><td>60605</td><td>200000</td><td>Budget Forecast 2023</td><td>Completed</td></tr><tr><td>4</td><td>Bob Williams</td><td>42</td><td>Human Resources</td><td>2008-08-25</td><td>2019-09-05</td><td>HR Director</td><td>140000</td><td>Los Angeles</td><td>USA</td><td>101 HR Lane</td><td>90001</td><td>50000</td><td>Employee Engagement</td><td>Ongoing</td></tr><tr><td>5</td><td>Charlie Brown</td><td>38</td><td>IT</td><td>2012-11-11</td><td>2020-07-21</td><td>IT Manager</td><td>125000</td><td>Austin</td><td>USA</td><td>102 Tech Park</td><td>73301</td><td>250000</td><td>Network Overhaul</td><td>Completed</td></tr><tr><td>5</td><td>Charlie Brown</td><td>38</td><td>IT</td><td>2012-11-11</td><td>2020-07-21</td><td>IT Manager</td><td>125000</td><td>Austin</td><td>USA</td><td>102 Tech Park</td><td>73301</td><td>400000</td><td>Cloud Migration</td><td>Ongoing</td></tr></tbody></table></div>"
      ]
     },
     "metadata": {
      "application/vnd.databricks.v1+output": {
       "addedWidgets": {},
       "aggData": [],
       "aggError": "",
       "aggOverflow": false,
       "aggSchema": [],
       "aggSeriesLimitReached": false,
       "aggType": "",
       "arguments": {},
       "columnCustomDisplayInfos": {},
       "data": [
        [
         1,
         "John Doe",
         30,
         "Engineering",
         "2015-03-15",
         "2021-06-01",
         "Senior Software Engineer",
         120000,
         "New York",
         "USA",
         "123 Main St",
         10001,
         500000,
         "Project Alpha",
         "Ongoing"
        ],
        [
         1,
         "John Doe",
         30,
         "Engineering",
         "2015-03-15",
         "2021-06-01",
         "Senior Software Engineer",
         120000,
         "New York",
         "USA",
         "123 Main St",
         10001,
         300000,
         "Project Beta",
         "Completed"
        ],
        [
         2,
         "Jane Smith",
         28,
         "Marketing",
         "2018-09-01",
         "2022-01-15",
         "Marketing Manager",
         95000,
         "San Francisco",
         "USA",
         "456 Market St",
         94107,
         120000,
         "Campaign 2023",
         "Completed"
        ],
        [
         2,
         "Jane Smith",
         28,
         "Marketing",
         "2018-09-01",
         "2022-01-15",
         "Marketing Manager",
         95000,
         "San Francisco",
         "USA",
         "456 Market St",
         94107,
         150000,
         "Campaign 2024",
         "Ongoing"
        ],
        [
         3,
         "Alice Johnson",
         35,
         "Finance",
         "2010-05-20",
         "2020-02-10",
         "Finance Manager",
         130000,
         "Chicago",
         "USA",
         "789 Wall St",
         60605,
         200000,
         "Budget Forecast 2023",
         "Completed"
        ],
        [
         4,
         "Bob Williams",
         42,
         "Human Resources",
         "2008-08-25",
         "2019-09-05",
         "HR Director",
         140000,
         "Los Angeles",
         "USA",
         "101 HR Lane",
         90001,
         50000,
         "Employee Engagement",
         "Ongoing"
        ],
        [
         5,
         "Charlie Brown",
         38,
         "IT",
         "2012-11-11",
         "2020-07-21",
         "IT Manager",
         125000,
         "Austin",
         "USA",
         "102 Tech Park",
         73301,
         250000,
         "Network Overhaul",
         "Completed"
        ],
        [
         5,
         "Charlie Brown",
         38,
         "IT",
         "2012-11-11",
         "2020-07-21",
         "IT Manager",
         125000,
         "Austin",
         "USA",
         "102 Tech Park",
         73301,
         400000,
         "Cloud Migration",
         "Ongoing"
        ]
       ],
       "datasetInfos": [],
       "dbfsResultPath": null,
       "isJsonSchema": true,
       "metadata": {},
       "overflow": false,
       "plotOptions": {
        "customPlotOptions": {},
        "displayType": "table",
        "pivotAggregation": null,
        "pivotColumns": null,
        "xColumns": null,
        "yColumns": null
       },
       "removedWidgets": [],
       "schema": [
        {
         "metadata": "{}",
         "name": "id",
         "type": "\"long\""
        },
        {
         "metadata": "{}",
         "name": "name",
         "type": "\"string\""
        },
        {
         "metadata": "{}",
         "name": "age",
         "type": "\"long\""
        },
        {
         "metadata": "{}",
         "name": "department",
         "type": "\"string\""
        },
        {
         "metadata": "{}",
         "name": "joining_date",
         "type": "\"date\""
        },
        {
         "metadata": "{}",
         "name": "last_promotion_date",
         "type": "\"date\""
        },
        {
         "metadata": "{}",
         "name": "position",
         "type": "\"string\""
        },
        {
         "metadata": "{}",
         "name": "salary",
         "type": "\"long\""
        },
        {
         "metadata": "{}",
         "name": "city",
         "type": "\"string\""
        },
        {
         "metadata": "{}",
         "name": "country",
         "type": "\"string\""
        },
        {
         "metadata": "{}",
         "name": "street",
         "type": "\"string\""
        },
        {
         "metadata": "{}",
         "name": "zipcode",
         "type": "\"long\""
        },
        {
         "metadata": "{}",
         "name": "project_budget",
         "type": "\"long\""
        },
        {
         "metadata": "{}",
         "name": "project_name",
         "type": "\"string\""
        },
        {
         "metadata": "{}",
         "name": "project_status",
         "type": "\"string\""
        }
       ],
       "type": "table"
      }
     },
     "output_type": "display_data"
    }
   ],
   "source": [
    "df_final = df_flat.select(\n",
    "    'id',\n",
    "    'name',\n",
    "    'age',\n",
    "    'department',\n",
    "    'joining_date',\n",
    "    'last_promotion_date',\n",
    "    'position',\n",
    "    'salary',\n",
    "    'city',\n",
    "    'country',\n",
    "    'street',\n",
    "    'zipcode',\n",
    "    col('project.budget').alias('project_budget'),\n",
    "    col('project.name').alias('project_name'),\n",
    "    col('project.status').alias('project_status')\n",
    ")\n",
    "\n",
    "df_final.display()\n"
   ]
  },
  {
   "cell_type": "code",
   "execution_count": 0,
   "metadata": {
    "application/vnd.databricks.v1+cell": {
     "cellMetadata": {
      "byteLimit": 2048000,
      "rowLimit": 10000
     },
     "inputWidgets": {},
     "nuid": "071c5401-af4a-4281-8852-625f113f51d7",
     "showTitle": false,
     "title": ""
    }
   },
   "outputs": [
    {
     "output_type": "display_data",
     "data": {
      "text/html": [
       "<style scoped>\n",
       "  .table-result-container {\n",
       "    max-height: 300px;\n",
       "    overflow: auto;\n",
       "  }\n",
       "  table, th, td {\n",
       "    border: 1px solid black;\n",
       "    border-collapse: collapse;\n",
       "  }\n",
       "  th, td {\n",
       "    padding: 5px;\n",
       "  }\n",
       "  th {\n",
       "    text-align: left;\n",
       "  }\n",
       "</style><div class='table-result-container'><table class='table-result'><thead style='background-color: white'><tr><th>id</th><th>name</th><th>age</th><th>department</th><th>joining_date</th><th>last_promotion_date</th><th>position</th><th>salary</th><th>city</th><th>country</th><th>street</th><th>zipcode</th><th>project_budget</th><th>project_name</th><th>project_status</th></tr></thead><tbody><tr><td>1</td><td>John Doe</td><td>30</td><td>Engineering</td><td>2015-03-15</td><td>2021-06-01</td><td>Senior Software Engineer</td><td>120000</td><td>New York</td><td>USA</td><td>123 Main St</td><td>10001</td><td>500000</td><td>Project Alpha</td><td>Ongoing</td></tr><tr><td>1</td><td>John Doe</td><td>30</td><td>Engineering</td><td>2015-03-15</td><td>2021-06-01</td><td>Senior Software Engineer</td><td>120000</td><td>New York</td><td>USA</td><td>123 Main St</td><td>10001</td><td>300000</td><td>Project Beta</td><td>Completed</td></tr><tr><td>2</td><td>Jane Smith</td><td>28</td><td>Marketing</td><td>2018-09-01</td><td>2022-01-15</td><td>Marketing Manager</td><td>95000</td><td>San Francisco</td><td>USA</td><td>456 Market St</td><td>94107</td><td>120000</td><td>Campaign 2023</td><td>Completed</td></tr><tr><td>2</td><td>Jane Smith</td><td>28</td><td>Marketing</td><td>2018-09-01</td><td>2022-01-15</td><td>Marketing Manager</td><td>95000</td><td>San Francisco</td><td>USA</td><td>456 Market St</td><td>94107</td><td>150000</td><td>Campaign 2024</td><td>Ongoing</td></tr><tr><td>3</td><td>Alice Johnson</td><td>35</td><td>Finance</td><td>2010-05-20</td><td>2020-02-10</td><td>Finance Manager</td><td>130000</td><td>Chicago</td><td>USA</td><td>789 Wall St</td><td>60605</td><td>200000</td><td>Budget Forecast 2023</td><td>Completed</td></tr><tr><td>4</td><td>Bob Williams</td><td>42</td><td>Human Resources</td><td>2008-08-25</td><td>2019-09-05</td><td>HR Director</td><td>140000</td><td>Los Angeles</td><td>USA</td><td>101 HR Lane</td><td>90001</td><td>50000</td><td>Employee Engagement</td><td>Ongoing</td></tr><tr><td>5</td><td>Charlie Brown</td><td>38</td><td>IT</td><td>2012-11-11</td><td>2020-07-21</td><td>IT Manager</td><td>125000</td><td>Austin</td><td>USA</td><td>102 Tech Park</td><td>73301</td><td>250000</td><td>Network Overhaul</td><td>Completed</td></tr><tr><td>5</td><td>Charlie Brown</td><td>38</td><td>IT</td><td>2012-11-11</td><td>2020-07-21</td><td>IT Manager</td><td>125000</td><td>Austin</td><td>USA</td><td>102 Tech Park</td><td>73301</td><td>400000</td><td>Cloud Migration</td><td>Ongoing</td></tr></tbody></table></div>"
      ]
     },
     "metadata": {
      "application/vnd.databricks.v1+output": {
       "addedWidgets": {},
       "aggData": [],
       "aggError": "",
       "aggOverflow": false,
       "aggSchema": [],
       "aggSeriesLimitReached": false,
       "aggType": "",
       "arguments": {},
       "columnCustomDisplayInfos": {},
       "data": [
        [
         1,
         "John Doe",
         30,
         "Engineering",
         "2015-03-15",
         "2021-06-01",
         "Senior Software Engineer",
         120000,
         "New York",
         "USA",
         "123 Main St",
         10001,
         500000,
         "Project Alpha",
         "Ongoing"
        ],
        [
         1,
         "John Doe",
         30,
         "Engineering",
         "2015-03-15",
         "2021-06-01",
         "Senior Software Engineer",
         120000,
         "New York",
         "USA",
         "123 Main St",
         10001,
         300000,
         "Project Beta",
         "Completed"
        ],
        [
         2,
         "Jane Smith",
         28,
         "Marketing",
         "2018-09-01",
         "2022-01-15",
         "Marketing Manager",
         95000,
         "San Francisco",
         "USA",
         "456 Market St",
         94107,
         120000,
         "Campaign 2023",
         "Completed"
        ],
        [
         2,
         "Jane Smith",
         28,
         "Marketing",
         "2018-09-01",
         "2022-01-15",
         "Marketing Manager",
         95000,
         "San Francisco",
         "USA",
         "456 Market St",
         94107,
         150000,
         "Campaign 2024",
         "Ongoing"
        ],
        [
         3,
         "Alice Johnson",
         35,
         "Finance",
         "2010-05-20",
         "2020-02-10",
         "Finance Manager",
         130000,
         "Chicago",
         "USA",
         "789 Wall St",
         60605,
         200000,
         "Budget Forecast 2023",
         "Completed"
        ],
        [
         4,
         "Bob Williams",
         42,
         "Human Resources",
         "2008-08-25",
         "2019-09-05",
         "HR Director",
         140000,
         "Los Angeles",
         "USA",
         "101 HR Lane",
         90001,
         50000,
         "Employee Engagement",
         "Ongoing"
        ],
        [
         5,
         "Charlie Brown",
         38,
         "IT",
         "2012-11-11",
         "2020-07-21",
         "IT Manager",
         125000,
         "Austin",
         "USA",
         "102 Tech Park",
         73301,
         250000,
         "Network Overhaul",
         "Completed"
        ],
        [
         5,
         "Charlie Brown",
         38,
         "IT",
         "2012-11-11",
         "2020-07-21",
         "IT Manager",
         125000,
         "Austin",
         "USA",
         "102 Tech Park",
         73301,
         400000,
         "Cloud Migration",
         "Ongoing"
        ]
       ],
       "datasetInfos": [],
       "dbfsResultPath": null,
       "isJsonSchema": true,
       "metadata": {},
       "overflow": false,
       "plotOptions": {
        "customPlotOptions": {},
        "displayType": "table",
        "pivotAggregation": null,
        "pivotColumns": null,
        "xColumns": null,
        "yColumns": null
       },
       "removedWidgets": [],
       "schema": [
        {
         "metadata": "{}",
         "name": "id",
         "type": "\"long\""
        },
        {
         "metadata": "{}",
         "name": "name",
         "type": "\"string\""
        },
        {
         "metadata": "{}",
         "name": "age",
         "type": "\"long\""
        },
        {
         "metadata": "{}",
         "name": "department",
         "type": "\"string\""
        },
        {
         "metadata": "{}",
         "name": "joining_date",
         "type": "\"date\""
        },
        {
         "metadata": "{}",
         "name": "last_promotion_date",
         "type": "\"date\""
        },
        {
         "metadata": "{}",
         "name": "position",
         "type": "\"string\""
        },
        {
         "metadata": "{}",
         "name": "salary",
         "type": "\"long\""
        },
        {
         "metadata": "{}",
         "name": "city",
         "type": "\"string\""
        },
        {
         "metadata": "{}",
         "name": "country",
         "type": "\"string\""
        },
        {
         "metadata": "{}",
         "name": "street",
         "type": "\"string\""
        },
        {
         "metadata": "{}",
         "name": "zipcode",
         "type": "\"long\""
        },
        {
         "metadata": "{}",
         "name": "project_budget",
         "type": "\"long\""
        },
        {
         "metadata": "{}",
         "name": "project_name",
         "type": "\"string\""
        },
        {
         "metadata": "{}",
         "name": "project_status",
         "type": "\"string\""
        }
       ],
       "type": "table"
      }
     },
     "output_type": "display_data"
    }
   ],
   "source": [
    "df_final.display()"
   ]
  }
 ],
 "metadata": {
  "application/vnd.databricks.v1+notebook": {
   "dashboards": [],
   "environmentMetadata": null,
   "language": "python",
   "notebookMetadata": {
    "mostRecentlyExecutedCommandWithImplicitDF": {
     "commandId": 774567891843118,
     "dataframes": [
      "_sqldf"
     ]
    },
    "pythonIndentUnit": 4
   },
   "notebookName": "Getting data from Multiple API",
   "widgets": {}
  }
 },
 "nbformat": 4,
 "nbformat_minor": 0
}
