{
 "cells": [
  {
   "cell_type": "code",
   "execution_count": 0,
   "metadata": {
    "application/vnd.databricks.v1+cell": {
     "cellMetadata": {
      "byteLimit": 2048000,
      "rowLimit": 10000
     },
     "inputWidgets": {},
     "nuid": "c6c022c1-5ab1-48d9-8bd7-597c8309ef85",
     "showTitle": false,
     "title": ""
    }
   },
   "outputs": [],
   "source": [
    "from pyspark.sql import SparkSession\n",
    "\n",
    "spark = SparkSession.builder.appName(\"XML to DataFrame\").getOrCreate()"
   ]
  },
  {
   "cell_type": "code",
   "execution_count": 0,
   "metadata": {
    "application/vnd.databricks.v1+cell": {
     "cellMetadata": {
      "byteLimit": 2048000,
      "rowLimit": 10000
     },
     "inputWidgets": {},
     "nuid": "e1f243e3-2aa9-4bc8-9ce6-9b952cff9fc5",
     "showTitle": false,
     "title": ""
    }
   },
   "outputs": [],
   "source": [
    "import requests\n",
    "import xml.etree.ElementTree as ET"
   ]
  },
  {
   "cell_type": "code",
   "execution_count": 0,
   "metadata": {
    "application/vnd.databricks.v1+cell": {
     "cellMetadata": {
      "byteLimit": 2048000,
      "rowLimit": 10000
     },
     "inputWidgets": {},
     "nuid": "c38ef480-d7f9-4c43-888b-1119484a19e6",
     "showTitle": false,
     "title": ""
    }
   },
   "outputs": [],
   "source": [
    "collections = ['sample3', 'sample2', 'sample']\n",
    "collection = []\n",
    "for i in collections:\n",
    "    collection.append(i)"
   ]
  },
  {
   "cell_type": "code",
   "execution_count": 0,
   "metadata": {
    "application/vnd.databricks.v1+cell": {
     "cellMetadata": {
      "byteLimit": 2048000,
      "rowLimit": 10000
     },
     "inputWidgets": {},
     "nuid": "d36dc38f-db76-4ab5-85f4-a526dc68fe8b",
     "showTitle": false,
     "title": ""
    }
   },
   "outputs": [
    {
     "output_type": "execute_result",
     "data": {
      "text/plain": [
       "['sample3', 'sample2', 'sample']"
      ]
     },
     "execution_count": 7,
     "metadata": {},
     "output_type": "execute_result"
    }
   ],
   "source": [
    "collection"
   ]
  },
  {
   "cell_type": "code",
   "execution_count": 0,
   "metadata": {
    "application/vnd.databricks.v1+cell": {
     "cellMetadata": {
      "byteLimit": 2048000,
      "rowLimit": 10000
     },
     "inputWidgets": {},
     "nuid": "e65369d7-e266-4b94-a793-f7bd823d5617",
     "showTitle": false,
     "title": ""
    }
   },
   "outputs": [
    {
     "output_type": "stream",
     "name": "stdout",
     "output_type": "stream",
     "text": [
      "Wrote 3342 bytes.\nWrote 3429 bytes.\nWrote 697 bytes.\n"
     ]
    }
   ],
   "source": [
    "# Define the URL to fetch XML data\n",
    "for i in collections:\n",
    "    url = f'https://1d55-2001-4490-4e9c-990e-bc6a-bb57-3bac-cea5.ngrok-free.app/{i}'\n",
    "    response = requests.get(url)\n",
    "\n",
    "    if response.status_code == 200:\n",
    "        try:\n",
    "            root = ET.fromstring(response.content)\n",
    "            data = ET.tostring(root, encoding = 'utf8').decode('utf8')\n",
    "            #print(data)\n",
    "        except ET.ParseError as e:\n",
    "            print(f'Error parsing XML :  {e}')\n",
    "    else:\n",
    "        print(f'Failed tp fetch data :  {response.status_code}')\n",
    "\n",
    "    #Storing all xml data in the dbfs storage \n",
    "    output = f'dbfs:/FileStore/tables/{i}.xml'\n",
    "    dbutils.fs.put(output, data, overwrite = True)"
   ]
  },
  {
   "cell_type": "code",
   "execution_count": 0,
   "metadata": {
    "application/vnd.databricks.v1+cell": {
     "cellMetadata": {
      "byteLimit": 2048000,
      "rowLimit": 10000
     },
     "inputWidgets": {},
     "nuid": "8e43be95-f485-4d79-9dec-64a778f4e55f",
     "showTitle": false,
     "title": ""
    }
   },
   "outputs": [
    {
     "output_type": "display_data",
     "data": {
      "text/html": [
       "<style scoped>\n",
       "  .table-result-container {\n",
       "    max-height: 300px;\n",
       "    overflow: auto;\n",
       "  }\n",
       "  table, th, td {\n",
       "    border: 1px solid black;\n",
       "    border-collapse: collapse;\n",
       "  }\n",
       "  th, td {\n",
       "    padding: 5px;\n",
       "  }\n",
       "  th {\n",
       "    text-align: left;\n",
       "  }\n",
       "</style><div class='table-result-container'><table class='table-result'><thead style='background-color: white'><tr><th>path</th><th>name</th><th>size</th><th>modificationTime</th></tr></thead><tbody><tr><td>dbfs:/FileStore/tables/SAMPLE.zip</td><td>SAMPLE.zip</td><td>6624</td><td>1725622415000</td></tr><tr><td>dbfs:/FileStore/tables/authors.xml</td><td>authors.xml</td><td>1687</td><td>1725605601000</td></tr><tr><td>dbfs:/FileStore/tables/config-1.json</td><td>config-1.json</td><td>276</td><td>1723611879000</td></tr><tr><td>dbfs:/FileStore/tables/config.json</td><td>config.json</td><td>276</td><td>1723611517000</td></tr><tr><td>dbfs:/FileStore/tables/sample.xml</td><td>sample.xml</td><td>1153</td><td>1728966407000</td></tr><tr><td>dbfs:/FileStore/tables/sample2.xml</td><td>sample2.xml</td><td>3473</td><td>1729147307000</td></tr><tr><td>dbfs:/FileStore/tables/sample3.xml</td><td>sample3.xml</td><td>3386</td><td>1729147307000</td></tr><tr><td>dbfs:/FileStore/tables/test.txt</td><td>test.txt</td><td>47</td><td>1724915571000</td></tr></tbody></table></div>"
      ]
     },
     "metadata": {
      "application/vnd.databricks.v1+output": {
       "addedWidgets": {},
       "aggData": [],
       "aggError": "",
       "aggOverflow": false,
       "aggSchema": [],
       "aggSeriesLimitReached": false,
       "aggType": "",
       "arguments": {},
       "columnCustomDisplayInfos": {},
       "data": [
        [
         "dbfs:/FileStore/tables/SAMPLE.zip",
         "SAMPLE.zip",
         6624,
         1725622415000
        ],
        [
         "dbfs:/FileStore/tables/authors.xml",
         "authors.xml",
         1687,
         1725605601000
        ],
        [
         "dbfs:/FileStore/tables/config-1.json",
         "config-1.json",
         276,
         1723611879000
        ],
        [
         "dbfs:/FileStore/tables/config.json",
         "config.json",
         276,
         1723611517000
        ],
        [
         "dbfs:/FileStore/tables/sample.xml",
         "sample.xml",
         1153,
         1728966407000
        ],
        [
         "dbfs:/FileStore/tables/sample2.xml",
         "sample2.xml",
         3473,
         1729147307000
        ],
        [
         "dbfs:/FileStore/tables/sample3.xml",
         "sample3.xml",
         3386,
         1729147307000
        ],
        [
         "dbfs:/FileStore/tables/test.txt",
         "test.txt",
         47,
         1724915571000
        ]
       ],
       "datasetInfos": [],
       "dbfsResultPath": null,
       "isJsonSchema": true,
       "metadata": {
        "isDbfsCommandResult": false
       },
       "overflow": false,
       "plotOptions": {
        "customPlotOptions": {},
        "displayType": "table",
        "pivotAggregation": null,
        "pivotColumns": null,
        "xColumns": null,
        "yColumns": null
       },
       "removedWidgets": [],
       "schema": [
        {
         "metadata": "{}",
         "name": "path",
         "type": "\"string\""
        },
        {
         "metadata": "{}",
         "name": "name",
         "type": "\"string\""
        },
        {
         "metadata": "{}",
         "name": "size",
         "type": "\"long\""
        },
        {
         "metadata": "{}",
         "name": "modificationTime",
         "type": "\"long\""
        }
       ],
       "type": "table"
      }
     },
     "output_type": "display_data"
    }
   ],
   "source": [
    "%fs ls /FileStore/tables/\n"
   ]
  },
  {
   "cell_type": "code",
   "execution_count": 0,
   "metadata": {
    "application/vnd.databricks.v1+cell": {
     "cellMetadata": {
      "byteLimit": 2048000,
      "rowLimit": 10000
     },
     "inputWidgets": {},
     "nuid": "772f4e13-9f37-4197-a911-402758edeeb7",
     "showTitle": false,
     "title": ""
    }
   },
   "outputs": [
    {
     "output_type": "stream",
     "name": "stdout",
     "output_type": "stream",
     "text": [
      "DataFrame of sample\n"
     ]
    },
    {
     "output_type": "display_data",
     "data": {
      "text/html": [
       "<style scoped>\n",
       "  .table-result-container {\n",
       "    max-height: 300px;\n",
       "    overflow: auto;\n",
       "  }\n",
       "  table, th, td {\n",
       "    border: 1px solid black;\n",
       "    border-collapse: collapse;\n",
       "  }\n",
       "  th, td {\n",
       "    padding: 5px;\n",
       "  }\n",
       "  th {\n",
       "    text-align: left;\n",
       "  }\n",
       "</style><div class='table-result-container'><table class='table-result'><thead style='background-color: white'><tr><th>customer</th></tr></thead><tbody><tr><td>List(List(List(New York, Manhattan, NY), 30, 1, John Doe, List(List(List(1001, Book, 2), List(1002, Pen, 10)))), List(List(Los Angeles, Hollywood, CA), 25, 2, Jane Smith, List(List(List(1003, Laptop, 1)))))</td></tr></tbody></table></div>"
      ]
     },
     "metadata": {
      "application/vnd.databricks.v1+output": {
       "addedWidgets": {},
       "aggData": [],
       "aggError": "",
       "aggOverflow": false,
       "aggSchema": [],
       "aggSeriesLimitReached": false,
       "aggType": "",
       "arguments": {},
       "columnCustomDisplayInfos": {},
       "data": [
        [
         [
          [
           [
            "New York",
            "Manhattan",
            "NY"
           ],
           30,
           1,
           "John Doe",
           [
            [
             [
              1001,
              "Book",
              2
             ],
             [
              1002,
              "Pen",
              10
             ]
            ]
           ]
          ],
          [
           [
            "Los Angeles",
            "Hollywood",
            "CA"
           ],
           25,
           2,
           "Jane Smith",
           [
            [
             [
              1003,
              "Laptop",
              1
             ]
            ]
           ]
          ]
         ]
        ]
       ],
       "datasetInfos": [],
       "dbfsResultPath": null,
       "isJsonSchema": true,
       "metadata": {},
       "overflow": false,
       "plotOptions": {
        "customPlotOptions": {},
        "displayType": "table",
        "pivotAggregation": null,
        "pivotColumns": null,
        "xColumns": null,
        "yColumns": null
       },
       "removedWidgets": [],
       "schema": [
        {
         "metadata": "{}",
         "name": "customer",
         "type": "{\"type\":\"array\",\"elementType\":{\"type\":\"struct\",\"fields\":[{\"name\":\"Address\",\"type\":{\"type\":\"struct\",\"fields\":[{\"name\":\"City\",\"type\":\"string\",\"nullable\":true,\"metadata\":{}},{\"name\":\"District\",\"type\":\"string\",\"nullable\":true,\"metadata\":{}},{\"name\":\"State\",\"type\":\"string\",\"nullable\":true,\"metadata\":{}}]},\"nullable\":true,\"metadata\":{}},{\"name\":\"Age\",\"type\":\"long\",\"nullable\":true,\"metadata\":{}},{\"name\":\"Customer_ID\",\"type\":\"long\",\"nullable\":true,\"metadata\":{}},{\"name\":\"Name\",\"type\":\"string\",\"nullable\":true,\"metadata\":{}},{\"name\":\"Orders\",\"type\":{\"type\":\"struct\",\"fields\":[{\"name\":\"Order\",\"type\":{\"type\":\"array\",\"elementType\":{\"type\":\"struct\",\"fields\":[{\"name\":\"Order_ID\",\"type\":\"long\",\"nullable\":true,\"metadata\":{}},{\"name\":\"Product\",\"type\":\"string\",\"nullable\":true,\"metadata\":{}},{\"name\":\"Quantity\",\"type\":\"long\",\"nullable\":true,\"metadata\":{}}]},\"containsNull\":true},\"nullable\":true,\"metadata\":{}}]},\"nullable\":true,\"metadata\":{}}]},\"containsNull\":true}"
        }
       ],
       "type": "table"
      }
     },
     "output_type": "display_data"
    },
    {
     "output_type": "stream",
     "name": "stdout",
     "output_type": "stream",
     "text": [
      "DataFrame of sample2\n"
     ]
    },
    {
     "output_type": "display_data",
     "data": {
      "text/html": [
       "<style scoped>\n",
       "  .table-result-container {\n",
       "    max-height: 300px;\n",
       "    overflow: auto;\n",
       "  }\n",
       "  table, th, td {\n",
       "    border: 1px solid black;\n",
       "    border-collapse: collapse;\n",
       "  }\n",
       "  th, td {\n",
       "    padding: 5px;\n",
       "  }\n",
       "  th {\n",
       "    text-align: left;\n",
       "  }\n",
       "</style><div class='table-result-container'><table class='table-result'><thead style='background-color: white'><tr><th>departments</th><th>location</th><th>name</th><th>products</th></tr></thead><tbody><tr><td>List(List(List(List(List(List(null, List(alice@techcorp.com, +1-555-1010), 10, 1001, Alice, List(List(Project X, Project Z)), Senior Software Engineer, 150000, List(List(Java, Python, C++)), null), List(null, List(bob@techcorp.com, +1-555-2020), 7, 1002, Bob, List(List(Project Y)), Data Scientist, 120000, List(List(Python, R, SQL)), null))), Engineering), List(List(List(List(null, List(carol@techcorp.com, +1-555-3030), 12, 2001, Carol, null, Sales Manager, 90000, null, List(List(USA, Canada))))), Sales), List(List(List(List(List(List(List(250000, Brand Awareness 2024, Ongoing), List(500000, Product Launch 2023, Completed))), List(david@techcorp.com, +1-555-4040), 5, 3001, David, null, Marketing Specialist, 85000, null, null))), Marketing)))</td><td>List(List(List(List(New York, 300, List(List(List(500000, Project X, Ongoing), List(1200000, Project Y, Completed)))), List(Chicago, 150, List(List(List(800000, Project Z, Planning)))))), List(789 Innovation Drive, San Francisco, USA, CA, 94107))</td><td>TechCorp</td><td>List(List(List(Hardware, List(12 hours, Black, null, null, 10x15 cm, null), P001, 2022-05-01, TechWidget, 250, List(List(List(North America, 1250000, 5000), List(Europe, 750000, 3000)))), List(Software, List(null, null, 1 year, List(List(Windows, macOS, Linux)), null, 2.1), P002, 2023-01-15, TechGadget, 499, List(List(List(North America, 998000, 2000), List(Asia, 748500, 1500))))))</td></tr></tbody></table></div>"
      ]
     },
     "metadata": {
      "application/vnd.databricks.v1+output": {
       "addedWidgets": {},
       "aggData": [],
       "aggError": "",
       "aggOverflow": false,
       "aggSchema": [],
       "aggSeriesLimitReached": false,
       "aggType": "",
       "arguments": {},
       "columnCustomDisplayInfos": {},
       "data": [
        [
         [
          [
           [
            [
             [
              [
               null,
               [
                "alice@techcorp.com",
                "+1-555-1010"
               ],
               10,
               1001,
               "Alice",
               [
                [
                 "Project X",
                 "Project Z"
                ]
               ],
               "Senior Software Engineer",
               150000,
               [
                [
                 "Java",
                 "Python",
                 "C++"
                ]
               ],
               null
              ],
              [
               null,
               [
                "bob@techcorp.com",
                "+1-555-2020"
               ],
               7,
               1002,
               "Bob",
               [
                [
                 "Project Y"
                ]
               ],
               "Data Scientist",
               120000,
               [
                [
                 "Python",
                 "R",
                 "SQL"
                ]
               ],
               null
              ]
             ]
            ],
            "Engineering"
           ],
           [
            [
             [
              [
               null,
               [
                "carol@techcorp.com",
                "+1-555-3030"
               ],
               12,
               2001,
               "Carol",
               null,
               "Sales Manager",
               90000,
               null,
               [
                [
                 "USA",
                 "Canada"
                ]
               ]
              ]
             ]
            ],
            "Sales"
           ],
           [
            [
             [
              [
               [
                [
                 [
                  250000,
                  "Brand Awareness 2024",
                  "Ongoing"
                 ],
                 [
                  500000,
                  "Product Launch 2023",
                  "Completed"
                 ]
                ]
               ],
               [
                "david@techcorp.com",
                "+1-555-4040"
               ],
               5,
               3001,
               "David",
               null,
               "Marketing Specialist",
               85000,
               null,
               null
              ]
             ]
            ],
            "Marketing"
           ]
          ]
         ],
         [
          [
           [
            [
             "New York",
             300,
             [
              [
               [
                500000,
                "Project X",
                "Ongoing"
               ],
               [
                1200000,
                "Project Y",
                "Completed"
               ]
              ]
             ]
            ],
            [
             "Chicago",
             150,
             [
              [
               [
                800000,
                "Project Z",
                "Planning"
               ]
              ]
             ]
            ]
           ]
          ],
          [
           "789 Innovation Drive",
           "San Francisco",
           "USA",
           "CA",
           94107
          ]
         ],
         "TechCorp",
         [
          [
           [
            "Hardware",
            [
             "12 hours",
             "Black",
             null,
             null,
             "10x15 cm",
             null
            ],
            "P001",
            "2022-05-01",
            "TechWidget",
            250,
            [
             [
              [
               "North America",
               1250000,
               5000
              ],
              [
               "Europe",
               750000,
               3000
              ]
             ]
            ]
           ],
           [
            "Software",
            [
             null,
             null,
             "1 year",
             [
              [
               "Windows",
               "macOS",
               "Linux"
              ]
             ],
             null,
             2.1
            ],
            "P002",
            "2023-01-15",
            "TechGadget",
            499,
            [
             [
              [
               "North America",
               998000,
               2000
              ],
              [
               "Asia",
               748500,
               1500
              ]
             ]
            ]
           ]
          ]
         ]
        ]
       ],
       "datasetInfos": [],
       "dbfsResultPath": null,
       "isJsonSchema": true,
       "metadata": {},
       "overflow": false,
       "plotOptions": {
        "customPlotOptions": {},
        "displayType": "table",
        "pivotAggregation": null,
        "pivotColumns": null,
        "xColumns": null,
        "yColumns": null
       },
       "removedWidgets": [],
       "schema": [
        {
         "metadata": "{}",
         "name": "departments",
         "type": "{\"type\":\"struct\",\"fields\":[{\"name\":\"department\",\"type\":{\"type\":\"array\",\"elementType\":{\"type\":\"struct\",\"fields\":[{\"name\":\"employees\",\"type\":{\"type\":\"struct\",\"fields\":[{\"name\":\"employee\",\"type\":{\"type\":\"array\",\"elementType\":{\"type\":\"struct\",\"fields\":[{\"name\":\"campaigns\",\"type\":{\"type\":\"struct\",\"fields\":[{\"name\":\"campaign\",\"type\":{\"type\":\"array\",\"elementType\":{\"type\":\"struct\",\"fields\":[{\"name\":\"budget\",\"type\":\"long\",\"nullable\":true,\"metadata\":{}},{\"name\":\"name\",\"type\":\"string\",\"nullable\":true,\"metadata\":{}},{\"name\":\"status\",\"type\":\"string\",\"nullable\":true,\"metadata\":{}}]},\"containsNull\":true},\"nullable\":true,\"metadata\":{}}]},\"nullable\":true,\"metadata\":{}},{\"name\":\"contact\",\"type\":{\"type\":\"struct\",\"fields\":[{\"name\":\"email\",\"type\":\"string\",\"nullable\":true,\"metadata\":{}},{\"name\":\"phone\",\"type\":\"string\",\"nullable\":true,\"metadata\":{}}]},\"nullable\":true,\"metadata\":{}},{\"name\":\"experience_years\",\"type\":\"long\",\"nullable\":true,\"metadata\":{}},{\"name\":\"id\",\"type\":\"long\",\"nullable\":true,\"metadata\":{}},{\"name\":\"name\",\"type\":\"string\",\"nullable\":true,\"metadata\":{}},{\"name\":\"projects\",\"type\":{\"type\":\"struct\",\"fields\":[{\"name\":\"project\",\"type\":{\"type\":\"array\",\"elementType\":\"string\",\"containsNull\":true},\"nullable\":true,\"metadata\":{}}]},\"nullable\":true,\"metadata\":{}},{\"name\":\"role\",\"type\":\"string\",\"nullable\":true,\"metadata\":{}},{\"name\":\"salary\",\"type\":\"long\",\"nullable\":true,\"metadata\":{}},{\"name\":\"skills\",\"type\":{\"type\":\"struct\",\"fields\":[{\"name\":\"skill\",\"type\":{\"type\":\"array\",\"elementType\":\"string\",\"containsNull\":true},\"nullable\":true,\"metadata\":{}}]},\"nullable\":true,\"metadata\":{}},{\"name\":\"territories\",\"type\":{\"type\":\"struct\",\"fields\":[{\"name\":\"territorie\",\"type\":{\"type\":\"array\",\"elementType\":\"string\",\"containsNull\":true},\"nullable\":true,\"metadata\":{}}]},\"nullable\":true,\"metadata\":{}}]},\"containsNull\":true},\"nullable\":true,\"metadata\":{}}]},\"nullable\":true,\"metadata\":{}},{\"name\":\"name\",\"type\":\"string\",\"nullable\":true,\"metadata\":{}}]},\"containsNull\":true},\"nullable\":true,\"metadata\":{}}]}"
        },
        {
         "metadata": "{}",
         "name": "location",
         "type": "{\"type\":\"struct\",\"fields\":[{\"name\":\"branch_offices\",\"type\":{\"type\":\"struct\",\"fields\":[{\"name\":\"branch_office\",\"type\":{\"type\":\"array\",\"elementType\":{\"type\":\"struct\",\"fields\":[{\"name\":\"city\",\"type\":\"string\",\"nullable\":true,\"metadata\":{}},{\"name\":\"employees\",\"type\":\"long\",\"nullable\":true,\"metadata\":{}},{\"name\":\"projects\",\"type\":{\"type\":\"struct\",\"fields\":[{\"name\":\"project\",\"type\":{\"type\":\"array\",\"elementType\":{\"type\":\"struct\",\"fields\":[{\"name\":\"budget\",\"type\":\"long\",\"nullable\":true,\"metadata\":{}},{\"name\":\"name\",\"type\":\"string\",\"nullable\":true,\"metadata\":{}},{\"name\":\"status\",\"type\":\"string\",\"nullable\":true,\"metadata\":{}}]},\"containsNull\":true},\"nullable\":true,\"metadata\":{}}]},\"nullable\":true,\"metadata\":{}}]},\"containsNull\":true},\"nullable\":true,\"metadata\":{}}]},\"nullable\":true,\"metadata\":{}},{\"name\":\"headquarters\",\"type\":{\"type\":\"struct\",\"fields\":[{\"name\":\"address\",\"type\":\"string\",\"nullable\":true,\"metadata\":{}},{\"name\":\"city\",\"type\":\"string\",\"nullable\":true,\"metadata\":{}},{\"name\":\"country\",\"type\":\"string\",\"nullable\":true,\"metadata\":{}},{\"name\":\"state\",\"type\":\"string\",\"nullable\":true,\"metadata\":{}},{\"name\":\"zipcode\",\"type\":\"long\",\"nullable\":true,\"metadata\":{}}]},\"nullable\":true,\"metadata\":{}}]}"
        },
        {
         "metadata": "{}",
         "name": "name",
         "type": "\"string\""
        },
        {
         "metadata": "{}",
         "name": "products",
         "type": "{\"type\":\"struct\",\"fields\":[{\"name\":\"product\",\"type\":{\"type\":\"array\",\"elementType\":{\"type\":\"struct\",\"fields\":[{\"name\":\"category\",\"type\":\"string\",\"nullable\":true,\"metadata\":{}},{\"name\":\"features\",\"type\":{\"type\":\"struct\",\"fields\":[{\"name\":\"battery_life\",\"type\":\"string\",\"nullable\":true,\"metadata\":{}},{\"name\":\"color\",\"type\":\"string\",\"nullable\":true,\"metadata\":{}},{\"name\":\"license\",\"type\":\"string\",\"nullable\":true,\"metadata\":{}},{\"name\":\"platforms\",\"type\":{\"type\":\"struct\",\"fields\":[{\"name\":\"platform\",\"type\":{\"type\":\"array\",\"elementType\":\"string\",\"containsNull\":true},\"nullable\":true,\"metadata\":{}}]},\"nullable\":true,\"metadata\":{}},{\"name\":\"size\",\"type\":\"string\",\"nullable\":true,\"metadata\":{}},{\"name\":\"version\",\"type\":\"double\",\"nullable\":true,\"metadata\":{}}]},\"nullable\":true,\"metadata\":{}},{\"name\":\"id\",\"type\":\"string\",\"nullable\":true,\"metadata\":{}},{\"name\":\"launch_date\",\"type\":\"date\",\"nullable\":true,\"metadata\":{}},{\"name\":\"name\",\"type\":\"string\",\"nullable\":true,\"metadata\":{}},{\"name\":\"price\",\"type\":\"long\",\"nullable\":true,\"metadata\":{}},{\"name\":\"sales\",\"type\":{\"type\":\"struct\",\"fields\":[{\"name\":\"sale\",\"type\":{\"type\":\"array\",\"elementType\":{\"type\":\"struct\",\"fields\":[{\"name\":\"region\",\"type\":\"string\",\"nullable\":true,\"metadata\":{}},{\"name\":\"revenue\",\"type\":\"long\",\"nullable\":true,\"metadata\":{}},{\"name\":\"units_sold\",\"type\":\"long\",\"nullable\":true,\"metadata\":{}}]},\"containsNull\":true},\"nullable\":true,\"metadata\":{}}]},\"nullable\":true,\"metadata\":{}}]},\"containsNull\":true},\"nullable\":true,\"metadata\":{}}]}"
        }
       ],
       "type": "table"
      }
     },
     "output_type": "display_data"
    },
    {
     "output_type": "stream",
     "name": "stdout",
     "output_type": "stream",
     "text": [
      "DataFrame of sample3\n"
     ]
    },
    {
     "output_type": "display_data",
     "data": {
      "text/html": [
       "<style scoped>\n",
       "  .table-result-container {\n",
       "    max-height: 300px;\n",
       "    overflow: auto;\n",
       "  }\n",
       "  table, th, td {\n",
       "    border: 1px solid black;\n",
       "    border-collapse: collapse;\n",
       "  }\n",
       "  th, td {\n",
       "    padding: 5px;\n",
       "  }\n",
       "  th {\n",
       "    text-align: left;\n",
       "  }\n",
       "</style><div class='table-result-container'><table class='table-result'><thead style='background-color: white'><tr><th>employee</th></tr></thead><tbody><tr><td>List(List(1, List(New York, USA, 123 Main St, 10001), 30, Engineering, 2015-03-15, 2021-06-01, John Doe, Senior Software Engineer, List(List(List(500000, Project Alpha, Ongoing), List(300000, Project Beta, Completed))), 120000, List(List(Python, SQL, Java, AWS))), List(2, List(San Francisco, USA, 456 Market St, 94107), 28, Marketing, 2018-09-01, 2022-01-15, Jane Smith, Marketing Manager, List(List(List(120000, Campaign 2023, Completed), List(150000, Campaign 2024, Ongoing))), 95000, List(List(SEO, Content Strategy, Google Analytics))), List(3, List(Chicago, USA, 789 Wall St, 60605), 35, Finance, 2010-05-20, 2020-02-10, Alice Johnson, Finance Manager, List(List(List(200000, Budget Forecast 2023, Completed))), 130000, List(List(Financial Analysis, Risk Management, Excel, SAP))), List(4, List(Los Angeles, USA, 101 HR Lane, 90001), 42, Human Resources, 2008-08-25, 2019-09-05, Bob Williams, HR Director, List(List(List(50000, Employee Engagement, Ongoing))), 140000, List(List(Employee Relations, Recruitment, Training, HR Compliance))), List(5, List(Austin, USA, 102 Tech Park, 73301), 38, IT, 2012-11-11, 2020-07-21, Charlie Brown, IT Manager, List(List(List(250000, Network Overhaul, Completed), List(400000, Cloud Migration, Ongoing))), 125000, List(List(Networking, System Administration, Linux, Cybersecurity))))</td></tr></tbody></table></div>"
      ]
     },
     "metadata": {
      "application/vnd.databricks.v1+output": {
       "addedWidgets": {},
       "aggData": [],
       "aggError": "",
       "aggOverflow": false,
       "aggSchema": [],
       "aggSeriesLimitReached": false,
       "aggType": "",
       "arguments": {},
       "columnCustomDisplayInfos": {},
       "data": [
        [
         [
          [
           1,
           [
            "New York",
            "USA",
            "123 Main St",
            10001
           ],
           30,
           "Engineering",
           "2015-03-15",
           "2021-06-01",
           "John Doe",
           "Senior Software Engineer",
           [
            [
             [
              500000,
              "Project Alpha",
              "Ongoing"
             ],
             [
              300000,
              "Project Beta",
              "Completed"
             ]
            ]
           ],
           120000,
           [
            [
             "Python",
             "SQL",
             "Java",
             "AWS"
            ]
           ]
          ],
          [
           2,
           [
            "San Francisco",
            "USA",
            "456 Market St",
            94107
           ],
           28,
           "Marketing",
           "2018-09-01",
           "2022-01-15",
           "Jane Smith",
           "Marketing Manager",
           [
            [
             [
              120000,
              "Campaign 2023",
              "Completed"
             ],
             [
              150000,
              "Campaign 2024",
              "Ongoing"
             ]
            ]
           ],
           95000,
           [
            [
             "SEO",
             "Content Strategy",
             "Google Analytics"
            ]
           ]
          ],
          [
           3,
           [
            "Chicago",
            "USA",
            "789 Wall St",
            60605
           ],
           35,
           "Finance",
           "2010-05-20",
           "2020-02-10",
           "Alice Johnson",
           "Finance Manager",
           [
            [
             [
              200000,
              "Budget Forecast 2023",
              "Completed"
             ]
            ]
           ],
           130000,
           [
            [
             "Financial Analysis",
             "Risk Management",
             "Excel",
             "SAP"
            ]
           ]
          ],
          [
           4,
           [
            "Los Angeles",
            "USA",
            "101 HR Lane",
            90001
           ],
           42,
           "Human Resources",
           "2008-08-25",
           "2019-09-05",
           "Bob Williams",
           "HR Director",
           [
            [
             [
              50000,
              "Employee Engagement",
              "Ongoing"
             ]
            ]
           ],
           140000,
           [
            [
             "Employee Relations",
             "Recruitment",
             "Training",
             "HR Compliance"
            ]
           ]
          ],
          [
           5,
           [
            "Austin",
            "USA",
            "102 Tech Park",
            73301
           ],
           38,
           "IT",
           "2012-11-11",
           "2020-07-21",
           "Charlie Brown",
           "IT Manager",
           [
            [
             [
              250000,
              "Network Overhaul",
              "Completed"
             ],
             [
              400000,
              "Cloud Migration",
              "Ongoing"
             ]
            ]
           ],
           125000,
           [
            [
             "Networking",
             "System Administration",
             "Linux",
             "Cybersecurity"
            ]
           ]
          ]
         ]
        ]
       ],
       "datasetInfos": [],
       "dbfsResultPath": null,
       "isJsonSchema": true,
       "metadata": {},
       "overflow": false,
       "plotOptions": {
        "customPlotOptions": {},
        "displayType": "table",
        "pivotAggregation": null,
        "pivotColumns": null,
        "xColumns": null,
        "yColumns": null
       },
       "removedWidgets": [],
       "schema": [
        {
         "metadata": "{}",
         "name": "employee",
         "type": "{\"type\":\"array\",\"elementType\":{\"type\":\"struct\",\"fields\":[{\"name\":\"_id\",\"type\":\"long\",\"nullable\":true,\"metadata\":{}},{\"name\":\"address\",\"type\":{\"type\":\"struct\",\"fields\":[{\"name\":\"city\",\"type\":\"string\",\"nullable\":true,\"metadata\":{}},{\"name\":\"country\",\"type\":\"string\",\"nullable\":true,\"metadata\":{}},{\"name\":\"street\",\"type\":\"string\",\"nullable\":true,\"metadata\":{}},{\"name\":\"zipcode\",\"type\":\"long\",\"nullable\":true,\"metadata\":{}}]},\"nullable\":true,\"metadata\":{}},{\"name\":\"age\",\"type\":\"long\",\"nullable\":true,\"metadata\":{}},{\"name\":\"department\",\"type\":\"string\",\"nullable\":true,\"metadata\":{}},{\"name\":\"joining_date\",\"type\":\"date\",\"nullable\":true,\"metadata\":{}},{\"name\":\"last_promotion_date\",\"type\":\"date\",\"nullable\":true,\"metadata\":{}},{\"name\":\"name\",\"type\":\"string\",\"nullable\":true,\"metadata\":{}},{\"name\":\"position\",\"type\":\"string\",\"nullable\":true,\"metadata\":{}},{\"name\":\"projects\",\"type\":{\"type\":\"struct\",\"fields\":[{\"name\":\"project\",\"type\":{\"type\":\"array\",\"elementType\":{\"type\":\"struct\",\"fields\":[{\"name\":\"budget\",\"type\":\"long\",\"nullable\":true,\"metadata\":{}},{\"name\":\"name\",\"type\":\"string\",\"nullable\":true,\"metadata\":{}},{\"name\":\"status\",\"type\":\"string\",\"nullable\":true,\"metadata\":{}}]},\"containsNull\":true},\"nullable\":true,\"metadata\":{}}]},\"nullable\":true,\"metadata\":{}},{\"name\":\"salary\",\"type\":\"long\",\"nullable\":true,\"metadata\":{}},{\"name\":\"skills\",\"type\":{\"type\":\"struct\",\"fields\":[{\"name\":\"skill\",\"type\":{\"type\":\"array\",\"elementType\":\"string\",\"containsNull\":true},\"nullable\":true,\"metadata\":{}}]},\"nullable\":true,\"metadata\":{}}]},\"containsNull\":true}"
        }
       ],
       "type": "table"
      }
     },
     "output_type": "display_data"
    }
   ],
   "source": [
    "tag = {\n",
    "    'sample' : 'customers',\n",
    "    'sample2' : 'company',\n",
    "    'sample3' : 'employees',\n",
    "}\n",
    "\n",
    "for i, row_tag in tag.items():\n",
    "    df = spark.read.format('xml').option('rowTag', row_tag).load(f'dbfs:/FileStore/tables/{i}.xml') \n",
    "    print(f'DataFrame of {i}')\n",
    "    display(df)"
   ]
  },
  {
   "cell_type": "code",
   "execution_count": 0,
   "metadata": {
    "application/vnd.databricks.v1+cell": {
     "cellMetadata": {},
     "inputWidgets": {},
     "nuid": "6cd73ebc-1b0d-49a6-a592-a2a9296b2a87",
     "showTitle": false,
     "title": ""
    }
   },
   "outputs": [],
   "source": []
  }
 ],
 "metadata": {
  "application/vnd.databricks.v1+notebook": {
   "dashboards": [],
   "environmentMetadata": null,
   "language": "python",
   "notebookMetadata": {
    "mostRecentlyExecutedCommandWithImplicitDF": {
     "commandId": 774567891843118,
     "dataframes": [
      "_sqldf"
     ]
    },
    "pythonIndentUnit": 4
   },
   "notebookName": "Getting data from Multiple API",
   "widgets": {}
  }
 },
 "nbformat": 4,
 "nbformat_minor": 0
}
