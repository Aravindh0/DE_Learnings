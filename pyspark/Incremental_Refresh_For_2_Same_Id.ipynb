{
 "cells": [
  {
   "cell_type": "code",
   "execution_count": 0,
   "metadata": {
    "application/vnd.databricks.v1+cell": {
     "cellMetadata": {
      "byteLimit": 2048000,
      "rowLimit": 10000
     },
     "inputWidgets": {},
     "nuid": "8f5906d1-4998-409a-8463-0322f46e8535",
     "showTitle": false,
     "title": ""
    }
   },
   "outputs": [],
   "source": [
    "#Import Session\n",
    "from pyspark.sql import SparkSession"
   ]
  },
  {
   "cell_type": "code",
   "execution_count": 0,
   "metadata": {
    "application/vnd.databricks.v1+cell": {
     "cellMetadata": {
      "byteLimit": 2048000,
      "rowLimit": 10000
     },
     "inputWidgets": {},
     "nuid": "2ced12c4-e052-4533-a7dd-4928a92b8df1",
     "showTitle": false,
     "title": ""
    }
   },
   "outputs": [
    {
     "output_type": "stream",
     "name": "stdout",
     "output_type": "stream",
     "text": [
      "Out[61]: DataFrame[]"
     ]
    }
   ],
   "source": [
    "spark.sql('drop table customer2')"
   ]
  },
  {
   "cell_type": "code",
   "execution_count": 0,
   "metadata": {
    "application/vnd.databricks.v1+cell": {
     "cellMetadata": {
      "byteLimit": 2048000,
      "implicitDf": true,
      "rowLimit": 10000
     },
     "inputWidgets": {},
     "nuid": "99f973f6-e51c-44ea-8d53-eacb92c7e16e",
     "showTitle": false,
     "title": ""
    }
   },
   "outputs": [
    {
     "output_type": "display_data",
     "data": {
      "text/html": [
       "<style scoped>\n",
       "  .table-result-container {\n",
       "    max-height: 300px;\n",
       "    overflow: auto;\n",
       "  }\n",
       "  table, th, td {\n",
       "    border: 1px solid black;\n",
       "    border-collapse: collapse;\n",
       "  }\n",
       "  th, td {\n",
       "    padding: 5px;\n",
       "  }\n",
       "  th {\n",
       "    text-align: left;\n",
       "  }\n",
       "</style><div class='table-result-container'><table class='table-result'><thead style='background-color: white'><tr></tr></thead><tbody></tbody></table></div>"
      ]
     },
     "metadata": {
      "application/vnd.databricks.v1+output": {
       "addedWidgets": {},
       "aggData": [],
       "aggError": "",
       "aggOverflow": false,
       "aggSchema": [],
       "aggSeriesLimitReached": false,
       "aggType": "",
       "arguments": {},
       "columnCustomDisplayInfos": {},
       "data": [],
       "datasetInfos": [],
       "dbfsResultPath": null,
       "isJsonSchema": true,
       "metadata": {},
       "overflow": false,
       "plotOptions": {
        "customPlotOptions": {},
        "displayType": "table",
        "pivotAggregation": null,
        "pivotColumns": null,
        "xColumns": null,
        "yColumns": null
       },
       "removedWidgets": [],
       "schema": [],
       "type": "table"
      }
     },
     "output_type": "display_data"
    }
   ],
   "source": [
    "%sql\n",
    "\n",
    "drop table if exists customer2;\n",
    "\n",
    "create table customer2(\n",
    "  Id int,\n",
    "  Name varchar(50),\n",
    "  Age int,\n",
    "  DOB date,\n",
    "  City varchar(50),\n",
    "  District varchar(50),\n",
    "  State varchar(50),\n",
    "  Flag varchar(50),\n",
    "  Start_Date timestamp,\n",
    "  End_Date timestamp\n",
    ") using delta\n",
    "location '/delta/customer2'"
   ]
  },
  {
   "cell_type": "code",
   "execution_count": 0,
   "metadata": {
    "application/vnd.databricks.v1+cell": {
     "cellMetadata": {
      "byteLimit": 2048000,
      "rowLimit": 10000
     },
     "inputWidgets": {},
     "nuid": "ae53d2ce-88f8-44ea-b705-45050dd2cc8e",
     "showTitle": false,
     "title": ""
    }
   },
   "outputs": [
    {
     "output_type": "stream",
     "name": "stdout",
     "output_type": "stream",
     "text": [
      "Out[63]: DataFrame[num_affected_rows: bigint]"
     ]
    }
   ],
   "source": [
    "spark.sql('delete from customer2')"
   ]
  },
  {
   "cell_type": "code",
   "execution_count": 0,
   "metadata": {
    "application/vnd.databricks.v1+cell": {
     "cellMetadata": {
      "byteLimit": 2048000,
      "implicitDf": true,
      "rowLimit": 10000
     },
     "inputWidgets": {},
     "nuid": "7fcff56a-db83-4fa2-983f-a600dd791a84",
     "showTitle": false,
     "title": ""
    }
   },
   "outputs": [
    {
     "output_type": "display_data",
     "data": {
      "text/html": [
       "<style scoped>\n",
       "  .table-result-container {\n",
       "    max-height: 300px;\n",
       "    overflow: auto;\n",
       "  }\n",
       "  table, th, td {\n",
       "    border: 1px solid black;\n",
       "    border-collapse: collapse;\n",
       "  }\n",
       "  th, td {\n",
       "    padding: 5px;\n",
       "  }\n",
       "  th {\n",
       "    text-align: left;\n",
       "  }\n",
       "</style><div class='table-result-container'><table class='table-result'><thead style='background-color: white'><tr><th>num_affected_rows</th><th>num_inserted_rows</th></tr></thead><tbody><tr><td>5</td><td>5</td></tr></tbody></table></div>"
      ]
     },
     "metadata": {
      "application/vnd.databricks.v1+output": {
       "addedWidgets": {},
       "aggData": [],
       "aggError": "",
       "aggOverflow": false,
       "aggSchema": [],
       "aggSeriesLimitReached": false,
       "aggType": "",
       "arguments": {},
       "columnCustomDisplayInfos": {},
       "data": [
        [
         5,
         5
        ]
       ],
       "datasetInfos": [],
       "dbfsResultPath": null,
       "isJsonSchema": true,
       "metadata": {},
       "overflow": false,
       "plotOptions": {
        "customPlotOptions": {},
        "displayType": "table",
        "pivotAggregation": null,
        "pivotColumns": null,
        "xColumns": null,
        "yColumns": null
       },
       "removedWidgets": [],
       "schema": [
        {
         "metadata": "{}",
         "name": "num_affected_rows",
         "type": "\"long\""
        },
        {
         "metadata": "{}",
         "name": "num_inserted_rows",
         "type": "\"long\""
        }
       ],
       "type": "table"
      }
     },
     "output_type": "display_data"
    }
   ],
   "source": [
    "%sql\n",
    "\n",
    "INSERT INTO customer2 (Id, Name, Age, DOB, City, District, State, Flag, Start_Date, End_Date) VALUES\n",
    "(1, 'Ajimal', 23, '2001-07-01', 'Gobi', 'Erode', 'TamilNadu', 'Y', current_timestamp(), '9999-12-31'),\n",
    "(2, 'Jervin', 23, '2001-10-03', 'Mylode', 'Kanyakumari', 'TamilNadu', 'Y', current_timestamp(), '9999-12-31'),\n",
    "(3, 'Bergin', 24, '2000-01-20', 'Pollachi', 'Coimbatore', 'TamilNadu', 'Y', current_timestamp(), '9999-12-31'),\n",
    "(4, 'Nishanth', 24, '2000-11-25', 'Tambaram', 'Chennai', 'TamilNadu', 'Y', current_timestamp(), '9999-12-31'),\n",
    "(5, 'Vasanth', 24, '2001-03-14', 'Poonamalle', 'Chennai', 'TamilNadu', 'Y', current_timestamp(), '9999-12-31');"
   ]
  },
  {
   "cell_type": "code",
   "execution_count": 0,
   "metadata": {
    "application/vnd.databricks.v1+cell": {
     "cellMetadata": {
      "byteLimit": 2048000,
      "rowLimit": 10000
     },
     "inputWidgets": {},
     "nuid": "9316e2eb-73dc-41a7-a051-1af42ea493ed",
     "showTitle": false,
     "title": ""
    }
   },
   "outputs": [
    {
     "output_type": "stream",
     "name": "stdout",
     "output_type": "stream",
     "text": [
      "+---+--------+---+----------+----------+-----------+---------+----+--------------------+-------------------+\n| Id|    Name|Age|       DOB|      City|   District|    State|Flag|          Start_Date|           End_Date|\n+---+--------+---+----------+----------+-----------+---------+----+--------------------+-------------------+\n|  1|  Ajimal| 23|2001-07-01|      Gobi|      Erode|TamilNadu|   Y|2024-08-12 04:40:...|9999-12-31 00:00:00|\n|  2|  Jervin| 23|2001-10-03|    Mylode|Kanyakumari|TamilNadu|   Y|2024-08-12 04:40:...|9999-12-31 00:00:00|\n|  3|  Bergin| 24|2000-01-20|  Pollachi| Coimbatore|TamilNadu|   Y|2024-08-12 04:40:...|9999-12-31 00:00:00|\n|  4|Nishanth| 24|2000-11-25|  Tambaram|    Chennai|TamilNadu|   Y|2024-08-12 04:40:...|9999-12-31 00:00:00|\n|  5| Vasanth| 24|2001-03-14|Poonamalle|    Chennai|TamilNadu|   Y|2024-08-12 04:40:...|9999-12-31 00:00:00|\n+---+--------+---+----------+----------+-----------+---------+----+--------------------+-------------------+\n\n"
     ]
    }
   ],
   "source": [
    "spark.sql('select * from customer2').show()"
   ]
  },
  {
   "cell_type": "code",
   "execution_count": 0,
   "metadata": {
    "application/vnd.databricks.v1+cell": {
     "cellMetadata": {
      "byteLimit": 2048000,
      "rowLimit": 10000
     },
     "inputWidgets": {},
     "nuid": "60878442-88dc-43f0-8412-42d425a54095",
     "showTitle": false,
     "title": ""
    }
   },
   "outputs": [
    {
     "output_type": "display_data",
     "data": {
      "text/html": [
       "<style scoped>\n",
       "  .table-result-container {\n",
       "    max-height: 300px;\n",
       "    overflow: auto;\n",
       "  }\n",
       "  table, th, td {\n",
       "    border: 1px solid black;\n",
       "    border-collapse: collapse;\n",
       "  }\n",
       "  th, td {\n",
       "    padding: 5px;\n",
       "  }\n",
       "  th {\n",
       "    text-align: left;\n",
       "  }\n",
       "</style><div class='table-result-container'><table class='table-result'><thead style='background-color: white'><tr><th>Id</th><th>Name</th><th>Age</th><th>DOB</th><th>City</th><th>District</th><th>State</th><th>Flag</th><th>Start_Date</th><th>End_Date</th></tr></thead><tbody><tr><td>1</td><td>Ajimal</td><td>23</td><td>2001-07-01</td><td>Gobi</td><td>Erode</td><td>TamilNadu</td><td>Y</td><td>2024-08-12T04:40:07.840+0000</td><td>9999-12-31T00:00:00.000+0000</td></tr><tr><td>2</td><td>Jervin</td><td>23</td><td>2001-10-03</td><td>Mylode</td><td>Kanyakumari</td><td>TamilNadu</td><td>Y</td><td>2024-08-12T04:40:07.840+0000</td><td>9999-12-31T00:00:00.000+0000</td></tr><tr><td>3</td><td>Bergin</td><td>24</td><td>2000-01-20</td><td>Pollachi</td><td>Coimbatore</td><td>TamilNadu</td><td>Y</td><td>2024-08-12T04:40:07.840+0000</td><td>9999-12-31T00:00:00.000+0000</td></tr><tr><td>4</td><td>Nishanth</td><td>24</td><td>2000-11-25</td><td>Tambaram</td><td>Chennai</td><td>TamilNadu</td><td>Y</td><td>2024-08-12T04:40:07.840+0000</td><td>9999-12-31T00:00:00.000+0000</td></tr><tr><td>5</td><td>Vasanth</td><td>24</td><td>2001-03-14</td><td>Poonamalle</td><td>Chennai</td><td>TamilNadu</td><td>Y</td><td>2024-08-12T04:40:07.840+0000</td><td>9999-12-31T00:00:00.000+0000</td></tr></tbody></table></div>"
      ]
     },
     "metadata": {
      "application/vnd.databricks.v1+output": {
       "addedWidgets": {},
       "aggData": [],
       "aggError": "",
       "aggOverflow": false,
       "aggSchema": [],
       "aggSeriesLimitReached": false,
       "aggType": "",
       "arguments": {},
       "columnCustomDisplayInfos": {},
       "data": [
        [
         1,
         "Ajimal",
         23,
         "2001-07-01",
         "Gobi",
         "Erode",
         "TamilNadu",
         "Y",
         "2024-08-12T04:40:07.840+0000",
         "9999-12-31T00:00:00.000+0000"
        ],
        [
         2,
         "Jervin",
         23,
         "2001-10-03",
         "Mylode",
         "Kanyakumari",
         "TamilNadu",
         "Y",
         "2024-08-12T04:40:07.840+0000",
         "9999-12-31T00:00:00.000+0000"
        ],
        [
         3,
         "Bergin",
         24,
         "2000-01-20",
         "Pollachi",
         "Coimbatore",
         "TamilNadu",
         "Y",
         "2024-08-12T04:40:07.840+0000",
         "9999-12-31T00:00:00.000+0000"
        ],
        [
         4,
         "Nishanth",
         24,
         "2000-11-25",
         "Tambaram",
         "Chennai",
         "TamilNadu",
         "Y",
         "2024-08-12T04:40:07.840+0000",
         "9999-12-31T00:00:00.000+0000"
        ],
        [
         5,
         "Vasanth",
         24,
         "2001-03-14",
         "Poonamalle",
         "Chennai",
         "TamilNadu",
         "Y",
         "2024-08-12T04:40:07.840+0000",
         "9999-12-31T00:00:00.000+0000"
        ]
       ],
       "datasetInfos": [],
       "dbfsResultPath": null,
       "isJsonSchema": true,
       "metadata": {},
       "overflow": false,
       "plotOptions": {
        "customPlotOptions": {},
        "displayType": "table",
        "pivotAggregation": null,
        "pivotColumns": null,
        "xColumns": null,
        "yColumns": null
       },
       "removedWidgets": [],
       "schema": [
        {
         "metadata": "{}",
         "name": "Id",
         "type": "\"integer\""
        },
        {
         "metadata": "{\"__CHAR_VARCHAR_TYPE_STRING\":\"varchar(50)\"}",
         "name": "Name",
         "type": "\"string\""
        },
        {
         "metadata": "{}",
         "name": "Age",
         "type": "\"integer\""
        },
        {
         "metadata": "{}",
         "name": "DOB",
         "type": "\"date\""
        },
        {
         "metadata": "{\"__CHAR_VARCHAR_TYPE_STRING\":\"varchar(50)\"}",
         "name": "City",
         "type": "\"string\""
        },
        {
         "metadata": "{\"__CHAR_VARCHAR_TYPE_STRING\":\"varchar(50)\"}",
         "name": "District",
         "type": "\"string\""
        },
        {
         "metadata": "{\"__CHAR_VARCHAR_TYPE_STRING\":\"varchar(50)\"}",
         "name": "State",
         "type": "\"string\""
        },
        {
         "metadata": "{\"__CHAR_VARCHAR_TYPE_STRING\":\"varchar(50)\"}",
         "name": "Flag",
         "type": "\"string\""
        },
        {
         "metadata": "{}",
         "name": "Start_Date",
         "type": "\"timestamp\""
        },
        {
         "metadata": "{}",
         "name": "End_Date",
         "type": "\"timestamp\""
        }
       ],
       "type": "table"
      }
     },
     "output_type": "display_data"
    }
   ],
   "source": [
    "from delta.tables import DeltaTable\n",
    "\n",
    "# Load the Delta table\n",
    "target_table = DeltaTable.forPath(spark, '/delta/customer2')\n",
    "\n",
    "# Convert to DataFrame\n",
    "target_df = target_table.toDF()\n",
    "\n",
    "# Display the DataFrame in Databricks\n",
    "target_df.display()"
   ]
  },
  {
   "cell_type": "code",
   "execution_count": 0,
   "metadata": {
    "application/vnd.databricks.v1+cell": {
     "cellMetadata": {
      "byteLimit": 2048000,
      "rowLimit": 10000
     },
     "inputWidgets": {},
     "nuid": "f3f9669c-c7e8-4aa2-8dc2-309426b95e79",
     "showTitle": false,
     "title": ""
    }
   },
   "outputs": [
    {
     "output_type": "display_data",
     "data": {
      "text/html": [
       "<style scoped>\n",
       "  .table-result-container {\n",
       "    max-height: 300px;\n",
       "    overflow: auto;\n",
       "  }\n",
       "  table, th, td {\n",
       "    border: 1px solid black;\n",
       "    border-collapse: collapse;\n",
       "  }\n",
       "  th, td {\n",
       "    padding: 5px;\n",
       "  }\n",
       "  th {\n",
       "    text-align: left;\n",
       "  }\n",
       "</style><div class='table-result-container'><table class='table-result'><thead style='background-color: white'><tr><th>Id</th><th>Name</th><th>Age</th><th>DOB</th><th>City</th><th>District</th><th>State</th><th>Last_Modified</th></tr></thead><tbody><tr><td>1</td><td>Ajimal</td><td>23</td><td>2001-07-01</td><td>Mylode</td><td>Kanyakumari</td><td>TamilNadu</td><td>2024-08-11</td></tr><tr><td>2</td><td>Jervin</td><td>23</td><td>2001-10-03</td><td>Mylode</td><td>Kanyakumari</td><td>TamilNadu</td><td>2024-08-11</td></tr><tr><td>6</td><td>Aravindh</td><td>22</td><td>2001-03-31</td><td>TM Palayam</td><td>Coimbatore</td><td>TamilNadu</td><td>2024-08-11</td></tr><tr><td>7</td><td>Pavithran</td><td>24</td><td>2000-11-20</td><td>Serupanacheri</td><td>Chennai</td><td>TamilNadu</td><td>2024-08-11</td></tr></tbody></table></div>"
      ]
     },
     "metadata": {
      "application/vnd.databricks.v1+output": {
       "addedWidgets": {},
       "aggData": [],
       "aggError": "",
       "aggOverflow": false,
       "aggSchema": [],
       "aggSeriesLimitReached": false,
       "aggType": "",
       "arguments": {},
       "columnCustomDisplayInfos": {},
       "data": [
        [
         1,
         "Ajimal",
         23,
         "2001-07-01",
         "Mylode",
         "Kanyakumari",
         "TamilNadu",
         "2024-08-11"
        ],
        [
         2,
         "Jervin",
         23,
         "2001-10-03",
         "Mylode",
         "Kanyakumari",
         "TamilNadu",
         "2024-08-11"
        ],
        [
         6,
         "Aravindh",
         22,
         "2001-03-31",
         "TM Palayam",
         "Coimbatore",
         "TamilNadu",
         "2024-08-11"
        ],
        [
         7,
         "Pavithran",
         24,
         "2000-11-20",
         "Serupanacheri",
         "Chennai",
         "TamilNadu",
         "2024-08-11"
        ]
       ],
       "datasetInfos": [],
       "dbfsResultPath": null,
       "isJsonSchema": true,
       "metadata": {},
       "overflow": false,
       "plotOptions": {
        "customPlotOptions": {},
        "displayType": "table",
        "pivotAggregation": null,
        "pivotColumns": null,
        "xColumns": null,
        "yColumns": null
       },
       "removedWidgets": [],
       "schema": [
        {
         "metadata": "{}",
         "name": "Id",
         "type": "\"integer\""
        },
        {
         "metadata": "{}",
         "name": "Name",
         "type": "\"string\""
        },
        {
         "metadata": "{}",
         "name": "Age",
         "type": "\"integer\""
        },
        {
         "metadata": "{}",
         "name": "DOB",
         "type": "\"date\""
        },
        {
         "metadata": "{}",
         "name": "City",
         "type": "\"string\""
        },
        {
         "metadata": "{}",
         "name": "District",
         "type": "\"string\""
        },
        {
         "metadata": "{}",
         "name": "State",
         "type": "\"string\""
        },
        {
         "metadata": "{}",
         "name": "Last_Modified",
         "type": "\"date\""
        }
       ],
       "type": "table"
      }
     },
     "output_type": "display_data"
    }
   ],
   "source": [
    "# Import necessary datatype \n",
    "from pyspark.sql.functions import *\n",
    "from pyspark.sql.types import *\n",
    "from datetime import *\n",
    "\n",
    "# Create schema for streaming data\n",
    "schema = StructType(\n",
    "    [StructField('Id', IntegerType(), True),\n",
    "    StructField('Name', StringType(), True),\n",
    "    StructField('Age', IntegerType(), True),\n",
    "    StructField('DOB', DateType(), True),\n",
    "    StructField('City', StringType(), True),\n",
    "    StructField('District', StringType(), True),\n",
    "    StructField('State', StringType(), True),\n",
    "    StructField('Last_Modified', DateType(), True)]\n",
    ")\n",
    "\n",
    "# Data\n",
    "data1 = [\n",
    "    (1, 'Ajimal', 23, date(2001,7,1), 'Mylode', 'Kanyakumari', 'TamilNadu', date(2024,8,11)),\n",
    "    (2, 'Jervin', 23, date(2001,10,3), 'Mylode', 'Kanyakumari', 'TamilNadu', date(2024,8,11)),\n",
    "    (6, 'Aravindh', 22, date(2001,3,31), 'TM Palayam', 'Coimbatore', 'TamilNadu', date(2024,8,11)),\n",
    "    (7, 'Pavithran', 24, date(2000,11,20), 'Serupanacheri', 'Chennai', 'TamilNadu', date(2024,8,11))\n",
    "    ]\n",
    "\n",
    "incoming_1 = spark.createDataFrame(data1, schema)\n",
    "incoming_1.display()"
   ]
  },
  {
   "cell_type": "code",
   "execution_count": 0,
   "metadata": {
    "application/vnd.databricks.v1+cell": {
     "cellMetadata": {
      "byteLimit": 2048000,
      "rowLimit": 10000
     },
     "inputWidgets": {},
     "nuid": "f13dbdaa-ed7e-4ec9-ae4d-d2958ce9f3b5",
     "showTitle": false,
     "title": ""
    }
   },
   "outputs": [
    {
     "output_type": "display_data",
     "data": {
      "text/html": [
       "<style scoped>\n",
       "  .table-result-container {\n",
       "    max-height: 300px;\n",
       "    overflow: auto;\n",
       "  }\n",
       "  table, th, td {\n",
       "    border: 1px solid black;\n",
       "    border-collapse: collapse;\n",
       "  }\n",
       "  th, td {\n",
       "    padding: 5px;\n",
       "  }\n",
       "  th {\n",
       "    text-align: left;\n",
       "  }\n",
       "</style><div class='table-result-container'><table class='table-result'><thead style='background-color: white'><tr><th>Id</th><th>Name</th><th>Age</th><th>DOB</th><th>City</th><th>District</th><th>State</th><th>Last_Modified</th></tr></thead><tbody><tr><td>1</td><td>Ajimal</td><td>22</td><td>2001-07-01</td><td>Mylode</td><td>Kanyakumari</td><td>TamilNadu</td><td>2024-08-12</td></tr><tr><td>2</td><td>Jervin</td><td>20</td><td>2001-10-03</td><td>Mylode</td><td>Kanyakumari</td><td>TamilNadu</td><td>2024-08-12</td></tr><tr><td>8</td><td>Nitish</td><td>22</td><td>2001-05-31</td><td>Tirunelveli</td><td>Tirunelveli</td><td>TamilNadu</td><td>2024-08-12</td></tr></tbody></table></div>"
      ]
     },
     "metadata": {
      "application/vnd.databricks.v1+output": {
       "addedWidgets": {},
       "aggData": [],
       "aggError": "",
       "aggOverflow": false,
       "aggSchema": [],
       "aggSeriesLimitReached": false,
       "aggType": "",
       "arguments": {},
       "columnCustomDisplayInfos": {},
       "data": [
        [
         1,
         "Ajimal",
         22,
         "2001-07-01",
         "Mylode",
         "Kanyakumari",
         "TamilNadu",
         "2024-08-12"
        ],
        [
         2,
         "Jervin",
         20,
         "2001-10-03",
         "Mylode",
         "Kanyakumari",
         "TamilNadu",
         "2024-08-12"
        ],
        [
         8,
         "Nitish",
         22,
         "2001-05-31",
         "Tirunelveli",
         "Tirunelveli",
         "TamilNadu",
         "2024-08-12"
        ]
       ],
       "datasetInfos": [],
       "dbfsResultPath": null,
       "isJsonSchema": true,
       "metadata": {},
       "overflow": false,
       "plotOptions": {
        "customPlotOptions": {},
        "displayType": "table",
        "pivotAggregation": null,
        "pivotColumns": null,
        "xColumns": null,
        "yColumns": null
       },
       "removedWidgets": [],
       "schema": [
        {
         "metadata": "{}",
         "name": "Id",
         "type": "\"integer\""
        },
        {
         "metadata": "{}",
         "name": "Name",
         "type": "\"string\""
        },
        {
         "metadata": "{}",
         "name": "Age",
         "type": "\"integer\""
        },
        {
         "metadata": "{}",
         "name": "DOB",
         "type": "\"date\""
        },
        {
         "metadata": "{}",
         "name": "City",
         "type": "\"string\""
        },
        {
         "metadata": "{}",
         "name": "District",
         "type": "\"string\""
        },
        {
         "metadata": "{}",
         "name": "State",
         "type": "\"string\""
        },
        {
         "metadata": "{}",
         "name": "Last_Modified",
         "type": "\"date\""
        }
       ],
       "type": "table"
      }
     },
     "output_type": "display_data"
    }
   ],
   "source": [
    "# Data\n",
    "data2 = [\n",
    "    (1, 'Ajimal', 22, date(2001,7,1), 'Mylode', 'Kanyakumari', 'TamilNadu', date(2024,8,12)),\n",
    "    (2, 'Jervin', 20, date(2001,10,3), 'Mylode', 'Kanyakumari', 'TamilNadu', date(2024,8,12)),\n",
    "    (8, 'Nitish', 22, date(2001,5,31), 'Tirunelveli', 'Tirunelveli', 'TamilNadu', date(2024,8,12))\n",
    "    ]\n",
    "\n",
    "incoming_2 = spark.createDataFrame(data2, schema)\n",
    "incoming_2.display()"
   ]
  },
  {
   "cell_type": "code",
   "execution_count": 0,
   "metadata": {
    "application/vnd.databricks.v1+cell": {
     "cellMetadata": {
      "byteLimit": 2048000,
      "rowLimit": 10000
     },
     "inputWidgets": {},
     "nuid": "33c50e1e-8c21-48f6-b558-75619eb01545",
     "showTitle": false,
     "title": ""
    }
   },
   "outputs": [
    {
     "output_type": "display_data",
     "data": {
      "text/html": [
       "<style scoped>\n",
       "  .table-result-container {\n",
       "    max-height: 300px;\n",
       "    overflow: auto;\n",
       "  }\n",
       "  table, th, td {\n",
       "    border: 1px solid black;\n",
       "    border-collapse: collapse;\n",
       "  }\n",
       "  th, td {\n",
       "    padding: 5px;\n",
       "  }\n",
       "  th {\n",
       "    text-align: left;\n",
       "  }\n",
       "</style><div class='table-result-container'><table class='table-result'><thead style='background-color: white'><tr><th>Id</th><th>Name</th><th>Age</th><th>DOB</th><th>City</th><th>District</th><th>State</th><th>Last_Modified</th></tr></thead><tbody><tr><td>8</td><td>Nitish</td><td>23</td><td>2001-05-31</td><td>Tirunelveli</td><td>Tirunelveli</td><td>TamilNadu</td><td>2024-08-13</td></tr><tr><td>9</td><td>Abishake</td><td>20</td><td>2003-07-01</td><td>Mylode</td><td>Kanyakumari</td><td>TamilNadu</td><td>2024-08-13</td></tr></tbody></table></div>"
      ]
     },
     "metadata": {
      "application/vnd.databricks.v1+output": {
       "addedWidgets": {},
       "aggData": [],
       "aggError": "",
       "aggOverflow": false,
       "aggSchema": [],
       "aggSeriesLimitReached": false,
       "aggType": "",
       "arguments": {},
       "columnCustomDisplayInfos": {},
       "data": [
        [
         8,
         "Nitish",
         23,
         "2001-05-31",
         "Tirunelveli",
         "Tirunelveli",
         "TamilNadu",
         "2024-08-13"
        ],
        [
         9,
         "Abishake",
         20,
         "2003-07-01",
         "Mylode",
         "Kanyakumari",
         "TamilNadu",
         "2024-08-13"
        ]
       ],
       "datasetInfos": [],
       "dbfsResultPath": null,
       "isJsonSchema": true,
       "metadata": {},
       "overflow": false,
       "plotOptions": {
        "customPlotOptions": {},
        "displayType": "table",
        "pivotAggregation": null,
        "pivotColumns": null,
        "xColumns": null,
        "yColumns": null
       },
       "removedWidgets": [],
       "schema": [
        {
         "metadata": "{}",
         "name": "Id",
         "type": "\"integer\""
        },
        {
         "metadata": "{}",
         "name": "Name",
         "type": "\"string\""
        },
        {
         "metadata": "{}",
         "name": "Age",
         "type": "\"integer\""
        },
        {
         "metadata": "{}",
         "name": "DOB",
         "type": "\"date\""
        },
        {
         "metadata": "{}",
         "name": "City",
         "type": "\"string\""
        },
        {
         "metadata": "{}",
         "name": "District",
         "type": "\"string\""
        },
        {
         "metadata": "{}",
         "name": "State",
         "type": "\"string\""
        },
        {
         "metadata": "{}",
         "name": "Last_Modified",
         "type": "\"date\""
        }
       ],
       "type": "table"
      }
     },
     "output_type": "display_data"
    }
   ],
   "source": [
    "# Data\n",
    "data3 = [\n",
    "    (8, 'Nitish', 23, date(2001,5,31), 'Tirunelveli', 'Tirunelveli', 'TamilNadu', date(2024,8,13)),\n",
    "    (9, 'Abishake', 20, date(2003,7,1), 'Mylode', 'Kanyakumari', 'TamilNadu', date(2024,8,13))\n",
    "    ]\n",
    "\n",
    "incoming_3 = spark.createDataFrame(data3, schema)\n",
    "incoming_3.display()"
   ]
  },
  {
   "cell_type": "code",
   "execution_count": 0,
   "metadata": {
    "application/vnd.databricks.v1+cell": {
     "cellMetadata": {
      "byteLimit": 2048000,
      "rowLimit": 10000
     },
     "inputWidgets": {},
     "nuid": "81b8dd74-490a-4351-887d-707aeb18cb75",
     "showTitle": false,
     "title": ""
    }
   },
   "outputs": [
    {
     "output_type": "display_data",
     "data": {
      "text/html": [
       "<style scoped>\n",
       "  .table-result-container {\n",
       "    max-height: 300px;\n",
       "    overflow: auto;\n",
       "  }\n",
       "  table, th, td {\n",
       "    border: 1px solid black;\n",
       "    border-collapse: collapse;\n",
       "  }\n",
       "  th, td {\n",
       "    padding: 5px;\n",
       "  }\n",
       "  th {\n",
       "    text-align: left;\n",
       "  }\n",
       "</style><div class='table-result-container'><table class='table-result'><thead style='background-color: white'><tr><th>Id</th><th>Name</th><th>Age</th><th>DOB</th><th>City</th><th>District</th><th>State</th><th>Last_Modified</th></tr></thead><tbody><tr><td>1</td><td>Ajimal</td><td>23</td><td>2001-07-01</td><td>Mylode</td><td>Kanyakumari</td><td>TamilNadu</td><td>2024-08-11</td></tr><tr><td>2</td><td>Jervin</td><td>23</td><td>2001-10-03</td><td>Mylode</td><td>Kanyakumari</td><td>TamilNadu</td><td>2024-08-11</td></tr><tr><td>6</td><td>Aravindh</td><td>22</td><td>2001-03-31</td><td>TM Palayam</td><td>Coimbatore</td><td>TamilNadu</td><td>2024-08-11</td></tr><tr><td>7</td><td>Pavithran</td><td>24</td><td>2000-11-20</td><td>Serupanacheri</td><td>Chennai</td><td>TamilNadu</td><td>2024-08-11</td></tr><tr><td>1</td><td>Ajimal</td><td>22</td><td>2001-07-01</td><td>Mylode</td><td>Kanyakumari</td><td>TamilNadu</td><td>2024-08-12</td></tr><tr><td>2</td><td>Jervin</td><td>20</td><td>2001-10-03</td><td>Mylode</td><td>Kanyakumari</td><td>TamilNadu</td><td>2024-08-12</td></tr><tr><td>8</td><td>Nitish</td><td>22</td><td>2001-05-31</td><td>Tirunelveli</td><td>Tirunelveli</td><td>TamilNadu</td><td>2024-08-12</td></tr><tr><td>8</td><td>Nitish</td><td>23</td><td>2001-05-31</td><td>Tirunelveli</td><td>Tirunelveli</td><td>TamilNadu</td><td>2024-08-13</td></tr><tr><td>9</td><td>Abishake</td><td>20</td><td>2003-07-01</td><td>Mylode</td><td>Kanyakumari</td><td>TamilNadu</td><td>2024-08-13</td></tr></tbody></table></div>"
      ]
     },
     "metadata": {
      "application/vnd.databricks.v1+output": {
       "addedWidgets": {},
       "aggData": [],
       "aggError": "",
       "aggOverflow": false,
       "aggSchema": [],
       "aggSeriesLimitReached": false,
       "aggType": "",
       "arguments": {},
       "columnCustomDisplayInfos": {},
       "data": [
        [
         1,
         "Ajimal",
         23,
         "2001-07-01",
         "Mylode",
         "Kanyakumari",
         "TamilNadu",
         "2024-08-11"
        ],
        [
         2,
         "Jervin",
         23,
         "2001-10-03",
         "Mylode",
         "Kanyakumari",
         "TamilNadu",
         "2024-08-11"
        ],
        [
         6,
         "Aravindh",
         22,
         "2001-03-31",
         "TM Palayam",
         "Coimbatore",
         "TamilNadu",
         "2024-08-11"
        ],
        [
         7,
         "Pavithran",
         24,
         "2000-11-20",
         "Serupanacheri",
         "Chennai",
         "TamilNadu",
         "2024-08-11"
        ],
        [
         1,
         "Ajimal",
         22,
         "2001-07-01",
         "Mylode",
         "Kanyakumari",
         "TamilNadu",
         "2024-08-12"
        ],
        [
         2,
         "Jervin",
         20,
         "2001-10-03",
         "Mylode",
         "Kanyakumari",
         "TamilNadu",
         "2024-08-12"
        ],
        [
         8,
         "Nitish",
         22,
         "2001-05-31",
         "Tirunelveli",
         "Tirunelveli",
         "TamilNadu",
         "2024-08-12"
        ],
        [
         8,
         "Nitish",
         23,
         "2001-05-31",
         "Tirunelveli",
         "Tirunelveli",
         "TamilNadu",
         "2024-08-13"
        ],
        [
         9,
         "Abishake",
         20,
         "2003-07-01",
         "Mylode",
         "Kanyakumari",
         "TamilNadu",
         "2024-08-13"
        ]
       ],
       "datasetInfos": [],
       "dbfsResultPath": null,
       "isJsonSchema": true,
       "metadata": {},
       "overflow": false,
       "plotOptions": {
        "customPlotOptions": {},
        "displayType": "table",
        "pivotAggregation": null,
        "pivotColumns": null,
        "xColumns": null,
        "yColumns": null
       },
       "removedWidgets": [],
       "schema": [
        {
         "metadata": "{}",
         "name": "Id",
         "type": "\"integer\""
        },
        {
         "metadata": "{}",
         "name": "Name",
         "type": "\"string\""
        },
        {
         "metadata": "{}",
         "name": "Age",
         "type": "\"integer\""
        },
        {
         "metadata": "{}",
         "name": "DOB",
         "type": "\"date\""
        },
        {
         "metadata": "{}",
         "name": "City",
         "type": "\"string\""
        },
        {
         "metadata": "{}",
         "name": "District",
         "type": "\"string\""
        },
        {
         "metadata": "{}",
         "name": "State",
         "type": "\"string\""
        },
        {
         "metadata": "{}",
         "name": "Last_Modified",
         "type": "\"date\""
        }
       ],
       "type": "table"
      }
     },
     "output_type": "display_data"
    }
   ],
   "source": [
    "# Union to get a single DataFrame\n",
    "source_df = incoming_1.union(incoming_2).union(incoming_3)\n",
    "source_df.display()"
   ]
  },
  {
   "cell_type": "code",
   "execution_count": 0,
   "metadata": {
    "application/vnd.databricks.v1+cell": {
     "cellMetadata": {
      "byteLimit": 2048000,
      "rowLimit": 10000
     },
     "inputWidgets": {},
     "nuid": "bd7dd46c-a5ea-4386-ab10-a502ca61e548",
     "showTitle": false,
     "title": ""
    }
   },
   "outputs": [
    {
     "output_type": "stream",
     "name": "stdout",
     "output_type": "stream",
     "text": [
      "[Row(Last_Modified=datetime.date(2024, 8, 11)), Row(Last_Modified=datetime.date(2024, 8, 12)), Row(Last_Modified=datetime.date(2024, 8, 13))]\n"
     ]
    }
   ],
   "source": [
    "# Get distinct Last_Modified dates\n",
    "DisDF = source_df.dropDuplicates([\"Last_Modified\"]).select(\"Last_Modified\").collect()\n",
    "print(DisDF)"
   ]
  },
  {
   "cell_type": "code",
   "execution_count": 0,
   "metadata": {
    "application/vnd.databricks.v1+cell": {
     "cellMetadata": {
      "byteLimit": 2048000,
      "rowLimit": 10000
     },
     "inputWidgets": {},
     "nuid": "976c10b7-e55c-496b-b48d-e3bcdde4f3df",
     "showTitle": false,
     "title": ""
    }
   },
   "outputs": [
    {
     "output_type": "stream",
     "name": "stdout",
     "output_type": "stream",
     "text": [
      "+---+--------+---+----------+-----------+-----------+---------+-------------+\n| Id|    Name|Age|       DOB|       City|   District|    State|Last_Modified|\n+---+--------+---+----------+-----------+-----------+---------+-------------+\n|  8|  Nitish| 23|2001-05-31|Tirunelveli|Tirunelveli|TamilNadu|   2024-08-13|\n|  9|Abishake| 20|2003-07-01|     Mylode|Kanyakumari|TamilNadu|   2024-08-13|\n+---+--------+---+----------+-----------+-----------+---------+-------------+\n\n"
     ]
    }
   ],
   "source": [
    "# Checking \n",
    "df = source_df.filter(source_df.Last_Modified == '2024-08-13')\n",
    "df.show()"
   ]
  },
  {
   "cell_type": "code",
   "execution_count": 0,
   "metadata": {
    "application/vnd.databricks.v1+cell": {
     "cellMetadata": {
      "byteLimit": 2048000,
      "rowLimit": 10000
     },
     "inputWidgets": {},
     "nuid": "72a31738-6c55-43e1-820e-501c0f81f973",
     "showTitle": false,
     "title": ""
    }
   },
   "outputs": [
    {
     "output_type": "stream",
     "name": "stdout",
     "output_type": "stream",
     "text": [
      "2024-08-11\n+---+---------+---+----------+-------------+-----------+---------+-------------+\n| Id|     Name|Age|       DOB|         City|   District|    State|Last_Modified|\n+---+---------+---+----------+-------------+-----------+---------+-------------+\n|  1|   Ajimal| 23|2001-07-01|       Mylode|Kanyakumari|TamilNadu|   2024-08-11|\n|  2|   Jervin| 23|2001-10-03|       Mylode|Kanyakumari|TamilNadu|   2024-08-11|\n|  6| Aravindh| 22|2001-03-31|   TM Palayam| Coimbatore|TamilNadu|   2024-08-11|\n|  7|Pavithran| 24|2000-11-20|Serupanacheri|    Chennai|TamilNadu|   2024-08-11|\n+---+---------+---+----------+-------------+-----------+---------+-------------+\n\n2024-08-12\n+---+------+---+----------+-----------+-----------+---------+-------------+\n| Id|  Name|Age|       DOB|       City|   District|    State|Last_Modified|\n+---+------+---+----------+-----------+-----------+---------+-------------+\n|  1|Ajimal| 22|2001-07-01|     Mylode|Kanyakumari|TamilNadu|   2024-08-12|\n|  2|Jervin| 20|2001-10-03|     Mylode|Kanyakumari|TamilNadu|   2024-08-12|\n|  8|Nitish| 22|2001-05-31|Tirunelveli|Tirunelveli|TamilNadu|   2024-08-12|\n+---+------+---+----------+-----------+-----------+---------+-------------+\n\n2024-08-13\n+---+--------+---+----------+-----------+-----------+---------+-------------+\n| Id|    Name|Age|       DOB|       City|   District|    State|Last_Modified|\n+---+--------+---+----------+-----------+-----------+---------+-------------+\n|  8|  Nitish| 23|2001-05-31|Tirunelveli|Tirunelveli|TamilNadu|   2024-08-13|\n|  9|Abishake| 20|2003-07-01|     Mylode|Kanyakumari|TamilNadu|   2024-08-13|\n+---+--------+---+----------+-----------+-----------+---------+-------------+\n\n"
     ]
    }
   ],
   "source": [
    "# Looping through dates\n",
    "for i in DisDF:\n",
    "    print(i.Last_Modified)\n",
    "    df = source_df.filter(source_df.Last_Modified == i.Last_Modified)\n",
    "    df.show()"
   ]
  },
  {
   "cell_type": "code",
   "execution_count": 0,
   "metadata": {
    "application/vnd.databricks.v1+cell": {
     "cellMetadata": {
      "byteLimit": 2048000,
      "rowLimit": 10000
     },
     "inputWidgets": {},
     "nuid": "1b216abe-9972-482d-b5c4-04e174cb963b",
     "showTitle": false,
     "title": ""
    }
   },
   "outputs": [],
   "source": [
    "# Get distinct Last_Modified dates\n",
    "dis_df = source_df.dropDuplicates([\"Last_Modified\"]).select(\"Last_Modified\").collect()\n",
    "\n",
    "for i in dis_df:\n",
    "    # Filter data for the current Last_Modified date\n",
    "    filter_df = source_df.filter(source_df.Last_Modified == i.Last_Modified)\n",
    "    \n",
    "    # Join filtered data with the target table on ID and Flag = 'Y'\n",
    "    join_df = filter_df.join(target_table.toDF(), \n",
    "                                (filter_df.Id == target_table.toDF().Id) & \n",
    "                                (target_table.toDF().Flag == \"Y\"), \n",
    "                                \"leftouter\")\\\n",
    "                          .select(filter_df.Id, \n",
    "                                  filter_df.Name, \n",
    "                                  filter_df.Age,\n",
    "                                  filter_df.DOB,\n",
    "                                  filter_df.City, \n",
    "                                  filter_df.District,\n",
    "                                  filter_df.State, \n",
    "                                  target_table.toDF().Id.alias('T_Id'),\n",
    "                                  target_table.toDF().Name.alias('T_Name'),\n",
    "                                  target_table.toDF().Age.alias('T_Age'),\n",
    "                                  target_table.toDF().DOB.alias('T_DOB'),\n",
    "                                  target_table.toDF().City.alias('T_City'),\n",
    "                                  target_table.toDF().District.alias('T_District'),\n",
    "                                  target_table.toDF().State.alias('T_State'))\n",
    "    \n",
    "    # Filter the modified joined data using hash value\n",
    "    filter_df = join_df.filter(xxhash64(join_df.Id, join_df.Name, join_df.Age, join_df.DOB, join_df.City, join_df.District, join_df.State) != \n",
    "                               xxhash64(join_df.T_Id, join_df.T_Name, join_df.T_Age, join_df.T_DOB, join_df.T_City, join_df.T_District, join_df.T_State))\n",
    "    \n",
    "    # Create a merge key column\n",
    "    mergekey_df = filter_df.withColumn(\"Merge_Key\", filter_df.Id)\n",
    "    \n",
    "    # Create a dummy record for existing records\n",
    "    dummy_df = mergekey_df.filter(\"T_Id is not null\").withColumn(\"Merge_Key\", lit(None))\n",
    "    \n",
    "    # Union the dummy record with the filtered record\n",
    "    main_df = mergekey_df.union(dummy_df)\n",
    "    \n",
    "    # Merge the data frame into the target table\n",
    "    target_table.alias(\"t\").merge(\n",
    "        source=main_df.alias(\"s\"),\n",
    "        condition=\"t.Id = s.Merge_Key\"\n",
    "    ).whenMatchedUpdate(\n",
    "        condition=\"t.Flag = 'Y'\",\n",
    "        set={\n",
    "            \"t.Flag\": lit(\"N\"),\n",
    "            \"t.End_Date\": current_timestamp()\n",
    "        }\n",
    "    ).whenNotMatchedInsert(\n",
    "        values={\n",
    "            \"Id\": \"s.Id\",\n",
    "            \"Name\": \"s.Name\",\n",
    "            \"Age\": \"s.Age\",\n",
    "            \"DOB\": \"s.DOB\",\n",
    "            \"City\": \"s.City\",\n",
    "            \"District\": \"s.District\",\n",
    "            \"State\": \"s.State\",\n",
    "            \"Flag\": lit(\"Y\"),\n",
    "            \"Start_Date\": current_timestamp(),\n",
    "            \"End_Date\": lit(\"9999-12-31\")\n",
    "        }\n",
    "    ).execute()\n"
   ]
  },
  {
   "cell_type": "code",
   "execution_count": 0,
   "metadata": {
    "application/vnd.databricks.v1+cell": {
     "cellMetadata": {
      "byteLimit": 2048000,
      "rowLimit": 10000
     },
     "inputWidgets": {},
     "nuid": "5e7419e1-2799-47f7-92e0-a443edf87fbe",
     "showTitle": false,
     "title": ""
    }
   },
   "outputs": [
    {
     "output_type": "stream",
     "name": "stdout",
     "output_type": "stream",
     "text": [
      "+---+---------+---+----------+-------------+-----------+---------+----+--------------------+--------------------+\n| Id|     Name|Age|       DOB|         City|   District|    State|Flag|          Start_Date|            End_Date|\n+---+---------+---+----------+-------------+-----------+---------+----+--------------------+--------------------+\n|  1|   Ajimal| 23|2001-07-01|         Gobi|      Erode|TamilNadu|   N|2024-08-12 04:40:...|2024-08-12 04:40:...|\n|  1|   Ajimal| 23|2001-07-01|       Mylode|Kanyakumari|TamilNadu|   N|2024-08-12 04:40:...|2024-08-12 04:40:...|\n|  1|   Ajimal| 22|2001-07-01|       Mylode|Kanyakumari|TamilNadu|   Y|2024-08-12 04:40:...| 9999-12-31 00:00:00|\n|  2|   Jervin| 23|2001-10-03|       Mylode|Kanyakumari|TamilNadu|   N|2024-08-12 04:40:...|2024-08-12 04:40:...|\n|  2|   Jervin| 20|2001-10-03|       Mylode|Kanyakumari|TamilNadu|   Y|2024-08-12 04:40:...| 9999-12-31 00:00:00|\n|  3|   Bergin| 24|2000-01-20|     Pollachi| Coimbatore|TamilNadu|   Y|2024-08-12 04:40:...| 9999-12-31 00:00:00|\n|  4| Nishanth| 24|2000-11-25|     Tambaram|    Chennai|TamilNadu|   Y|2024-08-12 04:40:...| 9999-12-31 00:00:00|\n|  5|  Vasanth| 24|2001-03-14|   Poonamalle|    Chennai|TamilNadu|   Y|2024-08-12 04:40:...| 9999-12-31 00:00:00|\n|  6| Aravindh| 22|2001-03-31|   TM Palayam| Coimbatore|TamilNadu|   Y|2024-08-12 04:40:...| 9999-12-31 00:00:00|\n|  7|Pavithran| 24|2000-11-20|Serupanacheri|    Chennai|TamilNadu|   Y|2024-08-12 04:40:...| 9999-12-31 00:00:00|\n|  8|   Nitish| 22|2001-05-31|  Tirunelveli|Tirunelveli|TamilNadu|   N|2024-08-12 04:40:...|2024-08-12 04:40:...|\n|  8|   Nitish| 23|2001-05-31|  Tirunelveli|Tirunelveli|TamilNadu|   Y|2024-08-12 04:40:...| 9999-12-31 00:00:00|\n|  9| Abishake| 20|2003-07-01|       Mylode|Kanyakumari|TamilNadu|   Y|2024-08-12 04:40:...| 9999-12-31 00:00:00|\n+---+---------+---+----------+-------------+-----------+---------+----+--------------------+--------------------+\n\n"
     ]
    }
   ],
   "source": [
    "spark.sql('select * from customer2 order by id').show()"
   ]
  },
  {
   "cell_type": "code",
   "execution_count": 0,
   "metadata": {
    "application/vnd.databricks.v1+cell": {
     "cellMetadata": {
      "byteLimit": 2048000,
      "rowLimit": 10000
     },
     "inputWidgets": {},
     "nuid": "1cdf1374-9584-4ec4-a98f-ead901007526",
     "showTitle": false,
     "title": ""
    }
   },
   "outputs": [],
   "source": [
    "ls  -l /tmp #for finding tmp folder"
   ]
  },
  {
   "cell_type": "code",
   "execution_count": 0,
   "metadata": {
    "application/vnd.databricks.v1+cell": {
     "cellMetadata": {
      "byteLimit": 2048000,
      "rowLimit": 10000
     },
     "inputWidgets": {},
     "nuid": "d849985c-cca2-40cc-aef9-ba700442175f",
     "showTitle": false,
     "title": ""
    }
   },
   "outputs": [],
   "source": []
  },
  {
   "cell_type": "code",
   "execution_count": 0,
   "metadata": {
    "application/vnd.databricks.v1+cell": {
     "cellMetadata": {
      "byteLimit": 2048000,
      "rowLimit": 10000
     },
     "inputWidgets": {},
     "nuid": "5c331503-85d0-4152-b08b-dc90ee663e1f",
     "showTitle": false,
     "title": ""
    }
   },
   "outputs": [],
   "source": []
  }
 ],
 "metadata": {
  "application/vnd.databricks.v1+notebook": {
   "dashboards": [],
   "environmentMetadata": null,
   "language": "python",
   "notebookMetadata": {
    "mostRecentlyExecutedCommandWithImplicitDF": {
     "commandId": 1383121634543644,
     "dataframes": [
      "_sqldf"
     ]
    },
    "pythonIndentUnit": 4
   },
   "notebookName": "Incremental_Refresh_For_2_Same_Id",
   "widgets": {}
  }
 },
 "nbformat": 4,
 "nbformat_minor": 0
}
