{
 "cells": [
  {
   "cell_type": "markdown",
   "metadata": {
    "application/vnd.databricks.v1+cell": {
     "cellMetadata": {
      "byteLimit": 2048000,
      "rowLimit": 10000
     },
     "inputWidgets": {},
     "nuid": "ccb75747-4e6f-47d1-bd5f-bc1486688d3c",
     "showTitle": false,
     "title": ""
    }
   },
   "source": [
    "# Incremental Refresh In SCD Type 2 On Delta Table - Merge Method"
   ]
  },
  {
   "cell_type": "code",
   "execution_count": 0,
   "metadata": {
    "application/vnd.databricks.v1+cell": {
     "cellMetadata": {
      "byteLimit": 2048000,
      "rowLimit": 10000
     },
     "inputWidgets": {},
     "nuid": "172f475a-31ae-4572-ad49-88840425f3c1",
     "showTitle": false,
     "title": ""
    }
   },
   "outputs": [],
   "source": [
    "#Import session\n",
    "from pyspark.sql import SparkSession"
   ]
  },
  {
   "cell_type": "code",
   "execution_count": 0,
   "metadata": {
    "application/vnd.databricks.v1+cell": {
     "cellMetadata": {
      "byteLimit": 2048000,
      "implicitDf": true,
      "rowLimit": 10000
     },
     "inputWidgets": {},
     "nuid": "6627d64a-a0c0-43d4-a15e-f1f446aed5d5",
     "showTitle": false,
     "title": ""
    }
   },
   "outputs": [
    {
     "output_type": "display_data",
     "data": {
      "text/html": [
       "<style scoped>\n",
       "  .table-result-container {\n",
       "    max-height: 300px;\n",
       "    overflow: auto;\n",
       "  }\n",
       "  table, th, td {\n",
       "    border: 1px solid black;\n",
       "    border-collapse: collapse;\n",
       "  }\n",
       "  th, td {\n",
       "    padding: 5px;\n",
       "  }\n",
       "  th {\n",
       "    text-align: left;\n",
       "  }\n",
       "</style><div class='table-result-container'><table class='table-result'><thead style='background-color: white'><tr></tr></thead><tbody></tbody></table></div>"
      ]
     },
     "metadata": {
      "application/vnd.databricks.v1+output": {
       "addedWidgets": {},
       "aggData": [],
       "aggError": "",
       "aggOverflow": false,
       "aggSchema": [],
       "aggSeriesLimitReached": false,
       "aggType": "",
       "arguments": {},
       "columnCustomDisplayInfos": {},
       "data": [],
       "datasetInfos": [],
       "dbfsResultPath": null,
       "isJsonSchema": true,
       "metadata": {},
       "overflow": false,
       "plotOptions": {
        "customPlotOptions": {},
        "displayType": "table",
        "pivotAggregation": null,
        "pivotColumns": null,
        "xColumns": null,
        "yColumns": null
       },
       "removedWidgets": [],
       "schema": [],
       "type": "table"
      }
     },
     "output_type": "display_data"
    }
   ],
   "source": [
    "%sql\n",
    "drop table if exists customer;\n",
    "\n",
    "create table customer(\n",
    "  Customer_Id int,\n",
    "  Name varchar(50),\n",
    "  Age int,\n",
    "  DOB date,\n",
    "  City varchar(50),\n",
    "  District varchar(50),\n",
    "  State varchar(50),\n",
    "  Flag varchar(50),\n",
    "  Start_Date timestamp,\n",
    "  End_Date timestamp\n",
    ")\n",
    "using delta\n",
    "location '/delta/customer'"
   ]
  },
  {
   "cell_type": "code",
   "execution_count": 0,
   "metadata": {
    "application/vnd.databricks.v1+cell": {
     "cellMetadata": {
      "byteLimit": 2048000,
      "rowLimit": 10000
     },
     "inputWidgets": {},
     "nuid": "fd88ccf8-982a-45cb-a3f4-e48ccfde0f11",
     "showTitle": false,
     "title": ""
    }
   },
   "outputs": [
    {
     "output_type": "stream",
     "name": "stdout",
     "output_type": "stream",
     "text": [
      "Out[3]: DataFrame[num_affected_rows: bigint]"
     ]
    }
   ],
   "source": [
    "spark.sql('delete from customer')"
   ]
  },
  {
   "cell_type": "code",
   "execution_count": 0,
   "metadata": {
    "application/vnd.databricks.v1+cell": {
     "cellMetadata": {
      "byteLimit": 2048000,
      "rowLimit": 10000
     },
     "inputWidgets": {},
     "nuid": "9b83a694-e494-49ee-a9cf-03d0d72c6c20",
     "showTitle": false,
     "title": ""
    }
   },
   "outputs": [
    {
     "output_type": "stream",
     "name": "stdout",
     "output_type": "stream",
     "text": [
      "+-----------+----+---+---+----+--------+-----+----+----------+--------+\n|Customer_Id|Name|Age|DOB|City|District|State|Flag|Start_Date|End_Date|\n+-----------+----+---+---+----+--------+-----+----+----------+--------+\n+-----------+----+---+---+----+--------+-----+----+----------+--------+\n\n"
     ]
    }
   ],
   "source": [
    "spark.sql('select * from customer').show()"
   ]
  },
  {
   "cell_type": "code",
   "execution_count": 0,
   "metadata": {
    "application/vnd.databricks.v1+cell": {
     "cellMetadata": {
      "byteLimit": 2048000,
      "implicitDf": true,
      "rowLimit": 10000
     },
     "inputWidgets": {},
     "nuid": "68e2867f-a14a-4d97-b764-f8438e55100d",
     "showTitle": false,
     "title": ""
    }
   },
   "outputs": [
    {
     "output_type": "display_data",
     "data": {
      "text/html": [
       "<style scoped>\n",
       "  .table-result-container {\n",
       "    max-height: 300px;\n",
       "    overflow: auto;\n",
       "  }\n",
       "  table, th, td {\n",
       "    border: 1px solid black;\n",
       "    border-collapse: collapse;\n",
       "  }\n",
       "  th, td {\n",
       "    padding: 5px;\n",
       "  }\n",
       "  th {\n",
       "    text-align: left;\n",
       "  }\n",
       "</style><div class='table-result-container'><table class='table-result'><thead style='background-color: white'><tr><th>num_affected_rows</th><th>num_inserted_rows</th></tr></thead><tbody><tr><td>5</td><td>5</td></tr></tbody></table></div>"
      ]
     },
     "metadata": {
      "application/vnd.databricks.v1+output": {
       "addedWidgets": {},
       "aggData": [],
       "aggError": "",
       "aggOverflow": false,
       "aggSchema": [],
       "aggSeriesLimitReached": false,
       "aggType": "",
       "arguments": {},
       "columnCustomDisplayInfos": {},
       "data": [
        [
         5,
         5
        ]
       ],
       "datasetInfos": [],
       "dbfsResultPath": null,
       "isJsonSchema": true,
       "metadata": {},
       "overflow": false,
       "plotOptions": {
        "customPlotOptions": {},
        "displayType": "table",
        "pivotAggregation": null,
        "pivotColumns": null,
        "xColumns": null,
        "yColumns": null
       },
       "removedWidgets": [],
       "schema": [
        {
         "metadata": "{}",
         "name": "num_affected_rows",
         "type": "\"long\""
        },
        {
         "metadata": "{}",
         "name": "num_inserted_rows",
         "type": "\"long\""
        }
       ],
       "type": "table"
      }
     },
     "output_type": "display_data"
    }
   ],
   "source": [
    "%sql\n",
    "\n",
    "INSERT INTO customer (Customer_Id, Name, Age, DOB, City, District, State, Flag, Start_Date, End_Date) VALUES\n",
    "(1, 'Ajimal', 23, '2001-07-01', 'Gobi', 'Erode', 'TamilNadu', 'Y', current_timestamp(), '9999-12-31'),\n",
    "(2, 'Jervin', 23, '2001-10-03', 'Mylode', 'Kanyakumari', 'TamilNadu', 'Y', current_timestamp(), '9999-12-31'),\n",
    "(3, 'Bergin', 24, '2000-01-20', 'Pollachi', 'Coimbatore', 'TamilNadu', 'Y', current_timestamp(), '9999-12-31'),\n",
    "(4, 'Nishanth', 24, '2000-11-25', 'Tambaram', 'Chennai', 'TamilNadu', 'Y', current_timestamp(), '9999-12-31'),\n",
    "(5, 'Vasanth', 24, '2001-03-14', 'Poonamalle', 'Chennai', 'TamilNadu', 'Y', current_timestamp(), '9999-12-31');\n"
   ]
  },
  {
   "cell_type": "code",
   "execution_count": 0,
   "metadata": {
    "application/vnd.databricks.v1+cell": {
     "cellMetadata": {
      "byteLimit": 2048000,
      "rowLimit": 10000
     },
     "inputWidgets": {},
     "nuid": "c7215964-730e-424f-9aa7-db623b8a9fc8",
     "showTitle": false,
     "title": ""
    }
   },
   "outputs": [
    {
     "output_type": "display_data",
     "data": {
      "text/html": [
       "<style scoped>\n",
       "  .table-result-container {\n",
       "    max-height: 300px;\n",
       "    overflow: auto;\n",
       "  }\n",
       "  table, th, td {\n",
       "    border: 1px solid black;\n",
       "    border-collapse: collapse;\n",
       "  }\n",
       "  th, td {\n",
       "    padding: 5px;\n",
       "  }\n",
       "  th {\n",
       "    text-align: left;\n",
       "  }\n",
       "</style><div class='table-result-container'><table class='table-result'><thead style='background-color: white'><tr><th>Customer_Id</th><th>Name</th><th>Age</th><th>DOB</th><th>City</th><th>District</th><th>State</th><th>Flag</th><th>Start_Date</th><th>End_Date</th></tr></thead><tbody><tr><td>1</td><td>Ajimal</td><td>23</td><td>2001-07-01</td><td>Gobi</td><td>Erode</td><td>TamilNadu</td><td>Y</td><td>2024-08-10T05:04:06.372+0000</td><td>9999-12-31T00:00:00.000+0000</td></tr><tr><td>2</td><td>Jervin</td><td>23</td><td>2001-10-03</td><td>Mylode</td><td>Kanyakumari</td><td>TamilNadu</td><td>Y</td><td>2024-08-10T05:04:06.372+0000</td><td>9999-12-31T00:00:00.000+0000</td></tr><tr><td>3</td><td>Bergin</td><td>24</td><td>2000-01-20</td><td>Pollachi</td><td>Coimbatore</td><td>TamilNadu</td><td>Y</td><td>2024-08-10T05:04:06.372+0000</td><td>9999-12-31T00:00:00.000+0000</td></tr><tr><td>4</td><td>Nishanth</td><td>24</td><td>2000-11-25</td><td>Tambaram</td><td>Chennai</td><td>TamilNadu</td><td>Y</td><td>2024-08-10T05:04:06.372+0000</td><td>9999-12-31T00:00:00.000+0000</td></tr><tr><td>5</td><td>Vasanth</td><td>24</td><td>2001-03-14</td><td>Poonamalle</td><td>Chennai</td><td>TamilNadu</td><td>Y</td><td>2024-08-10T05:04:06.372+0000</td><td>9999-12-31T00:00:00.000+0000</td></tr></tbody></table></div>"
      ]
     },
     "metadata": {
      "application/vnd.databricks.v1+output": {
       "addedWidgets": {},
       "aggData": [],
       "aggError": "",
       "aggOverflow": false,
       "aggSchema": [],
       "aggSeriesLimitReached": false,
       "aggType": "",
       "arguments": {},
       "columnCustomDisplayInfos": {},
       "data": [
        [
         1,
         "Ajimal",
         23,
         "2001-07-01",
         "Gobi",
         "Erode",
         "TamilNadu",
         "Y",
         "2024-08-10T05:04:06.372+0000",
         "9999-12-31T00:00:00.000+0000"
        ],
        [
         2,
         "Jervin",
         23,
         "2001-10-03",
         "Mylode",
         "Kanyakumari",
         "TamilNadu",
         "Y",
         "2024-08-10T05:04:06.372+0000",
         "9999-12-31T00:00:00.000+0000"
        ],
        [
         3,
         "Bergin",
         24,
         "2000-01-20",
         "Pollachi",
         "Coimbatore",
         "TamilNadu",
         "Y",
         "2024-08-10T05:04:06.372+0000",
         "9999-12-31T00:00:00.000+0000"
        ],
        [
         4,
         "Nishanth",
         24,
         "2000-11-25",
         "Tambaram",
         "Chennai",
         "TamilNadu",
         "Y",
         "2024-08-10T05:04:06.372+0000",
         "9999-12-31T00:00:00.000+0000"
        ],
        [
         5,
         "Vasanth",
         24,
         "2001-03-14",
         "Poonamalle",
         "Chennai",
         "TamilNadu",
         "Y",
         "2024-08-10T05:04:06.372+0000",
         "9999-12-31T00:00:00.000+0000"
        ]
       ],
       "datasetInfos": [],
       "dbfsResultPath": null,
       "isJsonSchema": true,
       "metadata": {},
       "overflow": false,
       "plotOptions": {
        "customPlotOptions": {},
        "displayType": "table",
        "pivotAggregation": null,
        "pivotColumns": null,
        "xColumns": null,
        "yColumns": null
       },
       "removedWidgets": [],
       "schema": [
        {
         "metadata": "{}",
         "name": "Customer_Id",
         "type": "\"integer\""
        },
        {
         "metadata": "{\"__CHAR_VARCHAR_TYPE_STRING\":\"varchar(50)\"}",
         "name": "Name",
         "type": "\"string\""
        },
        {
         "metadata": "{}",
         "name": "Age",
         "type": "\"integer\""
        },
        {
         "metadata": "{}",
         "name": "DOB",
         "type": "\"date\""
        },
        {
         "metadata": "{\"__CHAR_VARCHAR_TYPE_STRING\":\"varchar(50)\"}",
         "name": "City",
         "type": "\"string\""
        },
        {
         "metadata": "{\"__CHAR_VARCHAR_TYPE_STRING\":\"varchar(50)\"}",
         "name": "District",
         "type": "\"string\""
        },
        {
         "metadata": "{\"__CHAR_VARCHAR_TYPE_STRING\":\"varchar(50)\"}",
         "name": "State",
         "type": "\"string\""
        },
        {
         "metadata": "{\"__CHAR_VARCHAR_TYPE_STRING\":\"varchar(50)\"}",
         "name": "Flag",
         "type": "\"string\""
        },
        {
         "metadata": "{}",
         "name": "Start_Date",
         "type": "\"timestamp\""
        },
        {
         "metadata": "{}",
         "name": "End_Date",
         "type": "\"timestamp\""
        }
       ],
       "type": "table"
      }
     },
     "output_type": "display_data"
    }
   ],
   "source": [
    "from delta.tables import DeltaTable\n",
    "\n",
    "# Load the Delta table\n",
    "target_table = DeltaTable.forPath(spark, '/delta/customer')\n",
    "\n",
    "# Convert to DataFrame\n",
    "target_df = target_table.toDF()\n",
    "\n",
    "# Display the DataFrame in Databricks\n",
    "target_df.display()\n"
   ]
  },
  {
   "cell_type": "code",
   "execution_count": 0,
   "metadata": {
    "application/vnd.databricks.v1+cell": {
     "cellMetadata": {
      "byteLimit": 2048000,
      "rowLimit": 10000
     },
     "inputWidgets": {},
     "nuid": "9b86f375-5e1a-4081-8718-ea85e5190e68",
     "showTitle": false,
     "title": ""
    }
   },
   "outputs": [
    {
     "output_type": "stream",
     "name": "stdout",
     "output_type": "stream",
     "text": [
      "+-----------+---------+---+----------+-------------+-----------+---------+\n|Customer_Id|     Name|Age|       DOB|         City|   District|    State|\n+-----------+---------+---+----------+-------------+-----------+---------+\n|          1|   Ajimal| 23|2001-07-01|       Mylode|Kanyakumari|TamilNadu|\n|          2|   Jervin| 23|2001-10-03|       Mylode|Kanyakumari|TamilNadu|\n|          6| Aravindh| 22|2001-03-31|   TM Palayam| Coimbatore|TamilNadu|\n|          7|Pavithran| 24|2000-11-20|Serupanacheri|    Chennai|TamilNadu|\n+-----------+---------+---+----------+-------------+-----------+---------+\n\n"
     ]
    }
   ],
   "source": [
    "#Import necessary datatype \n",
    "from pyspark.sql.functions import *\n",
    "from pyspark.sql.types import *\n",
    "from datetime import *\n",
    "\n",
    "#Create schema for streaming data\n",
    "schema = StructType(\n",
    "    [StructField('Customer_Id', IntegerType(), True),\n",
    "    StructField('Name', StringType(), True),\n",
    "    StructField('Age', IntegerType(), True),\n",
    "    StructField('DOB', DateType(), True),\n",
    "    StructField('City', StringType(), True),\n",
    "    StructField('District', StringType(), True),\n",
    "    StructField('State', StringType(), True)]\n",
    ")\n",
    "\n",
    "#Data\n",
    "data = [\n",
    "    (1, 'Ajimal', 23, date(2001,7,1), 'Mylode', 'Kanyakumari', 'TamilNadu'),\n",
    "    (2, 'Jervin', 23, date(2001,10,3), 'Mylode', 'Kanyakumari', 'TamilNadu'),\n",
    "    (6, 'Aravindh', 22, date(2001,3,31), 'TM Palayam', 'Coimbatore', 'TamilNadu'),\n",
    "    (7, 'Pavithran', 24, date(2000,11,20), 'Serupanacheri', 'Chennai', 'TamilNadu')\n",
    "    ]\n",
    "\n",
    "source_df = spark.createDataFrame(data, schema)\n",
    "source_df.show()"
   ]
  },
  {
   "cell_type": "code",
   "execution_count": 0,
   "metadata": {
    "application/vnd.databricks.v1+cell": {
     "cellMetadata": {
      "byteLimit": 2048000,
      "rowLimit": 10000
     },
     "inputWidgets": {},
     "nuid": "b904330d-3abd-42de-9ba8-f15a68810f14",
     "showTitle": false,
     "title": ""
    }
   },
   "outputs": [
    {
     "output_type": "display_data",
     "data": {
      "text/html": [
       "<style scoped>\n",
       "  .table-result-container {\n",
       "    max-height: 300px;\n",
       "    overflow: auto;\n",
       "  }\n",
       "  table, th, td {\n",
       "    border: 1px solid black;\n",
       "    border-collapse: collapse;\n",
       "  }\n",
       "  th, td {\n",
       "    padding: 5px;\n",
       "  }\n",
       "  th {\n",
       "    text-align: left;\n",
       "  }\n",
       "</style><div class='table-result-container'><table class='table-result'><thead style='background-color: white'><tr><th>Customer_Id</th><th>Name</th><th>Age</th><th>DOB</th><th>City</th><th>District</th><th>State</th><th>Customer_Id</th><th>Name</th><th>Age</th><th>DOB</th><th>City</th><th>District</th><th>State</th><th>Flag</th><th>Start_Date</th><th>End_Date</th></tr></thead><tbody><tr><td>1</td><td>Ajimal</td><td>23</td><td>2001-07-01</td><td>Mylode</td><td>Kanyakumari</td><td>TamilNadu</td><td>1</td><td>Ajimal</td><td>23</td><td>2001-07-01</td><td>Gobi</td><td>Erode</td><td>TamilNadu</td><td>Y</td><td>2024-08-10T05:04:06.372+0000</td><td>9999-12-31T00:00:00.000+0000</td></tr><tr><td>2</td><td>Jervin</td><td>23</td><td>2001-10-03</td><td>Mylode</td><td>Kanyakumari</td><td>TamilNadu</td><td>2</td><td>Jervin</td><td>23</td><td>2001-10-03</td><td>Mylode</td><td>Kanyakumari</td><td>TamilNadu</td><td>Y</td><td>2024-08-10T05:04:06.372+0000</td><td>9999-12-31T00:00:00.000+0000</td></tr><tr><td>6</td><td>Aravindh</td><td>22</td><td>2001-03-31</td><td>TM Palayam</td><td>Coimbatore</td><td>TamilNadu</td><td>null</td><td>null</td><td>null</td><td>null</td><td>null</td><td>null</td><td>null</td><td>null</td><td>null</td><td>null</td></tr><tr><td>7</td><td>Pavithran</td><td>24</td><td>2000-11-20</td><td>Serupanacheri</td><td>Chennai</td><td>TamilNadu</td><td>null</td><td>null</td><td>null</td><td>null</td><td>null</td><td>null</td><td>null</td><td>null</td><td>null</td><td>null</td></tr></tbody></table></div>"
      ]
     },
     "metadata": {
      "application/vnd.databricks.v1+output": {
       "addedWidgets": {},
       "aggData": [],
       "aggError": "",
       "aggOverflow": false,
       "aggSchema": [],
       "aggSeriesLimitReached": false,
       "aggType": "",
       "arguments": {},
       "columnCustomDisplayInfos": {},
       "data": [
        [
         1,
         "Ajimal",
         23,
         "2001-07-01",
         "Mylode",
         "Kanyakumari",
         "TamilNadu",
         1,
         "Ajimal",
         23,
         "2001-07-01",
         "Gobi",
         "Erode",
         "TamilNadu",
         "Y",
         "2024-08-10T05:04:06.372+0000",
         "9999-12-31T00:00:00.000+0000"
        ],
        [
         2,
         "Jervin",
         23,
         "2001-10-03",
         "Mylode",
         "Kanyakumari",
         "TamilNadu",
         2,
         "Jervin",
         23,
         "2001-10-03",
         "Mylode",
         "Kanyakumari",
         "TamilNadu",
         "Y",
         "2024-08-10T05:04:06.372+0000",
         "9999-12-31T00:00:00.000+0000"
        ],
        [
         6,
         "Aravindh",
         22,
         "2001-03-31",
         "TM Palayam",
         "Coimbatore",
         "TamilNadu",
         null,
         null,
         null,
         null,
         null,
         null,
         null,
         null,
         null,
         null
        ],
        [
         7,
         "Pavithran",
         24,
         "2000-11-20",
         "Serupanacheri",
         "Chennai",
         "TamilNadu",
         null,
         null,
         null,
         null,
         null,
         null,
         null,
         null,
         null,
         null
        ]
       ],
       "datasetInfos": [],
       "dbfsResultPath": null,
       "isJsonSchema": true,
       "metadata": {},
       "overflow": false,
       "plotOptions": {
        "customPlotOptions": {},
        "displayType": "table",
        "pivotAggregation": null,
        "pivotColumns": null,
        "xColumns": null,
        "yColumns": null
       },
       "removedWidgets": [],
       "schema": [
        {
         "metadata": "{}",
         "name": "Customer_Id",
         "type": "\"integer\""
        },
        {
         "metadata": "{}",
         "name": "Name",
         "type": "\"string\""
        },
        {
         "metadata": "{}",
         "name": "Age",
         "type": "\"integer\""
        },
        {
         "metadata": "{}",
         "name": "DOB",
         "type": "\"date\""
        },
        {
         "metadata": "{}",
         "name": "City",
         "type": "\"string\""
        },
        {
         "metadata": "{}",
         "name": "District",
         "type": "\"string\""
        },
        {
         "metadata": "{}",
         "name": "State",
         "type": "\"string\""
        },
        {
         "metadata": "{}",
         "name": "Customer_Id",
         "type": "\"integer\""
        },
        {
         "metadata": "{\"__CHAR_VARCHAR_TYPE_STRING\":\"varchar(50)\"}",
         "name": "Name",
         "type": "\"string\""
        },
        {
         "metadata": "{}",
         "name": "Age",
         "type": "\"integer\""
        },
        {
         "metadata": "{}",
         "name": "DOB",
         "type": "\"date\""
        },
        {
         "metadata": "{\"__CHAR_VARCHAR_TYPE_STRING\":\"varchar(50)\"}",
         "name": "City",
         "type": "\"string\""
        },
        {
         "metadata": "{\"__CHAR_VARCHAR_TYPE_STRING\":\"varchar(50)\"}",
         "name": "District",
         "type": "\"string\""
        },
        {
         "metadata": "{\"__CHAR_VARCHAR_TYPE_STRING\":\"varchar(50)\"}",
         "name": "State",
         "type": "\"string\""
        },
        {
         "metadata": "{\"__CHAR_VARCHAR_TYPE_STRING\":\"varchar(50)\"}",
         "name": "Flag",
         "type": "\"string\""
        },
        {
         "metadata": "{}",
         "name": "Start_Date",
         "type": "\"timestamp\""
        },
        {
         "metadata": "{}",
         "name": "End_Date",
         "type": "\"timestamp\""
        }
       ],
       "type": "table"
      }
     },
     "output_type": "display_data"
    }
   ],
   "source": [
    "join_df = source_df.join(target_df, (source_df.Customer_Id == target_df.Customer_Id)\\\n",
    "    & (target_df.Flag == 'Y'), 'leftouter'\n",
    "    )\n",
    "join_df.display()"
   ]
  },
  {
   "cell_type": "code",
   "execution_count": 0,
   "metadata": {
    "application/vnd.databricks.v1+cell": {
     "cellMetadata": {
      "byteLimit": 2048000,
      "rowLimit": 10000
     },
     "inputWidgets": {},
     "nuid": "a1502a37-fd5d-4792-a92b-e3eb71840def",
     "showTitle": false,
     "title": ""
    }
   },
   "outputs": [
    {
     "output_type": "display_data",
     "data": {
      "text/html": [
       "<style scoped>\n",
       "  .table-result-container {\n",
       "    max-height: 300px;\n",
       "    overflow: auto;\n",
       "  }\n",
       "  table, th, td {\n",
       "    border: 1px solid black;\n",
       "    border-collapse: collapse;\n",
       "  }\n",
       "  th, td {\n",
       "    padding: 5px;\n",
       "  }\n",
       "  th {\n",
       "    text-align: left;\n",
       "  }\n",
       "</style><div class='table-result-container'><table class='table-result'><thead style='background-color: white'><tr><th>Customer_Id</th><th>Name</th><th>Age</th><th>DOB</th><th>City</th><th>District</th><th>State</th><th>t_Customer_Id</th><th>t_Name</th><th>t_Age</th><th>t_DOB</th><th>t_City</th><th>t_District</th><th>t_State</th></tr></thead><tbody><tr><td>1</td><td>Ajimal</td><td>23</td><td>2001-07-01</td><td>Mylode</td><td>Kanyakumari</td><td>TamilNadu</td><td>1</td><td>Ajimal</td><td>23</td><td>2001-07-01</td><td>Gobi</td><td>Erode</td><td>TamilNadu</td></tr><tr><td>2</td><td>Jervin</td><td>23</td><td>2001-10-03</td><td>Mylode</td><td>Kanyakumari</td><td>TamilNadu</td><td>2</td><td>Jervin</td><td>23</td><td>2001-10-03</td><td>Mylode</td><td>Kanyakumari</td><td>TamilNadu</td></tr><tr><td>6</td><td>Aravindh</td><td>22</td><td>2001-03-31</td><td>TM Palayam</td><td>Coimbatore</td><td>TamilNadu</td><td>null</td><td>null</td><td>null</td><td>null</td><td>null</td><td>null</td><td>null</td></tr><tr><td>7</td><td>Pavithran</td><td>24</td><td>2000-11-20</td><td>Serupanacheri</td><td>Chennai</td><td>TamilNadu</td><td>null</td><td>null</td><td>null</td><td>null</td><td>null</td><td>null</td><td>null</td></tr></tbody></table></div>"
      ]
     },
     "metadata": {
      "application/vnd.databricks.v1+output": {
       "addedWidgets": {},
       "aggData": [],
       "aggError": "",
       "aggOverflow": false,
       "aggSchema": [],
       "aggSeriesLimitReached": false,
       "aggType": "",
       "arguments": {},
       "columnCustomDisplayInfos": {},
       "data": [
        [
         1,
         "Ajimal",
         23,
         "2001-07-01",
         "Mylode",
         "Kanyakumari",
         "TamilNadu",
         1,
         "Ajimal",
         23,
         "2001-07-01",
         "Gobi",
         "Erode",
         "TamilNadu"
        ],
        [
         2,
         "Jervin",
         23,
         "2001-10-03",
         "Mylode",
         "Kanyakumari",
         "TamilNadu",
         2,
         "Jervin",
         23,
         "2001-10-03",
         "Mylode",
         "Kanyakumari",
         "TamilNadu"
        ],
        [
         6,
         "Aravindh",
         22,
         "2001-03-31",
         "TM Palayam",
         "Coimbatore",
         "TamilNadu",
         null,
         null,
         null,
         null,
         null,
         null,
         null
        ],
        [
         7,
         "Pavithran",
         24,
         "2000-11-20",
         "Serupanacheri",
         "Chennai",
         "TamilNadu",
         null,
         null,
         null,
         null,
         null,
         null,
         null
        ]
       ],
       "datasetInfos": [],
       "dbfsResultPath": null,
       "isJsonSchema": true,
       "metadata": {},
       "overflow": false,
       "plotOptions": {
        "customPlotOptions": {},
        "displayType": "table",
        "pivotAggregation": null,
        "pivotColumns": null,
        "xColumns": null,
        "yColumns": null
       },
       "removedWidgets": [],
       "schema": [
        {
         "metadata": "{}",
         "name": "Customer_Id",
         "type": "\"integer\""
        },
        {
         "metadata": "{}",
         "name": "Name",
         "type": "\"string\""
        },
        {
         "metadata": "{}",
         "name": "Age",
         "type": "\"integer\""
        },
        {
         "metadata": "{}",
         "name": "DOB",
         "type": "\"date\""
        },
        {
         "metadata": "{}",
         "name": "City",
         "type": "\"string\""
        },
        {
         "metadata": "{}",
         "name": "District",
         "type": "\"string\""
        },
        {
         "metadata": "{}",
         "name": "State",
         "type": "\"string\""
        },
        {
         "metadata": "{}",
         "name": "t_Customer_Id",
         "type": "\"integer\""
        },
        {
         "metadata": "{\"__CHAR_VARCHAR_TYPE_STRING\":\"varchar(50)\"}",
         "name": "t_Name",
         "type": "\"string\""
        },
        {
         "metadata": "{}",
         "name": "t_Age",
         "type": "\"integer\""
        },
        {
         "metadata": "{}",
         "name": "t_DOB",
         "type": "\"date\""
        },
        {
         "metadata": "{\"__CHAR_VARCHAR_TYPE_STRING\":\"varchar(50)\"}",
         "name": "t_City",
         "type": "\"string\""
        },
        {
         "metadata": "{\"__CHAR_VARCHAR_TYPE_STRING\":\"varchar(50)\"}",
         "name": "t_District",
         "type": "\"string\""
        },
        {
         "metadata": "{\"__CHAR_VARCHAR_TYPE_STRING\":\"varchar(50)\"}",
         "name": "t_State",
         "type": "\"string\""
        }
       ],
       "type": "table"
      }
     },
     "output_type": "display_data"
    }
   ],
   "source": [
    "join_df = source_df.join(target_df, (source_df.Customer_Id == target_df.Customer_Id)\\\n",
    "    & (target_df.Flag == 'Y'), 'leftouter'\n",
    "    ).select(source_df['*'], \n",
    "             target_df.Customer_Id.alias('t_Customer_Id'),\n",
    "             target_df.Name.alias('t_Name'),\n",
    "             target_df.Age.alias('t_Age'),\n",
    "             target_df.DOB.alias('t_DOB'),\n",
    "             target_df.City.alias('t_City'),\n",
    "             target_df.District.alias('t_District'),\n",
    "             target_df.State.alias('t_State')\n",
    "             )\n",
    "    \n",
    "join_df.display()"
   ]
  },
  {
   "cell_type": "code",
   "execution_count": 0,
   "metadata": {
    "application/vnd.databricks.v1+cell": {
     "cellMetadata": {
      "byteLimit": 2048000,
      "rowLimit": 10000
     },
     "inputWidgets": {},
     "nuid": "3a6d3667-51ce-4ded-8486-67d9d1536170",
     "showTitle": false,
     "title": ""
    }
   },
   "outputs": [
    {
     "output_type": "display_data",
     "data": {
      "text/html": [
       "<style scoped>\n",
       "  .table-result-container {\n",
       "    max-height: 300px;\n",
       "    overflow: auto;\n",
       "  }\n",
       "  table, th, td {\n",
       "    border: 1px solid black;\n",
       "    border-collapse: collapse;\n",
       "  }\n",
       "  th, td {\n",
       "    padding: 5px;\n",
       "  }\n",
       "  th {\n",
       "    text-align: left;\n",
       "  }\n",
       "</style><div class='table-result-container'><table class='table-result'><thead style='background-color: white'><tr><th>Customer_Id</th><th>Name</th><th>Age</th><th>DOB</th><th>City</th><th>District</th><th>State</th><th>t_Customer_Id</th><th>t_Name</th><th>t_Age</th><th>t_DOB</th><th>t_City</th><th>t_District</th><th>t_State</th></tr></thead><tbody><tr><td>1</td><td>Ajimal</td><td>23</td><td>2001-07-01</td><td>Mylode</td><td>Kanyakumari</td><td>TamilNadu</td><td>1</td><td>Ajimal</td><td>23</td><td>2001-07-01</td><td>Gobi</td><td>Erode</td><td>TamilNadu</td></tr><tr><td>6</td><td>Aravindh</td><td>22</td><td>2001-03-31</td><td>TM Palayam</td><td>Coimbatore</td><td>TamilNadu</td><td>null</td><td>null</td><td>null</td><td>null</td><td>null</td><td>null</td><td>null</td></tr><tr><td>7</td><td>Pavithran</td><td>24</td><td>2000-11-20</td><td>Serupanacheri</td><td>Chennai</td><td>TamilNadu</td><td>null</td><td>null</td><td>null</td><td>null</td><td>null</td><td>null</td><td>null</td></tr></tbody></table></div>"
      ]
     },
     "metadata": {
      "application/vnd.databricks.v1+output": {
       "addedWidgets": {},
       "aggData": [],
       "aggError": "",
       "aggOverflow": false,
       "aggSchema": [],
       "aggSeriesLimitReached": false,
       "aggType": "",
       "arguments": {},
       "columnCustomDisplayInfos": {},
       "data": [
        [
         1,
         "Ajimal",
         23,
         "2001-07-01",
         "Mylode",
         "Kanyakumari",
         "TamilNadu",
         1,
         "Ajimal",
         23,
         "2001-07-01",
         "Gobi",
         "Erode",
         "TamilNadu"
        ],
        [
         6,
         "Aravindh",
         22,
         "2001-03-31",
         "TM Palayam",
         "Coimbatore",
         "TamilNadu",
         null,
         null,
         null,
         null,
         null,
         null,
         null
        ],
        [
         7,
         "Pavithran",
         24,
         "2000-11-20",
         "Serupanacheri",
         "Chennai",
         "TamilNadu",
         null,
         null,
         null,
         null,
         null,
         null,
         null
        ]
       ],
       "datasetInfos": [],
       "dbfsResultPath": null,
       "isJsonSchema": true,
       "metadata": {},
       "overflow": false,
       "plotOptions": {
        "customPlotOptions": {},
        "displayType": "table",
        "pivotAggregation": null,
        "pivotColumns": null,
        "xColumns": null,
        "yColumns": null
       },
       "removedWidgets": [],
       "schema": [
        {
         "metadata": "{}",
         "name": "Customer_Id",
         "type": "\"integer\""
        },
        {
         "metadata": "{}",
         "name": "Name",
         "type": "\"string\""
        },
        {
         "metadata": "{}",
         "name": "Age",
         "type": "\"integer\""
        },
        {
         "metadata": "{}",
         "name": "DOB",
         "type": "\"date\""
        },
        {
         "metadata": "{}",
         "name": "City",
         "type": "\"string\""
        },
        {
         "metadata": "{}",
         "name": "District",
         "type": "\"string\""
        },
        {
         "metadata": "{}",
         "name": "State",
         "type": "\"string\""
        },
        {
         "metadata": "{}",
         "name": "t_Customer_Id",
         "type": "\"integer\""
        },
        {
         "metadata": "{\"__CHAR_VARCHAR_TYPE_STRING\":\"varchar(50)\"}",
         "name": "t_Name",
         "type": "\"string\""
        },
        {
         "metadata": "{}",
         "name": "t_Age",
         "type": "\"integer\""
        },
        {
         "metadata": "{}",
         "name": "t_DOB",
         "type": "\"date\""
        },
        {
         "metadata": "{\"__CHAR_VARCHAR_TYPE_STRING\":\"varchar(50)\"}",
         "name": "t_City",
         "type": "\"string\""
        },
        {
         "metadata": "{\"__CHAR_VARCHAR_TYPE_STRING\":\"varchar(50)\"}",
         "name": "t_District",
         "type": "\"string\""
        },
        {
         "metadata": "{\"__CHAR_VARCHAR_TYPE_STRING\":\"varchar(50)\"}",
         "name": "t_State",
         "type": "\"string\""
        }
       ],
       "type": "table"
      }
     },
     "output_type": "display_data"
    }
   ],
   "source": [
    "filter_df = join_df.filter(xxhash64(join_df.Name, join_df.Age, join_df.DOB, join_df.City, join_df.District, join_df.State)\n",
    "                           != xxhash64(join_df.t_Name, join_df.t_Age, join_df.t_DOB, join_df.t_City, join_df.t_District, join_df.t_State))\n",
    "\n",
    "filter_df.display()"
   ]
  },
  {
   "cell_type": "code",
   "execution_count": 0,
   "metadata": {
    "application/vnd.databricks.v1+cell": {
     "cellMetadata": {
      "byteLimit": 2048000,
      "rowLimit": 10000
     },
     "inputWidgets": {},
     "nuid": "d946e59c-1e8f-44b5-bcf7-c1ec42854783",
     "showTitle": false,
     "title": ""
    }
   },
   "outputs": [
    {
     "output_type": "display_data",
     "data": {
      "text/html": [
       "<style scoped>\n",
       "  .table-result-container {\n",
       "    max-height: 300px;\n",
       "    overflow: auto;\n",
       "  }\n",
       "  table, th, td {\n",
       "    border: 1px solid black;\n",
       "    border-collapse: collapse;\n",
       "  }\n",
       "  th, td {\n",
       "    padding: 5px;\n",
       "  }\n",
       "  th {\n",
       "    text-align: left;\n",
       "  }\n",
       "</style><div class='table-result-container'><table class='table-result'><thead style='background-color: white'><tr><th>Customer_Id</th><th>Name</th><th>Age</th><th>DOB</th><th>City</th><th>District</th><th>State</th><th>t_Customer_Id</th><th>t_Name</th><th>t_Age</th><th>t_DOB</th><th>t_City</th><th>t_District</th><th>t_State</th><th>Merge_Key</th></tr></thead><tbody><tr><td>1</td><td>Ajimal</td><td>23</td><td>2001-07-01</td><td>Mylode</td><td>Kanyakumari</td><td>TamilNadu</td><td>1</td><td>Ajimal</td><td>23</td><td>2001-07-01</td><td>Gobi</td><td>Erode</td><td>TamilNadu</td><td>1</td></tr><tr><td>6</td><td>Aravindh</td><td>22</td><td>2001-03-31</td><td>TM Palayam</td><td>Coimbatore</td><td>TamilNadu</td><td>null</td><td>null</td><td>null</td><td>null</td><td>null</td><td>null</td><td>null</td><td>6</td></tr><tr><td>7</td><td>Pavithran</td><td>24</td><td>2000-11-20</td><td>Serupanacheri</td><td>Chennai</td><td>TamilNadu</td><td>null</td><td>null</td><td>null</td><td>null</td><td>null</td><td>null</td><td>null</td><td>7</td></tr></tbody></table></div>"
      ]
     },
     "metadata": {
      "application/vnd.databricks.v1+output": {
       "addedWidgets": {},
       "aggData": [],
       "aggError": "",
       "aggOverflow": false,
       "aggSchema": [],
       "aggSeriesLimitReached": false,
       "aggType": "",
       "arguments": {},
       "columnCustomDisplayInfos": {},
       "data": [
        [
         1,
         "Ajimal",
         23,
         "2001-07-01",
         "Mylode",
         "Kanyakumari",
         "TamilNadu",
         1,
         "Ajimal",
         23,
         "2001-07-01",
         "Gobi",
         "Erode",
         "TamilNadu",
         1
        ],
        [
         6,
         "Aravindh",
         22,
         "2001-03-31",
         "TM Palayam",
         "Coimbatore",
         "TamilNadu",
         null,
         null,
         null,
         null,
         null,
         null,
         null,
         6
        ],
        [
         7,
         "Pavithran",
         24,
         "2000-11-20",
         "Serupanacheri",
         "Chennai",
         "TamilNadu",
         null,
         null,
         null,
         null,
         null,
         null,
         null,
         7
        ]
       ],
       "datasetInfos": [],
       "dbfsResultPath": null,
       "isJsonSchema": true,
       "metadata": {},
       "overflow": false,
       "plotOptions": {
        "customPlotOptions": {},
        "displayType": "table",
        "pivotAggregation": null,
        "pivotColumns": null,
        "xColumns": null,
        "yColumns": null
       },
       "removedWidgets": [],
       "schema": [
        {
         "metadata": "{}",
         "name": "Customer_Id",
         "type": "\"integer\""
        },
        {
         "metadata": "{}",
         "name": "Name",
         "type": "\"string\""
        },
        {
         "metadata": "{}",
         "name": "Age",
         "type": "\"integer\""
        },
        {
         "metadata": "{}",
         "name": "DOB",
         "type": "\"date\""
        },
        {
         "metadata": "{}",
         "name": "City",
         "type": "\"string\""
        },
        {
         "metadata": "{}",
         "name": "District",
         "type": "\"string\""
        },
        {
         "metadata": "{}",
         "name": "State",
         "type": "\"string\""
        },
        {
         "metadata": "{}",
         "name": "t_Customer_Id",
         "type": "\"integer\""
        },
        {
         "metadata": "{\"__CHAR_VARCHAR_TYPE_STRING\":\"varchar(50)\"}",
         "name": "t_Name",
         "type": "\"string\""
        },
        {
         "metadata": "{}",
         "name": "t_Age",
         "type": "\"integer\""
        },
        {
         "metadata": "{}",
         "name": "t_DOB",
         "type": "\"date\""
        },
        {
         "metadata": "{\"__CHAR_VARCHAR_TYPE_STRING\":\"varchar(50)\"}",
         "name": "t_City",
         "type": "\"string\""
        },
        {
         "metadata": "{\"__CHAR_VARCHAR_TYPE_STRING\":\"varchar(50)\"}",
         "name": "t_District",
         "type": "\"string\""
        },
        {
         "metadata": "{\"__CHAR_VARCHAR_TYPE_STRING\":\"varchar(50)\"}",
         "name": "t_State",
         "type": "\"string\""
        },
        {
         "metadata": "{}",
         "name": "Merge_Key",
         "type": "\"integer\""
        }
       ],
       "type": "table"
      }
     },
     "output_type": "display_data"
    }
   ],
   "source": [
    "merge_df = filter_df.withColumn('Merge_Key', filter_df['Customer_Id'])\n",
    "merge_df.display()"
   ]
  },
  {
   "cell_type": "code",
   "execution_count": 0,
   "metadata": {
    "application/vnd.databricks.v1+cell": {
     "cellMetadata": {
      "byteLimit": 2048000,
      "rowLimit": 10000
     },
     "inputWidgets": {},
     "nuid": "a21be69e-895c-4358-b1e4-74fff7904503",
     "showTitle": false,
     "title": ""
    }
   },
   "outputs": [
    {
     "output_type": "display_data",
     "data": {
      "text/html": [
       "<style scoped>\n",
       "  .table-result-container {\n",
       "    max-height: 300px;\n",
       "    overflow: auto;\n",
       "  }\n",
       "  table, th, td {\n",
       "    border: 1px solid black;\n",
       "    border-collapse: collapse;\n",
       "  }\n",
       "  th, td {\n",
       "    padding: 5px;\n",
       "  }\n",
       "  th {\n",
       "    text-align: left;\n",
       "  }\n",
       "</style><div class='table-result-container'><table class='table-result'><thead style='background-color: white'><tr><th>Customer_Id</th><th>Name</th><th>Age</th><th>DOB</th><th>City</th><th>District</th><th>State</th><th>t_Customer_Id</th><th>t_Name</th><th>t_Age</th><th>t_DOB</th><th>t_City</th><th>t_District</th><th>t_State</th><th>Dummy_Key</th></tr></thead><tbody><tr><td>1</td><td>Ajimal</td><td>23</td><td>2001-07-01</td><td>Mylode</td><td>Kanyakumari</td><td>TamilNadu</td><td>1</td><td>Ajimal</td><td>23</td><td>2001-07-01</td><td>Gobi</td><td>Erode</td><td>TamilNadu</td><td>None</td></tr></tbody></table></div>"
      ]
     },
     "metadata": {
      "application/vnd.databricks.v1+output": {
       "addedWidgets": {},
       "aggData": [],
       "aggError": "",
       "aggOverflow": false,
       "aggSchema": [],
       "aggSeriesLimitReached": false,
       "aggType": "",
       "arguments": {},
       "columnCustomDisplayInfos": {},
       "data": [
        [
         1,
         "Ajimal",
         23,
         "2001-07-01",
         "Mylode",
         "Kanyakumari",
         "TamilNadu",
         1,
         "Ajimal",
         23,
         "2001-07-01",
         "Gobi",
         "Erode",
         "TamilNadu",
         "None"
        ]
       ],
       "datasetInfos": [],
       "dbfsResultPath": null,
       "isJsonSchema": true,
       "metadata": {},
       "overflow": false,
       "plotOptions": {
        "customPlotOptions": {},
        "displayType": "table",
        "pivotAggregation": null,
        "pivotColumns": null,
        "xColumns": null,
        "yColumns": null
       },
       "removedWidgets": [],
       "schema": [
        {
         "metadata": "{}",
         "name": "Customer_Id",
         "type": "\"integer\""
        },
        {
         "metadata": "{}",
         "name": "Name",
         "type": "\"string\""
        },
        {
         "metadata": "{}",
         "name": "Age",
         "type": "\"integer\""
        },
        {
         "metadata": "{}",
         "name": "DOB",
         "type": "\"date\""
        },
        {
         "metadata": "{}",
         "name": "City",
         "type": "\"string\""
        },
        {
         "metadata": "{}",
         "name": "District",
         "type": "\"string\""
        },
        {
         "metadata": "{}",
         "name": "State",
         "type": "\"string\""
        },
        {
         "metadata": "{}",
         "name": "t_Customer_Id",
         "type": "\"integer\""
        },
        {
         "metadata": "{\"__CHAR_VARCHAR_TYPE_STRING\":\"varchar(50)\"}",
         "name": "t_Name",
         "type": "\"string\""
        },
        {
         "metadata": "{}",
         "name": "t_Age",
         "type": "\"integer\""
        },
        {
         "metadata": "{}",
         "name": "t_DOB",
         "type": "\"date\""
        },
        {
         "metadata": "{\"__CHAR_VARCHAR_TYPE_STRING\":\"varchar(50)\"}",
         "name": "t_City",
         "type": "\"string\""
        },
        {
         "metadata": "{\"__CHAR_VARCHAR_TYPE_STRING\":\"varchar(50)\"}",
         "name": "t_District",
         "type": "\"string\""
        },
        {
         "metadata": "{\"__CHAR_VARCHAR_TYPE_STRING\":\"varchar(50)\"}",
         "name": "t_State",
         "type": "\"string\""
        },
        {
         "metadata": "{}",
         "name": "Dummy_Key",
         "type": "\"string\""
        }
       ],
       "type": "table"
      }
     },
     "output_type": "display_data"
    }
   ],
   "source": [
    "dummy_df = filter_df.filter('t_Customer_Id is not null').withColumn('Merge_Key', lit('None'))\n",
    "dummy_df.display()"
   ]
  },
  {
   "cell_type": "code",
   "execution_count": 0,
   "metadata": {
    "application/vnd.databricks.v1+cell": {
     "cellMetadata": {
      "byteLimit": 2048000,
      "rowLimit": 10000
     },
     "inputWidgets": {},
     "nuid": "abc149d7-6860-47c5-9bf5-6e29c29ac2ae",
     "showTitle": false,
     "title": ""
    }
   },
   "outputs": [
    {
     "output_type": "display_data",
     "data": {
      "text/html": [
       "<style scoped>\n",
       "  .table-result-container {\n",
       "    max-height: 300px;\n",
       "    overflow: auto;\n",
       "  }\n",
       "  table, th, td {\n",
       "    border: 1px solid black;\n",
       "    border-collapse: collapse;\n",
       "  }\n",
       "  th, td {\n",
       "    padding: 5px;\n",
       "  }\n",
       "  th {\n",
       "    text-align: left;\n",
       "  }\n",
       "</style><div class='table-result-container'><table class='table-result'><thead style='background-color: white'><tr><th>Customer_Id</th><th>Name</th><th>Age</th><th>DOB</th><th>City</th><th>District</th><th>State</th><th>t_Customer_Id</th><th>t_Name</th><th>t_Age</th><th>t_DOB</th><th>t_City</th><th>t_District</th><th>t_State</th><th>Merge_Key</th></tr></thead><tbody><tr><td>1</td><td>Ajimal</td><td>23</td><td>2001-07-01</td><td>Mylode</td><td>Kanyakumari</td><td>TamilNadu</td><td>1</td><td>Ajimal</td><td>23</td><td>2001-07-01</td><td>Gobi</td><td>Erode</td><td>TamilNadu</td><td>1</td></tr><tr><td>6</td><td>Aravindh</td><td>22</td><td>2001-03-31</td><td>TM Palayam</td><td>Coimbatore</td><td>TamilNadu</td><td>null</td><td>null</td><td>null</td><td>null</td><td>null</td><td>null</td><td>null</td><td>6</td></tr><tr><td>7</td><td>Pavithran</td><td>24</td><td>2000-11-20</td><td>Serupanacheri</td><td>Chennai</td><td>TamilNadu</td><td>null</td><td>null</td><td>null</td><td>null</td><td>null</td><td>null</td><td>null</td><td>7</td></tr><tr><td>1</td><td>Ajimal</td><td>23</td><td>2001-07-01</td><td>Mylode</td><td>Kanyakumari</td><td>TamilNadu</td><td>1</td><td>Ajimal</td><td>23</td><td>2001-07-01</td><td>Gobi</td><td>Erode</td><td>TamilNadu</td><td>None</td></tr></tbody></table></div>"
      ]
     },
     "metadata": {
      "application/vnd.databricks.v1+output": {
       "addedWidgets": {},
       "aggData": [],
       "aggError": "",
       "aggOverflow": false,
       "aggSchema": [],
       "aggSeriesLimitReached": false,
       "aggType": "",
       "arguments": {},
       "columnCustomDisplayInfos": {},
       "data": [
        [
         1,
         "Ajimal",
         23,
         "2001-07-01",
         "Mylode",
         "Kanyakumari",
         "TamilNadu",
         1,
         "Ajimal",
         23,
         "2001-07-01",
         "Gobi",
         "Erode",
         "TamilNadu",
         "1"
        ],
        [
         6,
         "Aravindh",
         22,
         "2001-03-31",
         "TM Palayam",
         "Coimbatore",
         "TamilNadu",
         null,
         null,
         null,
         null,
         null,
         null,
         null,
         "6"
        ],
        [
         7,
         "Pavithran",
         24,
         "2000-11-20",
         "Serupanacheri",
         "Chennai",
         "TamilNadu",
         null,
         null,
         null,
         null,
         null,
         null,
         null,
         "7"
        ],
        [
         1,
         "Ajimal",
         23,
         "2001-07-01",
         "Mylode",
         "Kanyakumari",
         "TamilNadu",
         1,
         "Ajimal",
         23,
         "2001-07-01",
         "Gobi",
         "Erode",
         "TamilNadu",
         "None"
        ]
       ],
       "datasetInfos": [],
       "dbfsResultPath": null,
       "isJsonSchema": true,
       "metadata": {},
       "overflow": false,
       "plotOptions": {
        "customPlotOptions": {},
        "displayType": "table",
        "pivotAggregation": null,
        "pivotColumns": null,
        "xColumns": null,
        "yColumns": null
       },
       "removedWidgets": [],
       "schema": [
        {
         "metadata": "{}",
         "name": "Customer_Id",
         "type": "\"integer\""
        },
        {
         "metadata": "{}",
         "name": "Name",
         "type": "\"string\""
        },
        {
         "metadata": "{}",
         "name": "Age",
         "type": "\"integer\""
        },
        {
         "metadata": "{}",
         "name": "DOB",
         "type": "\"date\""
        },
        {
         "metadata": "{}",
         "name": "City",
         "type": "\"string\""
        },
        {
         "metadata": "{}",
         "name": "District",
         "type": "\"string\""
        },
        {
         "metadata": "{}",
         "name": "State",
         "type": "\"string\""
        },
        {
         "metadata": "{}",
         "name": "t_Customer_Id",
         "type": "\"integer\""
        },
        {
         "metadata": "{\"__CHAR_VARCHAR_TYPE_STRING\":\"varchar(50)\"}",
         "name": "t_Name",
         "type": "\"string\""
        },
        {
         "metadata": "{}",
         "name": "t_Age",
         "type": "\"integer\""
        },
        {
         "metadata": "{}",
         "name": "t_DOB",
         "type": "\"date\""
        },
        {
         "metadata": "{\"__CHAR_VARCHAR_TYPE_STRING\":\"varchar(50)\"}",
         "name": "t_City",
         "type": "\"string\""
        },
        {
         "metadata": "{\"__CHAR_VARCHAR_TYPE_STRING\":\"varchar(50)\"}",
         "name": "t_District",
         "type": "\"string\""
        },
        {
         "metadata": "{\"__CHAR_VARCHAR_TYPE_STRING\":\"varchar(50)\"}",
         "name": "t_State",
         "type": "\"string\""
        },
        {
         "metadata": "{}",
         "name": "Merge_Key",
         "type": "\"string\""
        }
       ],
       "type": "table"
      }
     },
     "output_type": "display_data"
    }
   ],
   "source": [
    "scd_df = merge_df.union(dummy_df)\n",
    "scd_df.display()"
   ]
  },
  {
   "cell_type": "code",
   "execution_count": 0,
   "metadata": {
    "application/vnd.databricks.v1+cell": {
     "cellMetadata": {
      "byteLimit": 2048000,
      "rowLimit": 10000
     },
     "inputWidgets": {},
     "nuid": "fa72400a-54af-48f2-b269-ea47695f676a",
     "showTitle": false,
     "title": ""
    }
   },
   "outputs": [],
   "source": [
    "target_table.alias('target').merge(\n",
    "    source = scd_df.alias('source'),\n",
    "    condition = \"target.Customer_Id = source.Merge_Key and target.Flag = 'Y'\"\n",
    ").whenMatchedUpdate(\n",
    "    set = {\n",
    "        'Flag' : lit('N'),\n",
    "        'End_Date' : 'current_date'\n",
    "    }\n",
    ").whenNotMatchedInsert(\n",
    "    values = {\n",
    "        'Customer_Id' : 'source.Customer_Id',\n",
    "        'Name' : 'source.Name',\n",
    "        'Age' : 'source.Age',\n",
    "        'DOB' : 'source.DOB',\n",
    "        'City' : 'source.City',\n",
    "        'District' : 'source.District',\n",
    "        'State' : 'source.State',\n",
    "        'Flag' : lit('Y'),\n",
    "        'Start_Date' : 'current_date',\n",
    "        'End_Date' : lit('9999-12-31')\n",
    "    }\n",
    ").execute()"
   ]
  },
  {
   "cell_type": "code",
   "execution_count": 0,
   "metadata": {
    "application/vnd.databricks.v1+cell": {
     "cellMetadata": {
      "byteLimit": 2048000,
      "rowLimit": 10000
     },
     "inputWidgets": {},
     "nuid": "97605f35-bf7e-4614-87fd-1757fe757397",
     "showTitle": false,
     "title": ""
    }
   },
   "outputs": [
    {
     "output_type": "display_data",
     "data": {
      "text/html": [
       "<style scoped>\n",
       "  .table-result-container {\n",
       "    max-height: 300px;\n",
       "    overflow: auto;\n",
       "  }\n",
       "  table, th, td {\n",
       "    border: 1px solid black;\n",
       "    border-collapse: collapse;\n",
       "  }\n",
       "  th, td {\n",
       "    padding: 5px;\n",
       "  }\n",
       "  th {\n",
       "    text-align: left;\n",
       "  }\n",
       "</style><div class='table-result-container'><table class='table-result'><thead style='background-color: white'><tr><th>Customer_Id</th><th>Name</th><th>Age</th><th>DOB</th><th>City</th><th>District</th><th>State</th><th>Flag</th><th>Start_Date</th><th>End_Date</th></tr></thead><tbody><tr><td>1</td><td>Ajimal</td><td>23</td><td>2001-07-01</td><td>Gobi</td><td>Erode</td><td>TamilNadu</td><td>N</td><td>2024-08-10T05:04:06.372+0000</td><td>2024-08-10T00:00:00.000+0000</td></tr><tr><td>1</td><td>Ajimal</td><td>23</td><td>2001-07-01</td><td>Mylode</td><td>Kanyakumari</td><td>TamilNadu</td><td>Y</td><td>2024-08-10T00:00:00.000+0000</td><td>9999-12-31T00:00:00.000+0000</td></tr><tr><td>2</td><td>Jervin</td><td>23</td><td>2001-10-03</td><td>Mylode</td><td>Kanyakumari</td><td>TamilNadu</td><td>Y</td><td>2024-08-10T05:04:06.372+0000</td><td>9999-12-31T00:00:00.000+0000</td></tr><tr><td>3</td><td>Bergin</td><td>24</td><td>2000-01-20</td><td>Pollachi</td><td>Coimbatore</td><td>TamilNadu</td><td>Y</td><td>2024-08-10T05:04:06.372+0000</td><td>9999-12-31T00:00:00.000+0000</td></tr><tr><td>4</td><td>Nishanth</td><td>24</td><td>2000-11-25</td><td>Tambaram</td><td>Chennai</td><td>TamilNadu</td><td>Y</td><td>2024-08-10T05:04:06.372+0000</td><td>9999-12-31T00:00:00.000+0000</td></tr><tr><td>5</td><td>Vasanth</td><td>24</td><td>2001-03-14</td><td>Poonamalle</td><td>Chennai</td><td>TamilNadu</td><td>Y</td><td>2024-08-10T05:04:06.372+0000</td><td>9999-12-31T00:00:00.000+0000</td></tr><tr><td>6</td><td>Aravindh</td><td>22</td><td>2001-03-31</td><td>TM Palayam</td><td>Coimbatore</td><td>TamilNadu</td><td>Y</td><td>2024-08-10T00:00:00.000+0000</td><td>9999-12-31T00:00:00.000+0000</td></tr><tr><td>7</td><td>Pavithran</td><td>24</td><td>2000-11-20</td><td>Serupanacheri</td><td>Chennai</td><td>TamilNadu</td><td>Y</td><td>2024-08-10T00:00:00.000+0000</td><td>9999-12-31T00:00:00.000+0000</td></tr></tbody></table></div>"
      ]
     },
     "metadata": {
      "application/vnd.databricks.v1+output": {
       "addedWidgets": {},
       "aggData": [],
       "aggError": "",
       "aggOverflow": false,
       "aggSchema": [],
       "aggSeriesLimitReached": false,
       "aggType": "",
       "arguments": {},
       "columnCustomDisplayInfos": {},
       "data": [
        [
         1,
         "Ajimal",
         23,
         "2001-07-01",
         "Gobi",
         "Erode",
         "TamilNadu",
         "N",
         "2024-08-10T05:04:06.372+0000",
         "2024-08-10T00:00:00.000+0000"
        ],
        [
         1,
         "Ajimal",
         23,
         "2001-07-01",
         "Mylode",
         "Kanyakumari",
         "TamilNadu",
         "Y",
         "2024-08-10T00:00:00.000+0000",
         "9999-12-31T00:00:00.000+0000"
        ],
        [
         2,
         "Jervin",
         23,
         "2001-10-03",
         "Mylode",
         "Kanyakumari",
         "TamilNadu",
         "Y",
         "2024-08-10T05:04:06.372+0000",
         "9999-12-31T00:00:00.000+0000"
        ],
        [
         3,
         "Bergin",
         24,
         "2000-01-20",
         "Pollachi",
         "Coimbatore",
         "TamilNadu",
         "Y",
         "2024-08-10T05:04:06.372+0000",
         "9999-12-31T00:00:00.000+0000"
        ],
        [
         4,
         "Nishanth",
         24,
         "2000-11-25",
         "Tambaram",
         "Chennai",
         "TamilNadu",
         "Y",
         "2024-08-10T05:04:06.372+0000",
         "9999-12-31T00:00:00.000+0000"
        ],
        [
         5,
         "Vasanth",
         24,
         "2001-03-14",
         "Poonamalle",
         "Chennai",
         "TamilNadu",
         "Y",
         "2024-08-10T05:04:06.372+0000",
         "9999-12-31T00:00:00.000+0000"
        ],
        [
         6,
         "Aravindh",
         22,
         "2001-03-31",
         "TM Palayam",
         "Coimbatore",
         "TamilNadu",
         "Y",
         "2024-08-10T00:00:00.000+0000",
         "9999-12-31T00:00:00.000+0000"
        ],
        [
         7,
         "Pavithran",
         24,
         "2000-11-20",
         "Serupanacheri",
         "Chennai",
         "TamilNadu",
         "Y",
         "2024-08-10T00:00:00.000+0000",
         "9999-12-31T00:00:00.000+0000"
        ]
       ],
       "datasetInfos": [],
       "dbfsResultPath": null,
       "isJsonSchema": true,
       "metadata": {},
       "overflow": false,
       "plotOptions": {
        "customPlotOptions": {},
        "displayType": "table",
        "pivotAggregation": null,
        "pivotColumns": null,
        "xColumns": null,
        "yColumns": null
       },
       "removedWidgets": [],
       "schema": [
        {
         "metadata": "{}",
         "name": "Customer_Id",
         "type": "\"integer\""
        },
        {
         "metadata": "{\"__CHAR_VARCHAR_TYPE_STRING\":\"varchar(50)\"}",
         "name": "Name",
         "type": "\"string\""
        },
        {
         "metadata": "{}",
         "name": "Age",
         "type": "\"integer\""
        },
        {
         "metadata": "{}",
         "name": "DOB",
         "type": "\"date\""
        },
        {
         "metadata": "{\"__CHAR_VARCHAR_TYPE_STRING\":\"varchar(50)\"}",
         "name": "City",
         "type": "\"string\""
        },
        {
         "metadata": "{\"__CHAR_VARCHAR_TYPE_STRING\":\"varchar(50)\"}",
         "name": "District",
         "type": "\"string\""
        },
        {
         "metadata": "{\"__CHAR_VARCHAR_TYPE_STRING\":\"varchar(50)\"}",
         "name": "State",
         "type": "\"string\""
        },
        {
         "metadata": "{\"__CHAR_VARCHAR_TYPE_STRING\":\"varchar(50)\"}",
         "name": "Flag",
         "type": "\"string\""
        },
        {
         "metadata": "{}",
         "name": "Start_Date",
         "type": "\"timestamp\""
        },
        {
         "metadata": "{}",
         "name": "End_Date",
         "type": "\"timestamp\""
        }
       ],
       "type": "table"
      }
     },
     "output_type": "display_data"
    }
   ],
   "source": [
    "spark.sql('select * from customer order by Customer_Id').display()"
   ]
  },
  {
   "cell_type": "code",
   "execution_count": 0,
   "metadata": {
    "application/vnd.databricks.v1+cell": {
     "cellMetadata": {
      "byteLimit": 2048000,
      "rowLimit": 10000
     },
     "inputWidgets": {},
     "nuid": "2b67908d-5718-4808-b25e-eaa4996a4861",
     "showTitle": false,
     "title": ""
    }
   },
   "outputs": [],
   "source": []
  },
  {
   "cell_type": "code",
   "execution_count": 0,
   "metadata": {
    "application/vnd.databricks.v1+cell": {
     "cellMetadata": {
      "byteLimit": 2048000,
      "rowLimit": 10000
     },
     "inputWidgets": {},
     "nuid": "d2f3ca44-2781-4527-9927-61906995f86b",
     "showTitle": false,
     "title": ""
    }
   },
   "outputs": [],
   "source": []
  },
  {
   "cell_type": "code",
   "execution_count": 0,
   "metadata": {
    "application/vnd.databricks.v1+cell": {
     "cellMetadata": {
      "byteLimit": 2048000,
      "rowLimit": 10000
     },
     "inputWidgets": {},
     "nuid": "f65f2371-3113-4c86-b830-868296e4bb22",
     "showTitle": false,
     "title": ""
    }
   },
   "outputs": [],
   "source": []
  },
  {
   "cell_type": "code",
   "execution_count": 0,
   "metadata": {
    "application/vnd.databricks.v1+cell": {
     "cellMetadata": {
      "byteLimit": 2048000,
      "rowLimit": 10000
     },
     "inputWidgets": {},
     "nuid": "893b49cd-8477-47e2-b8bf-f108a7002251",
     "showTitle": false,
     "title": ""
    }
   },
   "outputs": [],
   "source": []
  },
  {
   "cell_type": "code",
   "execution_count": 0,
   "metadata": {
    "application/vnd.databricks.v1+cell": {
     "cellMetadata": {
      "byteLimit": 2048000,
      "rowLimit": 10000
     },
     "inputWidgets": {},
     "nuid": "15a58b32-b52d-41be-b0a3-f43d417fc17a",
     "showTitle": false,
     "title": ""
    }
   },
   "outputs": [],
   "source": []
  },
  {
   "cell_type": "code",
   "execution_count": 0,
   "metadata": {
    "application/vnd.databricks.v1+cell": {
     "cellMetadata": {
      "byteLimit": 2048000,
      "rowLimit": 10000
     },
     "inputWidgets": {},
     "nuid": "9e0a1e84-4d41-4743-86bc-2a5d0c174173",
     "showTitle": false,
     "title": ""
    }
   },
   "outputs": [],
   "source": []
  }
 ],
 "metadata": {
  "application/vnd.databricks.v1+notebook": {
   "dashboards": [],
   "environmentMetadata": null,
   "language": "python",
   "notebookMetadata": {
    "mostRecentlyExecutedCommandWithImplicitDF": {
     "commandId": 1898085308168122,
     "dataframes": [
      "_sqldf"
     ]
    },
    "pythonIndentUnit": 4
   },
   "notebookName": "Incremental_Refresh_Using_Delta",
   "widgets": {}
  }
 },
 "nbformat": 4,
 "nbformat_minor": 0
}
